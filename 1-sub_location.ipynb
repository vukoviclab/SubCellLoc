{
 "cells": [
  {
   "cell_type": "code",
   "execution_count": 14,
   "id": "5784d5a6",
   "metadata": {},
   "outputs": [],
   "source": [
    "import mysql.connector as sql\n",
    "import pandas as pd\n",
    "import matplotlib.pyplot as plt\n",
    "import requests\n",
    "from bs4 import BeautifulSoup\n",
    "from time import sleep\n",
    "import time"
   ]
  },
  {
   "cell_type": "code",
   "execution_count": 18,
   "id": "8f8734ac",
   "metadata": {},
   "outputs": [],
   "source": [
    "import time\n",
    "import requests\n",
    "import pandas as pd\n",
    "from bs4 import BeautifulSoup\n",
    "import os\n",
    "\n",
    "def get_protein_locations_from_file(file_path, uniprot_id_column='uniprot'):\n",
    "    \"\"\"\n",
    "    Reads a CSV or TSV file containing UniProt IDs, retrieves the subcellular locations\n",
    "    for each unique UniProt ID from the UniProt website, and returns a DataFrame with the\n",
    "    UniProt ID and its corresponding subcellular locations.\n",
    "\n",
    "    Parameters:\n",
    "    file_path (str): Path to the file with a column 'UniProt_ID'.\n",
    "\n",
    "    Returns:\n",
    "    pd.DataFrame: A DataFrame with columns 'uni_prot_id' and 'location' containing the\n",
    "                  UniProt ID and its subcellular locations, respectively.\n",
    "    \"\"\"\n",
    "    # Determine file separator based on file extension\n",
    "    _, file_extension = os.path.splitext(file_path)\n",
    "    sep = '\\t' if file_extension.lower() == '.tsv' else ','\n",
    "\n",
    "    # Load the file\n",
    "    final_df = pd.read_csv(file_path, sep=sep)\n",
    "\n",
    "    # Dictionary to store locations for each UniProt ID\n",
    "    get_cell_location = {}\n",
    "\n",
    "    # Process each unique UniProt ID\n",
    "    for count, uniprot_id in enumerate(set(final_df[uniprot_id_column]), 1):        \n",
    "        # Fetch the XML data from UniProt\n",
    "        time.sleep(1)  # Pause to avoid overwhelming the server\n",
    "        url = f\"https://www.uniprot.org/uniprot/{uniprot_id}.xml\"\n",
    "        response = requests.get(url)\n",
    "        soup = BeautifulSoup(response.content, 'lxml-xml')\n",
    "        \n",
    "        # Extract subcellular locations\n",
    "        subcellular_locations = soup.findAll('subcellularLocation')\n",
    "        locations = [location.get_text(separator=' ', strip=True) for location in subcellular_locations]\n",
    "        \n",
    "        # Join locations into a single string\n",
    "        get_cell_location[uniprot_id] = ', '.join(locations)\n",
    "\n",
    "    # Create DataFrame from results\n",
    "    df_pos = pd.DataFrame(list(get_cell_location.items()), columns=['uni_prot_id', 'location'])\n",
    "    \n",
    "    return df_pos\n"
   ]
  },
  {
   "cell_type": "code",
   "execution_count": null,
   "id": "79764f21",
   "metadata": {},
   "outputs": [],
   "source": [
    "df_drug_central = get_protein_locations_from_file('tchem_drugs_05122020.tsv')\n",
    "df_drug_central.to_csv('drug_central_sub_location.csv', index=False)\n",
    "\n",
    "df_chembl = get_protein_locations_from_file('dataset/chembl.csv')\n",
    "df_chembl.to_csv('chembl_sub_location.csv', index=False)\n",
    "\n",
    "df_pharos = get_protein_locations_from_file('dataset/pharos.csv')\n",
    "df_pharos.to_csv('pharos_sub_location.csv', index=False)\n"
   ]
  }
 ],
 "metadata": {
  "kernelspec": {
   "display_name": "Python 3 (ipykernel)",
   "language": "python",
   "name": "python3"
  },
  "language_info": {
   "codemirror_mode": {
    "name": "ipython",
    "version": 3
   },
   "file_extension": ".py",
   "mimetype": "text/x-python",
   "name": "python",
   "nbconvert_exporter": "python",
   "pygments_lexer": "ipython3",
   "version": "3.8.10"
  }
 },
 "nbformat": 4,
 "nbformat_minor": 5
}
