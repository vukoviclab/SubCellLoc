{
 "cells": [
  {
   "cell_type": "code",
   "execution_count": 1,
   "id": "4e8c3913",
   "metadata": {},
   "outputs": [],
   "source": [
    "# coding: utf-8\n",
    "\n",
    "# In[1]:\n",
    "\n",
    "\n",
    "# rdkit\n",
    "from rdkit import Chem\n",
    "from rdkit.Chem import AllChem, MACCSkeys, RDKFingerprint, Descriptors, rdMolDescriptors, Lipinski\n",
    "from rdkit.Chem.AtomPairs import Pairs, Torsions\n",
    "from rdkit.Avalon import pyAvalonTools\n",
    "from rdkit.Chem.EState import Fingerprinter\n",
    "from rdkit.Chem import rdFingerprintGenerator\n",
    "\n",
    "# sklearn\n",
    "from sklearn import svm\n",
    "from sklearn.model_selection import train_test_split\n",
    "\n",
    "from sklearn.metrics import confusion_matrix, classification_report, accuracy_score, f1_score, precision_score, \\\n",
    "    recall_score, cohen_kappa_score\n",
    "from sklearn.preprocessing import MinMaxScaler\n",
    "from sklearn.decomposition import PCA\n",
    "from sklearn.manifold import TSNE\n",
    "\n",
    "# Standard libraries\n",
    "import numpy as np\n",
    "import pandas as pd\n",
    "import matplotlib.pyplot as plt\n",
    "import glob\n",
    "import os\n",
    "\n",
    "# typing\n",
    "from typing import Union\n",
    "\n",
    "# connecting to chembl through web client\n",
    "from chembl_webresource_client.new_client import new_client\n",
    "\n",
    "from datetime import datetime\n",
    "import shutil\n",
    "\n",
    "from datetime import datetime\n",
    "import os\n",
    "from concurrent.futures import ProcessPoolExecutor, as_completed\n",
    "\n",
    "import shutil\n",
    "import pandas as pd\n",
    "from sklearn.model_selection import train_test_split\n",
    "from sklearn import svm\n",
    "from sklearn.metrics import accuracy_score, f1_score, precision_score, recall_score\n",
    "import numpy as np\n",
    "import time\n",
    "\n",
    "from joblib import dump\n",
    "import pickle\n",
    "\n",
    "from sklearn.ensemble import RandomForestClassifier\n",
    "from sklearn.linear_model import LogisticRegression\n",
    "from sklearn.svm import LinearSVC, SVC\n",
    "from sklearn.model_selection import train_test_split\n",
    "\n",
    "# In[2]:\n",
    "\n",
    "from sklearn.ensemble import GradientBoostingClassifier\n",
    "from sklearn.ensemble import AdaBoostClassifier\n",
    "from sklearn.dummy import DummyClassifier\n",
    "from sklearn.linear_model import PassiveAggressiveClassifier\n",
    "from sklearn.linear_model import Perceptron\n",
    "from sklearn.linear_model import SGDClassifier\n",
    "\n"
   ]
  },
  {
   "cell_type": "code",
   "execution_count": 2,
   "id": "4953e664",
   "metadata": {},
   "outputs": [],
   "source": [
    "def get_smiles_from_drug_names(drug_list, new_client, return_type='list'):\n",
    "    molecule = new_client.molecule\n",
    "    smiles_list = []\n",
    "    drug_names = []\n",
    "\n",
    "    for drug in drug_list:\n",
    "        res = molecule.search(drug)\n",
    "\n",
    "        if res:\n",
    "            smiles_list.append(res[0]['molecule_structures']['canonical_smiles'])\n",
    "            drug_names.append(drug)\n",
    "\n",
    "    # Check return type\n",
    "    if return_type == 'dataframe':\n",
    "        # Convert list to DataFrame\n",
    "        smiles_df = pd.DataFrame({\n",
    "            'drug_name': drug_names,\n",
    "            'smiles': smiles_list\n",
    "        })\n",
    "        return smiles_df\n",
    "    elif return_type == 'list':\n",
    "        return smiles_list\n",
    "    else:\n",
    "        raise ValueError(\"Invalid return_type. Expected 'dataframe' or 'list'.\")\n",
    "\n",
    "\n",
    "# In[3]:\n",
    "\n",
    "\n",
    "def data_training(path: str, label: Union[int, str]) -> pd.DataFrame:\n",
    "    \"\"\"Loads and combines CSV files from a directory, assigns class labels, \n",
    "    removes duplicates, and returns a DataFrame.\n",
    "\n",
    "    Args:\n",
    "        path (str): Directory path containing the CSV files.\n",
    "        label (Union[int, str]): Label value to be assigned as class 1.\n",
    "\n",
    "    Returns:\n",
    "        pd.DataFrame: DataFrame containing the 'smiles' column and class labels.\n",
    "\n",
    "    Raises:\n",
    "        ValueError: If the label is not in the valid range.\n",
    "    \"\"\"\n",
    "    # Number of CSV files in the directory\n",
    "    number_of_labels = len(glob.glob(f'{path}/*.csv'))\n",
    "\n",
    "    # Convert label to string and pad with zeros if necessary\n",
    "    label_str = str(label).zfill(2)\n",
    "\n",
    "    # Validate label\n",
    "    if len(label_str) > 2 or not 0 <= int(label_str) <= number_of_labels:\n",
    "        raise ValueError(f\"The label must be between 0 and {number_of_labels}.\")\n",
    "\n",
    "    # Label file path\n",
    "    label_file = f\"{path}/00_label_{label_str}.csv\"\n",
    "\n",
    "    # List all CSV files in the directory\n",
    "    csv_files = glob.glob(f'{path}/*.csv')\n",
    "\n",
    "    # Remove the label file from the list\n",
    "    csv_files.remove(label_file)\n",
    "\n",
    "    # Load the label file into a DataFrame and assign class 1\n",
    "    df_positive = pd.read_csv(label_file)[['smiles']]\n",
    "    if not df_positive.empty:\n",
    "        df_positive['y'] = 1\n",
    "\n",
    "        # Load the other CSV files into a DataFrame and assign class 0\n",
    "        df_negative = pd.concat([pd.read_csv(file)[['smiles']] for file in csv_files])\n",
    "        df_negative['y'] = 0\n",
    "\n",
    "        # Combine the two DataFrames\n",
    "        df = pd.concat([df_positive, df_negative])\n",
    "\n",
    "        # Remove duplicates\n",
    "        df.drop_duplicates(subset='smiles', inplace=True)\n",
    "\n",
    "    else:\n",
    "        df = pd.DataFrame()\n",
    "\n",
    "    return df\n",
    "\n",
    "\n",
    "# In[4]:\n",
    "\n",
    "\n",
    "def apply_descriptors_and_fp(df: pd.DataFrame,\n",
    "                             label_column: str,\n",
    "                             smiles_column: str,\n",
    "                             fp_method: str,\n",
    "                             use_fingerprint: bool = True,\n",
    "                             use_descriptors: bool = True) -> Union[np.ndarray, np.ndarray]:\n",
    "    \"\"\"Applies descriptor and fingerprint methods to a DataFrame and returns scaled descriptors and labels as numpy arrays.\n",
    "\n",
    "    Args:\n",
    "        df (pd.DataFrame): DataFrame containing the SMILES strings and labels.\n",
    "        label_column (str): Name of the label column.\n",
    "        smiles_column (str): Name of the SMILES column.\n",
    "        fp_method (str): Name of the fingerprint method to apply.\n",
    "        use_descriptors (bool): Whether or not to include descriptors in the output.\n",
    "        use_fingerprint (bool): Whether or not to include fingerprint in the output.\n",
    "\n",
    "    Returns:\n",
    "        X (np.ndarray): Descriptor and/or fingerprint values depending on use_descriptors and use_fingerprint flags.\n",
    "        Y (np.ndarray): Labels.\n",
    "    \"\"\"\n",
    "    descriptor_methods_dict = {\n",
    "        'MolWt': Descriptors.MolWt,\n",
    "        'HeavyAtomCount': Descriptors.HeavyAtomCount,\n",
    "        'NumHDonors': Descriptors.NumHDonors,\n",
    "        'NumHAcceptors': Descriptors.NumHAcceptors,\n",
    "        'MolLogP': Descriptors.MolLogP,\n",
    "        'TPSA': rdMolDescriptors.CalcTPSA,\n",
    "        'NumRotatableBonds': Lipinski.NumRotatableBonds,\n",
    "        'NumAromaticRings': Descriptors.NumAromaticRings,\n",
    "        'NumAliphaticRings': Descriptors.NumAliphaticRings,\n",
    "    }\n",
    "    fp_methods_dict = {\n",
    "        'RDKFingerprint': RDKFingerprint,\n",
    "        'MorganFingerprint': lambda m: AllChem.GetMorganFingerprintAsBitVect(m, 2),\n",
    "        'MACCSkeys': MACCSkeys.GenMACCSKeys,\n",
    "        'AvalonFP': pyAvalonTools.GetAvalonFP,\n",
    "        'Gobbi-Paalman': rdMolDescriptors.GetHashedTopologicalTorsionFingerprintAsBitVect,\n",
    "    }\n",
    "\n",
    "    # Validate the fingerprint method\n",
    "    if fp_method not in fp_methods_dict:\n",
    "        raise ValueError(f\"Invalid fingerprint method. Choices are: {list(fp_methods_dict.keys())}\")\n",
    "\n",
    "    # Convert SMILES to RDKit molecules\n",
    "    df['Molecule'] = df[smiles_column].apply(Chem.MolFromSmiles)\n",
    "\n",
    "    # Apply the descriptor methods and scale them if use_descriptors is True\n",
    "    if use_descriptors:\n",
    "        for descriptor, method in descriptor_methods_dict.items():\n",
    "            df[descriptor] = df['Molecule'].apply(method)\n",
    "        scaler = MinMaxScaler()\n",
    "        df[list(descriptor_methods_dict.keys())] = scaler.fit_transform(df[list(descriptor_methods_dict.keys())])\n",
    "\n",
    "    # Apply the fingerprint method if use_fingerprint is True\n",
    "    if use_fingerprint:\n",
    "        df[fp_method] = df['Molecule'].apply(fp_methods_dict[fp_method])\n",
    "        df[f'np_{fp_method}'] = df[fp_method].apply(\n",
    "            lambda fingerprints: np.array(list(map(int, fingerprints.ToBitString()))))\n",
    "        X_fp = np.stack(df[f'np_{fp_method}'].values)\n",
    "\n",
    "    # Create numpy array for descriptor data if use_descriptors is True\n",
    "    if use_descriptors and use_fingerprint:\n",
    "        X_descr = df[list(descriptor_methods_dict.keys())].values\n",
    "        # Concatenate along columns axis (assuming fingerprint is 1D)\n",
    "        X = np.hstack((X_descr, X_fp))\n",
    "    elif use_descriptors:\n",
    "        X = df[list(descriptor_methods_dict.keys())].values\n",
    "    elif use_fingerprint:\n",
    "        X = X_fp\n",
    "    else:\n",
    "        raise ValueError(\"At least one of use_descriptors or use_fingerprint must be True\")\n",
    "\n",
    "    # Create numpy array for label data\n",
    "    if label_column:\n",
    "        Y = df[label_column].values\n",
    "    else:\n",
    "        Y = None\n",
    "\n",
    "    return X, Y, df\n",
    "\n",
    "\n"
   ]
  },
  {
   "cell_type": "code",
   "execution_count": 3,
   "id": "5dc63a89",
   "metadata": {},
   "outputs": [
    {
     "name": "stdout",
     "output_type": "stream",
     "text": [
      "0\n",
      "1\n",
      "Using Random Forest method...\n"
     ]
    },
    {
     "name": "stderr",
     "output_type": "stream",
     "text": [
      "/tmp/ipykernel_454702/165771129.py:146: FutureWarning: elementwise comparison failed; returning scalar instead, but in the future will perform elementwise comparison\n",
      "  'class0_proba': np.mean(class0_probs) if class0_probs != 'NA' else 'NA',\n",
      "/tmp/ipykernel_454702/165771129.py:147: FutureWarning: elementwise comparison failed; returning scalar instead, but in the future will perform elementwise comparison\n",
      "  'class1_proba': np.mean(class1_probs) if class1_probs != 'NA' else 'NA'\n"
     ]
    },
    {
     "name": "stdout",
     "output_type": "stream",
     "text": [
      "0.8769405528209011\n",
      "0.31865828092243187\n",
      "Using Logistic Regression method...\n"
     ]
    },
    {
     "name": "stderr",
     "output_type": "stream",
     "text": [
      "/home/payam/.virtualenvs/nabi/lib/python3.10/site-packages/sklearn/linear_model/_logistic.py:460: ConvergenceWarning: lbfgs failed to converge (status=1):\n",
      "STOP: TOTAL NO. of ITERATIONS REACHED LIMIT.\n",
      "\n",
      "Increase the number of iterations (max_iter) or scale the data as shown in:\n",
      "    https://scikit-learn.org/stable/modules/preprocessing.html\n",
      "Please also refer to the documentation for alternative solver options:\n",
      "    https://scikit-learn.org/stable/modules/linear_model.html#logistic-regression\n",
      "  n_iter_i = _check_optimize_result(\n",
      "/tmp/ipykernel_454702/165771129.py:146: FutureWarning: elementwise comparison failed; returning scalar instead, but in the future will perform elementwise comparison\n",
      "  'class0_proba': np.mean(class0_probs) if class0_probs != 'NA' else 'NA',\n",
      "/tmp/ipykernel_454702/165771129.py:147: FutureWarning: elementwise comparison failed; returning scalar instead, but in the future will perform elementwise comparison\n",
      "  'class1_proba': np.mean(class1_probs) if class1_probs != 'NA' else 'NA'\n"
     ]
    },
    {
     "name": "stdout",
     "output_type": "stream",
     "text": [
      "0.871853986551393\n",
      "0.3530552861299709\n",
      "Using Gradient Boosting method...\n"
     ]
    },
    {
     "name": "stderr",
     "output_type": "stream",
     "text": [
      "/tmp/ipykernel_454702/165771129.py:146: FutureWarning: elementwise comparison failed; returning scalar instead, but in the future will perform elementwise comparison\n",
      "  'class0_proba': np.mean(class0_probs) if class0_probs != 'NA' else 'NA',\n",
      "/tmp/ipykernel_454702/165771129.py:147: FutureWarning: elementwise comparison failed; returning scalar instead, but in the future will perform elementwise comparison\n",
      "  'class1_proba': np.mean(class1_probs) if class1_probs != 'NA' else 'NA'\n"
     ]
    },
    {
     "name": "stdout",
     "output_type": "stream",
     "text": [
      "0.9035183170112441\n",
      "0.2631578947368421\n",
      "Using Ada Boost method...\n"
     ]
    },
    {
     "name": "stderr",
     "output_type": "stream",
     "text": [
      "/tmp/ipykernel_454702/165771129.py:146: FutureWarning: elementwise comparison failed; returning scalar instead, but in the future will perform elementwise comparison\n",
      "  'class0_proba': np.mean(class0_probs) if class0_probs != 'NA' else 'NA',\n",
      "/tmp/ipykernel_454702/165771129.py:147: FutureWarning: elementwise comparison failed; returning scalar instead, but in the future will perform elementwise comparison\n",
      "  'class1_proba': np.mean(class1_probs) if class1_probs != 'NA' else 'NA'\n"
     ]
    },
    {
     "name": "stdout",
     "output_type": "stream",
     "text": [
      "0.8991994177583698\n",
      "0.2513513513513513\n",
      "Using Perceptron method...\n",
      "0.672463768115942\n",
      "0.3530534351145039\n",
      "Using SGD method...\n",
      "0.8789473684210527\n",
      "0.29694323144104806\n",
      "Using SVC method...\n",
      "0.9064433927921369\n",
      "0.307277628032345\n",
      "Using Linear SVC method...\n"
     ]
    },
    {
     "name": "stderr",
     "output_type": "stream",
     "text": [
      "/home/payam/.virtualenvs/nabi/lib/python3.10/site-packages/sklearn/svm/_classes.py:32: FutureWarning: The default value of `dual` will change from `True` to `'auto'` in 1.5. Set the value of `dual` explicitly to suppress the warning.\n",
      "  warnings.warn(\n",
      "/home/payam/.virtualenvs/nabi/lib/python3.10/site-packages/sklearn/svm/_base.py:1242: ConvergenceWarning: Liblinear failed to converge, increase the number of iterations.\n",
      "  warnings.warn(\n"
     ]
    },
    {
     "name": "stdout",
     "output_type": "stream",
     "text": [
      "0.8549588396707173\n",
      "0.3474426807760141\n",
      "Using Random Forest method...\n"
     ]
    },
    {
     "name": "stderr",
     "output_type": "stream",
     "text": [
      "/tmp/ipykernel_454702/165771129.py:146: FutureWarning: elementwise comparison failed; returning scalar instead, but in the future will perform elementwise comparison\n",
      "  'class0_proba': np.mean(class0_probs) if class0_probs != 'NA' else 'NA',\n",
      "/tmp/ipykernel_454702/165771129.py:147: FutureWarning: elementwise comparison failed; returning scalar instead, but in the future will perform elementwise comparison\n",
      "  'class1_proba': np.mean(class1_probs) if class1_probs != 'NA' else 'NA'\n"
     ]
    },
    {
     "name": "stdout",
     "output_type": "stream",
     "text": [
      "0.88306299509619\n",
      "0.33618843683083516\n",
      "Using Logistic Regression method...\n"
     ]
    },
    {
     "name": "stderr",
     "output_type": "stream",
     "text": [
      "/tmp/ipykernel_454702/165771129.py:146: FutureWarning: elementwise comparison failed; returning scalar instead, but in the future will perform elementwise comparison\n",
      "  'class0_proba': np.mean(class0_probs) if class0_probs != 'NA' else 'NA',\n",
      "/tmp/ipykernel_454702/165771129.py:147: FutureWarning: elementwise comparison failed; returning scalar instead, but in the future will perform elementwise comparison\n",
      "  'class1_proba': np.mean(class1_probs) if class1_probs != 'NA' else 'NA'\n"
     ]
    },
    {
     "name": "stdout",
     "output_type": "stream",
     "text": [
      "0.8673724735322426\n",
      "0.3381364073006724\n",
      "Using Gradient Boosting method...\n"
     ]
    },
    {
     "name": "stderr",
     "output_type": "stream",
     "text": [
      "/tmp/ipykernel_454702/165771129.py:146: FutureWarning: elementwise comparison failed; returning scalar instead, but in the future will perform elementwise comparison\n",
      "  'class0_proba': np.mean(class0_probs) if class0_probs != 'NA' else 'NA',\n",
      "/tmp/ipykernel_454702/165771129.py:147: FutureWarning: elementwise comparison failed; returning scalar instead, but in the future will perform elementwise comparison\n",
      "  'class1_proba': np.mean(class1_probs) if class1_probs != 'NA' else 'NA'\n"
     ]
    },
    {
     "name": "stdout",
     "output_type": "stream",
     "text": [
      "0.9006526468455403\n",
      "0.2388888888888889\n",
      "Using Ada Boost method...\n"
     ]
    },
    {
     "name": "stderr",
     "output_type": "stream",
     "text": [
      "/tmp/ipykernel_454702/165771129.py:146: FutureWarning: elementwise comparison failed; returning scalar instead, but in the future will perform elementwise comparison\n",
      "  'class0_proba': np.mean(class0_probs) if class0_probs != 'NA' else 'NA',\n",
      "/tmp/ipykernel_454702/165771129.py:147: FutureWarning: elementwise comparison failed; returning scalar instead, but in the future will perform elementwise comparison\n",
      "  'class1_proba': np.mean(class1_probs) if class1_probs != 'NA' else 'NA'\n"
     ]
    },
    {
     "name": "stdout",
     "output_type": "stream",
     "text": [
      "0.8954296160877513\n",
      "0.25326370757180156\n",
      "Using Perceptron method...\n",
      "0.8891284815813117\n",
      "0.0804769001490313\n",
      "Using SGD method...\n",
      "0.8770476369798531\n",
      "0.29405405405405405\n",
      "Using SVC method...\n",
      "0.906472196900638\n",
      "0.31691078561917446\n",
      "Using Linear SVC method...\n"
     ]
    },
    {
     "name": "stderr",
     "output_type": "stream",
     "text": [
      "/home/payam/.virtualenvs/nabi/lib/python3.10/site-packages/sklearn/svm/_classes.py:32: FutureWarning: The default value of `dual` will change from `True` to `'auto'` in 1.5. Set the value of `dual` explicitly to suppress the warning.\n",
      "  warnings.warn(\n",
      "/home/payam/.virtualenvs/nabi/lib/python3.10/site-packages/sklearn/svm/_base.py:1242: ConvergenceWarning: Liblinear failed to converge, increase the number of iterations.\n",
      "  warnings.warn(\n"
     ]
    },
    {
     "name": "stdout",
     "output_type": "stream",
     "text": [
      "0.8916103089014805\n",
      "0.22483660130718955\n",
      "2\n",
      "Using Random Forest method...\n"
     ]
    },
    {
     "name": "stderr",
     "output_type": "stream",
     "text": [
      "/tmp/ipykernel_454702/165771129.py:146: FutureWarning: elementwise comparison failed; returning scalar instead, but in the future will perform elementwise comparison\n",
      "  'class0_proba': np.mean(class0_probs) if class0_probs != 'NA' else 'NA',\n",
      "/tmp/ipykernel_454702/165771129.py:147: FutureWarning: elementwise comparison failed; returning scalar instead, but in the future will perform elementwise comparison\n",
      "  'class1_proba': np.mean(class1_probs) if class1_probs != 'NA' else 'NA'\n"
     ]
    },
    {
     "name": "stdout",
     "output_type": "stream",
     "text": [
      "0.8590524867308825\n",
      "0.3759791122715405\n",
      "Using Logistic Regression method...\n"
     ]
    },
    {
     "name": "stderr",
     "output_type": "stream",
     "text": [
      "/home/payam/.virtualenvs/nabi/lib/python3.10/site-packages/sklearn/linear_model/_logistic.py:460: ConvergenceWarning: lbfgs failed to converge (status=1):\n",
      "STOP: TOTAL NO. of ITERATIONS REACHED LIMIT.\n",
      "\n",
      "Increase the number of iterations (max_iter) or scale the data as shown in:\n",
      "    https://scikit-learn.org/stable/modules/preprocessing.html\n",
      "Please also refer to the documentation for alternative solver options:\n",
      "    https://scikit-learn.org/stable/modules/linear_model.html#logistic-regression\n",
      "  n_iter_i = _check_optimize_result(\n",
      "/tmp/ipykernel_454702/165771129.py:146: FutureWarning: elementwise comparison failed; returning scalar instead, but in the future will perform elementwise comparison\n",
      "  'class0_proba': np.mean(class0_probs) if class0_probs != 'NA' else 'NA',\n",
      "/tmp/ipykernel_454702/165771129.py:147: FutureWarning: elementwise comparison failed; returning scalar instead, but in the future will perform elementwise comparison\n",
      "  'class1_proba': np.mean(class1_probs) if class1_probs != 'NA' else 'NA'\n"
     ]
    },
    {
     "name": "stdout",
     "output_type": "stream",
     "text": [
      "0.8400400400400401\n",
      "0.3561643835616438\n",
      "Using Gradient Boosting method...\n"
     ]
    },
    {
     "name": "stderr",
     "output_type": "stream",
     "text": [
      "/tmp/ipykernel_454702/165771129.py:146: FutureWarning: elementwise comparison failed; returning scalar instead, but in the future will perform elementwise comparison\n",
      "  'class0_proba': np.mean(class0_probs) if class0_probs != 'NA' else 'NA',\n",
      "/tmp/ipykernel_454702/165771129.py:147: FutureWarning: elementwise comparison failed; returning scalar instead, but in the future will perform elementwise comparison\n",
      "  'class1_proba': np.mean(class1_probs) if class1_probs != 'NA' else 'NA'\n"
     ]
    },
    {
     "name": "stdout",
     "output_type": "stream",
     "text": [
      "0.8776545762074798\n",
      "0.2885245901639344\n",
      "Using Ada Boost method...\n"
     ]
    },
    {
     "name": "stderr",
     "output_type": "stream",
     "text": [
      "/tmp/ipykernel_454702/165771129.py:146: FutureWarning: elementwise comparison failed; returning scalar instead, but in the future will perform elementwise comparison\n",
      "  'class0_proba': np.mean(class0_probs) if class0_probs != 'NA' else 'NA',\n",
      "/tmp/ipykernel_454702/165771129.py:147: FutureWarning: elementwise comparison failed; returning scalar instead, but in the future will perform elementwise comparison\n",
      "  'class1_proba': np.mean(class1_probs) if class1_probs != 'NA' else 'NA'\n"
     ]
    },
    {
     "name": "stdout",
     "output_type": "stream",
     "text": [
      "0.8669430833019224\n",
      "0.24086021505376343\n",
      "Using Perceptron method...\n",
      "0.8086003372681283\n",
      "0.3914209115281501\n",
      "Using SGD method...\n",
      "0.8113522537562604\n",
      "0.37396121883656513\n",
      "Using SVC method...\n",
      "0.8817975830815711\n",
      "0.33404255319148934\n",
      "Using Linear SVC method...\n"
     ]
    },
    {
     "name": "stderr",
     "output_type": "stream",
     "text": [
      "/home/payam/.virtualenvs/nabi/lib/python3.10/site-packages/sklearn/svm/_classes.py:32: FutureWarning: The default value of `dual` will change from `True` to `'auto'` in 1.5. Set the value of `dual` explicitly to suppress the warning.\n",
      "  warnings.warn(\n",
      "/home/payam/.virtualenvs/nabi/lib/python3.10/site-packages/sklearn/svm/_base.py:1242: ConvergenceWarning: Liblinear failed to converge, increase the number of iterations.\n",
      "  warnings.warn(\n"
     ]
    },
    {
     "name": "stdout",
     "output_type": "stream",
     "text": [
      "0.6962424242424242\n",
      "0.4064424443391757\n",
      "Using Random Forest method...\n"
     ]
    },
    {
     "name": "stderr",
     "output_type": "stream",
     "text": [
      "/tmp/ipykernel_454702/165771129.py:146: FutureWarning: elementwise comparison failed; returning scalar instead, but in the future will perform elementwise comparison\n",
      "  'class0_proba': np.mean(class0_probs) if class0_probs != 'NA' else 'NA',\n",
      "/tmp/ipykernel_454702/165771129.py:147: FutureWarning: elementwise comparison failed; returning scalar instead, but in the future will perform elementwise comparison\n",
      "  'class1_proba': np.mean(class1_probs) if class1_probs != 'NA' else 'NA'\n"
     ]
    },
    {
     "name": "stdout",
     "output_type": "stream",
     "text": [
      "0.8501976284584981\n",
      "0.3554421768707483\n",
      "Using Logistic Regression method...\n"
     ]
    },
    {
     "name": "stderr",
     "output_type": "stream",
     "text": [
      "/tmp/ipykernel_454702/165771129.py:146: FutureWarning: elementwise comparison failed; returning scalar instead, but in the future will perform elementwise comparison\n",
      "  'class0_proba': np.mean(class0_probs) if class0_probs != 'NA' else 'NA',\n",
      "/tmp/ipykernel_454702/165771129.py:147: FutureWarning: elementwise comparison failed; returning scalar instead, but in the future will perform elementwise comparison\n",
      "  'class1_proba': np.mean(class1_probs) if class1_probs != 'NA' else 'NA'\n"
     ]
    },
    {
     "name": "stdout",
     "output_type": "stream",
     "text": [
      "0.8448620551779289\n",
      "0.37115072933549437\n",
      "Using Gradient Boosting method...\n"
     ]
    },
    {
     "name": "stderr",
     "output_type": "stream",
     "text": [
      "/tmp/ipykernel_454702/165771129.py:146: FutureWarning: elementwise comparison failed; returning scalar instead, but in the future will perform elementwise comparison\n",
      "  'class0_proba': np.mean(class0_probs) if class0_probs != 'NA' else 'NA',\n",
      "/tmp/ipykernel_454702/165771129.py:147: FutureWarning: elementwise comparison failed; returning scalar instead, but in the future will perform elementwise comparison\n",
      "  'class1_proba': np.mean(class1_probs) if class1_probs != 'NA' else 'NA'\n"
     ]
    },
    {
     "name": "stdout",
     "output_type": "stream",
     "text": [
      "0.8772855796418473\n",
      "0.3007518796992481\n",
      "Using Ada Boost method...\n"
     ]
    },
    {
     "name": "stderr",
     "output_type": "stream",
     "text": [
      "/tmp/ipykernel_454702/165771129.py:146: FutureWarning: elementwise comparison failed; returning scalar instead, but in the future will perform elementwise comparison\n",
      "  'class0_proba': np.mean(class0_probs) if class0_probs != 'NA' else 'NA',\n",
      "/tmp/ipykernel_454702/165771129.py:147: FutureWarning: elementwise comparison failed; returning scalar instead, but in the future will perform elementwise comparison\n",
      "  'class1_proba': np.mean(class1_probs) if class1_probs != 'NA' else 'NA'\n"
     ]
    },
    {
     "name": "stdout",
     "output_type": "stream",
     "text": [
      "0.8674881516587677\n",
      "0.2726326742976067\n",
      "Using Perceptron method...\n",
      "0.5718216840946615\n",
      "0.40199846272098383\n",
      "Using SGD method...\n",
      "0.7602708803611739\n",
      "0.4119601328903654\n",
      "Using SVC method...\n",
      "0.8793332070467893\n",
      "0.3343782654127481\n",
      "Using Linear SVC method...\n"
     ]
    },
    {
     "name": "stderr",
     "output_type": "stream",
     "text": [
      "/home/payam/.virtualenvs/nabi/lib/python3.10/site-packages/sklearn/svm/_classes.py:32: FutureWarning: The default value of `dual` will change from `True` to `'auto'` in 1.5. Set the value of `dual` explicitly to suppress the warning.\n",
      "  warnings.warn(\n",
      "/home/payam/.virtualenvs/nabi/lib/python3.10/site-packages/sklearn/svm/_base.py:1242: ConvergenceWarning: Liblinear failed to converge, increase the number of iterations.\n",
      "  warnings.warn(\n"
     ]
    },
    {
     "name": "stdout",
     "output_type": "stream",
     "text": [
      "0.8088142707240294\n",
      "0.3806934058463631\n",
      "3\n",
      "Using Random Forest method...\n"
     ]
    },
    {
     "name": "stderr",
     "output_type": "stream",
     "text": [
      "/tmp/ipykernel_454702/165771129.py:146: FutureWarning: elementwise comparison failed; returning scalar instead, but in the future will perform elementwise comparison\n",
      "  'class0_proba': np.mean(class0_probs) if class0_probs != 'NA' else 'NA',\n",
      "/tmp/ipykernel_454702/165771129.py:147: FutureWarning: elementwise comparison failed; returning scalar instead, but in the future will perform elementwise comparison\n",
      "  'class1_proba': np.mean(class1_probs) if class1_probs != 'NA' else 'NA'\n"
     ]
    },
    {
     "name": "stdout",
     "output_type": "stream",
     "text": [
      "0.9843495272253016\n",
      "0.0588235294117647\n",
      "Using Logistic Regression method...\n"
     ]
    },
    {
     "name": "stderr",
     "output_type": "stream",
     "text": [
      "/tmp/ipykernel_454702/165771129.py:146: FutureWarning: elementwise comparison failed; returning scalar instead, but in the future will perform elementwise comparison\n",
      "  'class0_proba': np.mean(class0_probs) if class0_probs != 'NA' else 'NA',\n",
      "/tmp/ipykernel_454702/165771129.py:147: FutureWarning: elementwise comparison failed; returning scalar instead, but in the future will perform elementwise comparison\n",
      "  'class1_proba': np.mean(class1_probs) if class1_probs != 'NA' else 'NA'\n"
     ]
    },
    {
     "name": "stdout",
     "output_type": "stream",
     "text": [
      "0.9797930014785609\n",
      "0.174496644295302\n",
      "Using Gradient Boosting method...\n"
     ]
    },
    {
     "name": "stderr",
     "output_type": "stream",
     "text": [
      "/tmp/ipykernel_454702/165771129.py:146: FutureWarning: elementwise comparison failed; returning scalar instead, but in the future will perform elementwise comparison\n",
      "  'class0_proba': np.mean(class0_probs) if class0_probs != 'NA' else 'NA',\n",
      "/tmp/ipykernel_454702/165771129.py:147: FutureWarning: elementwise comparison failed; returning scalar instead, but in the future will perform elementwise comparison\n",
      "  'class1_proba': np.mean(class1_probs) if class1_probs != 'NA' else 'NA'\n"
     ]
    },
    {
     "name": "stdout",
     "output_type": "stream",
     "text": [
      "0.9866623292127521\n",
      "0.06818181818181819\n",
      "Using Ada Boost method...\n"
     ]
    },
    {
     "name": "stderr",
     "output_type": "stream",
     "text": [
      "/tmp/ipykernel_454702/165771129.py:146: FutureWarning: elementwise comparison failed; returning scalar instead, but in the future will perform elementwise comparison\n",
      "  'class0_proba': np.mean(class0_probs) if class0_probs != 'NA' else 'NA',\n",
      "/tmp/ipykernel_454702/165771129.py:147: FutureWarning: elementwise comparison failed; returning scalar instead, but in the future will perform elementwise comparison\n",
      "  'class1_proba': np.mean(class1_probs) if class1_probs != 'NA' else 'NA'\n"
     ]
    },
    {
     "name": "stdout",
     "output_type": "stream",
     "text": [
      "0.9865062591448545\n",
      "0.02352941176470588\n",
      "Using Perceptron method...\n",
      "0.9701294390972452\n",
      "0.14285714285714288\n",
      "Using SGD method...\n",
      "0.9765831134564644\n",
      "0.17441860465116282\n",
      "Using SVC method...\n",
      "0.9874898456539398\n",
      "0.04938271604938272\n",
      "Using Linear SVC method...\n"
     ]
    },
    {
     "name": "stderr",
     "output_type": "stream",
     "text": [
      "/home/payam/.virtualenvs/nabi/lib/python3.10/site-packages/sklearn/svm/_classes.py:32: FutureWarning: The default value of `dual` will change from `True` to `'auto'` in 1.5. Set the value of `dual` explicitly to suppress the warning.\n",
      "  warnings.warn(\n",
      "/home/payam/.virtualenvs/nabi/lib/python3.10/site-packages/sklearn/svm/_base.py:1242: ConvergenceWarning: Liblinear failed to converge, increase the number of iterations.\n",
      "  warnings.warn(\n"
     ]
    },
    {
     "name": "stdout",
     "output_type": "stream",
     "text": [
      "0.9732054250744293\n",
      "0.14736842105263157\n",
      "Using Random Forest method...\n"
     ]
    },
    {
     "name": "stderr",
     "output_type": "stream",
     "text": [
      "/tmp/ipykernel_454702/165771129.py:146: FutureWarning: elementwise comparison failed; returning scalar instead, but in the future will perform elementwise comparison\n",
      "  'class0_proba': np.mean(class0_probs) if class0_probs != 'NA' else 'NA',\n",
      "/tmp/ipykernel_454702/165771129.py:147: FutureWarning: elementwise comparison failed; returning scalar instead, but in the future will perform elementwise comparison\n",
      "  'class1_proba': np.mean(class1_probs) if class1_probs != 'NA' else 'NA'\n"
     ]
    },
    {
     "name": "stdout",
     "output_type": "stream",
     "text": [
      "0.9866536458333333\n",
      "0.10869565217391305\n",
      "Using Logistic Regression method...\n"
     ]
    },
    {
     "name": "stderr",
     "output_type": "stream",
     "text": [
      "/tmp/ipykernel_454702/165771129.py:146: FutureWarning: elementwise comparison failed; returning scalar instead, but in the future will perform elementwise comparison\n",
      "  'class0_proba': np.mean(class0_probs) if class0_probs != 'NA' else 'NA',\n",
      "/tmp/ipykernel_454702/165771129.py:147: FutureWarning: elementwise comparison failed; returning scalar instead, but in the future will perform elementwise comparison\n",
      "  'class1_proba': np.mean(class1_probs) if class1_probs != 'NA' else 'NA'\n"
     ]
    },
    {
     "name": "stdout",
     "output_type": "stream",
     "text": [
      "0.9824618914931977\n",
      "0.2074074074074074\n",
      "Using Gradient Boosting method...\n"
     ]
    },
    {
     "name": "stderr",
     "output_type": "stream",
     "text": [
      "/tmp/ipykernel_454702/165771129.py:146: FutureWarning: elementwise comparison failed; returning scalar instead, but in the future will perform elementwise comparison\n",
      "  'class0_proba': np.mean(class0_probs) if class0_probs != 'NA' else 'NA',\n",
      "/tmp/ipykernel_454702/165771129.py:147: FutureWarning: elementwise comparison failed; returning scalar instead, but in the future will perform elementwise comparison\n",
      "  'class1_proba': np.mean(class1_probs) if class1_probs != 'NA' else 'NA'\n"
     ]
    },
    {
     "name": "stdout",
     "output_type": "stream",
     "text": [
      "0.9871482023751423\n",
      "0.11235955056179776\n",
      "Using Ada Boost method...\n"
     ]
    },
    {
     "name": "stderr",
     "output_type": "stream",
     "text": [
      "/tmp/ipykernel_454702/165771129.py:146: FutureWarning: elementwise comparison failed; returning scalar instead, but in the future will perform elementwise comparison\n",
      "  'class0_proba': np.mean(class0_probs) if class0_probs != 'NA' else 'NA',\n",
      "/tmp/ipykernel_454702/165771129.py:147: FutureWarning: elementwise comparison failed; returning scalar instead, but in the future will perform elementwise comparison\n",
      "  'class1_proba': np.mean(class1_probs) if class1_probs != 'NA' else 'NA'\n"
     ]
    },
    {
     "name": "stdout",
     "output_type": "stream",
     "text": [
      "0.9868142601334852\n",
      "0.12903225806451613\n",
      "Using Perceptron method...\n",
      "0.9779532741033234\n",
      "0.1518987341772152\n",
      "Using SGD method...\n",
      "0.9695760598503741\n",
      "0.17194570135746606\n",
      "Using SVC method...\n",
      "0.9876503087422814\n",
      "0.07317073170731708\n",
      "Using Linear SVC method...\n"
     ]
    },
    {
     "name": "stderr",
     "output_type": "stream",
     "text": [
      "/home/payam/.virtualenvs/nabi/lib/python3.10/site-packages/sklearn/svm/_classes.py:32: FutureWarning: The default value of `dual` will change from `True` to `'auto'` in 1.5. Set the value of `dual` explicitly to suppress the warning.\n",
      "  warnings.warn(\n",
      "/home/payam/.virtualenvs/nabi/lib/python3.10/site-packages/sklearn/svm/_base.py:1242: ConvergenceWarning: Liblinear failed to converge, increase the number of iterations.\n",
      "  warnings.warn(\n"
     ]
    },
    {
     "name": "stdout",
     "output_type": "stream",
     "text": [
      "0.9747483083016999\n",
      "0.13559322033898305\n",
      "4\n",
      "Using Random Forest method...\n"
     ]
    },
    {
     "name": "stderr",
     "output_type": "stream",
     "text": [
      "/tmp/ipykernel_454702/165771129.py:146: FutureWarning: elementwise comparison failed; returning scalar instead, but in the future will perform elementwise comparison\n",
      "  'class0_proba': np.mean(class0_probs) if class0_probs != 'NA' else 'NA',\n",
      "/tmp/ipykernel_454702/165771129.py:147: FutureWarning: elementwise comparison failed; returning scalar instead, but in the future will perform elementwise comparison\n",
      "  'class1_proba': np.mean(class1_probs) if class1_probs != 'NA' else 'NA'\n"
     ]
    },
    {
     "name": "stdout",
     "output_type": "stream",
     "text": [
      "0.8217659137577003\n",
      "0.3645680819912152\n",
      "Using Logistic Regression method...\n"
     ]
    },
    {
     "name": "stderr",
     "output_type": "stream",
     "text": [
      "/home/payam/.virtualenvs/nabi/lib/python3.10/site-packages/sklearn/linear_model/_logistic.py:460: ConvergenceWarning: lbfgs failed to converge (status=1):\n",
      "STOP: TOTAL NO. of ITERATIONS REACHED LIMIT.\n",
      "\n",
      "Increase the number of iterations (max_iter) or scale the data as shown in:\n",
      "    https://scikit-learn.org/stable/modules/preprocessing.html\n",
      "Please also refer to the documentation for alternative solver options:\n",
      "    https://scikit-learn.org/stable/modules/linear_model.html#logistic-regression\n",
      "  n_iter_i = _check_optimize_result(\n",
      "/tmp/ipykernel_454702/165771129.py:146: FutureWarning: elementwise comparison failed; returning scalar instead, but in the future will perform elementwise comparison\n",
      "  'class0_proba': np.mean(class0_probs) if class0_probs != 'NA' else 'NA',\n",
      "/tmp/ipykernel_454702/165771129.py:147: FutureWarning: elementwise comparison failed; returning scalar instead, but in the future will perform elementwise comparison\n",
      "  'class1_proba': np.mean(class1_probs) if class1_probs != 'NA' else 'NA'\n"
     ]
    },
    {
     "name": "stdout",
     "output_type": "stream",
     "text": [
      "0.8226979837871544\n",
      "0.4014035087719298\n",
      "Using Gradient Boosting method...\n"
     ]
    },
    {
     "name": "stderr",
     "output_type": "stream",
     "text": [
      "/tmp/ipykernel_454702/165771129.py:146: FutureWarning: elementwise comparison failed; returning scalar instead, but in the future will perform elementwise comparison\n",
      "  'class0_proba': np.mean(class0_probs) if class0_probs != 'NA' else 'NA',\n",
      "/tmp/ipykernel_454702/165771129.py:147: FutureWarning: elementwise comparison failed; returning scalar instead, but in the future will perform elementwise comparison\n",
      "  'class1_proba': np.mean(class1_probs) if class1_probs != 'NA' else 'NA'\n"
     ]
    },
    {
     "name": "stdout",
     "output_type": "stream",
     "text": [
      "0.8527666092284129\n",
      "0.24086870681145114\n",
      "Using Ada Boost method...\n"
     ]
    },
    {
     "name": "stderr",
     "output_type": "stream",
     "text": [
      "/tmp/ipykernel_454702/165771129.py:146: FutureWarning: elementwise comparison failed; returning scalar instead, but in the future will perform elementwise comparison\n",
      "  'class0_proba': np.mean(class0_probs) if class0_probs != 'NA' else 'NA',\n",
      "/tmp/ipykernel_454702/165771129.py:147: FutureWarning: elementwise comparison failed; returning scalar instead, but in the future will perform elementwise comparison\n",
      "  'class1_proba': np.mean(class1_probs) if class1_probs != 'NA' else 'NA'\n"
     ]
    },
    {
     "name": "stdout",
     "output_type": "stream",
     "text": [
      "0.8424936880947757\n",
      "0.25390984360625574\n",
      "Using Perceptron method...\n",
      "0.39610607586438407\n",
      "0.44765121277249\n",
      "Using SGD method...\n",
      "0.7108818472119872\n",
      "0.45635103926097\n",
      "Using SVC method...\n",
      "0.8599651365485184\n",
      "0.32618825722274\n",
      "Using Linear SVC method...\n"
     ]
    },
    {
     "name": "stderr",
     "output_type": "stream",
     "text": [
      "/home/payam/.virtualenvs/nabi/lib/python3.10/site-packages/sklearn/svm/_classes.py:32: FutureWarning: The default value of `dual` will change from `True` to `'auto'` in 1.5. Set the value of `dual` explicitly to suppress the warning.\n",
      "  warnings.warn(\n",
      "/home/payam/.virtualenvs/nabi/lib/python3.10/site-packages/sklearn/svm/_base.py:1242: ConvergenceWarning: Liblinear failed to converge, increase the number of iterations.\n",
      "  warnings.warn(\n"
     ]
    },
    {
     "name": "stdout",
     "output_type": "stream",
     "text": [
      "0.8389261744966443\n",
      "0.3025641025641026\n",
      "Using Random Forest method...\n"
     ]
    },
    {
     "name": "stderr",
     "output_type": "stream",
     "text": [
      "/tmp/ipykernel_454702/165771129.py:146: FutureWarning: elementwise comparison failed; returning scalar instead, but in the future will perform elementwise comparison\n",
      "  'class0_proba': np.mean(class0_probs) if class0_probs != 'NA' else 'NA',\n",
      "/tmp/ipykernel_454702/165771129.py:147: FutureWarning: elementwise comparison failed; returning scalar instead, but in the future will perform elementwise comparison\n",
      "  'class1_proba': np.mean(class1_probs) if class1_probs != 'NA' else 'NA'\n"
     ]
    },
    {
     "name": "stdout",
     "output_type": "stream",
     "text": [
      "0.8207008964955175\n",
      "0.3373493975903615\n",
      "Using Logistic Regression method...\n"
     ]
    },
    {
     "name": "stderr",
     "output_type": "stream",
     "text": [
      "/tmp/ipykernel_454702/165771129.py:146: FutureWarning: elementwise comparison failed; returning scalar instead, but in the future will perform elementwise comparison\n",
      "  'class0_proba': np.mean(class0_probs) if class0_probs != 'NA' else 'NA',\n",
      "/tmp/ipykernel_454702/165771129.py:147: FutureWarning: elementwise comparison failed; returning scalar instead, but in the future will perform elementwise comparison\n",
      "  'class1_proba': np.mean(class1_probs) if class1_probs != 'NA' else 'NA'\n"
     ]
    },
    {
     "name": "stdout",
     "output_type": "stream",
     "text": [
      "0.8154362416107381\n",
      "0.4005449591280654\n",
      "Using Gradient Boosting method...\n"
     ]
    },
    {
     "name": "stderr",
     "output_type": "stream",
     "text": [
      "/tmp/ipykernel_454702/165771129.py:146: FutureWarning: elementwise comparison failed; returning scalar instead, but in the future will perform elementwise comparison\n",
      "  'class0_proba': np.mean(class0_probs) if class0_probs != 'NA' else 'NA',\n",
      "/tmp/ipykernel_454702/165771129.py:147: FutureWarning: elementwise comparison failed; returning scalar instead, but in the future will perform elementwise comparison\n",
      "  'class1_proba': np.mean(class1_probs) if class1_probs != 'NA' else 'NA'\n"
     ]
    },
    {
     "name": "stdout",
     "output_type": "stream",
     "text": [
      "0.8531441717791411\n",
      "0.24901960784313726\n",
      "Using Ada Boost method...\n"
     ]
    },
    {
     "name": "stderr",
     "output_type": "stream",
     "text": [
      "/tmp/ipykernel_454702/165771129.py:146: FutureWarning: elementwise comparison failed; returning scalar instead, but in the future will perform elementwise comparison\n",
      "  'class0_proba': np.mean(class0_probs) if class0_probs != 'NA' else 'NA',\n",
      "/tmp/ipykernel_454702/165771129.py:147: FutureWarning: elementwise comparison failed; returning scalar instead, but in the future will perform elementwise comparison\n",
      "  'class1_proba': np.mean(class1_probs) if class1_probs != 'NA' else 'NA'\n"
     ]
    },
    {
     "name": "stdout",
     "output_type": "stream",
     "text": [
      "0.8381211180124223\n",
      "0.23062730627306274\n",
      "Using Perceptron method...\n",
      "0.8220834172879308\n",
      "0.3063629222309505\n",
      "Using SGD method...\n",
      "0.6872202884137245\n",
      "0.4317976513098465\n",
      "Using SVC method...\n",
      "0.859305259072385\n",
      "0.3305632502308402\n",
      "Using Linear SVC method...\n"
     ]
    },
    {
     "name": "stderr",
     "output_type": "stream",
     "text": [
      "/home/payam/.virtualenvs/nabi/lib/python3.10/site-packages/sklearn/svm/_classes.py:32: FutureWarning: The default value of `dual` will change from `True` to `'auto'` in 1.5. Set the value of `dual` explicitly to suppress the warning.\n",
      "  warnings.warn(\n",
      "/home/payam/.virtualenvs/nabi/lib/python3.10/site-packages/sklearn/svm/_base.py:1242: ConvergenceWarning: Liblinear failed to converge, increase the number of iterations.\n",
      "  warnings.warn(\n"
     ]
    },
    {
     "name": "stdout",
     "output_type": "stream",
     "text": [
      "0.8031329381879764\n",
      "0.3849206349206349\n",
      "5\n",
      "Using Random Forest method...\n"
     ]
    },
    {
     "name": "stderr",
     "output_type": "stream",
     "text": [
      "/tmp/ipykernel_454702/165771129.py:146: FutureWarning: elementwise comparison failed; returning scalar instead, but in the future will perform elementwise comparison\n",
      "  'class0_proba': np.mean(class0_probs) if class0_probs != 'NA' else 'NA',\n",
      "/tmp/ipykernel_454702/165771129.py:147: FutureWarning: elementwise comparison failed; returning scalar instead, but in the future will perform elementwise comparison\n",
      "  'class1_proba': np.mean(class1_probs) if class1_probs != 'NA' else 'NA'\n"
     ]
    },
    {
     "name": "stdout",
     "output_type": "stream",
     "text": [
      "0.4653579676674365\n",
      "0.7944049733570161\n",
      "Using Logistic Regression method...\n"
     ]
    },
    {
     "name": "stderr",
     "output_type": "stream",
     "text": [
      "/home/payam/.virtualenvs/nabi/lib/python3.10/site-packages/sklearn/linear_model/_logistic.py:460: ConvergenceWarning: lbfgs failed to converge (status=1):\n",
      "STOP: TOTAL NO. of ITERATIONS REACHED LIMIT.\n",
      "\n",
      "Increase the number of iterations (max_iter) or scale the data as shown in:\n",
      "    https://scikit-learn.org/stable/modules/preprocessing.html\n",
      "Please also refer to the documentation for alternative solver options:\n",
      "    https://scikit-learn.org/stable/modules/linear_model.html#logistic-regression\n",
      "  n_iter_i = _check_optimize_result(\n",
      "/tmp/ipykernel_454702/165771129.py:146: FutureWarning: elementwise comparison failed; returning scalar instead, but in the future will perform elementwise comparison\n",
      "  'class0_proba': np.mean(class0_probs) if class0_probs != 'NA' else 'NA',\n",
      "/tmp/ipykernel_454702/165771129.py:147: FutureWarning: elementwise comparison failed; returning scalar instead, but in the future will perform elementwise comparison\n",
      "  'class1_proba': np.mean(class1_probs) if class1_probs != 'NA' else 'NA'\n"
     ]
    },
    {
     "name": "stdout",
     "output_type": "stream",
     "text": [
      "0.4720041862899006\n",
      "0.7667052023121387\n",
      "Using Gradient Boosting method...\n"
     ]
    },
    {
     "name": "stderr",
     "output_type": "stream",
     "text": [
      "/tmp/ipykernel_454702/165771129.py:146: FutureWarning: elementwise comparison failed; returning scalar instead, but in the future will perform elementwise comparison\n",
      "  'class0_proba': np.mean(class0_probs) if class0_probs != 'NA' else 'NA',\n",
      "/tmp/ipykernel_454702/165771129.py:147: FutureWarning: elementwise comparison failed; returning scalar instead, but in the future will perform elementwise comparison\n",
      "  'class1_proba': np.mean(class1_probs) if class1_probs != 'NA' else 'NA'\n"
     ]
    },
    {
     "name": "stdout",
     "output_type": "stream",
     "text": [
      "0.3181818181818182\n",
      "0.8091133004926109\n",
      "Using Ada Boost method...\n"
     ]
    },
    {
     "name": "stderr",
     "output_type": "stream",
     "text": [
      "/tmp/ipykernel_454702/165771129.py:146: FutureWarning: elementwise comparison failed; returning scalar instead, but in the future will perform elementwise comparison\n",
      "  'class0_proba': np.mean(class0_probs) if class0_probs != 'NA' else 'NA',\n",
      "/tmp/ipykernel_454702/165771129.py:147: FutureWarning: elementwise comparison failed; returning scalar instead, but in the future will perform elementwise comparison\n",
      "  'class1_proba': np.mean(class1_probs) if class1_probs != 'NA' else 'NA'\n"
     ]
    },
    {
     "name": "stdout",
     "output_type": "stream",
     "text": [
      "0.3178991015894955\n",
      "0.7939026936730006\n",
      "Using Perceptron method...\n",
      "0.5238866396761135\n",
      "0.6877323420074349\n",
      "Using SGD method...\n",
      "0.4914549653579676\n",
      "0.7295504789977892\n",
      "Using SVC method...\n",
      "0.4149432955303536\n",
      "0.8148617268313278\n",
      "Using Linear SVC method...\n"
     ]
    },
    {
     "name": "stderr",
     "output_type": "stream",
     "text": [
      "/home/payam/.virtualenvs/nabi/lib/python3.10/site-packages/sklearn/svm/_classes.py:32: FutureWarning: The default value of `dual` will change from `True` to `'auto'` in 1.5. Set the value of `dual` explicitly to suppress the warning.\n",
      "  warnings.warn(\n",
      "/home/payam/.virtualenvs/nabi/lib/python3.10/site-packages/sklearn/svm/_base.py:1242: ConvergenceWarning: Liblinear failed to converge, increase the number of iterations.\n",
      "  warnings.warn(\n"
     ]
    },
    {
     "name": "stdout",
     "output_type": "stream",
     "text": [
      "0.36504854368932044\n",
      "0.7908761458111276\n",
      "Using Random Forest method...\n"
     ]
    },
    {
     "name": "stderr",
     "output_type": "stream",
     "text": [
      "/tmp/ipykernel_454702/165771129.py:146: FutureWarning: elementwise comparison failed; returning scalar instead, but in the future will perform elementwise comparison\n",
      "  'class0_proba': np.mean(class0_probs) if class0_probs != 'NA' else 'NA',\n",
      "/tmp/ipykernel_454702/165771129.py:147: FutureWarning: elementwise comparison failed; returning scalar instead, but in the future will perform elementwise comparison\n",
      "  'class1_proba': np.mean(class1_probs) if class1_probs != 'NA' else 'NA'\n"
     ]
    },
    {
     "name": "stdout",
     "output_type": "stream",
     "text": [
      "0.44825614636935396\n",
      "0.7849342545130377\n",
      "Using Logistic Regression method...\n"
     ]
    },
    {
     "name": "stderr",
     "output_type": "stream",
     "text": [
      "/tmp/ipykernel_454702/165771129.py:146: FutureWarning: elementwise comparison failed; returning scalar instead, but in the future will perform elementwise comparison\n",
      "  'class0_proba': np.mean(class0_probs) if class0_probs != 'NA' else 'NA',\n",
      "/tmp/ipykernel_454702/165771129.py:147: FutureWarning: elementwise comparison failed; returning scalar instead, but in the future will perform elementwise comparison\n",
      "  'class1_proba': np.mean(class1_probs) if class1_probs != 'NA' else 'NA'\n"
     ]
    },
    {
     "name": "stdout",
     "output_type": "stream",
     "text": [
      "0.46153846153846156\n",
      "0.7597402597402597\n",
      "Using Gradient Boosting method...\n"
     ]
    },
    {
     "name": "stderr",
     "output_type": "stream",
     "text": [
      "/tmp/ipykernel_454702/165771129.py:146: FutureWarning: elementwise comparison failed; returning scalar instead, but in the future will perform elementwise comparison\n",
      "  'class0_proba': np.mean(class0_probs) if class0_probs != 'NA' else 'NA',\n",
      "/tmp/ipykernel_454702/165771129.py:147: FutureWarning: elementwise comparison failed; returning scalar instead, but in the future will perform elementwise comparison\n",
      "  'class1_proba': np.mean(class1_probs) if class1_probs != 'NA' else 'NA'\n"
     ]
    },
    {
     "name": "stdout",
     "output_type": "stream",
     "text": [
      "0.33216045038705144\n",
      "0.8029075804776739\n",
      "Using Ada Boost method...\n"
     ]
    },
    {
     "name": "stderr",
     "output_type": "stream",
     "text": [
      "/tmp/ipykernel_454702/165771129.py:146: FutureWarning: elementwise comparison failed; returning scalar instead, but in the future will perform elementwise comparison\n",
      "  'class0_proba': np.mean(class0_probs) if class0_probs != 'NA' else 'NA',\n",
      "/tmp/ipykernel_454702/165771129.py:147: FutureWarning: elementwise comparison failed; returning scalar instead, but in the future will perform elementwise comparison\n",
      "  'class1_proba': np.mean(class1_probs) if class1_probs != 'NA' else 'NA'\n"
     ]
    },
    {
     "name": "stdout",
     "output_type": "stream",
     "text": [
      "0.31935047361299057\n",
      "0.7885666246321985\n",
      "Using Perceptron method...\n",
      "0.5287090558766859\n",
      "0.6641032683328756\n",
      "Using SGD method...\n",
      "0.5089757127771911\n",
      "0.5891016200294551\n",
      "Using SVC method...\n",
      "0.4074790457769181\n",
      "0.8038420490928495\n",
      "Using Linear SVC method...\n"
     ]
    },
    {
     "name": "stderr",
     "output_type": "stream",
     "text": [
      "/home/payam/.virtualenvs/nabi/lib/python3.10/site-packages/sklearn/svm/_classes.py:32: FutureWarning: The default value of `dual` will change from `True` to `'auto'` in 1.5. Set the value of `dual` explicitly to suppress the warning.\n",
      "  warnings.warn(\n",
      "/home/payam/.virtualenvs/nabi/lib/python3.10/site-packages/sklearn/svm/_base.py:1242: ConvergenceWarning: Liblinear failed to converge, increase the number of iterations.\n",
      "  warnings.warn(\n"
     ]
    },
    {
     "name": "stdout",
     "output_type": "stream",
     "text": [
      "0.46065659197498693\n",
      "0.7602501737317583\n",
      "6\n",
      "Using Random Forest method...\n"
     ]
    },
    {
     "name": "stderr",
     "output_type": "stream",
     "text": [
      "/tmp/ipykernel_454702/165771129.py:146: FutureWarning: elementwise comparison failed; returning scalar instead, but in the future will perform elementwise comparison\n",
      "  'class0_proba': np.mean(class0_probs) if class0_probs != 'NA' else 'NA',\n",
      "/tmp/ipykernel_454702/165771129.py:147: FutureWarning: elementwise comparison failed; returning scalar instead, but in the future will perform elementwise comparison\n",
      "  'class1_proba': np.mean(class1_probs) if class1_probs != 'NA' else 'NA'\n"
     ]
    },
    {
     "name": "stdout",
     "output_type": "stream",
     "text": [
      "0.8694647670388911\n",
      "0.3493282149712092\n",
      "Using Logistic Regression method...\n"
     ]
    },
    {
     "name": "stderr",
     "output_type": "stream",
     "text": [
      "/home/payam/.virtualenvs/nabi/lib/python3.10/site-packages/sklearn/linear_model/_logistic.py:460: ConvergenceWarning: lbfgs failed to converge (status=1):\n",
      "STOP: TOTAL NO. of ITERATIONS REACHED LIMIT.\n",
      "\n",
      "Increase the number of iterations (max_iter) or scale the data as shown in:\n",
      "    https://scikit-learn.org/stable/modules/preprocessing.html\n",
      "Please also refer to the documentation for alternative solver options:\n",
      "    https://scikit-learn.org/stable/modules/linear_model.html#logistic-regression\n",
      "  n_iter_i = _check_optimize_result(\n",
      "/tmp/ipykernel_454702/165771129.py:146: FutureWarning: elementwise comparison failed; returning scalar instead, but in the future will perform elementwise comparison\n",
      "  'class0_proba': np.mean(class0_probs) if class0_probs != 'NA' else 'NA',\n",
      "/tmp/ipykernel_454702/165771129.py:147: FutureWarning: elementwise comparison failed; returning scalar instead, but in the future will perform elementwise comparison\n",
      "  'class1_proba': np.mean(class1_probs) if class1_probs != 'NA' else 'NA'\n"
     ]
    },
    {
     "name": "stdout",
     "output_type": "stream",
     "text": [
      "0.859591041869523\n",
      "0.3451407811080836\n",
      "Using Gradient Boosting method...\n"
     ]
    },
    {
     "name": "stderr",
     "output_type": "stream",
     "text": [
      "/tmp/ipykernel_454702/165771129.py:146: FutureWarning: elementwise comparison failed; returning scalar instead, but in the future will perform elementwise comparison\n",
      "  'class0_proba': np.mean(class0_probs) if class0_probs != 'NA' else 'NA',\n",
      "/tmp/ipykernel_454702/165771129.py:147: FutureWarning: elementwise comparison failed; returning scalar instead, but in the future will perform elementwise comparison\n",
      "  'class1_proba': np.mean(class1_probs) if class1_probs != 'NA' else 'NA'\n"
     ]
    },
    {
     "name": "stdout",
     "output_type": "stream",
     "text": [
      "0.8907593778591034\n",
      "0.22568093385214008\n",
      "Using Ada Boost method...\n"
     ]
    },
    {
     "name": "stderr",
     "output_type": "stream",
     "text": [
      "/tmp/ipykernel_454702/165771129.py:146: FutureWarning: elementwise comparison failed; returning scalar instead, but in the future will perform elementwise comparison\n",
      "  'class0_proba': np.mean(class0_probs) if class0_probs != 'NA' else 'NA',\n",
      "/tmp/ipykernel_454702/165771129.py:147: FutureWarning: elementwise comparison failed; returning scalar instead, but in the future will perform elementwise comparison\n",
      "  'class1_proba': np.mean(class1_probs) if class1_probs != 'NA' else 'NA'\n"
     ]
    },
    {
     "name": "stdout",
     "output_type": "stream",
     "text": [
      "0.8825478645066274\n",
      "0.2064676616915423\n",
      "Using Perceptron method...\n",
      "0.8566399374144339\n",
      "0.3472840605520926\n",
      "Using SGD method...\n",
      "0.7357798165137615\n",
      "0.38592750533049036\n",
      "Using SVC method...\n",
      "0.8940092165898619\n",
      "0.29099876695437726\n",
      "Using Linear SVC method...\n"
     ]
    },
    {
     "name": "stderr",
     "output_type": "stream",
     "text": [
      "/home/payam/.virtualenvs/nabi/lib/python3.10/site-packages/sklearn/svm/_classes.py:32: FutureWarning: The default value of `dual` will change from `True` to `'auto'` in 1.5. Set the value of `dual` explicitly to suppress the warning.\n",
      "  warnings.warn(\n",
      "/home/payam/.virtualenvs/nabi/lib/python3.10/site-packages/sklearn/svm/_base.py:1242: ConvergenceWarning: Liblinear failed to converge, increase the number of iterations.\n",
      "  warnings.warn(\n"
     ]
    },
    {
     "name": "stdout",
     "output_type": "stream",
     "text": [
      "0.8678736517719569\n",
      "0.342911877394636\n",
      "Using Random Forest method...\n"
     ]
    },
    {
     "name": "stderr",
     "output_type": "stream",
     "text": [
      "/tmp/ipykernel_454702/165771129.py:146: FutureWarning: elementwise comparison failed; returning scalar instead, but in the future will perform elementwise comparison\n",
      "  'class0_proba': np.mean(class0_probs) if class0_probs != 'NA' else 'NA',\n",
      "/tmp/ipykernel_454702/165771129.py:147: FutureWarning: elementwise comparison failed; returning scalar instead, but in the future will perform elementwise comparison\n",
      "  'class1_proba': np.mean(class1_probs) if class1_probs != 'NA' else 'NA'\n"
     ]
    },
    {
     "name": "stdout",
     "output_type": "stream",
     "text": [
      "0.8787072243346008\n",
      "0.34631147540983614\n",
      "Using Logistic Regression method...\n"
     ]
    },
    {
     "name": "stderr",
     "output_type": "stream",
     "text": [
      "/tmp/ipykernel_454702/165771129.py:146: FutureWarning: elementwise comparison failed; returning scalar instead, but in the future will perform elementwise comparison\n",
      "  'class0_proba': np.mean(class0_probs) if class0_probs != 'NA' else 'NA',\n",
      "/tmp/ipykernel_454702/165771129.py:147: FutureWarning: elementwise comparison failed; returning scalar instead, but in the future will perform elementwise comparison\n",
      "  'class1_proba': np.mean(class1_probs) if class1_probs != 'NA' else 'NA'\n"
     ]
    },
    {
     "name": "stdout",
     "output_type": "stream",
     "text": [
      "0.8612403100775194\n",
      "0.33457249070631967\n",
      "Using Gradient Boosting method...\n"
     ]
    },
    {
     "name": "stderr",
     "output_type": "stream",
     "text": [
      "/tmp/ipykernel_454702/165771129.py:146: FutureWarning: elementwise comparison failed; returning scalar instead, but in the future will perform elementwise comparison\n",
      "  'class0_proba': np.mean(class0_probs) if class0_probs != 'NA' else 'NA',\n",
      "/tmp/ipykernel_454702/165771129.py:147: FutureWarning: elementwise comparison failed; returning scalar instead, but in the future will perform elementwise comparison\n",
      "  'class1_proba': np.mean(class1_probs) if class1_probs != 'NA' else 'NA'\n"
     ]
    },
    {
     "name": "stdout",
     "output_type": "stream",
     "text": [
      "0.8911614317019723\n",
      "0.21578947368421053\n",
      "Using Ada Boost method...\n"
     ]
    },
    {
     "name": "stderr",
     "output_type": "stream",
     "text": [
      "/tmp/ipykernel_454702/165771129.py:146: FutureWarning: elementwise comparison failed; returning scalar instead, but in the future will perform elementwise comparison\n",
      "  'class0_proba': np.mean(class0_probs) if class0_probs != 'NA' else 'NA',\n",
      "/tmp/ipykernel_454702/165771129.py:147: FutureWarning: elementwise comparison failed; returning scalar instead, but in the future will perform elementwise comparison\n",
      "  'class1_proba': np.mean(class1_probs) if class1_probs != 'NA' else 'NA'\n"
     ]
    },
    {
     "name": "stdout",
     "output_type": "stream",
     "text": [
      "0.8857612867848658\n",
      "0.1830065359477124\n",
      "Using Perceptron method...\n",
      "0.7627573858549686\n",
      "0.40045248868778277\n",
      "Using SGD method...\n",
      "0.8747417840375588\n",
      "0.2678375411635565\n",
      "Using SVC method...\n",
      "0.8928899503950029\n",
      "0.26481715006305173\n",
      "Using Linear SVC method...\n"
     ]
    },
    {
     "name": "stderr",
     "output_type": "stream",
     "text": [
      "/home/payam/.virtualenvs/nabi/lib/python3.10/site-packages/sklearn/svm/_classes.py:32: FutureWarning: The default value of `dual` will change from `True` to `'auto'` in 1.5. Set the value of `dual` explicitly to suppress the warning.\n",
      "  warnings.warn(\n",
      "/home/payam/.virtualenvs/nabi/lib/python3.10/site-packages/sklearn/svm/_base.py:1242: ConvergenceWarning: Liblinear failed to converge, increase the number of iterations.\n",
      "  warnings.warn(\n"
     ]
    },
    {
     "name": "stdout",
     "output_type": "stream",
     "text": [
      "0.8676781256001536\n",
      "0.33041788143828965\n",
      "7\n",
      "Using Random Forest method...\n"
     ]
    },
    {
     "name": "stderr",
     "output_type": "stream",
     "text": [
      "/tmp/ipykernel_454702/165771129.py:146: FutureWarning: elementwise comparison failed; returning scalar instead, but in the future will perform elementwise comparison\n",
      "  'class0_proba': np.mean(class0_probs) if class0_probs != 'NA' else 'NA',\n",
      "/tmp/ipykernel_454702/165771129.py:147: FutureWarning: elementwise comparison failed; returning scalar instead, but in the future will perform elementwise comparison\n",
      "  'class1_proba': np.mean(class1_probs) if class1_probs != 'NA' else 'NA'\n"
     ]
    },
    {
     "name": "stdout",
     "output_type": "stream",
     "text": [
      "0.854690618762475\n",
      "0.4061990212071778\n",
      "Using Logistic Regression method...\n"
     ]
    },
    {
     "name": "stderr",
     "output_type": "stream",
     "text": [
      "/home/payam/.virtualenvs/nabi/lib/python3.10/site-packages/sklearn/linear_model/_logistic.py:460: ConvergenceWarning: lbfgs failed to converge (status=1):\n",
      "STOP: TOTAL NO. of ITERATIONS REACHED LIMIT.\n",
      "\n",
      "Increase the number of iterations (max_iter) or scale the data as shown in:\n",
      "    https://scikit-learn.org/stable/modules/preprocessing.html\n",
      "Please also refer to the documentation for alternative solver options:\n",
      "    https://scikit-learn.org/stable/modules/linear_model.html#logistic-regression\n",
      "  n_iter_i = _check_optimize_result(\n",
      "/tmp/ipykernel_454702/165771129.py:146: FutureWarning: elementwise comparison failed; returning scalar instead, but in the future will perform elementwise comparison\n",
      "  'class0_proba': np.mean(class0_probs) if class0_probs != 'NA' else 'NA',\n",
      "/tmp/ipykernel_454702/165771129.py:147: FutureWarning: elementwise comparison failed; returning scalar instead, but in the future will perform elementwise comparison\n",
      "  'class1_proba': np.mean(class1_probs) if class1_probs != 'NA' else 'NA'\n"
     ]
    },
    {
     "name": "stdout",
     "output_type": "stream",
     "text": [
      "0.8377823408624229\n",
      "0.4216691068814056\n",
      "Using Gradient Boosting method...\n"
     ]
    },
    {
     "name": "stderr",
     "output_type": "stream",
     "text": [
      "/tmp/ipykernel_454702/165771129.py:146: FutureWarning: elementwise comparison failed; returning scalar instead, but in the future will perform elementwise comparison\n",
      "  'class0_proba': np.mean(class0_probs) if class0_probs != 'NA' else 'NA',\n",
      "/tmp/ipykernel_454702/165771129.py:147: FutureWarning: elementwise comparison failed; returning scalar instead, but in the future will perform elementwise comparison\n",
      "  'class1_proba': np.mean(class1_probs) if class1_probs != 'NA' else 'NA'\n"
     ]
    },
    {
     "name": "stdout",
     "output_type": "stream",
     "text": [
      "0.8741898589401449\n",
      "0.3333333333333333\n",
      "Using Ada Boost method...\n"
     ]
    },
    {
     "name": "stderr",
     "output_type": "stream",
     "text": [
      "/tmp/ipykernel_454702/165771129.py:146: FutureWarning: elementwise comparison failed; returning scalar instead, but in the future will perform elementwise comparison\n",
      "  'class0_proba': np.mean(class0_probs) if class0_probs != 'NA' else 'NA',\n",
      "/tmp/ipykernel_454702/165771129.py:147: FutureWarning: elementwise comparison failed; returning scalar instead, but in the future will perform elementwise comparison\n",
      "  'class1_proba': np.mean(class1_probs) if class1_probs != 'NA' else 'NA'\n"
     ]
    },
    {
     "name": "stdout",
     "output_type": "stream",
     "text": [
      "0.863373214974913\n",
      "0.3282732447817837\n",
      "Using Perceptron method...\n",
      "0.5064275037369208\n",
      "0.4289173296437219\n",
      "Using SGD method...\n",
      "0.8415101958409044\n",
      "0.3881527669524552\n",
      "Using SVC method...\n",
      "0.8807870370370371\n",
      "0.4125475285171103\n",
      "Using Linear SVC method...\n"
     ]
    },
    {
     "name": "stderr",
     "output_type": "stream",
     "text": [
      "/home/payam/.virtualenvs/nabi/lib/python3.10/site-packages/sklearn/svm/_classes.py:32: FutureWarning: The default value of `dual` will change from `True` to `'auto'` in 1.5. Set the value of `dual` explicitly to suppress the warning.\n",
      "  warnings.warn(\n",
      "/home/payam/.virtualenvs/nabi/lib/python3.10/site-packages/sklearn/svm/_base.py:1242: ConvergenceWarning: Liblinear failed to converge, increase the number of iterations.\n",
      "  warnings.warn(\n"
     ]
    },
    {
     "name": "stdout",
     "output_type": "stream",
     "text": [
      "0.833264887063655\n",
      "0.4055636896046852\n",
      "Using Random Forest method...\n"
     ]
    },
    {
     "name": "stderr",
     "output_type": "stream",
     "text": [
      "/tmp/ipykernel_454702/165771129.py:146: FutureWarning: elementwise comparison failed; returning scalar instead, but in the future will perform elementwise comparison\n",
      "  'class0_proba': np.mean(class0_probs) if class0_probs != 'NA' else 'NA',\n",
      "/tmp/ipykernel_454702/165771129.py:147: FutureWarning: elementwise comparison failed; returning scalar instead, but in the future will perform elementwise comparison\n",
      "  'class1_proba': np.mean(class1_probs) if class1_probs != 'NA' else 'NA'\n"
     ]
    },
    {
     "name": "stdout",
     "output_type": "stream",
     "text": [
      "0.8538601088490223\n",
      "0.4313725490196078\n",
      "Using Logistic Regression method...\n"
     ]
    },
    {
     "name": "stderr",
     "output_type": "stream",
     "text": [
      "/tmp/ipykernel_454702/165771129.py:146: FutureWarning: elementwise comparison failed; returning scalar instead, but in the future will perform elementwise comparison\n",
      "  'class0_proba': np.mean(class0_probs) if class0_probs != 'NA' else 'NA',\n",
      "/tmp/ipykernel_454702/165771129.py:147: FutureWarning: elementwise comparison failed; returning scalar instead, but in the future will perform elementwise comparison\n",
      "  'class1_proba': np.mean(class1_probs) if class1_probs != 'NA' else 'NA'\n"
     ]
    },
    {
     "name": "stdout",
     "output_type": "stream",
     "text": [
      "0.8413118761458546\n",
      "0.4129615674453655\n",
      "Using Gradient Boosting method...\n"
     ]
    },
    {
     "name": "stderr",
     "output_type": "stream",
     "text": [
      "/tmp/ipykernel_454702/165771129.py:146: FutureWarning: elementwise comparison failed; returning scalar instead, but in the future will perform elementwise comparison\n",
      "  'class0_proba': np.mean(class0_probs) if class0_probs != 'NA' else 'NA',\n",
      "/tmp/ipykernel_454702/165771129.py:147: FutureWarning: elementwise comparison failed; returning scalar instead, but in the future will perform elementwise comparison\n",
      "  'class1_proba': np.mean(class1_probs) if class1_probs != 'NA' else 'NA'\n"
     ]
    },
    {
     "name": "stdout",
     "output_type": "stream",
     "text": [
      "0.8815689261233816\n",
      "0.36788617886178865\n",
      "Using Ada Boost method...\n"
     ]
    },
    {
     "name": "stderr",
     "output_type": "stream",
     "text": [
      "/tmp/ipykernel_454702/165771129.py:146: FutureWarning: elementwise comparison failed; returning scalar instead, but in the future will perform elementwise comparison\n",
      "  'class0_proba': np.mean(class0_probs) if class0_probs != 'NA' else 'NA',\n",
      "/tmp/ipykernel_454702/165771129.py:147: FutureWarning: elementwise comparison failed; returning scalar instead, but in the future will perform elementwise comparison\n",
      "  'class1_proba': np.mean(class1_probs) if class1_probs != 'NA' else 'NA'\n"
     ]
    },
    {
     "name": "stdout",
     "output_type": "stream",
     "text": [
      "0.8686131386861314\n",
      "0.33592233009708744\n",
      "Using Perceptron method...\n",
      "0.8584995251661919\n",
      "0.23274974253347064\n",
      "Using SGD method...\n",
      "0.8250265111346766\n",
      "0.45759368836291914\n",
      "Using SVC method...\n",
      "0.8831369519026464\n",
      "0.42870632672332387\n",
      "Using Linear SVC method...\n"
     ]
    },
    {
     "name": "stderr",
     "output_type": "stream",
     "text": [
      "/home/payam/.virtualenvs/nabi/lib/python3.10/site-packages/sklearn/svm/_classes.py:32: FutureWarning: The default value of `dual` will change from `True` to `'auto'` in 1.5. Set the value of `dual` explicitly to suppress the warning.\n",
      "  warnings.warn(\n",
      "/home/payam/.virtualenvs/nabi/lib/python3.10/site-packages/sklearn/svm/_base.py:1242: ConvergenceWarning: Liblinear failed to converge, increase the number of iterations.\n",
      "  warnings.warn(\n"
     ]
    },
    {
     "name": "stdout",
     "output_type": "stream",
     "text": [
      "0.7614678899082569\n",
      "0.4456289978678038\n",
      "8\n",
      "Using Random Forest method...\n"
     ]
    },
    {
     "name": "stderr",
     "output_type": "stream",
     "text": [
      "/tmp/ipykernel_454702/165771129.py:146: FutureWarning: elementwise comparison failed; returning scalar instead, but in the future will perform elementwise comparison\n",
      "  'class0_proba': np.mean(class0_probs) if class0_probs != 'NA' else 'NA',\n",
      "/tmp/ipykernel_454702/165771129.py:147: FutureWarning: elementwise comparison failed; returning scalar instead, but in the future will perform elementwise comparison\n",
      "  'class1_proba': np.mean(class1_probs) if class1_probs != 'NA' else 'NA'\n"
     ]
    },
    {
     "name": "stdout",
     "output_type": "stream",
     "text": [
      "0.896335849751427\n",
      "0.30062111801242236\n",
      "Using Logistic Regression method...\n"
     ]
    },
    {
     "name": "stderr",
     "output_type": "stream",
     "text": [
      "/home/payam/.virtualenvs/nabi/lib/python3.10/site-packages/sklearn/linear_model/_logistic.py:460: ConvergenceWarning: lbfgs failed to converge (status=1):\n",
      "STOP: TOTAL NO. of ITERATIONS REACHED LIMIT.\n",
      "\n",
      "Increase the number of iterations (max_iter) or scale the data as shown in:\n",
      "    https://scikit-learn.org/stable/modules/preprocessing.html\n",
      "Please also refer to the documentation for alternative solver options:\n",
      "    https://scikit-learn.org/stable/modules/linear_model.html#logistic-regression\n",
      "  n_iter_i = _check_optimize_result(\n",
      "/tmp/ipykernel_454702/165771129.py:146: FutureWarning: elementwise comparison failed; returning scalar instead, but in the future will perform elementwise comparison\n",
      "  'class0_proba': np.mean(class0_probs) if class0_probs != 'NA' else 'NA',\n",
      "/tmp/ipykernel_454702/165771129.py:147: FutureWarning: elementwise comparison failed; returning scalar instead, but in the future will perform elementwise comparison\n",
      "  'class1_proba': np.mean(class1_probs) if class1_probs != 'NA' else 'NA'\n"
     ]
    },
    {
     "name": "stdout",
     "output_type": "stream",
     "text": [
      "0.8879294161817157\n",
      "0.3432343234323433\n",
      "Using Gradient Boosting method...\n"
     ]
    },
    {
     "name": "stderr",
     "output_type": "stream",
     "text": [
      "/tmp/ipykernel_454702/165771129.py:146: FutureWarning: elementwise comparison failed; returning scalar instead, but in the future will perform elementwise comparison\n",
      "  'class0_proba': np.mean(class0_probs) if class0_probs != 'NA' else 'NA',\n",
      "/tmp/ipykernel_454702/165771129.py:147: FutureWarning: elementwise comparison failed; returning scalar instead, but in the future will perform elementwise comparison\n",
      "  'class1_proba': np.mean(class1_probs) if class1_probs != 'NA' else 'NA'\n"
     ]
    },
    {
     "name": "stdout",
     "output_type": "stream",
     "text": [
      "0.9187366926898509\n",
      "0.23666666666666666\n",
      "Using Ada Boost method...\n"
     ]
    },
    {
     "name": "stderr",
     "output_type": "stream",
     "text": [
      "/tmp/ipykernel_454702/165771129.py:146: FutureWarning: elementwise comparison failed; returning scalar instead, but in the future will perform elementwise comparison\n",
      "  'class0_proba': np.mean(class0_probs) if class0_probs != 'NA' else 'NA',\n",
      "/tmp/ipykernel_454702/165771129.py:147: FutureWarning: elementwise comparison failed; returning scalar instead, but in the future will perform elementwise comparison\n",
      "  'class1_proba': np.mean(class1_probs) if class1_probs != 'NA' else 'NA'\n"
     ]
    },
    {
     "name": "stdout",
     "output_type": "stream",
     "text": [
      "0.9112658453847529\n",
      "0.21732283464566932\n",
      "Using Perceptron method...\n",
      "0.8513754205422521\n",
      "0.36517328825021134\n",
      "Using SGD method...\n",
      "0.887271369914147\n",
      "0.31207289293849655\n",
      "Using SVC method...\n",
      "0.9216211390823067\n",
      "0.3086614173228347\n",
      "Using Linear SVC method...\n"
     ]
    },
    {
     "name": "stderr",
     "output_type": "stream",
     "text": [
      "/home/payam/.virtualenvs/nabi/lib/python3.10/site-packages/sklearn/svm/_classes.py:32: FutureWarning: The default value of `dual` will change from `True` to `'auto'` in 1.5. Set the value of `dual` explicitly to suppress the warning.\n",
      "  warnings.warn(\n",
      "/home/payam/.virtualenvs/nabi/lib/python3.10/site-packages/sklearn/svm/_base.py:1242: ConvergenceWarning: Liblinear failed to converge, increase the number of iterations.\n",
      "  warnings.warn(\n"
     ]
    },
    {
     "name": "stdout",
     "output_type": "stream",
     "text": [
      "0.8976058931860037\n",
      "0.3101736972704715\n",
      "Using Random Forest method...\n"
     ]
    },
    {
     "name": "stderr",
     "output_type": "stream",
     "text": [
      "/tmp/ipykernel_454702/165771129.py:146: FutureWarning: elementwise comparison failed; returning scalar instead, but in the future will perform elementwise comparison\n",
      "  'class0_proba': np.mean(class0_probs) if class0_probs != 'NA' else 'NA',\n",
      "/tmp/ipykernel_454702/165771129.py:147: FutureWarning: elementwise comparison failed; returning scalar instead, but in the future will perform elementwise comparison\n",
      "  'class1_proba': np.mean(class1_probs) if class1_probs != 'NA' else 'NA'\n"
     ]
    },
    {
     "name": "stdout",
     "output_type": "stream",
     "text": [
      "0.8940873088966661\n",
      "0.2874845105328377\n",
      "Using Logistic Regression method...\n"
     ]
    },
    {
     "name": "stderr",
     "output_type": "stream",
     "text": [
      "/tmp/ipykernel_454702/165771129.py:146: FutureWarning: elementwise comparison failed; returning scalar instead, but in the future will perform elementwise comparison\n",
      "  'class0_proba': np.mean(class0_probs) if class0_probs != 'NA' else 'NA',\n",
      "/tmp/ipykernel_454702/165771129.py:147: FutureWarning: elementwise comparison failed; returning scalar instead, but in the future will perform elementwise comparison\n",
      "  'class1_proba': np.mean(class1_probs) if class1_probs != 'NA' else 'NA'\n"
     ]
    },
    {
     "name": "stdout",
     "output_type": "stream",
     "text": [
      "0.8915032679738563\n",
      "0.34052213393870606\n",
      "Using Gradient Boosting method...\n"
     ]
    },
    {
     "name": "stderr",
     "output_type": "stream",
     "text": [
      "/tmp/ipykernel_454702/165771129.py:146: FutureWarning: elementwise comparison failed; returning scalar instead, but in the future will perform elementwise comparison\n",
      "  'class0_proba': np.mean(class0_probs) if class0_probs != 'NA' else 'NA',\n",
      "/tmp/ipykernel_454702/165771129.py:147: FutureWarning: elementwise comparison failed; returning scalar instead, but in the future will perform elementwise comparison\n",
      "  'class1_proba': np.mean(class1_probs) if class1_probs != 'NA' else 'NA'\n"
     ]
    },
    {
     "name": "stdout",
     "output_type": "stream",
     "text": [
      "0.9184472934472935\n",
      "0.26129032258064516\n",
      "Using Ada Boost method...\n"
     ]
    },
    {
     "name": "stderr",
     "output_type": "stream",
     "text": [
      "/tmp/ipykernel_454702/165771129.py:146: FutureWarning: elementwise comparison failed; returning scalar instead, but in the future will perform elementwise comparison\n",
      "  'class0_proba': np.mean(class0_probs) if class0_probs != 'NA' else 'NA',\n",
      "/tmp/ipykernel_454702/165771129.py:147: FutureWarning: elementwise comparison failed; returning scalar instead, but in the future will perform elementwise comparison\n",
      "  'class1_proba': np.mean(class1_probs) if class1_probs != 'NA' else 'NA'\n"
     ]
    },
    {
     "name": "stdout",
     "output_type": "stream",
     "text": [
      "0.9115186042371373\n",
      "0.19709208400646203\n",
      "Using Perceptron method...\n",
      "0.9099307159353349\n",
      "0.16474464579901155\n",
      "Using SGD method...\n",
      "0.8916201117318435\n",
      "0.32794457274826794\n",
      "Using SVC method...\n",
      "0.918484090096532\n",
      "0.2897196261682243\n",
      "Using Linear SVC method...\n"
     ]
    },
    {
     "name": "stderr",
     "output_type": "stream",
     "text": [
      "/home/payam/.virtualenvs/nabi/lib/python3.10/site-packages/sklearn/svm/_classes.py:32: FutureWarning: The default value of `dual` will change from `True` to `'auto'` in 1.5. Set the value of `dual` explicitly to suppress the warning.\n",
      "  warnings.warn(\n",
      "/home/payam/.virtualenvs/nabi/lib/python3.10/site-packages/sklearn/svm/_base.py:1242: ConvergenceWarning: Liblinear failed to converge, increase the number of iterations.\n",
      "  warnings.warn(\n"
     ]
    },
    {
     "name": "stdout",
     "output_type": "stream",
     "text": [
      "0.8997419830446002\n",
      "0.3283950617283951\n",
      "9\n",
      "Using Random Forest method...\n"
     ]
    },
    {
     "name": "stderr",
     "output_type": "stream",
     "text": [
      "/tmp/ipykernel_454702/165771129.py:146: FutureWarning: elementwise comparison failed; returning scalar instead, but in the future will perform elementwise comparison\n",
      "  'class0_proba': np.mean(class0_probs) if class0_probs != 'NA' else 'NA',\n",
      "/tmp/ipykernel_454702/165771129.py:147: FutureWarning: elementwise comparison failed; returning scalar instead, but in the future will perform elementwise comparison\n",
      "  'class1_proba': np.mean(class1_probs) if class1_probs != 'NA' else 'NA'\n"
     ]
    },
    {
     "name": "stdout",
     "output_type": "stream",
     "text": [
      "0.9694101740746999\n",
      "0.4326018808777429\n",
      "Using Logistic Regression method...\n"
     ]
    },
    {
     "name": "stderr",
     "output_type": "stream",
     "text": [
      "/home/payam/.virtualenvs/nabi/lib/python3.10/site-packages/sklearn/linear_model/_logistic.py:460: ConvergenceWarning: lbfgs failed to converge (status=1):\n",
      "STOP: TOTAL NO. of ITERATIONS REACHED LIMIT.\n",
      "\n",
      "Increase the number of iterations (max_iter) or scale the data as shown in:\n",
      "    https://scikit-learn.org/stable/modules/preprocessing.html\n",
      "Please also refer to the documentation for alternative solver options:\n",
      "    https://scikit-learn.org/stable/modules/linear_model.html#logistic-regression\n",
      "  n_iter_i = _check_optimize_result(\n",
      "/tmp/ipykernel_454702/165771129.py:146: FutureWarning: elementwise comparison failed; returning scalar instead, but in the future will perform elementwise comparison\n",
      "  'class0_proba': np.mean(class0_probs) if class0_probs != 'NA' else 'NA',\n",
      "/tmp/ipykernel_454702/165771129.py:147: FutureWarning: elementwise comparison failed; returning scalar instead, but in the future will perform elementwise comparison\n",
      "  'class1_proba': np.mean(class1_probs) if class1_probs != 'NA' else 'NA'\n"
     ]
    },
    {
     "name": "stdout",
     "output_type": "stream",
     "text": [
      "0.9590784044016507\n",
      "0.43333333333333335\n",
      "Using Gradient Boosting method...\n"
     ]
    },
    {
     "name": "stderr",
     "output_type": "stream",
     "text": [
      "/tmp/ipykernel_454702/165771129.py:146: FutureWarning: elementwise comparison failed; returning scalar instead, but in the future will perform elementwise comparison\n",
      "  'class0_proba': np.mean(class0_probs) if class0_probs != 'NA' else 'NA',\n",
      "/tmp/ipykernel_454702/165771129.py:147: FutureWarning: elementwise comparison failed; returning scalar instead, but in the future will perform elementwise comparison\n",
      "  'class1_proba': np.mean(class1_probs) if class1_probs != 'NA' else 'NA'\n"
     ]
    },
    {
     "name": "stdout",
     "output_type": "stream",
     "text": [
      "0.9715631835773179\n",
      "0.42320819112627983\n",
      "Using Ada Boost method...\n"
     ]
    },
    {
     "name": "stderr",
     "output_type": "stream",
     "text": [
      "/tmp/ipykernel_454702/165771129.py:146: FutureWarning: elementwise comparison failed; returning scalar instead, but in the future will perform elementwise comparison\n",
      "  'class0_proba': np.mean(class0_probs) if class0_probs != 'NA' else 'NA',\n",
      "/tmp/ipykernel_454702/165771129.py:147: FutureWarning: elementwise comparison failed; returning scalar instead, but in the future will perform elementwise comparison\n",
      "  'class1_proba': np.mean(class1_probs) if class1_probs != 'NA' else 'NA'\n"
     ]
    },
    {
     "name": "stdout",
     "output_type": "stream",
     "text": [
      "0.9680349932705249\n",
      "0.34931506849315064\n",
      "Using Perceptron method...\n",
      "0.9339285714285714\n",
      "0.4182389937106918\n",
      "Using SGD method...\n",
      "0.9629756014332025\n",
      "0.4213333333333333\n",
      "Using SVC method...\n",
      "0.9740915208613729\n",
      "0.4726027397260274\n",
      "Using Linear SVC method...\n"
     ]
    },
    {
     "name": "stderr",
     "output_type": "stream",
     "text": [
      "/home/payam/.virtualenvs/nabi/lib/python3.10/site-packages/sklearn/svm/_classes.py:32: FutureWarning: The default value of `dual` will change from `True` to `'auto'` in 1.5. Set the value of `dual` explicitly to suppress the warning.\n",
      "  warnings.warn(\n",
      "/home/payam/.virtualenvs/nabi/lib/python3.10/site-packages/sklearn/svm/_base.py:1242: ConvergenceWarning: Liblinear failed to converge, increase the number of iterations.\n",
      "  warnings.warn(\n"
     ]
    },
    {
     "name": "stdout",
     "output_type": "stream",
     "text": [
      "0.948191933240612\n",
      "0.384297520661157\n",
      "Using Random Forest method...\n"
     ]
    },
    {
     "name": "stderr",
     "output_type": "stream",
     "text": [
      "/tmp/ipykernel_454702/165771129.py:146: FutureWarning: elementwise comparison failed; returning scalar instead, but in the future will perform elementwise comparison\n",
      "  'class0_proba': np.mean(class0_probs) if class0_probs != 'NA' else 'NA',\n",
      "/tmp/ipykernel_454702/165771129.py:147: FutureWarning: elementwise comparison failed; returning scalar instead, but in the future will perform elementwise comparison\n",
      "  'class1_proba': np.mean(class1_probs) if class1_probs != 'NA' else 'NA'\n"
     ]
    },
    {
     "name": "stdout",
     "output_type": "stream",
     "text": [
      "0.9692671394799055\n",
      "0.4203821656050955\n",
      "Using Logistic Regression method...\n"
     ]
    },
    {
     "name": "stderr",
     "output_type": "stream",
     "text": [
      "/home/payam/.virtualenvs/nabi/lib/python3.10/site-packages/sklearn/linear_model/_logistic.py:460: ConvergenceWarning: lbfgs failed to converge (status=1):\n",
      "STOP: TOTAL NO. of ITERATIONS REACHED LIMIT.\n",
      "\n",
      "Increase the number of iterations (max_iter) or scale the data as shown in:\n",
      "    https://scikit-learn.org/stable/modules/preprocessing.html\n",
      "Please also refer to the documentation for alternative solver options:\n",
      "    https://scikit-learn.org/stable/modules/linear_model.html#logistic-regression\n",
      "  n_iter_i = _check_optimize_result(\n",
      "/tmp/ipykernel_454702/165771129.py:146: FutureWarning: elementwise comparison failed; returning scalar instead, but in the future will perform elementwise comparison\n",
      "  'class0_proba': np.mean(class0_probs) if class0_probs != 'NA' else 'NA',\n",
      "/tmp/ipykernel_454702/165771129.py:147: FutureWarning: elementwise comparison failed; returning scalar instead, but in the future will perform elementwise comparison\n",
      "  'class1_proba': np.mean(class1_probs) if class1_probs != 'NA' else 'NA'\n"
     ]
    },
    {
     "name": "stdout",
     "output_type": "stream",
     "text": [
      "0.9636986301369864\n",
      "0.46464646464646464\n",
      "Using Gradient Boosting method...\n"
     ]
    },
    {
     "name": "stderr",
     "output_type": "stream",
     "text": [
      "/tmp/ipykernel_454702/165771129.py:146: FutureWarning: elementwise comparison failed; returning scalar instead, but in the future will perform elementwise comparison\n",
      "  'class0_proba': np.mean(class0_probs) if class0_probs != 'NA' else 'NA',\n",
      "/tmp/ipykernel_454702/165771129.py:147: FutureWarning: elementwise comparison failed; returning scalar instead, but in the future will perform elementwise comparison\n",
      "  'class1_proba': np.mean(class1_probs) if class1_probs != 'NA' else 'NA'\n"
     ]
    },
    {
     "name": "stdout",
     "output_type": "stream",
     "text": [
      "0.9727456258411844\n",
      "0.44520547945205485\n",
      "Using Ada Boost method...\n"
     ]
    },
    {
     "name": "stderr",
     "output_type": "stream",
     "text": [
      "/tmp/ipykernel_454702/165771129.py:146: FutureWarning: elementwise comparison failed; returning scalar instead, but in the future will perform elementwise comparison\n",
      "  'class0_proba': np.mean(class0_probs) if class0_probs != 'NA' else 'NA',\n",
      "/tmp/ipykernel_454702/165771129.py:147: FutureWarning: elementwise comparison failed; returning scalar instead, but in the future will perform elementwise comparison\n",
      "  'class1_proba': np.mean(class1_probs) if class1_probs != 'NA' else 'NA'\n"
     ]
    },
    {
     "name": "stdout",
     "output_type": "stream",
     "text": [
      "0.9683395082519367\n",
      "0.3691275167785235\n",
      "Using Perceptron method...\n",
      "0.9351341745157278\n",
      "0.40065681444991785\n",
      "Using SGD method...\n",
      "0.9531087183049669\n",
      "0.4351464435146444\n",
      "Using SVC method...\n",
      "0.9742380872200707\n",
      "0.4848484848484849\n",
      "Using Linear SVC method...\n"
     ]
    },
    {
     "name": "stderr",
     "output_type": "stream",
     "text": [
      "/home/payam/.virtualenvs/nabi/lib/python3.10/site-packages/sklearn/svm/_classes.py:32: FutureWarning: The default value of `dual` will change from `True` to `'auto'` in 1.5. Set the value of `dual` explicitly to suppress the warning.\n",
      "  warnings.warn(\n",
      "/home/payam/.virtualenvs/nabi/lib/python3.10/site-packages/sklearn/svm/_base.py:1242: ConvergenceWarning: Liblinear failed to converge, increase the number of iterations.\n",
      "  warnings.warn(\n"
     ]
    },
    {
     "name": "stdout",
     "output_type": "stream",
     "text": [
      "0.9489937543372658\n",
      "0.37711864406779655\n",
      "10\n",
      "Using Random Forest method...\n"
     ]
    },
    {
     "name": "stderr",
     "output_type": "stream",
     "text": [
      "/tmp/ipykernel_454702/165771129.py:146: FutureWarning: elementwise comparison failed; returning scalar instead, but in the future will perform elementwise comparison\n",
      "  'class0_proba': np.mean(class0_probs) if class0_probs != 'NA' else 'NA',\n",
      "/tmp/ipykernel_454702/165771129.py:147: FutureWarning: elementwise comparison failed; returning scalar instead, but in the future will perform elementwise comparison\n",
      "  'class1_proba': np.mean(class1_probs) if class1_probs != 'NA' else 'NA'\n"
     ]
    },
    {
     "name": "stdout",
     "output_type": "stream",
     "text": [
      "0.7564402810304449\n",
      "0.47100712105798576\n",
      "Using Logistic Regression method...\n"
     ]
    },
    {
     "name": "stderr",
     "output_type": "stream",
     "text": [
      "/home/payam/.virtualenvs/nabi/lib/python3.10/site-packages/sklearn/linear_model/_logistic.py:460: ConvergenceWarning: lbfgs failed to converge (status=1):\n",
      "STOP: TOTAL NO. of ITERATIONS REACHED LIMIT.\n",
      "\n",
      "Increase the number of iterations (max_iter) or scale the data as shown in:\n",
      "    https://scikit-learn.org/stable/modules/preprocessing.html\n",
      "Please also refer to the documentation for alternative solver options:\n",
      "    https://scikit-learn.org/stable/modules/linear_model.html#logistic-regression\n",
      "  n_iter_i = _check_optimize_result(\n",
      "/tmp/ipykernel_454702/165771129.py:146: FutureWarning: elementwise comparison failed; returning scalar instead, but in the future will perform elementwise comparison\n",
      "  'class0_proba': np.mean(class0_probs) if class0_probs != 'NA' else 'NA',\n",
      "/tmp/ipykernel_454702/165771129.py:147: FutureWarning: elementwise comparison failed; returning scalar instead, but in the future will perform elementwise comparison\n",
      "  'class1_proba': np.mean(class1_probs) if class1_probs != 'NA' else 'NA'\n"
     ]
    },
    {
     "name": "stdout",
     "output_type": "stream",
     "text": [
      "0.739784946236559\n",
      "0.46903949293027786\n",
      "Using Gradient Boosting method...\n"
     ]
    },
    {
     "name": "stderr",
     "output_type": "stream",
     "text": [
      "/tmp/ipykernel_454702/165771129.py:146: FutureWarning: elementwise comparison failed; returning scalar instead, but in the future will perform elementwise comparison\n",
      "  'class0_proba': np.mean(class0_probs) if class0_probs != 'NA' else 'NA',\n",
      "/tmp/ipykernel_454702/165771129.py:147: FutureWarning: elementwise comparison failed; returning scalar instead, but in the future will perform elementwise comparison\n",
      "  'class1_proba': np.mean(class1_probs) if class1_probs != 'NA' else 'NA'\n"
     ]
    },
    {
     "name": "stdout",
     "output_type": "stream",
     "text": [
      "0.7956531003622417\n",
      "0.37848347375243035\n",
      "Using Ada Boost method...\n"
     ]
    },
    {
     "name": "stderr",
     "output_type": "stream",
     "text": [
      "/tmp/ipykernel_454702/165771129.py:146: FutureWarning: elementwise comparison failed; returning scalar instead, but in the future will perform elementwise comparison\n",
      "  'class0_proba': np.mean(class0_probs) if class0_probs != 'NA' else 'NA',\n",
      "/tmp/ipykernel_454702/165771129.py:147: FutureWarning: elementwise comparison failed; returning scalar instead, but in the future will perform elementwise comparison\n",
      "  'class1_proba': np.mean(class1_probs) if class1_probs != 'NA' else 'NA'\n"
     ]
    },
    {
     "name": "stdout",
     "output_type": "stream",
     "text": [
      "0.7747942832394977\n",
      "0.3572311495673672\n",
      "Using Perceptron method...\n",
      "0.777710233029382\n",
      "0.15680245964642583\n",
      "Using SGD method...\n",
      "0.7711200508151599\n",
      "0.28552544613350955\n",
      "Using SVC method...\n",
      "0.8012087200518023\n",
      "0.42545227698066124\n",
      "Using Linear SVC method...\n"
     ]
    },
    {
     "name": "stderr",
     "output_type": "stream",
     "text": [
      "/home/payam/.virtualenvs/nabi/lib/python3.10/site-packages/sklearn/svm/_classes.py:32: FutureWarning: The default value of `dual` will change from `True` to `'auto'` in 1.5. Set the value of `dual` explicitly to suppress the warning.\n",
      "  warnings.warn(\n",
      "/home/payam/.virtualenvs/nabi/lib/python3.10/site-packages/sklearn/svm/_base.py:1242: ConvergenceWarning: Liblinear failed to converge, increase the number of iterations.\n",
      "  warnings.warn(\n"
     ]
    },
    {
     "name": "stdout",
     "output_type": "stream",
     "text": [
      "0.6183491515674431\n",
      "0.5190286335628851\n",
      "Using Random Forest method...\n"
     ]
    },
    {
     "name": "stderr",
     "output_type": "stream",
     "text": [
      "/tmp/ipykernel_454702/165771129.py:146: FutureWarning: elementwise comparison failed; returning scalar instead, but in the future will perform elementwise comparison\n",
      "  'class0_proba': np.mean(class0_probs) if class0_probs != 'NA' else 'NA',\n",
      "/tmp/ipykernel_454702/165771129.py:147: FutureWarning: elementwise comparison failed; returning scalar instead, but in the future will perform elementwise comparison\n",
      "  'class1_proba': np.mean(class1_probs) if class1_probs != 'NA' else 'NA'\n"
     ]
    },
    {
     "name": "stdout",
     "output_type": "stream",
     "text": [
      "0.7581639643754282\n",
      "0.4297253634894992\n",
      "Using Logistic Regression method...\n"
     ]
    },
    {
     "name": "stderr",
     "output_type": "stream",
     "text": [
      "/tmp/ipykernel_454702/165771129.py:146: FutureWarning: elementwise comparison failed; returning scalar instead, but in the future will perform elementwise comparison\n",
      "  'class0_proba': np.mean(class0_probs) if class0_probs != 'NA' else 'NA',\n",
      "/tmp/ipykernel_454702/165771129.py:147: FutureWarning: elementwise comparison failed; returning scalar instead, but in the future will perform elementwise comparison\n",
      "  'class1_proba': np.mean(class1_probs) if class1_probs != 'NA' else 'NA'\n"
     ]
    },
    {
     "name": "stdout",
     "output_type": "stream",
     "text": [
      "0.7498839907192576\n",
      "0.44029075804776735\n",
      "Using Gradient Boosting method...\n"
     ]
    },
    {
     "name": "stderr",
     "output_type": "stream",
     "text": [
      "/tmp/ipykernel_454702/165771129.py:146: FutureWarning: elementwise comparison failed; returning scalar instead, but in the future will perform elementwise comparison\n",
      "  'class0_proba': np.mean(class0_probs) if class0_probs != 'NA' else 'NA',\n",
      "/tmp/ipykernel_454702/165771129.py:147: FutureWarning: elementwise comparison failed; returning scalar instead, but in the future will perform elementwise comparison\n",
      "  'class1_proba': np.mean(class1_probs) if class1_probs != 'NA' else 'NA'\n"
     ]
    },
    {
     "name": "stdout",
     "output_type": "stream",
     "text": [
      "0.7913427190586257\n",
      "0.3276912660798917\n",
      "Using Ada Boost method...\n"
     ]
    },
    {
     "name": "stderr",
     "output_type": "stream",
     "text": [
      "/tmp/ipykernel_454702/165771129.py:146: FutureWarning: elementwise comparison failed; returning scalar instead, but in the future will perform elementwise comparison\n",
      "  'class0_proba': np.mean(class0_probs) if class0_probs != 'NA' else 'NA',\n",
      "/tmp/ipykernel_454702/165771129.py:147: FutureWarning: elementwise comparison failed; returning scalar instead, but in the future will perform elementwise comparison\n",
      "  'class1_proba': np.mean(class1_probs) if class1_probs != 'NA' else 'NA'\n"
     ]
    },
    {
     "name": "stdout",
     "output_type": "stream",
     "text": [
      "0.7766907698851554\n",
      "0.3155149934810952\n",
      "Using Perceptron method...\n",
      "0.7014593123917883\n",
      "0.4496124031007752\n",
      "Using SGD method...\n",
      "0.7125984251968503\n",
      "0.4622467771639042\n",
      "Using SVC method...\n",
      "0.7964904772095014\n",
      "0.3915547024952016\n",
      "Using Linear SVC method...\n"
     ]
    },
    {
     "name": "stderr",
     "output_type": "stream",
     "text": [
      "/home/payam/.virtualenvs/nabi/lib/python3.10/site-packages/sklearn/svm/_classes.py:32: FutureWarning: The default value of `dual` will change from `True` to `'auto'` in 1.5. Set the value of `dual` explicitly to suppress the warning.\n",
      "  warnings.warn(\n",
      "/home/payam/.virtualenvs/nabi/lib/python3.10/site-packages/sklearn/svm/_base.py:1242: ConvergenceWarning: Liblinear failed to converge, increase the number of iterations.\n",
      "  warnings.warn(\n"
     ]
    },
    {
     "name": "stdout",
     "output_type": "stream",
     "text": [
      "0.7468936953520477\n",
      "0.417989417989418\n",
      "11\n",
      "Using Random Forest method...\n"
     ]
    },
    {
     "name": "stderr",
     "output_type": "stream",
     "text": [
      "/tmp/ipykernel_454702/165771129.py:146: FutureWarning: elementwise comparison failed; returning scalar instead, but in the future will perform elementwise comparison\n",
      "  'class0_proba': np.mean(class0_probs) if class0_probs != 'NA' else 'NA',\n",
      "/tmp/ipykernel_454702/165771129.py:147: FutureWarning: elementwise comparison failed; returning scalar instead, but in the future will perform elementwise comparison\n",
      "  'class1_proba': np.mean(class1_probs) if class1_probs != 'NA' else 'NA'\n"
     ]
    },
    {
     "name": "stdout",
     "output_type": "stream",
     "text": [
      "0.8808526836695851\n",
      "0.3625254582484725\n",
      "Using Logistic Regression method...\n"
     ]
    },
    {
     "name": "stderr",
     "output_type": "stream",
     "text": [
      "/home/payam/.virtualenvs/nabi/lib/python3.10/site-packages/sklearn/linear_model/_logistic.py:460: ConvergenceWarning: lbfgs failed to converge (status=1):\n",
      "STOP: TOTAL NO. of ITERATIONS REACHED LIMIT.\n",
      "\n",
      "Increase the number of iterations (max_iter) or scale the data as shown in:\n",
      "    https://scikit-learn.org/stable/modules/preprocessing.html\n",
      "Please also refer to the documentation for alternative solver options:\n",
      "    https://scikit-learn.org/stable/modules/linear_model.html#logistic-regression\n",
      "  n_iter_i = _check_optimize_result(\n",
      "/tmp/ipykernel_454702/165771129.py:146: FutureWarning: elementwise comparison failed; returning scalar instead, but in the future will perform elementwise comparison\n",
      "  'class0_proba': np.mean(class0_probs) if class0_probs != 'NA' else 'NA',\n",
      "/tmp/ipykernel_454702/165771129.py:147: FutureWarning: elementwise comparison failed; returning scalar instead, but in the future will perform elementwise comparison\n",
      "  'class1_proba': np.mean(class1_probs) if class1_probs != 'NA' else 'NA'\n"
     ]
    },
    {
     "name": "stdout",
     "output_type": "stream",
     "text": [
      "0.873015873015873\n",
      "0.38691588785046727\n",
      "Using Gradient Boosting method...\n"
     ]
    },
    {
     "name": "stderr",
     "output_type": "stream",
     "text": [
      "/tmp/ipykernel_454702/165771129.py:146: FutureWarning: elementwise comparison failed; returning scalar instead, but in the future will perform elementwise comparison\n",
      "  'class0_proba': np.mean(class0_probs) if class0_probs != 'NA' else 'NA',\n",
      "/tmp/ipykernel_454702/165771129.py:147: FutureWarning: elementwise comparison failed; returning scalar instead, but in the future will perform elementwise comparison\n",
      "  'class1_proba': np.mean(class1_probs) if class1_probs != 'NA' else 'NA'\n"
     ]
    },
    {
     "name": "stdout",
     "output_type": "stream",
     "text": [
      "0.9039692701664532\n",
      "0.31729518855656696\n",
      "Using Ada Boost method...\n"
     ]
    },
    {
     "name": "stderr",
     "output_type": "stream",
     "text": [
      "/tmp/ipykernel_454702/165771129.py:146: FutureWarning: elementwise comparison failed; returning scalar instead, but in the future will perform elementwise comparison\n",
      "  'class0_proba': np.mean(class0_probs) if class0_probs != 'NA' else 'NA',\n",
      "/tmp/ipykernel_454702/165771129.py:147: FutureWarning: elementwise comparison failed; returning scalar instead, but in the future will perform elementwise comparison\n",
      "  'class1_proba': np.mean(class1_probs) if class1_probs != 'NA' else 'NA'\n"
     ]
    },
    {
     "name": "stdout",
     "output_type": "stream",
     "text": [
      "0.897117840204305\n",
      "0.2519893899204244\n",
      "Using Perceptron method...\n",
      "0.89025069637883\n",
      "0.30552291421856637\n",
      "Using SGD method...\n",
      "0.8894339622641508\n",
      "0.37393162393162394\n",
      "Using SVC method...\n",
      "0.9086556169429097\n",
      "0.38461538461538464\n",
      "Using Linear SVC method...\n"
     ]
    },
    {
     "name": "stderr",
     "output_type": "stream",
     "text": [
      "/home/payam/.virtualenvs/nabi/lib/python3.10/site-packages/sklearn/svm/_classes.py:32: FutureWarning: The default value of `dual` will change from `True` to `'auto'` in 1.5. Set the value of `dual` explicitly to suppress the warning.\n",
      "  warnings.warn(\n",
      "/home/payam/.virtualenvs/nabi/lib/python3.10/site-packages/sklearn/svm/_base.py:1242: ConvergenceWarning: Liblinear failed to converge, increase the number of iterations.\n",
      "  warnings.warn(\n"
     ]
    },
    {
     "name": "stdout",
     "output_type": "stream",
     "text": [
      "0.8606395578365574\n",
      "0.39658119658119656\n",
      "Using Random Forest method...\n"
     ]
    },
    {
     "name": "stderr",
     "output_type": "stream",
     "text": [
      "/tmp/ipykernel_454702/165771129.py:146: FutureWarning: elementwise comparison failed; returning scalar instead, but in the future will perform elementwise comparison\n",
      "  'class0_proba': np.mean(class0_probs) if class0_probs != 'NA' else 'NA',\n",
      "/tmp/ipykernel_454702/165771129.py:147: FutureWarning: elementwise comparison failed; returning scalar instead, but in the future will perform elementwise comparison\n",
      "  'class1_proba': np.mean(class1_probs) if class1_probs != 'NA' else 'NA'\n"
     ]
    },
    {
     "name": "stdout",
     "output_type": "stream",
     "text": [
      "0.8820064601938058\n",
      "0.3617677286742035\n",
      "Using Logistic Regression method...\n"
     ]
    },
    {
     "name": "stderr",
     "output_type": "stream",
     "text": [
      "/tmp/ipykernel_454702/165771129.py:146: FutureWarning: elementwise comparison failed; returning scalar instead, but in the future will perform elementwise comparison\n",
      "  'class0_proba': np.mean(class0_probs) if class0_probs != 'NA' else 'NA',\n",
      "/tmp/ipykernel_454702/165771129.py:147: FutureWarning: elementwise comparison failed; returning scalar instead, but in the future will perform elementwise comparison\n",
      "  'class1_proba': np.mean(class1_probs) if class1_probs != 'NA' else 'NA'\n"
     ]
    },
    {
     "name": "stdout",
     "output_type": "stream",
     "text": [
      "0.8718743942624539\n",
      "0.3862581244196843\n",
      "Using Gradient Boosting method...\n"
     ]
    },
    {
     "name": "stderr",
     "output_type": "stream",
     "text": [
      "/tmp/ipykernel_454702/165771129.py:146: FutureWarning: elementwise comparison failed; returning scalar instead, but in the future will perform elementwise comparison\n",
      "  'class0_proba': np.mean(class0_probs) if class0_probs != 'NA' else 'NA',\n",
      "/tmp/ipykernel_454702/165771129.py:147: FutureWarning: elementwise comparison failed; returning scalar instead, but in the future will perform elementwise comparison\n",
      "  'class1_proba': np.mean(class1_probs) if class1_probs != 'NA' else 'NA'\n"
     ]
    },
    {
     "name": "stdout",
     "output_type": "stream",
     "text": [
      "0.9028613085474757\n",
      "0.2883845126835781\n",
      "Using Ada Boost method...\n"
     ]
    },
    {
     "name": "stderr",
     "output_type": "stream",
     "text": [
      "/tmp/ipykernel_454702/165771129.py:146: FutureWarning: elementwise comparison failed; returning scalar instead, but in the future will perform elementwise comparison\n",
      "  'class0_proba': np.mean(class0_probs) if class0_probs != 'NA' else 'NA',\n",
      "/tmp/ipykernel_454702/165771129.py:147: FutureWarning: elementwise comparison failed; returning scalar instead, but in the future will perform elementwise comparison\n",
      "  'class1_proba': np.mean(class1_probs) if class1_probs != 'NA' else 'NA'\n"
     ]
    },
    {
     "name": "stdout",
     "output_type": "stream",
     "text": [
      "0.8929027549717204\n",
      "0.22251655629139072\n",
      "Using Perceptron method...\n",
      "0.6951539746956316\n",
      "0.3761602344894968\n",
      "Using SGD method...\n",
      "0.8143512724238632\n",
      "0.3828016643550624\n",
      "Using SVC method...\n",
      "0.9071178958984735\n",
      "0.36795994993742176\n",
      "Using Linear SVC method...\n"
     ]
    },
    {
     "name": "stderr",
     "output_type": "stream",
     "text": [
      "/home/payam/.virtualenvs/nabi/lib/python3.10/site-packages/sklearn/svm/_classes.py:32: FutureWarning: The default value of `dual` will change from `True` to `'auto'` in 1.5. Set the value of `dual` explicitly to suppress the warning.\n",
      "  warnings.warn(\n",
      "/home/payam/.virtualenvs/nabi/lib/python3.10/site-packages/sklearn/svm/_base.py:1242: ConvergenceWarning: Liblinear failed to converge, increase the number of iterations.\n",
      "  warnings.warn(\n"
     ]
    },
    {
     "name": "stdout",
     "output_type": "stream",
     "text": [
      "0.8630917305048125\n",
      "0.3912663755458515\n",
      "12\n",
      "Using Random Forest method...\n"
     ]
    },
    {
     "name": "stderr",
     "output_type": "stream",
     "text": [
      "/tmp/ipykernel_454702/165771129.py:146: FutureWarning: elementwise comparison failed; returning scalar instead, but in the future will perform elementwise comparison\n",
      "  'class0_proba': np.mean(class0_probs) if class0_probs != 'NA' else 'NA',\n",
      "/tmp/ipykernel_454702/165771129.py:147: FutureWarning: elementwise comparison failed; returning scalar instead, but in the future will perform elementwise comparison\n",
      "  'class1_proba': np.mean(class1_probs) if class1_probs != 'NA' else 'NA'\n"
     ]
    },
    {
     "name": "stdout",
     "output_type": "stream",
     "text": [
      "0.9990369181380416\n",
      "0.0\n",
      "Using Logistic Regression method...\n"
     ]
    },
    {
     "name": "stderr",
     "output_type": "stream",
     "text": [
      "/tmp/ipykernel_454702/165771129.py:146: FutureWarning: elementwise comparison failed; returning scalar instead, but in the future will perform elementwise comparison\n",
      "  'class0_proba': np.mean(class0_probs) if class0_probs != 'NA' else 'NA',\n",
      "/tmp/ipykernel_454702/165771129.py:147: FutureWarning: elementwise comparison failed; returning scalar instead, but in the future will perform elementwise comparison\n",
      "  'class1_proba': np.mean(class1_probs) if class1_probs != 'NA' else 'NA'\n"
     ]
    },
    {
     "name": "stdout",
     "output_type": "stream",
     "text": [
      "0.9988762241130198\n",
      "0.0\n",
      "Using Gradient Boosting method...\n"
     ]
    },
    {
     "name": "stderr",
     "output_type": "stream",
     "text": [
      "/tmp/ipykernel_454702/165771129.py:146: FutureWarning: elementwise comparison failed; returning scalar instead, but in the future will perform elementwise comparison\n",
      "  'class0_proba': np.mean(class0_probs) if class0_probs != 'NA' else 'NA',\n",
      "/tmp/ipykernel_454702/165771129.py:147: FutureWarning: elementwise comparison failed; returning scalar instead, but in the future will perform elementwise comparison\n",
      "  'class1_proba': np.mean(class1_probs) if class1_probs != 'NA' else 'NA'\n"
     ]
    },
    {
     "name": "stdout",
     "output_type": "stream",
     "text": [
      "0.9990369181380416\n",
      "0.0\n",
      "Using Ada Boost method...\n"
     ]
    },
    {
     "name": "stderr",
     "output_type": "stream",
     "text": [
      "/tmp/ipykernel_454702/165771129.py:146: FutureWarning: elementwise comparison failed; returning scalar instead, but in the future will perform elementwise comparison\n",
      "  'class0_proba': np.mean(class0_probs) if class0_probs != 'NA' else 'NA',\n",
      "/tmp/ipykernel_454702/165771129.py:147: FutureWarning: elementwise comparison failed; returning scalar instead, but in the future will perform elementwise comparison\n",
      "  'class1_proba': np.mean(class1_probs) if class1_probs != 'NA' else 'NA'\n"
     ]
    },
    {
     "name": "stdout",
     "output_type": "stream",
     "text": [
      "0.999197560584176\n",
      "0.0\n",
      "Using Perceptron method...\n",
      "0.9983938323160938\n",
      "0.0\n",
      "Using SGD method...\n"
     ]
    },
    {
     "name": "stderr",
     "output_type": "stream",
     "text": [
      "/home/payam/.virtualenvs/nabi/lib/python3.10/site-packages/sklearn/metrics/_classification.py:1469: UndefinedMetricWarning: Precision is ill-defined and being set to 0.0 in labels with no predicted samples. Use `zero_division` parameter to control this behavior.\n",
      "  _warn_prf(average, modifier, msg_start, len(result))\n"
     ]
    },
    {
     "name": "stdout",
     "output_type": "stream",
     "text": [
      "0.9993581514762516\n",
      "0.0\n",
      "Using SVC method...\n"
     ]
    },
    {
     "name": "stderr",
     "output_type": "stream",
     "text": [
      "/home/payam/.virtualenvs/nabi/lib/python3.10/site-packages/sklearn/metrics/_classification.py:1469: UndefinedMetricWarning: Precision is ill-defined and being set to 0.0 in labels with no predicted samples. Use `zero_division` parameter to control this behavior.\n",
      "  _warn_prf(average, modifier, msg_start, len(result))\n"
     ]
    },
    {
     "name": "stdout",
     "output_type": "stream",
     "text": [
      "0.9993581514762516\n",
      "0.0\n",
      "Using Linear SVC method...\n"
     ]
    },
    {
     "name": "stderr",
     "output_type": "stream",
     "text": [
      "/home/payam/.virtualenvs/nabi/lib/python3.10/site-packages/sklearn/svm/_classes.py:32: FutureWarning: The default value of `dual` will change from `True` to `'auto'` in 1.5. Set the value of `dual` explicitly to suppress the warning.\n",
      "  warnings.warn(\n",
      "/home/payam/.virtualenvs/nabi/lib/python3.10/site-packages/sklearn/svm/_base.py:1242: ConvergenceWarning: Liblinear failed to converge, increase the number of iterations.\n",
      "  warnings.warn(\n"
     ]
    },
    {
     "name": "stdout",
     "output_type": "stream",
     "text": [
      "0.998554681226915\n",
      "0.0\n",
      "Using Random Forest method...\n"
     ]
    },
    {
     "name": "stderr",
     "output_type": "stream",
     "text": [
      "/tmp/ipykernel_454702/165771129.py:146: FutureWarning: elementwise comparison failed; returning scalar instead, but in the future will perform elementwise comparison\n",
      "  'class0_proba': np.mean(class0_probs) if class0_probs != 'NA' else 'NA',\n",
      "/tmp/ipykernel_454702/165771129.py:147: FutureWarning: elementwise comparison failed; returning scalar instead, but in the future will perform elementwise comparison\n",
      "  'class1_proba': np.mean(class1_probs) if class1_probs != 'NA' else 'NA'\n"
     ]
    },
    {
     "name": "stdout",
     "output_type": "stream",
     "text": [
      "0.9990369181380416\n",
      "0.0\n",
      "Using Logistic Regression method...\n"
     ]
    },
    {
     "name": "stderr",
     "output_type": "stream",
     "text": [
      "/tmp/ipykernel_454702/165771129.py:146: FutureWarning: elementwise comparison failed; returning scalar instead, but in the future will perform elementwise comparison\n",
      "  'class0_proba': np.mean(class0_probs) if class0_probs != 'NA' else 'NA',\n",
      "/tmp/ipykernel_454702/165771129.py:147: FutureWarning: elementwise comparison failed; returning scalar instead, but in the future will perform elementwise comparison\n",
      "  'class1_proba': np.mean(class1_probs) if class1_probs != 'NA' else 'NA'\n"
     ]
    },
    {
     "name": "stdout",
     "output_type": "stream",
     "text": [
      "0.9988762241130198\n",
      "0.0\n",
      "Using Gradient Boosting method...\n"
     ]
    },
    {
     "name": "stderr",
     "output_type": "stream",
     "text": [
      "/tmp/ipykernel_454702/165771129.py:146: FutureWarning: elementwise comparison failed; returning scalar instead, but in the future will perform elementwise comparison\n",
      "  'class0_proba': np.mean(class0_probs) if class0_probs != 'NA' else 'NA',\n",
      "/tmp/ipykernel_454702/165771129.py:147: FutureWarning: elementwise comparison failed; returning scalar instead, but in the future will perform elementwise comparison\n",
      "  'class1_proba': np.mean(class1_probs) if class1_probs != 'NA' else 'NA'\n"
     ]
    },
    {
     "name": "stdout",
     "output_type": "stream",
     "text": [
      "0.9987154784842646\n",
      "0.0\n",
      "Using Ada Boost method...\n"
     ]
    },
    {
     "name": "stderr",
     "output_type": "stream",
     "text": [
      "/tmp/ipykernel_454702/165771129.py:146: FutureWarning: elementwise comparison failed; returning scalar instead, but in the future will perform elementwise comparison\n",
      "  'class0_proba': np.mean(class0_probs) if class0_probs != 'NA' else 'NA',\n",
      "/tmp/ipykernel_454702/165771129.py:147: FutureWarning: elementwise comparison failed; returning scalar instead, but in the future will perform elementwise comparison\n",
      "  'class1_proba': np.mean(class1_probs) if class1_probs != 'NA' else 'NA'\n"
     ]
    },
    {
     "name": "stdout",
     "output_type": "stream",
     "text": [
      "0.9988762241130198\n",
      "0.0\n",
      "Using Perceptron method...\n",
      "0.9990369181380416\n",
      "0.0\n",
      "Using SGD method...\n",
      "0.998554681226915\n",
      "0.0\n",
      "Using SVC method...\n"
     ]
    },
    {
     "name": "stderr",
     "output_type": "stream",
     "text": [
      "/home/payam/.virtualenvs/nabi/lib/python3.10/site-packages/sklearn/metrics/_classification.py:1469: UndefinedMetricWarning: Precision is ill-defined and being set to 0.0 in labels with no predicted samples. Use `zero_division` parameter to control this behavior.\n",
      "  _warn_prf(average, modifier, msg_start, len(result))\n"
     ]
    },
    {
     "name": "stdout",
     "output_type": "stream",
     "text": [
      "0.9993581514762516\n",
      "0.0\n",
      "Using Linear SVC method...\n"
     ]
    },
    {
     "name": "stderr",
     "output_type": "stream",
     "text": [
      "/home/payam/.virtualenvs/nabi/lib/python3.10/site-packages/sklearn/svm/_classes.py:32: FutureWarning: The default value of `dual` will change from `True` to `'auto'` in 1.5. Set the value of `dual` explicitly to suppress the warning.\n",
      "  warnings.warn(\n",
      "/home/payam/.virtualenvs/nabi/lib/python3.10/site-packages/sklearn/svm/_base.py:1242: ConvergenceWarning: Liblinear failed to converge, increase the number of iterations.\n",
      "  warnings.warn(\n"
     ]
    },
    {
     "name": "stdout",
     "output_type": "stream",
     "text": [
      "0.9988762241130198\n",
      "0.0\n",
      "13\n",
      "Using Random Forest method...\n"
     ]
    },
    {
     "name": "stderr",
     "output_type": "stream",
     "text": [
      "/tmp/ipykernel_454702/165771129.py:146: FutureWarning: elementwise comparison failed; returning scalar instead, but in the future will perform elementwise comparison\n",
      "  'class0_proba': np.mean(class0_probs) if class0_probs != 'NA' else 'NA',\n",
      "/tmp/ipykernel_454702/165771129.py:147: FutureWarning: elementwise comparison failed; returning scalar instead, but in the future will perform elementwise comparison\n",
      "  'class1_proba': np.mean(class1_probs) if class1_probs != 'NA' else 'NA'\n"
     ]
    },
    {
     "name": "stdout",
     "output_type": "stream",
     "text": [
      "0.9119416590701914\n",
      "0.3568575233022636\n",
      "Using Logistic Regression method...\n"
     ]
    },
    {
     "name": "stderr",
     "output_type": "stream",
     "text": [
      "/home/payam/.virtualenvs/nabi/lib/python3.10/site-packages/sklearn/linear_model/_logistic.py:460: ConvergenceWarning: lbfgs failed to converge (status=1):\n",
      "STOP: TOTAL NO. of ITERATIONS REACHED LIMIT.\n",
      "\n",
      "Increase the number of iterations (max_iter) or scale the data as shown in:\n",
      "    https://scikit-learn.org/stable/modules/preprocessing.html\n",
      "Please also refer to the documentation for alternative solver options:\n",
      "    https://scikit-learn.org/stable/modules/linear_model.html#logistic-regression\n",
      "  n_iter_i = _check_optimize_result(\n",
      "/tmp/ipykernel_454702/165771129.py:146: FutureWarning: elementwise comparison failed; returning scalar instead, but in the future will perform elementwise comparison\n",
      "  'class0_proba': np.mean(class0_probs) if class0_probs != 'NA' else 'NA',\n",
      "/tmp/ipykernel_454702/165771129.py:147: FutureWarning: elementwise comparison failed; returning scalar instead, but in the future will perform elementwise comparison\n",
      "  'class1_proba': np.mean(class1_probs) if class1_probs != 'NA' else 'NA'\n"
     ]
    },
    {
     "name": "stdout",
     "output_type": "stream",
     "text": [
      "0.8985615542686344\n",
      "0.38505096262740657\n",
      "Using Gradient Boosting method...\n"
     ]
    },
    {
     "name": "stderr",
     "output_type": "stream",
     "text": [
      "/tmp/ipykernel_454702/165771129.py:146: FutureWarning: elementwise comparison failed; returning scalar instead, but in the future will perform elementwise comparison\n",
      "  'class0_proba': np.mean(class0_probs) if class0_probs != 'NA' else 'NA',\n",
      "/tmp/ipykernel_454702/165771129.py:147: FutureWarning: elementwise comparison failed; returning scalar instead, but in the future will perform elementwise comparison\n",
      "  'class1_proba': np.mean(class1_probs) if class1_probs != 'NA' else 'NA'\n"
     ]
    },
    {
     "name": "stdout",
     "output_type": "stream",
     "text": [
      "0.923728813559322\n",
      "0.24475524475524474\n",
      "Using Ada Boost method...\n"
     ]
    },
    {
     "name": "stderr",
     "output_type": "stream",
     "text": [
      "/tmp/ipykernel_454702/165771129.py:146: FutureWarning: elementwise comparison failed; returning scalar instead, but in the future will perform elementwise comparison\n",
      "  'class0_proba': np.mean(class0_probs) if class0_probs != 'NA' else 'NA',\n",
      "/tmp/ipykernel_454702/165771129.py:147: FutureWarning: elementwise comparison failed; returning scalar instead, but in the future will perform elementwise comparison\n",
      "  'class1_proba': np.mean(class1_probs) if class1_probs != 'NA' else 'NA'\n"
     ]
    },
    {
     "name": "stdout",
     "output_type": "stream",
     "text": [
      "0.9185943846018012\n",
      "0.1954624781849913\n",
      "Using Perceptron method...\n",
      "0.8858001502629602\n",
      "0.33333333333333337\n",
      "Using SGD method...\n",
      "0.8563524995060264\n",
      "0.38127659574468087\n",
      "Using SVC method...\n",
      "0.9285206258890469\n",
      "0.3431372549019608\n",
      "Using Linear SVC method...\n"
     ]
    },
    {
     "name": "stderr",
     "output_type": "stream",
     "text": [
      "/home/payam/.virtualenvs/nabi/lib/python3.10/site-packages/sklearn/svm/_classes.py:32: FutureWarning: The default value of `dual` will change from `True` to `'auto'` in 1.5. Set the value of `dual` explicitly to suppress the warning.\n",
      "  warnings.warn(\n",
      "/home/payam/.virtualenvs/nabi/lib/python3.10/site-packages/sklearn/svm/_base.py:1242: ConvergenceWarning: Liblinear failed to converge, increase the number of iterations.\n",
      "  warnings.warn(\n"
     ]
    },
    {
     "name": "stdout",
     "output_type": "stream",
     "text": [
      "0.9064273942501374\n",
      "0.3406451612903226\n",
      "Using Random Forest method...\n"
     ]
    },
    {
     "name": "stderr",
     "output_type": "stream",
     "text": [
      "/tmp/ipykernel_454702/165771129.py:146: FutureWarning: elementwise comparison failed; returning scalar instead, but in the future will perform elementwise comparison\n",
      "  'class0_proba': np.mean(class0_probs) if class0_probs != 'NA' else 'NA',\n",
      "/tmp/ipykernel_454702/165771129.py:147: FutureWarning: elementwise comparison failed; returning scalar instead, but in the future will perform elementwise comparison\n",
      "  'class1_proba': np.mean(class1_probs) if class1_probs != 'NA' else 'NA'\n"
     ]
    },
    {
     "name": "stdout",
     "output_type": "stream",
     "text": [
      "0.9159970781592404\n",
      "0.39473684210526316\n",
      "Using Logistic Regression method...\n"
     ]
    },
    {
     "name": "stderr",
     "output_type": "stream",
     "text": [
      "/tmp/ipykernel_454702/165771129.py:146: FutureWarning: elementwise comparison failed; returning scalar instead, but in the future will perform elementwise comparison\n",
      "  'class0_proba': np.mean(class0_probs) if class0_probs != 'NA' else 'NA',\n",
      "/tmp/ipykernel_454702/165771129.py:147: FutureWarning: elementwise comparison failed; returning scalar instead, but in the future will perform elementwise comparison\n",
      "  'class1_proba': np.mean(class1_probs) if class1_probs != 'NA' else 'NA'\n"
     ]
    },
    {
     "name": "stdout",
     "output_type": "stream",
     "text": [
      "0.8950996832494876\n",
      "0.3521288837744534\n",
      "Using Gradient Boosting method...\n"
     ]
    },
    {
     "name": "stderr",
     "output_type": "stream",
     "text": [
      "/tmp/ipykernel_454702/165771129.py:146: FutureWarning: elementwise comparison failed; returning scalar instead, but in the future will perform elementwise comparison\n",
      "  'class0_proba': np.mean(class0_probs) if class0_probs != 'NA' else 'NA',\n",
      "/tmp/ipykernel_454702/165771129.py:147: FutureWarning: elementwise comparison failed; returning scalar instead, but in the future will perform elementwise comparison\n",
      "  'class1_proba': np.mean(class1_probs) if class1_probs != 'NA' else 'NA'\n"
     ]
    },
    {
     "name": "stdout",
     "output_type": "stream",
     "text": [
      "0.9254207263064659\n",
      "0.2876480541455161\n",
      "Using Ada Boost method...\n"
     ]
    },
    {
     "name": "stderr",
     "output_type": "stream",
     "text": [
      "/tmp/ipykernel_454702/165771129.py:146: FutureWarning: elementwise comparison failed; returning scalar instead, but in the future will perform elementwise comparison\n",
      "  'class0_proba': np.mean(class0_probs) if class0_probs != 'NA' else 'NA',\n",
      "/tmp/ipykernel_454702/165771129.py:147: FutureWarning: elementwise comparison failed; returning scalar instead, but in the future will perform elementwise comparison\n",
      "  'class1_proba': np.mean(class1_probs) if class1_probs != 'NA' else 'NA'\n"
     ]
    },
    {
     "name": "stdout",
     "output_type": "stream",
     "text": [
      "0.9186500888099466\n",
      "0.24422442244224424\n",
      "Using Perceptron method...\n",
      "0.9039444850255661\n",
      "0.3078947368421053\n",
      "Using SGD method...\n",
      "0.8139534883720931\n",
      "0.36901408450704226\n",
      "Using SVC method...\n",
      "0.9292066880113838\n",
      "0.35179153094462545\n",
      "Using Linear SVC method...\n"
     ]
    },
    {
     "name": "stderr",
     "output_type": "stream",
     "text": [
      "/home/payam/.virtualenvs/nabi/lib/python3.10/site-packages/sklearn/svm/_classes.py:32: FutureWarning: The default value of `dual` will change from `True` to `'auto'` in 1.5. Set the value of `dual` explicitly to suppress the warning.\n",
      "  warnings.warn(\n",
      "/home/payam/.virtualenvs/nabi/lib/python3.10/site-packages/sklearn/svm/_base.py:1242: ConvergenceWarning: Liblinear failed to converge, increase the number of iterations.\n",
      "  warnings.warn(\n"
     ]
    },
    {
     "name": "stdout",
     "output_type": "stream",
     "text": [
      "0.8866174522051864\n",
      "0.3714585519412381\n",
      "14\n",
      "Using Random Forest method...\n"
     ]
    },
    {
     "name": "stderr",
     "output_type": "stream",
     "text": [
      "/tmp/ipykernel_454702/165771129.py:146: FutureWarning: elementwise comparison failed; returning scalar instead, but in the future will perform elementwise comparison\n",
      "  'class0_proba': np.mean(class0_probs) if class0_probs != 'NA' else 'NA',\n",
      "/tmp/ipykernel_454702/165771129.py:147: FutureWarning: elementwise comparison failed; returning scalar instead, but in the future will perform elementwise comparison\n",
      "  'class1_proba': np.mean(class1_probs) if class1_probs != 'NA' else 'NA'\n"
     ]
    },
    {
     "name": "stdout",
     "output_type": "stream",
     "text": [
      "0.8556942277691106\n",
      "0.33212996389891697\n",
      "Using Logistic Regression method...\n"
     ]
    },
    {
     "name": "stderr",
     "output_type": "stream",
     "text": [
      "/home/payam/.virtualenvs/nabi/lib/python3.10/site-packages/sklearn/linear_model/_logistic.py:460: ConvergenceWarning: lbfgs failed to converge (status=1):\n",
      "STOP: TOTAL NO. of ITERATIONS REACHED LIMIT.\n",
      "\n",
      "Increase the number of iterations (max_iter) or scale the data as shown in:\n",
      "    https://scikit-learn.org/stable/modules/preprocessing.html\n",
      "Please also refer to the documentation for alternative solver options:\n",
      "    https://scikit-learn.org/stable/modules/linear_model.html#logistic-regression\n",
      "  n_iter_i = _check_optimize_result(\n",
      "/tmp/ipykernel_454702/165771129.py:146: FutureWarning: elementwise comparison failed; returning scalar instead, but in the future will perform elementwise comparison\n",
      "  'class0_proba': np.mean(class0_probs) if class0_probs != 'NA' else 'NA',\n",
      "/tmp/ipykernel_454702/165771129.py:147: FutureWarning: elementwise comparison failed; returning scalar instead, but in the future will perform elementwise comparison\n",
      "  'class1_proba': np.mean(class1_probs) if class1_probs != 'NA' else 'NA'\n"
     ]
    },
    {
     "name": "stdout",
     "output_type": "stream",
     "text": [
      "0.8468185388845249\n",
      "0.3181818181818182\n",
      "Using Gradient Boosting method...\n"
     ]
    },
    {
     "name": "stderr",
     "output_type": "stream",
     "text": [
      "/tmp/ipykernel_454702/165771129.py:146: FutureWarning: elementwise comparison failed; returning scalar instead, but in the future will perform elementwise comparison\n",
      "  'class0_proba': np.mean(class0_probs) if class0_probs != 'NA' else 'NA',\n",
      "/tmp/ipykernel_454702/165771129.py:147: FutureWarning: elementwise comparison failed; returning scalar instead, but in the future will perform elementwise comparison\n",
      "  'class1_proba': np.mean(class1_probs) if class1_probs != 'NA' else 'NA'\n"
     ]
    },
    {
     "name": "stdout",
     "output_type": "stream",
     "text": [
      "0.8837038397942312\n",
      "0.201765447667087\n",
      "Using Ada Boost method...\n"
     ]
    },
    {
     "name": "stderr",
     "output_type": "stream",
     "text": [
      "/tmp/ipykernel_454702/165771129.py:146: FutureWarning: elementwise comparison failed; returning scalar instead, but in the future will perform elementwise comparison\n",
      "  'class0_proba': np.mean(class0_probs) if class0_probs != 'NA' else 'NA',\n",
      "/tmp/ipykernel_454702/165771129.py:147: FutureWarning: elementwise comparison failed; returning scalar instead, but in the future will perform elementwise comparison\n",
      "  'class1_proba': np.mean(class1_probs) if class1_probs != 'NA' else 'NA'\n"
     ]
    },
    {
     "name": "stdout",
     "output_type": "stream",
     "text": [
      "0.8750692009595867\n",
      "0.17135862913096694\n",
      "Using Perceptron method...\n",
      "0.6411167512690354\n",
      "0.3841463414634146\n",
      "Using SGD method...\n",
      "0.8497652582159624\n",
      "0.3167259786476868\n",
      "Using SVC method...\n",
      "0.8849294729027469\n",
      "0.26886792452830194\n",
      "Using Linear SVC method...\n"
     ]
    },
    {
     "name": "stderr",
     "output_type": "stream",
     "text": [
      "/home/payam/.virtualenvs/nabi/lib/python3.10/site-packages/sklearn/svm/_classes.py:32: FutureWarning: The default value of `dual` will change from `True` to `'auto'` in 1.5. Set the value of `dual` explicitly to suppress the warning.\n",
      "  warnings.warn(\n",
      "/home/payam/.virtualenvs/nabi/lib/python3.10/site-packages/sklearn/svm/_base.py:1242: ConvergenceWarning: Liblinear failed to converge, increase the number of iterations.\n",
      "  warnings.warn(\n"
     ]
    },
    {
     "name": "stdout",
     "output_type": "stream",
     "text": [
      "0.8476716653512233\n",
      "0.339041095890411\n",
      "Using Random Forest method...\n"
     ]
    },
    {
     "name": "stderr",
     "output_type": "stream",
     "text": [
      "/tmp/ipykernel_454702/165771129.py:146: FutureWarning: elementwise comparison failed; returning scalar instead, but in the future will perform elementwise comparison\n",
      "  'class0_proba': np.mean(class0_probs) if class0_probs != 'NA' else 'NA',\n",
      "/tmp/ipykernel_454702/165771129.py:147: FutureWarning: elementwise comparison failed; returning scalar instead, but in the future will perform elementwise comparison\n",
      "  'class1_proba': np.mean(class1_probs) if class1_probs != 'NA' else 'NA'\n"
     ]
    },
    {
     "name": "stdout",
     "output_type": "stream",
     "text": [
      "0.8610195774374879\n",
      "0.33426183844011137\n",
      "Using Logistic Regression method...\n"
     ]
    },
    {
     "name": "stderr",
     "output_type": "stream",
     "text": [
      "/tmp/ipykernel_454702/165771129.py:146: FutureWarning: elementwise comparison failed; returning scalar instead, but in the future will perform elementwise comparison\n",
      "  'class0_proba': np.mean(class0_probs) if class0_probs != 'NA' else 'NA',\n",
      "/tmp/ipykernel_454702/165771129.py:147: FutureWarning: elementwise comparison failed; returning scalar instead, but in the future will perform elementwise comparison\n",
      "  'class1_proba': np.mean(class1_probs) if class1_probs != 'NA' else 'NA'\n"
     ]
    },
    {
     "name": "stdout",
     "output_type": "stream",
     "text": [
      "0.8405172413793104\n",
      "0.28091872791519434\n",
      "Using Gradient Boosting method...\n"
     ]
    },
    {
     "name": "stderr",
     "output_type": "stream",
     "text": [
      "/tmp/ipykernel_454702/165771129.py:146: FutureWarning: elementwise comparison failed; returning scalar instead, but in the future will perform elementwise comparison\n",
      "  'class0_proba': np.mean(class0_probs) if class0_probs != 'NA' else 'NA',\n",
      "/tmp/ipykernel_454702/165771129.py:147: FutureWarning: elementwise comparison failed; returning scalar instead, but in the future will perform elementwise comparison\n",
      "  'class1_proba': np.mean(class1_probs) if class1_probs != 'NA' else 'NA'\n"
     ]
    },
    {
     "name": "stdout",
     "output_type": "stream",
     "text": [
      "0.883293512222018\n",
      "0.20125786163522014\n",
      "Using Ada Boost method...\n"
     ]
    },
    {
     "name": "stderr",
     "output_type": "stream",
     "text": [
      "/tmp/ipykernel_454702/165771129.py:146: FutureWarning: elementwise comparison failed; returning scalar instead, but in the future will perform elementwise comparison\n",
      "  'class0_proba': np.mean(class0_probs) if class0_probs != 'NA' else 'NA',\n",
      "/tmp/ipykernel_454702/165771129.py:147: FutureWarning: elementwise comparison failed; returning scalar instead, but in the future will perform elementwise comparison\n",
      "  'class1_proba': np.mean(class1_probs) if class1_probs != 'NA' else 'NA'\n"
     ]
    },
    {
     "name": "stdout",
     "output_type": "stream",
     "text": [
      "0.8753452402872398\n",
      "0.1590062111801242\n",
      "Using Perceptron method...\n",
      "0.7637483501979763\n",
      "0.36449704142011835\n",
      "Using SGD method...\n",
      "0.8160990712074303\n",
      "0.35945363048166784\n",
      "Using SVC method...\n",
      "0.8847721378288256\n",
      "0.2577565632458234\n",
      "Using Linear SVC method...\n"
     ]
    },
    {
     "name": "stderr",
     "output_type": "stream",
     "text": [
      "/home/payam/.virtualenvs/nabi/lib/python3.10/site-packages/sklearn/svm/_classes.py:32: FutureWarning: The default value of `dual` will change from `True` to `'auto'` in 1.5. Set the value of `dual` explicitly to suppress the warning.\n",
      "  warnings.warn(\n",
      "/home/payam/.virtualenvs/nabi/lib/python3.10/site-packages/sklearn/svm/_base.py:1242: ConvergenceWarning: Liblinear failed to converge, increase the number of iterations.\n",
      "  warnings.warn(\n"
     ]
    },
    {
     "name": "stdout",
     "output_type": "stream",
     "text": [
      "0.7758620689655173\n",
      "0.3483709273182957\n",
      "15\n",
      "Using Random Forest method...\n"
     ]
    },
    {
     "name": "stderr",
     "output_type": "stream",
     "text": [
      "/tmp/ipykernel_454702/165771129.py:146: FutureWarning: elementwise comparison failed; returning scalar instead, but in the future will perform elementwise comparison\n",
      "  'class0_proba': np.mean(class0_probs) if class0_probs != 'NA' else 'NA',\n",
      "/tmp/ipykernel_454702/165771129.py:147: FutureWarning: elementwise comparison failed; returning scalar instead, but in the future will perform elementwise comparison\n",
      "  'class1_proba': np.mean(class1_probs) if class1_probs != 'NA' else 'NA'\n"
     ]
    },
    {
     "name": "stdout",
     "output_type": "stream",
     "text": [
      "0.9515630367571281\n",
      "0.3188405797101449\n",
      "Using Logistic Regression method...\n"
     ]
    },
    {
     "name": "stderr",
     "output_type": "stream",
     "text": [
      "/home/payam/.virtualenvs/nabi/lib/python3.10/site-packages/sklearn/linear_model/_logistic.py:460: ConvergenceWarning: lbfgs failed to converge (status=1):\n",
      "STOP: TOTAL NO. of ITERATIONS REACHED LIMIT.\n",
      "\n",
      "Increase the number of iterations (max_iter) or scale the data as shown in:\n",
      "    https://scikit-learn.org/stable/modules/preprocessing.html\n",
      "Please also refer to the documentation for alternative solver options:\n",
      "    https://scikit-learn.org/stable/modules/linear_model.html#logistic-regression\n",
      "  n_iter_i = _check_optimize_result(\n",
      "/tmp/ipykernel_454702/165771129.py:146: FutureWarning: elementwise comparison failed; returning scalar instead, but in the future will perform elementwise comparison\n",
      "  'class0_proba': np.mean(class0_probs) if class0_probs != 'NA' else 'NA',\n",
      "/tmp/ipykernel_454702/165771129.py:147: FutureWarning: elementwise comparison failed; returning scalar instead, but in the future will perform elementwise comparison\n",
      "  'class1_proba': np.mean(class1_probs) if class1_probs != 'NA' else 'NA'\n"
     ]
    },
    {
     "name": "stdout",
     "output_type": "stream",
     "text": [
      "0.9328894340283863\n",
      "0.275992438563327\n",
      "Using Gradient Boosting method...\n"
     ]
    },
    {
     "name": "stderr",
     "output_type": "stream",
     "text": [
      "/tmp/ipykernel_454702/165771129.py:146: FutureWarning: elementwise comparison failed; returning scalar instead, but in the future will perform elementwise comparison\n",
      "  'class0_proba': np.mean(class0_probs) if class0_probs != 'NA' else 'NA',\n",
      "/tmp/ipykernel_454702/165771129.py:147: FutureWarning: elementwise comparison failed; returning scalar instead, but in the future will perform elementwise comparison\n",
      "  'class1_proba': np.mean(class1_probs) if class1_probs != 'NA' else 'NA'\n"
     ]
    },
    {
     "name": "stdout",
     "output_type": "stream",
     "text": [
      "0.9556082683835988\n",
      "0.2155688622754491\n",
      "Using Ada Boost method...\n"
     ]
    },
    {
     "name": "stderr",
     "output_type": "stream",
     "text": [
      "/tmp/ipykernel_454702/165771129.py:146: FutureWarning: elementwise comparison failed; returning scalar instead, but in the future will perform elementwise comparison\n",
      "  'class0_proba': np.mean(class0_probs) if class0_probs != 'NA' else 'NA',\n",
      "/tmp/ipykernel_454702/165771129.py:147: FutureWarning: elementwise comparison failed; returning scalar instead, but in the future will perform elementwise comparison\n",
      "  'class1_proba': np.mean(class1_probs) if class1_probs != 'NA' else 'NA'\n"
     ]
    },
    {
     "name": "stdout",
     "output_type": "stream",
     "text": [
      "0.9541595925297114\n",
      "0.21965317919075142\n",
      "Using Perceptron method...\n",
      "0.917053986414015\n",
      "0.2772585669781931\n",
      "Using SGD method...\n",
      "0.9190834228428213\n",
      "0.30461538461538457\n",
      "Using SVC method...\n",
      "0.9590901374978782\n",
      "0.30144927536231886\n",
      "Using Linear SVC method...\n"
     ]
    },
    {
     "name": "stderr",
     "output_type": "stream",
     "text": [
      "/home/payam/.virtualenvs/nabi/lib/python3.10/site-packages/sklearn/svm/_classes.py:32: FutureWarning: The default value of `dual` will change from `True` to `'auto'` in 1.5. Set the value of `dual` explicitly to suppress the warning.\n",
      "  warnings.warn(\n",
      "/home/payam/.virtualenvs/nabi/lib/python3.10/site-packages/sklearn/svm/_base.py:1242: ConvergenceWarning: Liblinear failed to converge, increase the number of iterations.\n",
      "  warnings.warn(\n"
     ]
    },
    {
     "name": "stdout",
     "output_type": "stream",
     "text": [
      "0.9261862917398946\n",
      "0.23076923076923075\n",
      "Using Random Forest method...\n"
     ]
    },
    {
     "name": "stderr",
     "output_type": "stream",
     "text": [
      "/tmp/ipykernel_454702/165771129.py:146: FutureWarning: elementwise comparison failed; returning scalar instead, but in the future will perform elementwise comparison\n",
      "  'class0_proba': np.mean(class0_probs) if class0_probs != 'NA' else 'NA',\n",
      "/tmp/ipykernel_454702/165771129.py:147: FutureWarning: elementwise comparison failed; returning scalar instead, but in the future will perform elementwise comparison\n",
      "  'class1_proba': np.mean(class1_probs) if class1_probs != 'NA' else 'NA'\n"
     ]
    },
    {
     "name": "stdout",
     "output_type": "stream",
     "text": [
      "0.9509381993458427\n",
      "0.3325526932084309\n",
      "Using Logistic Regression method...\n"
     ]
    },
    {
     "name": "stderr",
     "output_type": "stream",
     "text": [
      "/home/payam/.virtualenvs/nabi/lib/python3.10/site-packages/sklearn/linear_model/_logistic.py:460: ConvergenceWarning: lbfgs failed to converge (status=1):\n",
      "STOP: TOTAL NO. of ITERATIONS REACHED LIMIT.\n",
      "\n",
      "Increase the number of iterations (max_iter) or scale the data as shown in:\n",
      "    https://scikit-learn.org/stable/modules/preprocessing.html\n",
      "Please also refer to the documentation for alternative solver options:\n",
      "    https://scikit-learn.org/stable/modules/linear_model.html#logistic-regression\n",
      "  n_iter_i = _check_optimize_result(\n",
      "/tmp/ipykernel_454702/165771129.py:146: FutureWarning: elementwise comparison failed; returning scalar instead, but in the future will perform elementwise comparison\n",
      "  'class0_proba': np.mean(class0_probs) if class0_probs != 'NA' else 'NA',\n",
      "/tmp/ipykernel_454702/165771129.py:147: FutureWarning: elementwise comparison failed; returning scalar instead, but in the future will perform elementwise comparison\n",
      "  'class1_proba': np.mean(class1_probs) if class1_probs != 'NA' else 'NA'\n"
     ]
    },
    {
     "name": "stdout",
     "output_type": "stream",
     "text": [
      "0.9354668542289432\n",
      "0.331511839708561\n",
      "Using Gradient Boosting method...\n"
     ]
    },
    {
     "name": "stderr",
     "output_type": "stream",
     "text": [
      "/tmp/ipykernel_454702/165771129.py:146: FutureWarning: elementwise comparison failed; returning scalar instead, but in the future will perform elementwise comparison\n",
      "  'class0_proba': np.mean(class0_probs) if class0_probs != 'NA' else 'NA',\n",
      "/tmp/ipykernel_454702/165771129.py:147: FutureWarning: elementwise comparison failed; returning scalar instead, but in the future will perform elementwise comparison\n",
      "  'class1_proba': np.mean(class1_probs) if class1_probs != 'NA' else 'NA'\n"
     ]
    },
    {
     "name": "stdout",
     "output_type": "stream",
     "text": [
      "0.9570074475287744\n",
      "0.22560975609756098\n",
      "Using Ada Boost method...\n"
     ]
    },
    {
     "name": "stderr",
     "output_type": "stream",
     "text": [
      "/tmp/ipykernel_454702/165771129.py:146: FutureWarning: elementwise comparison failed; returning scalar instead, but in the future will perform elementwise comparison\n",
      "  'class0_proba': np.mean(class0_probs) if class0_probs != 'NA' else 'NA',\n",
      "/tmp/ipykernel_454702/165771129.py:147: FutureWarning: elementwise comparison failed; returning scalar instead, but in the future will perform elementwise comparison\n",
      "  'class1_proba': np.mean(class1_probs) if class1_probs != 'NA' else 'NA'\n"
     ]
    },
    {
     "name": "stdout",
     "output_type": "stream",
     "text": [
      "0.9536692593845113\n",
      "0.1490683229813665\n",
      "Using Perceptron method...\n",
      "0.9369085173501577\n",
      "0.32075471698113206\n",
      "Using SGD method...\n",
      "0.9176131242112854\n",
      "0.3367198838896952\n",
      "Using SVC method...\n",
      "0.9594158600781117\n",
      "0.31123919308357345\n",
      "Using Linear SVC method...\n"
     ]
    },
    {
     "name": "stderr",
     "output_type": "stream",
     "text": [
      "/home/payam/.virtualenvs/nabi/lib/python3.10/site-packages/sklearn/svm/_classes.py:32: FutureWarning: The default value of `dual` will change from `True` to `'auto'` in 1.5. Set the value of `dual` explicitly to suppress the warning.\n",
      "  warnings.warn(\n",
      "/home/payam/.virtualenvs/nabi/lib/python3.10/site-packages/sklearn/svm/_base.py:1242: ConvergenceWarning: Liblinear failed to converge, increase the number of iterations.\n",
      "  warnings.warn(\n"
     ]
    },
    {
     "name": "stdout",
     "output_type": "stream",
     "text": [
      "0.9175460561616885\n",
      "0.28527131782945736\n",
      "16\n",
      "Using Random Forest method...\n"
     ]
    },
    {
     "name": "stderr",
     "output_type": "stream",
     "text": [
      "/tmp/ipykernel_454702/165771129.py:146: FutureWarning: elementwise comparison failed; returning scalar instead, but in the future will perform elementwise comparison\n",
      "  'class0_proba': np.mean(class0_probs) if class0_probs != 'NA' else 'NA',\n",
      "/tmp/ipykernel_454702/165771129.py:147: FutureWarning: elementwise comparison failed; returning scalar instead, but in the future will perform elementwise comparison\n",
      "  'class1_proba': np.mean(class1_probs) if class1_probs != 'NA' else 'NA'\n"
     ]
    },
    {
     "name": "stdout",
     "output_type": "stream",
     "text": [
      "0.4761363636363636\n",
      "0.794012511170688\n",
      "Using Logistic Regression method...\n"
     ]
    },
    {
     "name": "stderr",
     "output_type": "stream",
     "text": [
      "/home/payam/.virtualenvs/nabi/lib/python3.10/site-packages/sklearn/linear_model/_logistic.py:460: ConvergenceWarning: lbfgs failed to converge (status=1):\n",
      "STOP: TOTAL NO. of ITERATIONS REACHED LIMIT.\n",
      "\n",
      "Increase the number of iterations (max_iter) or scale the data as shown in:\n",
      "    https://scikit-learn.org/stable/modules/preprocessing.html\n",
      "Please also refer to the documentation for alternative solver options:\n",
      "    https://scikit-learn.org/stable/modules/linear_model.html#logistic-regression\n",
      "  n_iter_i = _check_optimize_result(\n",
      "/tmp/ipykernel_454702/165771129.py:146: FutureWarning: elementwise comparison failed; returning scalar instead, but in the future will perform elementwise comparison\n",
      "  'class0_proba': np.mean(class0_probs) if class0_probs != 'NA' else 'NA',\n",
      "/tmp/ipykernel_454702/165771129.py:147: FutureWarning: elementwise comparison failed; returning scalar instead, but in the future will perform elementwise comparison\n",
      "  'class1_proba': np.mean(class1_probs) if class1_probs != 'NA' else 'NA'\n"
     ]
    },
    {
     "name": "stdout",
     "output_type": "stream",
     "text": [
      "0.4905263157894737\n",
      "0.7767527675276753\n",
      "Using Gradient Boosting method...\n"
     ]
    },
    {
     "name": "stderr",
     "output_type": "stream",
     "text": [
      "/tmp/ipykernel_454702/165771129.py:146: FutureWarning: elementwise comparison failed; returning scalar instead, but in the future will perform elementwise comparison\n",
      "  'class0_proba': np.mean(class0_probs) if class0_probs != 'NA' else 'NA',\n",
      "/tmp/ipykernel_454702/165771129.py:147: FutureWarning: elementwise comparison failed; returning scalar instead, but in the future will perform elementwise comparison\n",
      "  'class1_proba': np.mean(class1_probs) if class1_probs != 'NA' else 'NA'\n"
     ]
    },
    {
     "name": "stdout",
     "output_type": "stream",
     "text": [
      "0.38771331058020475\n",
      "0.8119891008174387\n",
      "Using Ada Boost method...\n"
     ]
    },
    {
     "name": "stderr",
     "output_type": "stream",
     "text": [
      "/tmp/ipykernel_454702/165771129.py:146: FutureWarning: elementwise comparison failed; returning scalar instead, but in the future will perform elementwise comparison\n",
      "  'class0_proba': np.mean(class0_probs) if class0_probs != 'NA' else 'NA',\n",
      "/tmp/ipykernel_454702/165771129.py:147: FutureWarning: elementwise comparison failed; returning scalar instead, but in the future will perform elementwise comparison\n",
      "  'class1_proba': np.mean(class1_probs) if class1_probs != 'NA' else 'NA'\n"
     ]
    },
    {
     "name": "stdout",
     "output_type": "stream",
     "text": [
      "0.37364043506078054\n",
      "0.7904986090306013\n",
      "Using Perceptron method...\n",
      "0.47770069375619423\n",
      "0.7501185395922237\n",
      "Using SGD method...\n",
      "0.4050785973397823\n",
      "0.7852466171977301\n",
      "Using SVC method...\n",
      "0.4621164683782092\n",
      "0.8148307824962278\n",
      "Using Linear SVC method...\n"
     ]
    },
    {
     "name": "stderr",
     "output_type": "stream",
     "text": [
      "/home/payam/.virtualenvs/nabi/lib/python3.10/site-packages/sklearn/svm/_classes.py:32: FutureWarning: The default value of `dual` will change from `True` to `'auto'` in 1.5. Set the value of `dual` explicitly to suppress the warning.\n",
      "  warnings.warn(\n",
      "/home/payam/.virtualenvs/nabi/lib/python3.10/site-packages/sklearn/svm/_base.py:1242: ConvergenceWarning: Liblinear failed to converge, increase the number of iterations.\n",
      "  warnings.warn(\n"
     ]
    },
    {
     "name": "stdout",
     "output_type": "stream",
     "text": [
      "0.4430232558139535\n",
      "0.7878653675819309\n",
      "Using Random Forest method...\n"
     ]
    },
    {
     "name": "stderr",
     "output_type": "stream",
     "text": [
      "/tmp/ipykernel_454702/165771129.py:146: FutureWarning: elementwise comparison failed; returning scalar instead, but in the future will perform elementwise comparison\n",
      "  'class0_proba': np.mean(class0_probs) if class0_probs != 'NA' else 'NA',\n",
      "/tmp/ipykernel_454702/165771129.py:147: FutureWarning: elementwise comparison failed; returning scalar instead, but in the future will perform elementwise comparison\n",
      "  'class1_proba': np.mean(class1_probs) if class1_probs != 'NA' else 'NA'\n"
     ]
    },
    {
     "name": "stdout",
     "output_type": "stream",
     "text": [
      "0.49346219442865275\n",
      "0.8009828009828011\n",
      "Using Logistic Regression method...\n"
     ]
    },
    {
     "name": "stderr",
     "output_type": "stream",
     "text": [
      "/tmp/ipykernel_454702/165771129.py:146: FutureWarning: elementwise comparison failed; returning scalar instead, but in the future will perform elementwise comparison\n",
      "  'class0_proba': np.mean(class0_probs) if class0_probs != 'NA' else 'NA',\n",
      "/tmp/ipykernel_454702/165771129.py:147: FutureWarning: elementwise comparison failed; returning scalar instead, but in the future will perform elementwise comparison\n",
      "  'class1_proba': np.mean(class1_probs) if class1_probs != 'NA' else 'NA'\n"
     ]
    },
    {
     "name": "stdout",
     "output_type": "stream",
     "text": [
      "0.48891181021144914\n",
      "0.7693739818478008\n",
      "Using Gradient Boosting method...\n"
     ]
    },
    {
     "name": "stderr",
     "output_type": "stream",
     "text": [
      "/tmp/ipykernel_454702/165771129.py:146: FutureWarning: elementwise comparison failed; returning scalar instead, but in the future will perform elementwise comparison\n",
      "  'class0_proba': np.mean(class0_probs) if class0_probs != 'NA' else 'NA',\n",
      "/tmp/ipykernel_454702/165771129.py:147: FutureWarning: elementwise comparison failed; returning scalar instead, but in the future will perform elementwise comparison\n",
      "  'class1_proba': np.mean(class1_probs) if class1_probs != 'NA' else 'NA'\n"
     ]
    },
    {
     "name": "stdout",
     "output_type": "stream",
     "text": [
      "0.34907597535934287\n",
      "0.8008376963350785\n",
      "Using Ada Boost method...\n"
     ]
    },
    {
     "name": "stderr",
     "output_type": "stream",
     "text": [
      "/tmp/ipykernel_454702/165771129.py:146: FutureWarning: elementwise comparison failed; returning scalar instead, but in the future will perform elementwise comparison\n",
      "  'class0_proba': np.mean(class0_probs) if class0_probs != 'NA' else 'NA',\n",
      "/tmp/ipykernel_454702/165771129.py:147: FutureWarning: elementwise comparison failed; returning scalar instead, but in the future will perform elementwise comparison\n",
      "  'class1_proba': np.mean(class1_probs) if class1_probs != 'NA' else 'NA'\n"
     ]
    },
    {
     "name": "stdout",
     "output_type": "stream",
     "text": [
      "0.354073123797306\n",
      "0.7846910412657687\n",
      "Using Perceptron method...\n",
      "0.5192442267319803\n",
      "0.5932504440497336\n",
      "Using SGD method...\n",
      "0.32593619972260746\n",
      "0.7972465581977473\n",
      "Using SVC method...\n",
      "0.4688279301745636\n",
      "0.8160621761658032\n",
      "Using Linear SVC method...\n"
     ]
    },
    {
     "name": "stderr",
     "output_type": "stream",
     "text": [
      "/home/payam/.virtualenvs/nabi/lib/python3.10/site-packages/sklearn/svm/_classes.py:32: FutureWarning: The default value of `dual` will change from `True` to `'auto'` in 1.5. Set the value of `dual` explicitly to suppress the warning.\n",
      "  warnings.warn(\n",
      "/home/payam/.virtualenvs/nabi/lib/python3.10/site-packages/sklearn/svm/_base.py:1242: ConvergenceWarning: Liblinear failed to converge, increase the number of iterations.\n",
      "  warnings.warn(\n"
     ]
    },
    {
     "name": "stdout",
     "output_type": "stream",
     "text": [
      "0.4676258992805755\n",
      "0.7585081585081584\n",
      "17\n",
      "Using Random Forest method...\n"
     ]
    },
    {
     "name": "stderr",
     "output_type": "stream",
     "text": [
      "/tmp/ipykernel_454702/165771129.py:146: FutureWarning: elementwise comparison failed; returning scalar instead, but in the future will perform elementwise comparison\n",
      "  'class0_proba': np.mean(class0_probs) if class0_probs != 'NA' else 'NA',\n",
      "/tmp/ipykernel_454702/165771129.py:147: FutureWarning: elementwise comparison failed; returning scalar instead, but in the future will perform elementwise comparison\n",
      "  'class1_proba': np.mean(class1_probs) if class1_probs != 'NA' else 'NA'\n"
     ]
    },
    {
     "name": "stdout",
     "output_type": "stream",
     "text": [
      "0.9801963721085039\n",
      "0.47577092511013225\n",
      "Using Logistic Regression method...\n"
     ]
    },
    {
     "name": "stderr",
     "output_type": "stream",
     "text": [
      "/home/payam/.virtualenvs/nabi/lib/python3.10/site-packages/sklearn/linear_model/_logistic.py:460: ConvergenceWarning: lbfgs failed to converge (status=1):\n",
      "STOP: TOTAL NO. of ITERATIONS REACHED LIMIT.\n",
      "\n",
      "Increase the number of iterations (max_iter) or scale the data as shown in:\n",
      "    https://scikit-learn.org/stable/modules/preprocessing.html\n",
      "Please also refer to the documentation for alternative solver options:\n",
      "    https://scikit-learn.org/stable/modules/linear_model.html#logistic-regression\n",
      "  n_iter_i = _check_optimize_result(\n",
      "/tmp/ipykernel_454702/165771129.py:146: FutureWarning: elementwise comparison failed; returning scalar instead, but in the future will perform elementwise comparison\n",
      "  'class0_proba': np.mean(class0_probs) if class0_probs != 'NA' else 'NA',\n",
      "/tmp/ipykernel_454702/165771129.py:147: FutureWarning: elementwise comparison failed; returning scalar instead, but in the future will perform elementwise comparison\n",
      "  'class1_proba': np.mean(class1_probs) if class1_probs != 'NA' else 'NA'\n"
     ]
    },
    {
     "name": "stdout",
     "output_type": "stream",
     "text": [
      "0.9772689004882976\n",
      "0.5454545454545455\n",
      "Using Gradient Boosting method...\n"
     ]
    },
    {
     "name": "stderr",
     "output_type": "stream",
     "text": [
      "/tmp/ipykernel_454702/165771129.py:146: FutureWarning: elementwise comparison failed; returning scalar instead, but in the future will perform elementwise comparison\n",
      "  'class0_proba': np.mean(class0_probs) if class0_probs != 'NA' else 'NA',\n",
      "/tmp/ipykernel_454702/165771129.py:147: FutureWarning: elementwise comparison failed; returning scalar instead, but in the future will perform elementwise comparison\n",
      "  'class1_proba': np.mean(class1_probs) if class1_probs != 'NA' else 'NA'\n"
     ]
    },
    {
     "name": "stdout",
     "output_type": "stream",
     "text": [
      "0.9811886132845015\n",
      "0.5065502183406114\n",
      "Using Ada Boost method...\n"
     ]
    },
    {
     "name": "stderr",
     "output_type": "stream",
     "text": [
      "/tmp/ipykernel_454702/165771129.py:146: FutureWarning: elementwise comparison failed; returning scalar instead, but in the future will perform elementwise comparison\n",
      "  'class0_proba': np.mean(class0_probs) if class0_probs != 'NA' else 'NA',\n",
      "/tmp/ipykernel_454702/165771129.py:147: FutureWarning: elementwise comparison failed; returning scalar instead, but in the future will perform elementwise comparison\n",
      "  'class1_proba': np.mean(class1_probs) if class1_probs != 'NA' else 'NA'\n"
     ]
    },
    {
     "name": "stdout",
     "output_type": "stream",
     "text": [
      "0.9745989304812834\n",
      "0.3968253968253968\n",
      "Using Perceptron method...\n",
      "0.9790514496396849\n",
      "0.5353159851301115\n",
      "Using SGD method...\n",
      "0.9751731126498902\n",
      "0.5333333333333332\n",
      "Using SVC method...\n",
      "0.9812136325852038\n",
      "0.48868778280542985\n",
      "Using Linear SVC method...\n"
     ]
    },
    {
     "name": "stderr",
     "output_type": "stream",
     "text": [
      "/home/payam/.virtualenvs/nabi/lib/python3.10/site-packages/sklearn/svm/_classes.py:32: FutureWarning: The default value of `dual` will change from `True` to `'auto'` in 1.5. Set the value of `dual` explicitly to suppress the warning.\n",
      "  warnings.warn(\n",
      "/home/payam/.virtualenvs/nabi/lib/python3.10/site-packages/sklearn/svm/_base.py:1242: ConvergenceWarning: Liblinear failed to converge, increase the number of iterations.\n",
      "  warnings.warn(\n"
     ]
    },
    {
     "name": "stdout",
     "output_type": "stream",
     "text": [
      "0.9699235344095157\n",
      "0.49572649572649574\n",
      "Using Random Forest method...\n"
     ]
    },
    {
     "name": "stderr",
     "output_type": "stream",
     "text": [
      "/tmp/ipykernel_454702/165771129.py:146: FutureWarning: elementwise comparison failed; returning scalar instead, but in the future will perform elementwise comparison\n",
      "  'class0_proba': np.mean(class0_probs) if class0_probs != 'NA' else 'NA',\n",
      "/tmp/ipykernel_454702/165771129.py:147: FutureWarning: elementwise comparison failed; returning scalar instead, but in the future will perform elementwise comparison\n",
      "  'class1_proba': np.mean(class1_probs) if class1_probs != 'NA' else 'NA'\n"
     ]
    },
    {
     "name": "stdout",
     "output_type": "stream",
     "text": [
      "0.9785536159600997\n",
      "0.416289592760181\n",
      "Using Logistic Regression method...\n"
     ]
    },
    {
     "name": "stderr",
     "output_type": "stream",
     "text": [
      "/home/payam/.virtualenvs/nabi/lib/python3.10/site-packages/sklearn/linear_model/_logistic.py:460: ConvergenceWarning: lbfgs failed to converge (status=1):\n",
      "STOP: TOTAL NO. of ITERATIONS REACHED LIMIT.\n",
      "\n",
      "Increase the number of iterations (max_iter) or scale the data as shown in:\n",
      "    https://scikit-learn.org/stable/modules/preprocessing.html\n",
      "Please also refer to the documentation for alternative solver options:\n",
      "    https://scikit-learn.org/stable/modules/linear_model.html#logistic-regression\n",
      "  n_iter_i = _check_optimize_result(\n",
      "/tmp/ipykernel_454702/165771129.py:146: FutureWarning: elementwise comparison failed; returning scalar instead, but in the future will perform elementwise comparison\n",
      "  'class0_proba': np.mean(class0_probs) if class0_probs != 'NA' else 'NA',\n",
      "/tmp/ipykernel_454702/165771129.py:147: FutureWarning: elementwise comparison failed; returning scalar instead, but in the future will perform elementwise comparison\n",
      "  'class1_proba': np.mean(class1_probs) if class1_probs != 'NA' else 'NA'\n"
     ]
    },
    {
     "name": "stdout",
     "output_type": "stream",
     "text": [
      "0.9770347855454238\n",
      "0.5668789808917197\n",
      "Using Gradient Boosting method...\n"
     ]
    },
    {
     "name": "stderr",
     "output_type": "stream",
     "text": [
      "/tmp/ipykernel_454702/165771129.py:146: FutureWarning: elementwise comparison failed; returning scalar instead, but in the future will perform elementwise comparison\n",
      "  'class0_proba': np.mean(class0_probs) if class0_probs != 'NA' else 'NA',\n",
      "/tmp/ipykernel_454702/165771129.py:147: FutureWarning: elementwise comparison failed; returning scalar instead, but in the future will perform elementwise comparison\n",
      "  'class1_proba': np.mean(class1_probs) if class1_probs != 'NA' else 'NA'\n"
     ]
    },
    {
     "name": "stdout",
     "output_type": "stream",
     "text": [
      "0.9790697674418604\n",
      "0.4166666666666667\n",
      "Using Ada Boost method...\n"
     ]
    },
    {
     "name": "stderr",
     "output_type": "stream",
     "text": [
      "/tmp/ipykernel_454702/165771129.py:146: FutureWarning: elementwise comparison failed; returning scalar instead, but in the future will perform elementwise comparison\n",
      "  'class0_proba': np.mean(class0_probs) if class0_probs != 'NA' else 'NA',\n",
      "/tmp/ipykernel_454702/165771129.py:147: FutureWarning: elementwise comparison failed; returning scalar instead, but in the future will perform elementwise comparison\n",
      "  'class1_proba': np.mean(class1_probs) if class1_probs != 'NA' else 'NA'\n"
     ]
    },
    {
     "name": "stdout",
     "output_type": "stream",
     "text": [
      "0.976162693782297\n",
      "0.3966244725738397\n",
      "Using Perceptron method...\n",
      "0.975206611570248\n",
      "0.521172638436482\n",
      "Using SGD method...\n",
      "0.9676978294308666\n",
      "0.5090909090909091\n",
      "Using SVC method...\n",
      "0.9820657588840915\n",
      "0.4953271028037383\n",
      "Using Linear SVC method...\n"
     ]
    },
    {
     "name": "stderr",
     "output_type": "stream",
     "text": [
      "/home/payam/.virtualenvs/nabi/lib/python3.10/site-packages/sklearn/svm/_classes.py:32: FutureWarning: The default value of `dual` will change from `True` to `'auto'` in 1.5. Set the value of `dual` explicitly to suppress the warning.\n",
      "  warnings.warn(\n",
      "/home/payam/.virtualenvs/nabi/lib/python3.10/site-packages/sklearn/svm/_base.py:1242: ConvergenceWarning: Liblinear failed to converge, increase the number of iterations.\n",
      "  warnings.warn(\n"
     ]
    },
    {
     "name": "stdout",
     "output_type": "stream",
     "text": [
      "0.9709331973482916\n",
      "0.5155807365439093\n",
      "18\n",
      "Using Random Forest method...\n"
     ]
    },
    {
     "name": "stderr",
     "output_type": "stream",
     "text": [
      "/tmp/ipykernel_454702/165771129.py:146: FutureWarning: elementwise comparison failed; returning scalar instead, but in the future will perform elementwise comparison\n",
      "  'class0_proba': np.mean(class0_probs) if class0_probs != 'NA' else 'NA',\n",
      "/tmp/ipykernel_454702/165771129.py:147: FutureWarning: elementwise comparison failed; returning scalar instead, but in the future will perform elementwise comparison\n",
      "  'class1_proba': np.mean(class1_probs) if class1_probs != 'NA' else 'NA'\n"
     ]
    },
    {
     "name": "stdout",
     "output_type": "stream",
     "text": [
      "0.9678402166553826\n",
      "0.4207317073170732\n",
      "Using Logistic Regression method...\n"
     ]
    },
    {
     "name": "stderr",
     "output_type": "stream",
     "text": [
      "/home/payam/.virtualenvs/nabi/lib/python3.10/site-packages/sklearn/linear_model/_logistic.py:460: ConvergenceWarning: lbfgs failed to converge (status=1):\n",
      "STOP: TOTAL NO. of ITERATIONS REACHED LIMIT.\n",
      "\n",
      "Increase the number of iterations (max_iter) or scale the data as shown in:\n",
      "    https://scikit-learn.org/stable/modules/preprocessing.html\n",
      "Please also refer to the documentation for alternative solver options:\n",
      "    https://scikit-learn.org/stable/modules/linear_model.html#logistic-regression\n",
      "  n_iter_i = _check_optimize_result(\n",
      "/tmp/ipykernel_454702/165771129.py:146: FutureWarning: elementwise comparison failed; returning scalar instead, but in the future will perform elementwise comparison\n",
      "  'class0_proba': np.mean(class0_probs) if class0_probs != 'NA' else 'NA',\n",
      "/tmp/ipykernel_454702/165771129.py:147: FutureWarning: elementwise comparison failed; returning scalar instead, but in the future will perform elementwise comparison\n",
      "  'class1_proba': np.mean(class1_probs) if class1_probs != 'NA' else 'NA'\n"
     ]
    },
    {
     "name": "stdout",
     "output_type": "stream",
     "text": [
      "0.9527613754775964\n",
      "0.4309623430962343\n",
      "Using Gradient Boosting method...\n"
     ]
    },
    {
     "name": "stderr",
     "output_type": "stream",
     "text": [
      "/tmp/ipykernel_454702/165771129.py:146: FutureWarning: elementwise comparison failed; returning scalar instead, but in the future will perform elementwise comparison\n",
      "  'class0_proba': np.mean(class0_probs) if class0_probs != 'NA' else 'NA',\n",
      "/tmp/ipykernel_454702/165771129.py:147: FutureWarning: elementwise comparison failed; returning scalar instead, but in the future will perform elementwise comparison\n",
      "  'class1_proba': np.mean(class1_probs) if class1_probs != 'NA' else 'NA'\n"
     ]
    },
    {
     "name": "stdout",
     "output_type": "stream",
     "text": [
      "0.9684601113172542\n",
      "0.39087947882736157\n",
      "Using Ada Boost method...\n"
     ]
    },
    {
     "name": "stderr",
     "output_type": "stream",
     "text": [
      "/tmp/ipykernel_454702/165771129.py:146: FutureWarning: elementwise comparison failed; returning scalar instead, but in the future will perform elementwise comparison\n",
      "  'class0_proba': np.mean(class0_probs) if class0_probs != 'NA' else 'NA',\n",
      "/tmp/ipykernel_454702/165771129.py:147: FutureWarning: elementwise comparison failed; returning scalar instead, but in the future will perform elementwise comparison\n",
      "  'class1_proba': np.mean(class1_probs) if class1_probs != 'NA' else 'NA'\n"
     ]
    },
    {
     "name": "stdout",
     "output_type": "stream",
     "text": [
      "0.9636271358484181\n",
      "0.3384615384615385\n",
      "Using Perceptron method...\n",
      "0.9587203302373581\n",
      "0.43127962085308064\n",
      "Using SGD method...\n",
      "0.9573557115944511\n",
      "0.3727959697732997\n",
      "Using SVC method...\n",
      "0.9708312257629406\n",
      "0.4327868852459017\n",
      "Using Linear SVC method...\n"
     ]
    },
    {
     "name": "stderr",
     "output_type": "stream",
     "text": [
      "/home/payam/.virtualenvs/nabi/lib/python3.10/site-packages/sklearn/svm/_classes.py:32: FutureWarning: The default value of `dual` will change from `True` to `'auto'` in 1.5. Set the value of `dual` explicitly to suppress the warning.\n",
      "  warnings.warn(\n",
      "/home/payam/.virtualenvs/nabi/lib/python3.10/site-packages/sklearn/svm/_base.py:1242: ConvergenceWarning: Liblinear failed to converge, increase the number of iterations.\n",
      "  warnings.warn(\n"
     ]
    },
    {
     "name": "stdout",
     "output_type": "stream",
     "text": [
      "0.9403299403299402\n",
      "0.3680297397769517\n",
      "Using Random Forest method...\n"
     ]
    },
    {
     "name": "stderr",
     "output_type": "stream",
     "text": [
      "/tmp/ipykernel_454702/165771129.py:146: FutureWarning: elementwise comparison failed; returning scalar instead, but in the future will perform elementwise comparison\n",
      "  'class0_proba': np.mean(class0_probs) if class0_probs != 'NA' else 'NA',\n",
      "/tmp/ipykernel_454702/165771129.py:147: FutureWarning: elementwise comparison failed; returning scalar instead, but in the future will perform elementwise comparison\n",
      "  'class1_proba': np.mean(class1_probs) if class1_probs != 'NA' else 'NA'\n"
     ]
    },
    {
     "name": "stdout",
     "output_type": "stream",
     "text": [
      "0.9666497375994583\n",
      "0.40121580547112456\n",
      "Using Logistic Regression method...\n"
     ]
    },
    {
     "name": "stderr",
     "output_type": "stream",
     "text": [
      "/home/payam/.virtualenvs/nabi/lib/python3.10/site-packages/sklearn/linear_model/_logistic.py:460: ConvergenceWarning: lbfgs failed to converge (status=1):\n",
      "STOP: TOTAL NO. of ITERATIONS REACHED LIMIT.\n",
      "\n",
      "Increase the number of iterations (max_iter) or scale the data as shown in:\n",
      "    https://scikit-learn.org/stable/modules/preprocessing.html\n",
      "Please also refer to the documentation for alternative solver options:\n",
      "    https://scikit-learn.org/stable/modules/linear_model.html#logistic-regression\n",
      "  n_iter_i = _check_optimize_result(\n",
      "/tmp/ipykernel_454702/165771129.py:146: FutureWarning: elementwise comparison failed; returning scalar instead, but in the future will perform elementwise comparison\n",
      "  'class0_proba': np.mean(class0_probs) if class0_probs != 'NA' else 'NA',\n",
      "/tmp/ipykernel_454702/165771129.py:147: FutureWarning: elementwise comparison failed; returning scalar instead, but in the future will perform elementwise comparison\n",
      "  'class1_proba': np.mean(class1_probs) if class1_probs != 'NA' else 'NA'\n"
     ]
    },
    {
     "name": "stdout",
     "output_type": "stream",
     "text": [
      "0.9537452537107354\n",
      "0.39366515837104066\n",
      "Using Gradient Boosting method...\n"
     ]
    },
    {
     "name": "stderr",
     "output_type": "stream",
     "text": [
      "/tmp/ipykernel_454702/165771129.py:146: FutureWarning: elementwise comparison failed; returning scalar instead, but in the future will perform elementwise comparison\n",
      "  'class0_proba': np.mean(class0_probs) if class0_probs != 'NA' else 'NA',\n",
      "/tmp/ipykernel_454702/165771129.py:147: FutureWarning: elementwise comparison failed; returning scalar instead, but in the future will perform elementwise comparison\n",
      "  'class1_proba': np.mean(class1_probs) if class1_probs != 'NA' else 'NA'\n"
     ]
    },
    {
     "name": "stdout",
     "output_type": "stream",
     "text": [
      "0.9691867317730257\n",
      "0.38383838383838387\n",
      "Using Ada Boost method...\n"
     ]
    },
    {
     "name": "stderr",
     "output_type": "stream",
     "text": [
      "/tmp/ipykernel_454702/165771129.py:146: FutureWarning: elementwise comparison failed; returning scalar instead, but in the future will perform elementwise comparison\n",
      "  'class0_proba': np.mean(class0_probs) if class0_probs != 'NA' else 'NA',\n",
      "/tmp/ipykernel_454702/165771129.py:147: FutureWarning: elementwise comparison failed; returning scalar instead, but in the future will perform elementwise comparison\n",
      "  'class1_proba': np.mean(class1_probs) if class1_probs != 'NA' else 'NA'\n"
     ]
    },
    {
     "name": "stdout",
     "output_type": "stream",
     "text": [
      "0.9647851727042965\n",
      "0.30564784053156147\n",
      "Using Perceptron method...\n",
      "0.9471849398640405\n",
      "0.39278557114228463\n",
      "Using SGD method...\n",
      "0.9578189300411523\n",
      "0.39108910891089105\n",
      "Using SVC method...\n",
      "0.9691243462122491\n",
      "0.4077669902912621\n",
      "Using Linear SVC method...\n"
     ]
    },
    {
     "name": "stderr",
     "output_type": "stream",
     "text": [
      "/home/payam/.virtualenvs/nabi/lib/python3.10/site-packages/sklearn/svm/_classes.py:32: FutureWarning: The default value of `dual` will change from `True` to `'auto'` in 1.5. Set the value of `dual` explicitly to suppress the warning.\n",
      "  warnings.warn(\n",
      "/home/payam/.virtualenvs/nabi/lib/python3.10/site-packages/sklearn/svm/_base.py:1242: ConvergenceWarning: Liblinear failed to converge, increase the number of iterations.\n",
      "  warnings.warn(\n"
     ]
    },
    {
     "name": "stdout",
     "output_type": "stream",
     "text": [
      "0.9452389257063133\n",
      "0.3745019920318725\n",
      "19\n",
      "Using Random Forest method...\n"
     ]
    },
    {
     "name": "stderr",
     "output_type": "stream",
     "text": [
      "/tmp/ipykernel_454702/165771129.py:146: FutureWarning: elementwise comparison failed; returning scalar instead, but in the future will perform elementwise comparison\n",
      "  'class0_proba': np.mean(class0_probs) if class0_probs != 'NA' else 'NA',\n",
      "/tmp/ipykernel_454702/165771129.py:147: FutureWarning: elementwise comparison failed; returning scalar instead, but in the future will perform elementwise comparison\n",
      "  'class1_proba': np.mean(class1_probs) if class1_probs != 'NA' else 'NA'\n"
     ]
    },
    {
     "name": "stdout",
     "output_type": "stream",
     "text": [
      "0.8081580624601657\n",
      "0.4094179202092871\n",
      "Using Logistic Regression method...\n"
     ]
    },
    {
     "name": "stderr",
     "output_type": "stream",
     "text": [
      "/home/payam/.virtualenvs/nabi/lib/python3.10/site-packages/sklearn/linear_model/_logistic.py:460: ConvergenceWarning: lbfgs failed to converge (status=1):\n",
      "STOP: TOTAL NO. of ITERATIONS REACHED LIMIT.\n",
      "\n",
      "Increase the number of iterations (max_iter) or scale the data as shown in:\n",
      "    https://scikit-learn.org/stable/modules/preprocessing.html\n",
      "Please also refer to the documentation for alternative solver options:\n",
      "    https://scikit-learn.org/stable/modules/linear_model.html#logistic-regression\n",
      "  n_iter_i = _check_optimize_result(\n",
      "/tmp/ipykernel_454702/165771129.py:146: FutureWarning: elementwise comparison failed; returning scalar instead, but in the future will perform elementwise comparison\n",
      "  'class0_proba': np.mean(class0_probs) if class0_probs != 'NA' else 'NA',\n",
      "/tmp/ipykernel_454702/165771129.py:147: FutureWarning: elementwise comparison failed; returning scalar instead, but in the future will perform elementwise comparison\n",
      "  'class1_proba': np.mean(class1_probs) if class1_probs != 'NA' else 'NA'\n"
     ]
    },
    {
     "name": "stdout",
     "output_type": "stream",
     "text": [
      "0.7936714347637625\n",
      "0.4130702836004932\n",
      "Using Gradient Boosting method...\n"
     ]
    },
    {
     "name": "stderr",
     "output_type": "stream",
     "text": [
      "/tmp/ipykernel_454702/165771129.py:146: FutureWarning: elementwise comparison failed; returning scalar instead, but in the future will perform elementwise comparison\n",
      "  'class0_proba': np.mean(class0_probs) if class0_probs != 'NA' else 'NA',\n",
      "/tmp/ipykernel_454702/165771129.py:147: FutureWarning: elementwise comparison failed; returning scalar instead, but in the future will perform elementwise comparison\n",
      "  'class1_proba': np.mean(class1_probs) if class1_probs != 'NA' else 'NA'\n"
     ]
    },
    {
     "name": "stdout",
     "output_type": "stream",
     "text": [
      "0.8318725099601592\n",
      "0.3059210526315789\n",
      "Using Ada Boost method...\n"
     ]
    },
    {
     "name": "stderr",
     "output_type": "stream",
     "text": [
      "/tmp/ipykernel_454702/165771129.py:146: FutureWarning: elementwise comparison failed; returning scalar instead, but in the future will perform elementwise comparison\n",
      "  'class0_proba': np.mean(class0_probs) if class0_probs != 'NA' else 'NA',\n",
      "/tmp/ipykernel_454702/165771129.py:147: FutureWarning: elementwise comparison failed; returning scalar instead, but in the future will perform elementwise comparison\n",
      "  'class1_proba': np.mean(class1_probs) if class1_probs != 'NA' else 'NA'\n"
     ]
    },
    {
     "name": "stdout",
     "output_type": "stream",
     "text": [
      "0.8158961881589619\n",
      "0.30368098159509205\n",
      "Using Perceptron method...\n",
      "0.792887029288703\n",
      "0.32005494505494503\n",
      "Using SGD method...\n",
      "0.8186084472556622\n",
      "0.3340823970037453\n",
      "Using SVC method...\n",
      "0.8364881192106324\n",
      "0.3606299212598425\n",
      "Using Linear SVC method...\n"
     ]
    },
    {
     "name": "stderr",
     "output_type": "stream",
     "text": [
      "/home/payam/.virtualenvs/nabi/lib/python3.10/site-packages/sklearn/svm/_classes.py:32: FutureWarning: The default value of `dual` will change from `True` to `'auto'` in 1.5. Set the value of `dual` explicitly to suppress the warning.\n",
      "  warnings.warn(\n",
      "/home/payam/.virtualenvs/nabi/lib/python3.10/site-packages/sklearn/svm/_base.py:1242: ConvergenceWarning: Liblinear failed to converge, increase the number of iterations.\n",
      "  warnings.warn(\n"
     ]
    },
    {
     "name": "stdout",
     "output_type": "stream",
     "text": [
      "0.7651157563497416\n",
      "0.41522104085058764\n",
      "Using Random Forest method...\n"
     ]
    },
    {
     "name": "stderr",
     "output_type": "stream",
     "text": [
      "/tmp/ipykernel_454702/165771129.py:146: FutureWarning: elementwise comparison failed; returning scalar instead, but in the future will perform elementwise comparison\n",
      "  'class0_proba': np.mean(class0_probs) if class0_probs != 'NA' else 'NA',\n",
      "/tmp/ipykernel_454702/165771129.py:147: FutureWarning: elementwise comparison failed; returning scalar instead, but in the future will perform elementwise comparison\n",
      "  'class1_proba': np.mean(class1_probs) if class1_probs != 'NA' else 'NA'\n"
     ]
    },
    {
     "name": "stdout",
     "output_type": "stream",
     "text": [
      "0.7981038569273863\n",
      "0.4125391849529781\n",
      "Using Logistic Regression method...\n"
     ]
    },
    {
     "name": "stderr",
     "output_type": "stream",
     "text": [
      "/tmp/ipykernel_454702/165771129.py:146: FutureWarning: elementwise comparison failed; returning scalar instead, but in the future will perform elementwise comparison\n",
      "  'class0_proba': np.mean(class0_probs) if class0_probs != 'NA' else 'NA',\n",
      "/tmp/ipykernel_454702/165771129.py:147: FutureWarning: elementwise comparison failed; returning scalar instead, but in the future will perform elementwise comparison\n",
      "  'class1_proba': np.mean(class1_probs) if class1_probs != 'NA' else 'NA'\n"
     ]
    },
    {
     "name": "stdout",
     "output_type": "stream",
     "text": [
      "0.7882507672073651\n",
      "0.4229390681003584\n",
      "Using Gradient Boosting method...\n"
     ]
    },
    {
     "name": "stderr",
     "output_type": "stream",
     "text": [
      "/tmp/ipykernel_454702/165771129.py:146: FutureWarning: elementwise comparison failed; returning scalar instead, but in the future will perform elementwise comparison\n",
      "  'class0_proba': np.mean(class0_probs) if class0_probs != 'NA' else 'NA',\n",
      "/tmp/ipykernel_454702/165771129.py:147: FutureWarning: elementwise comparison failed; returning scalar instead, but in the future will perform elementwise comparison\n",
      "  'class1_proba': np.mean(class1_probs) if class1_probs != 'NA' else 'NA'\n"
     ]
    },
    {
     "name": "stdout",
     "output_type": "stream",
     "text": [
      "0.829375374176811\n",
      "0.3020408163265306\n",
      "Using Ada Boost method...\n"
     ]
    },
    {
     "name": "stderr",
     "output_type": "stream",
     "text": [
      "/tmp/ipykernel_454702/165771129.py:146: FutureWarning: elementwise comparison failed; returning scalar instead, but in the future will perform elementwise comparison\n",
      "  'class0_proba': np.mean(class0_probs) if class0_probs != 'NA' else 'NA',\n",
      "/tmp/ipykernel_454702/165771129.py:147: FutureWarning: elementwise comparison failed; returning scalar instead, but in the future will perform elementwise comparison\n",
      "  'class1_proba': np.mean(class1_probs) if class1_probs != 'NA' else 'NA'\n"
     ]
    },
    {
     "name": "stdout",
     "output_type": "stream",
     "text": [
      "0.8237424547283702\n",
      "0.30805687203791465\n",
      "Using Perceptron method...\n",
      "0.7135580887703129\n",
      "0.44107903454803593\n",
      "Using SGD method...\n",
      "0.7982905982905983\n",
      "0.39331619537275064\n",
      "Using SVC method...\n",
      "0.83373786407767\n",
      "0.36377708978328177\n",
      "Using Linear SVC method...\n"
     ]
    },
    {
     "name": "stderr",
     "output_type": "stream",
     "text": [
      "/home/payam/.virtualenvs/nabi/lib/python3.10/site-packages/sklearn/svm/_classes.py:32: FutureWarning: The default value of `dual` will change from `True` to `'auto'` in 1.5. Set the value of `dual` explicitly to suppress the warning.\n",
      "  warnings.warn(\n",
      "/home/payam/.virtualenvs/nabi/lib/python3.10/site-packages/sklearn/svm/_base.py:1242: ConvergenceWarning: Liblinear failed to converge, increase the number of iterations.\n",
      "  warnings.warn(\n"
     ]
    },
    {
     "name": "stdout",
     "output_type": "stream",
     "text": [
      "0.7530438777854354\n",
      "0.4291024960169942\n",
      "20\n",
      "Using Random Forest method...\n"
     ]
    },
    {
     "name": "stderr",
     "output_type": "stream",
     "text": [
      "/tmp/ipykernel_454702/165771129.py:146: FutureWarning: elementwise comparison failed; returning scalar instead, but in the future will perform elementwise comparison\n",
      "  'class0_proba': np.mean(class0_probs) if class0_probs != 'NA' else 'NA',\n",
      "/tmp/ipykernel_454702/165771129.py:147: FutureWarning: elementwise comparison failed; returning scalar instead, but in the future will perform elementwise comparison\n",
      "  'class1_proba': np.mean(class1_probs) if class1_probs != 'NA' else 'NA'\n"
     ]
    },
    {
     "name": "stdout",
     "output_type": "stream",
     "text": [
      "0.9160826594788859\n",
      "0.30402384500745155\n",
      "Using Logistic Regression method...\n"
     ]
    },
    {
     "name": "stderr",
     "output_type": "stream",
     "text": [
      "/home/payam/.virtualenvs/nabi/lib/python3.10/site-packages/sklearn/linear_model/_logistic.py:460: ConvergenceWarning: lbfgs failed to converge (status=1):\n",
      "STOP: TOTAL NO. of ITERATIONS REACHED LIMIT.\n",
      "\n",
      "Increase the number of iterations (max_iter) or scale the data as shown in:\n",
      "    https://scikit-learn.org/stable/modules/preprocessing.html\n",
      "Please also refer to the documentation for alternative solver options:\n",
      "    https://scikit-learn.org/stable/modules/linear_model.html#logistic-regression\n",
      "  n_iter_i = _check_optimize_result(\n",
      "/tmp/ipykernel_454702/165771129.py:146: FutureWarning: elementwise comparison failed; returning scalar instead, but in the future will perform elementwise comparison\n",
      "  'class0_proba': np.mean(class0_probs) if class0_probs != 'NA' else 'NA',\n",
      "/tmp/ipykernel_454702/165771129.py:147: FutureWarning: elementwise comparison failed; returning scalar instead, but in the future will perform elementwise comparison\n",
      "  'class1_proba': np.mean(class1_probs) if class1_probs != 'NA' else 'NA'\n"
     ]
    },
    {
     "name": "stdout",
     "output_type": "stream",
     "text": [
      "0.9076555902331559\n",
      "0.36248415716096327\n",
      "Using Gradient Boosting method...\n"
     ]
    },
    {
     "name": "stderr",
     "output_type": "stream",
     "text": [
      "/tmp/ipykernel_454702/165771129.py:146: FutureWarning: elementwise comparison failed; returning scalar instead, but in the future will perform elementwise comparison\n",
      "  'class0_proba': np.mean(class0_probs) if class0_probs != 'NA' else 'NA',\n",
      "/tmp/ipykernel_454702/165771129.py:147: FutureWarning: elementwise comparison failed; returning scalar instead, but in the future will perform elementwise comparison\n",
      "  'class1_proba': np.mean(class1_probs) if class1_probs != 'NA' else 'NA'\n"
     ]
    },
    {
     "name": "stdout",
     "output_type": "stream",
     "text": [
      "0.9276476756378889\n",
      "0.19455252918287938\n",
      "Using Ada Boost method...\n"
     ]
    },
    {
     "name": "stderr",
     "output_type": "stream",
     "text": [
      "/tmp/ipykernel_454702/165771129.py:146: FutureWarning: elementwise comparison failed; returning scalar instead, but in the future will perform elementwise comparison\n",
      "  'class0_proba': np.mean(class0_probs) if class0_probs != 'NA' else 'NA',\n",
      "/tmp/ipykernel_454702/165771129.py:147: FutureWarning: elementwise comparison failed; returning scalar instead, but in the future will perform elementwise comparison\n",
      "  'class1_proba': np.mean(class1_probs) if class1_probs != 'NA' else 'NA'\n"
     ]
    },
    {
     "name": "stdout",
     "output_type": "stream",
     "text": [
      "0.922618003158449\n",
      "0.1787709497206704\n",
      "Using Perceptron method...\n",
      "0.9182412149037612\n",
      "0.19197207678883071\n",
      "Using SGD method...\n",
      "0.8933159560603239\n",
      "0.3375722543352601\n",
      "Using SVC method...\n",
      "0.932467988072268\n",
      "0.2803738317757009\n",
      "Using Linear SVC method...\n"
     ]
    },
    {
     "name": "stderr",
     "output_type": "stream",
     "text": [
      "/home/payam/.virtualenvs/nabi/lib/python3.10/site-packages/sklearn/svm/_classes.py:32: FutureWarning: The default value of `dual` will change from `True` to `'auto'` in 1.5. Set the value of `dual` explicitly to suppress the warning.\n",
      "  warnings.warn(\n",
      "/home/payam/.virtualenvs/nabi/lib/python3.10/site-packages/sklearn/svm/_base.py:1242: ConvergenceWarning: Liblinear failed to converge, increase the number of iterations.\n",
      "  warnings.warn(\n"
     ]
    },
    {
     "name": "stdout",
     "output_type": "stream",
     "text": [
      "0.8980963045912654\n",
      "0.378132118451025\n",
      "Using Random Forest method...\n"
     ]
    },
    {
     "name": "stderr",
     "output_type": "stream",
     "text": [
      "/tmp/ipykernel_454702/165771129.py:146: FutureWarning: elementwise comparison failed; returning scalar instead, but in the future will perform elementwise comparison\n",
      "  'class0_proba': np.mean(class0_probs) if class0_probs != 'NA' else 'NA',\n",
      "/tmp/ipykernel_454702/165771129.py:147: FutureWarning: elementwise comparison failed; returning scalar instead, but in the future will perform elementwise comparison\n",
      "  'class1_proba': np.mean(class1_probs) if class1_probs != 'NA' else 'NA'\n"
     ]
    },
    {
     "name": "stdout",
     "output_type": "stream",
     "text": [
      "0.9194739686542965\n",
      "0.34744525547445254\n",
      "Using Logistic Regression method...\n"
     ]
    },
    {
     "name": "stderr",
     "output_type": "stream",
     "text": [
      "/home/payam/.virtualenvs/nabi/lib/python3.10/site-packages/sklearn/linear_model/_logistic.py:460: ConvergenceWarning: lbfgs failed to converge (status=1):\n",
      "STOP: TOTAL NO. of ITERATIONS REACHED LIMIT.\n",
      "\n",
      "Increase the number of iterations (max_iter) or scale the data as shown in:\n",
      "    https://scikit-learn.org/stable/modules/preprocessing.html\n",
      "Please also refer to the documentation for alternative solver options:\n",
      "    https://scikit-learn.org/stable/modules/linear_model.html#logistic-regression\n",
      "  n_iter_i = _check_optimize_result(\n",
      "/tmp/ipykernel_454702/165771129.py:146: FutureWarning: elementwise comparison failed; returning scalar instead, but in the future will perform elementwise comparison\n",
      "  'class0_proba': np.mean(class0_probs) if class0_probs != 'NA' else 'NA',\n",
      "/tmp/ipykernel_454702/165771129.py:147: FutureWarning: elementwise comparison failed; returning scalar instead, but in the future will perform elementwise comparison\n",
      "  'class1_proba': np.mean(class1_probs) if class1_probs != 'NA' else 'NA'\n"
     ]
    },
    {
     "name": "stdout",
     "output_type": "stream",
     "text": [
      "0.8999815804015472\n",
      "0.3271375464684015\n",
      "Using Gradient Boosting method...\n"
     ]
    },
    {
     "name": "stderr",
     "output_type": "stream",
     "text": [
      "/tmp/ipykernel_454702/165771129.py:146: FutureWarning: elementwise comparison failed; returning scalar instead, but in the future will perform elementwise comparison\n",
      "  'class0_proba': np.mean(class0_probs) if class0_probs != 'NA' else 'NA',\n",
      "/tmp/ipykernel_454702/165771129.py:147: FutureWarning: elementwise comparison failed; returning scalar instead, but in the future will perform elementwise comparison\n",
      "  'class1_proba': np.mean(class1_probs) if class1_probs != 'NA' else 'NA'\n"
     ]
    },
    {
     "name": "stdout",
     "output_type": "stream",
     "text": [
      "0.9279972037749039\n",
      "0.19844357976653693\n",
      "Using Ada Boost method...\n"
     ]
    },
    {
     "name": "stderr",
     "output_type": "stream",
     "text": [
      "/tmp/ipykernel_454702/165771129.py:146: FutureWarning: elementwise comparison failed; returning scalar instead, but in the future will perform elementwise comparison\n",
      "  'class0_proba': np.mean(class0_probs) if class0_probs != 'NA' else 'NA',\n",
      "/tmp/ipykernel_454702/165771129.py:147: FutureWarning: elementwise comparison failed; returning scalar instead, but in the future will perform elementwise comparison\n",
      "  'class1_proba': np.mean(class1_probs) if class1_probs != 'NA' else 'NA'\n"
     ]
    },
    {
     "name": "stdout",
     "output_type": "stream",
     "text": [
      "0.9205402560954218\n",
      "0.15327102803738316\n",
      "Using Perceptron method...\n",
      "0.9149812063719348\n",
      "0.26810477657935283\n",
      "Using SGD method...\n",
      "0.912621359223301\n",
      "0.2789317507418398\n",
      "Using SVC method...\n",
      "0.9305750350631137\n",
      "0.2556390977443609\n",
      "Using Linear SVC method...\n"
     ]
    },
    {
     "name": "stderr",
     "output_type": "stream",
     "text": [
      "/home/payam/.virtualenvs/nabi/lib/python3.10/site-packages/sklearn/svm/_classes.py:32: FutureWarning: The default value of `dual` will change from `True` to `'auto'` in 1.5. Set the value of `dual` explicitly to suppress the warning.\n",
      "  warnings.warn(\n",
      "/home/payam/.virtualenvs/nabi/lib/python3.10/site-packages/sklearn/svm/_base.py:1242: ConvergenceWarning: Liblinear failed to converge, increase the number of iterations.\n",
      "  warnings.warn(\n"
     ]
    },
    {
     "name": "stdout",
     "output_type": "stream",
     "text": [
      "0.8560798903465833\n",
      "0.3489813994685562\n",
      "21\n",
      "Using Random Forest method...\n"
     ]
    },
    {
     "name": "stderr",
     "output_type": "stream",
     "text": [
      "/tmp/ipykernel_454702/165771129.py:146: FutureWarning: elementwise comparison failed; returning scalar instead, but in the future will perform elementwise comparison\n",
      "  'class0_proba': np.mean(class0_probs) if class0_probs != 'NA' else 'NA',\n",
      "/tmp/ipykernel_454702/165771129.py:147: FutureWarning: elementwise comparison failed; returning scalar instead, but in the future will perform elementwise comparison\n",
      "  'class1_proba': np.mean(class1_probs) if class1_probs != 'NA' else 'NA'\n"
     ]
    },
    {
     "name": "stdout",
     "output_type": "stream",
     "text": [
      "0.8908378428811345\n",
      "0.3329532497149373\n",
      "Using Logistic Regression method...\n"
     ]
    },
    {
     "name": "stderr",
     "output_type": "stream",
     "text": [
      "/home/payam/.virtualenvs/nabi/lib/python3.10/site-packages/sklearn/linear_model/_logistic.py:460: ConvergenceWarning: lbfgs failed to converge (status=1):\n",
      "STOP: TOTAL NO. of ITERATIONS REACHED LIMIT.\n",
      "\n",
      "Increase the number of iterations (max_iter) or scale the data as shown in:\n",
      "    https://scikit-learn.org/stable/modules/preprocessing.html\n",
      "Please also refer to the documentation for alternative solver options:\n",
      "    https://scikit-learn.org/stable/modules/linear_model.html#logistic-regression\n",
      "  n_iter_i = _check_optimize_result(\n",
      "/tmp/ipykernel_454702/165771129.py:146: FutureWarning: elementwise comparison failed; returning scalar instead, but in the future will perform elementwise comparison\n",
      "  'class0_proba': np.mean(class0_probs) if class0_probs != 'NA' else 'NA',\n",
      "/tmp/ipykernel_454702/165771129.py:147: FutureWarning: elementwise comparison failed; returning scalar instead, but in the future will perform elementwise comparison\n",
      "  'class1_proba': np.mean(class1_probs) if class1_probs != 'NA' else 'NA'\n"
     ]
    },
    {
     "name": "stdout",
     "output_type": "stream",
     "text": [
      "0.8773728170083522\n",
      "0.33264462809917356\n",
      "Using Gradient Boosting method...\n"
     ]
    },
    {
     "name": "stderr",
     "output_type": "stream",
     "text": [
      "/tmp/ipykernel_454702/165771129.py:146: FutureWarning: elementwise comparison failed; returning scalar instead, but in the future will perform elementwise comparison\n",
      "  'class0_proba': np.mean(class0_probs) if class0_probs != 'NA' else 'NA',\n",
      "/tmp/ipykernel_454702/165771129.py:147: FutureWarning: elementwise comparison failed; returning scalar instead, but in the future will perform elementwise comparison\n",
      "  'class1_proba': np.mean(class1_probs) if class1_probs != 'NA' else 'NA'\n"
     ]
    },
    {
     "name": "stdout",
     "output_type": "stream",
     "text": [
      "0.906115107913669\n",
      "0.22781065088757396\n",
      "Using Ada Boost method...\n"
     ]
    },
    {
     "name": "stderr",
     "output_type": "stream",
     "text": [
      "/tmp/ipykernel_454702/165771129.py:146: FutureWarning: elementwise comparison failed; returning scalar instead, but in the future will perform elementwise comparison\n",
      "  'class0_proba': np.mean(class0_probs) if class0_probs != 'NA' else 'NA',\n",
      "/tmp/ipykernel_454702/165771129.py:147: FutureWarning: elementwise comparison failed; returning scalar instead, but in the future will perform elementwise comparison\n",
      "  'class1_proba': np.mean(class1_probs) if class1_probs != 'NA' else 'NA'\n"
     ]
    },
    {
     "name": "stdout",
     "output_type": "stream",
     "text": [
      "0.8998737145949848\n",
      "0.19913419913419916\n",
      "Using Perceptron method...\n",
      "0.6801249699591445\n",
      "0.35855421686746985\n",
      "Using SGD method...\n",
      "0.855855855855856\n",
      "0.3486725663716814\n",
      "Using SVC method...\n",
      "0.9090909090909091\n",
      "0.28449502133712656\n",
      "Using Linear SVC method...\n"
     ]
    },
    {
     "name": "stderr",
     "output_type": "stream",
     "text": [
      "/home/payam/.virtualenvs/nabi/lib/python3.10/site-packages/sklearn/svm/_classes.py:32: FutureWarning: The default value of `dual` will change from `True` to `'auto'` in 1.5. Set the value of `dual` explicitly to suppress the warning.\n",
      "  warnings.warn(\n",
      "/home/payam/.virtualenvs/nabi/lib/python3.10/site-packages/sklearn/svm/_base.py:1242: ConvergenceWarning: Liblinear failed to converge, increase the number of iterations.\n",
      "  warnings.warn(\n"
     ]
    },
    {
     "name": "stdout",
     "output_type": "stream",
     "text": [
      "0.8970831040176115\n",
      "0.28535031847133757\n",
      "Using Random Forest method...\n"
     ]
    },
    {
     "name": "stderr",
     "output_type": "stream",
     "text": [
      "/tmp/ipykernel_454702/165771129.py:146: FutureWarning: elementwise comparison failed; returning scalar instead, but in the future will perform elementwise comparison\n",
      "  'class0_proba': np.mean(class0_probs) if class0_probs != 'NA' else 'NA',\n",
      "/tmp/ipykernel_454702/165771129.py:147: FutureWarning: elementwise comparison failed; returning scalar instead, but in the future will perform elementwise comparison\n",
      "  'class1_proba': np.mean(class1_probs) if class1_probs != 'NA' else 'NA'\n"
     ]
    },
    {
     "name": "stdout",
     "output_type": "stream",
     "text": [
      "0.8852704473142429\n",
      "0.3135498320268757\n",
      "Using Logistic Regression method...\n"
     ]
    },
    {
     "name": "stderr",
     "output_type": "stream",
     "text": [
      "/tmp/ipykernel_454702/165771129.py:146: FutureWarning: elementwise comparison failed; returning scalar instead, but in the future will perform elementwise comparison\n",
      "  'class0_proba': np.mean(class0_probs) if class0_probs != 'NA' else 'NA',\n",
      "/tmp/ipykernel_454702/165771129.py:147: FutureWarning: elementwise comparison failed; returning scalar instead, but in the future will perform elementwise comparison\n",
      "  'class1_proba': np.mean(class1_probs) if class1_probs != 'NA' else 'NA'\n"
     ]
    },
    {
     "name": "stdout",
     "output_type": "stream",
     "text": [
      "0.8725190839694658\n",
      "0.32931726907630526\n",
      "Using Gradient Boosting method...\n"
     ]
    },
    {
     "name": "stderr",
     "output_type": "stream",
     "text": [
      "/tmp/ipykernel_454702/165771129.py:146: FutureWarning: elementwise comparison failed; returning scalar instead, but in the future will perform elementwise comparison\n",
      "  'class0_proba': np.mean(class0_probs) if class0_probs != 'NA' else 'NA',\n",
      "/tmp/ipykernel_454702/165771129.py:147: FutureWarning: elementwise comparison failed; returning scalar instead, but in the future will perform elementwise comparison\n",
      "  'class1_proba': np.mean(class1_probs) if class1_probs != 'NA' else 'NA'\n"
     ]
    },
    {
     "name": "stdout",
     "output_type": "stream",
     "text": [
      "0.9065805988882912\n",
      "0.20940819423368742\n",
      "Using Ada Boost method...\n"
     ]
    },
    {
     "name": "stderr",
     "output_type": "stream",
     "text": [
      "/tmp/ipykernel_454702/165771129.py:146: FutureWarning: elementwise comparison failed; returning scalar instead, but in the future will perform elementwise comparison\n",
      "  'class0_proba': np.mean(class0_probs) if class0_probs != 'NA' else 'NA',\n",
      "/tmp/ipykernel_454702/165771129.py:147: FutureWarning: elementwise comparison failed; returning scalar instead, but in the future will perform elementwise comparison\n",
      "  'class1_proba': np.mean(class1_probs) if class1_probs != 'NA' else 'NA'\n"
     ]
    },
    {
     "name": "stdout",
     "output_type": "stream",
     "text": [
      "0.9032955159373313\n",
      "0.2137628111273792\n",
      "Using Perceptron method...\n",
      "0.8814132681826724\n",
      "0.3103825136612022\n",
      "Using SGD method...\n",
      "0.8285714285714285\n",
      "0.3712574850299401\n",
      "Using SVC method...\n",
      "0.9101428313144098\n",
      "0.29503546099290784\n",
      "Using Linear SVC method...\n"
     ]
    },
    {
     "name": "stderr",
     "output_type": "stream",
     "text": [
      "/home/payam/.virtualenvs/nabi/lib/python3.10/site-packages/sklearn/svm/_classes.py:32: FutureWarning: The default value of `dual` will change from `True` to `'auto'` in 1.5. Set the value of `dual` explicitly to suppress the warning.\n",
      "  warnings.warn(\n",
      "/home/payam/.virtualenvs/nabi/lib/python3.10/site-packages/sklearn/svm/_base.py:1242: ConvergenceWarning: Liblinear failed to converge, increase the number of iterations.\n",
      "  warnings.warn(\n"
     ]
    },
    {
     "name": "stdout",
     "output_type": "stream",
     "text": [
      "0.8908184001477922\n",
      "0.28189550425273385\n",
      "22\n",
      "Using Random Forest method...\n"
     ]
    },
    {
     "name": "stderr",
     "output_type": "stream",
     "text": [
      "/tmp/ipykernel_454702/165771129.py:146: FutureWarning: elementwise comparison failed; returning scalar instead, but in the future will perform elementwise comparison\n",
      "  'class0_proba': np.mean(class0_probs) if class0_probs != 'NA' else 'NA',\n",
      "/tmp/ipykernel_454702/165771129.py:147: FutureWarning: elementwise comparison failed; returning scalar instead, but in the future will perform elementwise comparison\n",
      "  'class1_proba': np.mean(class1_probs) if class1_probs != 'NA' else 'NA'\n"
     ]
    },
    {
     "name": "stdout",
     "output_type": "stream",
     "text": [
      "0.9295725904135663\n",
      "0.10940919037199123\n",
      "Using Logistic Regression method...\n"
     ]
    },
    {
     "name": "stderr",
     "output_type": "stream",
     "text": [
      "/home/payam/.virtualenvs/nabi/lib/python3.10/site-packages/sklearn/linear_model/_logistic.py:460: ConvergenceWarning: lbfgs failed to converge (status=1):\n",
      "STOP: TOTAL NO. of ITERATIONS REACHED LIMIT.\n",
      "\n",
      "Increase the number of iterations (max_iter) or scale the data as shown in:\n",
      "    https://scikit-learn.org/stable/modules/preprocessing.html\n",
      "Please also refer to the documentation for alternative solver options:\n",
      "    https://scikit-learn.org/stable/modules/linear_model.html#logistic-regression\n",
      "  n_iter_i = _check_optimize_result(\n",
      "/tmp/ipykernel_454702/165771129.py:146: FutureWarning: elementwise comparison failed; returning scalar instead, but in the future will perform elementwise comparison\n",
      "  'class0_proba': np.mean(class0_probs) if class0_probs != 'NA' else 'NA',\n",
      "/tmp/ipykernel_454702/165771129.py:147: FutureWarning: elementwise comparison failed; returning scalar instead, but in the future will perform elementwise comparison\n",
      "  'class1_proba': np.mean(class1_probs) if class1_probs != 'NA' else 'NA'\n"
     ]
    },
    {
     "name": "stdout",
     "output_type": "stream",
     "text": [
      "0.9143461402890377\n",
      "0.13523131672597866\n",
      "Using Gradient Boosting method...\n"
     ]
    },
    {
     "name": "stderr",
     "output_type": "stream",
     "text": [
      "/tmp/ipykernel_454702/165771129.py:146: FutureWarning: elementwise comparison failed; returning scalar instead, but in the future will perform elementwise comparison\n",
      "  'class0_proba': np.mean(class0_probs) if class0_probs != 'NA' else 'NA',\n",
      "/tmp/ipykernel_454702/165771129.py:147: FutureWarning: elementwise comparison failed; returning scalar instead, but in the future will perform elementwise comparison\n",
      "  'class1_proba': np.mean(class1_probs) if class1_probs != 'NA' else 'NA'\n"
     ]
    },
    {
     "name": "stdout",
     "output_type": "stream",
     "text": [
      "0.9497809234917425\n",
      "0.013245033112582783\n",
      "Using Ada Boost method...\n"
     ]
    },
    {
     "name": "stderr",
     "output_type": "stream",
     "text": [
      "/tmp/ipykernel_454702/165771129.py:146: FutureWarning: elementwise comparison failed; returning scalar instead, but in the future will perform elementwise comparison\n",
      "  'class0_proba': np.mean(class0_probs) if class0_probs != 'NA' else 'NA',\n",
      "/tmp/ipykernel_454702/165771129.py:147: FutureWarning: elementwise comparison failed; returning scalar instead, but in the future will perform elementwise comparison\n",
      "  'class1_proba': np.mean(class1_probs) if class1_probs != 'NA' else 'NA'\n"
     ]
    },
    {
     "name": "stdout",
     "output_type": "stream",
     "text": [
      "0.949232585596222\n",
      "0.01954397394136808\n",
      "Using Perceptron method...\n",
      "0.9359150102810144\n",
      "0.065\n",
      "Using SGD method...\n",
      "0.9357986646122239\n",
      "0.05063291139240506\n",
      "Using SVC method...\n",
      "0.9485579355709226\n",
      "0.006514657980456026\n",
      "Using Linear SVC method...\n"
     ]
    },
    {
     "name": "stderr",
     "output_type": "stream",
     "text": [
      "/home/payam/.virtualenvs/nabi/lib/python3.10/site-packages/sklearn/svm/_classes.py:32: FutureWarning: The default value of `dual` will change from `True` to `'auto'` in 1.5. Set the value of `dual` explicitly to suppress the warning.\n",
      "  warnings.warn(\n",
      "/home/payam/.virtualenvs/nabi/lib/python3.10/site-packages/sklearn/svm/_base.py:1242: ConvergenceWarning: Liblinear failed to converge, increase the number of iterations.\n",
      "  warnings.warn(\n"
     ]
    },
    {
     "name": "stdout",
     "output_type": "stream",
     "text": [
      "0.9088329194749911\n",
      "0.14046822742474915\n",
      "Using Random Forest method...\n"
     ]
    },
    {
     "name": "stderr",
     "output_type": "stream",
     "text": [
      "/tmp/ipykernel_454702/165771129.py:146: FutureWarning: elementwise comparison failed; returning scalar instead, but in the future will perform elementwise comparison\n",
      "  'class0_proba': np.mean(class0_probs) if class0_probs != 'NA' else 'NA',\n",
      "/tmp/ipykernel_454702/165771129.py:147: FutureWarning: elementwise comparison failed; returning scalar instead, but in the future will perform elementwise comparison\n",
      "  'class1_proba': np.mean(class1_probs) if class1_probs != 'NA' else 'NA'\n"
     ]
    },
    {
     "name": "stdout",
     "output_type": "stream",
     "text": [
      "0.9294605809128631\n",
      "0.09734513274336283\n",
      "Using Logistic Regression method...\n"
     ]
    },
    {
     "name": "stderr",
     "output_type": "stream",
     "text": [
      "/tmp/ipykernel_454702/165771129.py:146: FutureWarning: elementwise comparison failed; returning scalar instead, but in the future will perform elementwise comparison\n",
      "  'class0_proba': np.mean(class0_probs) if class0_probs != 'NA' else 'NA',\n",
      "/tmp/ipykernel_454702/165771129.py:147: FutureWarning: elementwise comparison failed; returning scalar instead, but in the future will perform elementwise comparison\n",
      "  'class1_proba': np.mean(class1_probs) if class1_probs != 'NA' else 'NA'\n"
     ]
    },
    {
     "name": "stdout",
     "output_type": "stream",
     "text": [
      "0.9180098107918712\n",
      "0.11363636363636363\n",
      "Using Gradient Boosting method...\n"
     ]
    },
    {
     "name": "stderr",
     "output_type": "stream",
     "text": [
      "/home/payam/.virtualenvs/nabi/lib/python3.10/site-packages/sklearn/metrics/_classification.py:1469: UndefinedMetricWarning: Precision is ill-defined and being set to 0.0 in labels with no predicted samples. Use `zero_division` parameter to control this behavior.\n",
      "  _warn_prf(average, modifier, msg_start, len(result))\n",
      "/tmp/ipykernel_454702/165771129.py:146: FutureWarning: elementwise comparison failed; returning scalar instead, but in the future will perform elementwise comparison\n",
      "  'class0_proba': np.mean(class0_probs) if class0_probs != 'NA' else 'NA',\n",
      "/tmp/ipykernel_454702/165771129.py:147: FutureWarning: elementwise comparison failed; returning scalar instead, but in the future will perform elementwise comparison\n",
      "  'class1_proba': np.mean(class1_probs) if class1_probs != 'NA' else 'NA'\n"
     ]
    },
    {
     "name": "stdout",
     "output_type": "stream",
     "text": [
      "0.9494609164420486\n",
      "0.0\n",
      "Using Ada Boost method...\n"
     ]
    },
    {
     "name": "stderr",
     "output_type": "stream",
     "text": [
      "/tmp/ipykernel_454702/165771129.py:146: FutureWarning: elementwise comparison failed; returning scalar instead, but in the future will perform elementwise comparison\n",
      "  'class0_proba': np.mean(class0_probs) if class0_probs != 'NA' else 'NA',\n",
      "/tmp/ipykernel_454702/165771129.py:147: FutureWarning: elementwise comparison failed; returning scalar instead, but in the future will perform elementwise comparison\n",
      "  'class1_proba': np.mean(class1_probs) if class1_probs != 'NA' else 'NA'\n"
     ]
    },
    {
     "name": "stdout",
     "output_type": "stream",
     "text": [
      "0.9495869162030012\n",
      "0.019672131147540985\n",
      "Using Perceptron method...\n",
      "0.9280887194593659\n",
      "0.1075268817204301\n",
      "Using SGD method...\n",
      "0.879779411764706\n",
      "0.178391959798995\n",
      "Using SVC method...\n",
      "0.9491068419278733\n",
      "0.0\n",
      "Using Linear SVC method...\n"
     ]
    },
    {
     "name": "stderr",
     "output_type": "stream",
     "text": [
      "/home/payam/.virtualenvs/nabi/lib/python3.10/site-packages/sklearn/svm/_classes.py:32: FutureWarning: The default value of `dual` will change from `True` to `'auto'` in 1.5. Set the value of `dual` explicitly to suppress the warning.\n",
      "  warnings.warn(\n",
      "/home/payam/.virtualenvs/nabi/lib/python3.10/site-packages/sklearn/svm/_base.py:1242: ConvergenceWarning: Liblinear failed to converge, increase the number of iterations.\n",
      "  warnings.warn(\n"
     ]
    },
    {
     "name": "stdout",
     "output_type": "stream",
     "text": [
      "0.9146986253084243\n",
      "0.1387900355871886\n",
      "23\n",
      "Using Random Forest method...\n"
     ]
    },
    {
     "name": "stderr",
     "output_type": "stream",
     "text": [
      "/tmp/ipykernel_454702/165771129.py:146: FutureWarning: elementwise comparison failed; returning scalar instead, but in the future will perform elementwise comparison\n",
      "  'class0_proba': np.mean(class0_probs) if class0_probs != 'NA' else 'NA',\n",
      "/tmp/ipykernel_454702/165771129.py:147: FutureWarning: elementwise comparison failed; returning scalar instead, but in the future will perform elementwise comparison\n",
      "  'class1_proba': np.mean(class1_probs) if class1_probs != 'NA' else 'NA'\n"
     ]
    },
    {
     "name": "stdout",
     "output_type": "stream",
     "text": [
      "0.9160801299404441\n",
      "0.33093525179856115\n",
      "Using Logistic Regression method...\n"
     ]
    },
    {
     "name": "stderr",
     "output_type": "stream",
     "text": [
      "/home/payam/.virtualenvs/nabi/lib/python3.10/site-packages/sklearn/linear_model/_logistic.py:460: ConvergenceWarning: lbfgs failed to converge (status=1):\n",
      "STOP: TOTAL NO. of ITERATIONS REACHED LIMIT.\n",
      "\n",
      "Increase the number of iterations (max_iter) or scale the data as shown in:\n",
      "    https://scikit-learn.org/stable/modules/preprocessing.html\n",
      "Please also refer to the documentation for alternative solver options:\n",
      "    https://scikit-learn.org/stable/modules/linear_model.html#logistic-regression\n",
      "  n_iter_i = _check_optimize_result(\n",
      "/tmp/ipykernel_454702/165771129.py:146: FutureWarning: elementwise comparison failed; returning scalar instead, but in the future will perform elementwise comparison\n",
      "  'class0_proba': np.mean(class0_probs) if class0_probs != 'NA' else 'NA',\n",
      "/tmp/ipykernel_454702/165771129.py:147: FutureWarning: elementwise comparison failed; returning scalar instead, but in the future will perform elementwise comparison\n",
      "  'class1_proba': np.mean(class1_probs) if class1_probs != 'NA' else 'NA'\n"
     ]
    },
    {
     "name": "stdout",
     "output_type": "stream",
     "text": [
      "0.9026548672566372\n",
      "0.3497536945812808\n",
      "Using Gradient Boosting method...\n"
     ]
    },
    {
     "name": "stderr",
     "output_type": "stream",
     "text": [
      "/tmp/ipykernel_454702/165771129.py:146: FutureWarning: elementwise comparison failed; returning scalar instead, but in the future will perform elementwise comparison\n",
      "  'class0_proba': np.mean(class0_probs) if class0_probs != 'NA' else 'NA',\n",
      "/tmp/ipykernel_454702/165771129.py:147: FutureWarning: elementwise comparison failed; returning scalar instead, but in the future will perform elementwise comparison\n",
      "  'class1_proba': np.mean(class1_probs) if class1_probs != 'NA' else 'NA'\n"
     ]
    },
    {
     "name": "stdout",
     "output_type": "stream",
     "text": [
      "0.9291754756871037\n",
      "0.2821428571428571\n",
      "Using Ada Boost method...\n"
     ]
    },
    {
     "name": "stderr",
     "output_type": "stream",
     "text": [
      "/tmp/ipykernel_454702/165771129.py:146: FutureWarning: elementwise comparison failed; returning scalar instead, but in the future will perform elementwise comparison\n",
      "  'class0_proba': np.mean(class0_probs) if class0_probs != 'NA' else 'NA',\n",
      "/tmp/ipykernel_454702/165771129.py:147: FutureWarning: elementwise comparison failed; returning scalar instead, but in the future will perform elementwise comparison\n",
      "  'class1_proba': np.mean(class1_probs) if class1_probs != 'NA' else 'NA'\n"
     ]
    },
    {
     "name": "stdout",
     "output_type": "stream",
     "text": [
      "0.9260109482606392\n",
      "0.268760907504363\n",
      "Using Perceptron method...\n",
      "0.7815450643776825\n",
      "0.3540609137055838\n",
      "Using SGD method...\n",
      "0.8895981975215922\n",
      "0.35384615384615387\n",
      "Using SVC method...\n",
      "0.9302489846371181\n",
      "0.3106457242582897\n",
      "Using Linear SVC method...\n"
     ]
    },
    {
     "name": "stderr",
     "output_type": "stream",
     "text": [
      "/home/payam/.virtualenvs/nabi/lib/python3.10/site-packages/sklearn/svm/_classes.py:32: FutureWarning: The default value of `dual` will change from `True` to `'auto'` in 1.5. Set the value of `dual` explicitly to suppress the warning.\n",
      "  warnings.warn(\n",
      "/home/payam/.virtualenvs/nabi/lib/python3.10/site-packages/sklearn/svm/_base.py:1242: ConvergenceWarning: Liblinear failed to converge, increase the number of iterations.\n",
      "  warnings.warn(\n"
     ]
    },
    {
     "name": "stdout",
     "output_type": "stream",
     "text": [
      "0.893664735563446\n",
      "0.35706214689265536\n",
      "Using Random Forest method...\n"
     ]
    },
    {
     "name": "stderr",
     "output_type": "stream",
     "text": [
      "/tmp/ipykernel_454702/165771129.py:146: FutureWarning: elementwise comparison failed; returning scalar instead, but in the future will perform elementwise comparison\n",
      "  'class0_proba': np.mean(class0_probs) if class0_probs != 'NA' else 'NA',\n",
      "/tmp/ipykernel_454702/165771129.py:147: FutureWarning: elementwise comparison failed; returning scalar instead, but in the future will perform elementwise comparison\n",
      "  'class1_proba': np.mean(class1_probs) if class1_probs != 'NA' else 'NA'\n"
     ]
    },
    {
     "name": "stdout",
     "output_type": "stream",
     "text": [
      "0.9191043698085951\n",
      "0.3581661891117479\n",
      "Using Logistic Regression method...\n"
     ]
    },
    {
     "name": "stderr",
     "output_type": "stream",
     "text": [
      "/tmp/ipykernel_454702/165771129.py:146: FutureWarning: elementwise comparison failed; returning scalar instead, but in the future will perform elementwise comparison\n",
      "  'class0_proba': np.mean(class0_probs) if class0_probs != 'NA' else 'NA',\n",
      "/tmp/ipykernel_454702/165771129.py:147: FutureWarning: elementwise comparison failed; returning scalar instead, but in the future will perform elementwise comparison\n",
      "  'class1_proba': np.mean(class1_probs) if class1_probs != 'NA' else 'NA'\n"
     ]
    },
    {
     "name": "stdout",
     "output_type": "stream",
     "text": [
      "0.9032975175991109\n",
      "0.37708830548926014\n",
      "Using Gradient Boosting method...\n"
     ]
    },
    {
     "name": "stderr",
     "output_type": "stream",
     "text": [
      "/tmp/ipykernel_454702/165771129.py:146: FutureWarning: elementwise comparison failed; returning scalar instead, but in the future will perform elementwise comparison\n",
      "  'class0_proba': np.mean(class0_probs) if class0_probs != 'NA' else 'NA',\n",
      "/tmp/ipykernel_454702/165771129.py:147: FutureWarning: elementwise comparison failed; returning scalar instead, but in the future will perform elementwise comparison\n",
      "  'class1_proba': np.mean(class1_probs) if class1_probs != 'NA' else 'NA'\n"
     ]
    },
    {
     "name": "stdout",
     "output_type": "stream",
     "text": [
      "0.9311926605504588\n",
      "0.31338028169014087\n",
      "Using Ada Boost method...\n"
     ]
    },
    {
     "name": "stderr",
     "output_type": "stream",
     "text": [
      "/tmp/ipykernel_454702/165771129.py:146: FutureWarning: elementwise comparison failed; returning scalar instead, but in the future will perform elementwise comparison\n",
      "  'class0_proba': np.mean(class0_probs) if class0_probs != 'NA' else 'NA',\n",
      "/tmp/ipykernel_454702/165771129.py:147: FutureWarning: elementwise comparison failed; returning scalar instead, but in the future will perform elementwise comparison\n",
      "  'class1_proba': np.mean(class1_probs) if class1_probs != 'NA' else 'NA'\n"
     ]
    },
    {
     "name": "stdout",
     "output_type": "stream",
     "text": [
      "0.9237273207680112\n",
      "0.22540250447227192\n",
      "Using Perceptron method...\n",
      "0.8849085365853658\n",
      "0.38866396761133604\n",
      "Using SGD method...\n",
      "0.9087604507451835\n",
      "0.31607629427792916\n",
      "Using SVC method...\n",
      "0.9319631467044649\n",
      "0.35135135135135137\n",
      "Using Linear SVC method...\n"
     ]
    },
    {
     "name": "stderr",
     "output_type": "stream",
     "text": [
      "/home/payam/.virtualenvs/nabi/lib/python3.10/site-packages/sklearn/svm/_classes.py:32: FutureWarning: The default value of `dual` will change from `True` to `'auto'` in 1.5. Set the value of `dual` explicitly to suppress the warning.\n",
      "  warnings.warn(\n",
      "/home/payam/.virtualenvs/nabi/lib/python3.10/site-packages/sklearn/svm/_base.py:1242: ConvergenceWarning: Liblinear failed to converge, increase the number of iterations.\n",
      "  warnings.warn(\n"
     ]
    },
    {
     "name": "stdout",
     "output_type": "stream",
     "text": [
      "0.908029197080292\n",
      "0.33333333333333337\n",
      "24\n",
      "Using Random Forest method...\n"
     ]
    },
    {
     "name": "stderr",
     "output_type": "stream",
     "text": [
      "/tmp/ipykernel_454702/165771129.py:146: FutureWarning: elementwise comparison failed; returning scalar instead, but in the future will perform elementwise comparison\n",
      "  'class0_proba': np.mean(class0_probs) if class0_probs != 'NA' else 'NA',\n",
      "/tmp/ipykernel_454702/165771129.py:147: FutureWarning: elementwise comparison failed; returning scalar instead, but in the future will perform elementwise comparison\n",
      "  'class1_proba': np.mean(class1_probs) if class1_probs != 'NA' else 'NA'\n"
     ]
    },
    {
     "name": "stdout",
     "output_type": "stream",
     "text": [
      "0.8443556443556444\n",
      "0.3671811535337124\n",
      "Using Logistic Regression method...\n"
     ]
    },
    {
     "name": "stderr",
     "output_type": "stream",
     "text": [
      "/home/payam/.virtualenvs/nabi/lib/python3.10/site-packages/sklearn/linear_model/_logistic.py:460: ConvergenceWarning: lbfgs failed to converge (status=1):\n",
      "STOP: TOTAL NO. of ITERATIONS REACHED LIMIT.\n",
      "\n",
      "Increase the number of iterations (max_iter) or scale the data as shown in:\n",
      "    https://scikit-learn.org/stable/modules/preprocessing.html\n",
      "Please also refer to the documentation for alternative solver options:\n",
      "    https://scikit-learn.org/stable/modules/linear_model.html#logistic-regression\n",
      "  n_iter_i = _check_optimize_result(\n",
      "/tmp/ipykernel_454702/165771129.py:146: FutureWarning: elementwise comparison failed; returning scalar instead, but in the future will perform elementwise comparison\n",
      "  'class0_proba': np.mean(class0_probs) if class0_probs != 'NA' else 'NA',\n",
      "/tmp/ipykernel_454702/165771129.py:147: FutureWarning: elementwise comparison failed; returning scalar instead, but in the future will perform elementwise comparison\n",
      "  'class1_proba': np.mean(class1_probs) if class1_probs != 'NA' else 'NA'\n"
     ]
    },
    {
     "name": "stdout",
     "output_type": "stream",
     "text": [
      "0.835965978128797\n",
      "0.3759630200308166\n",
      "Using Gradient Boosting method...\n"
     ]
    },
    {
     "name": "stderr",
     "output_type": "stream",
     "text": [
      "/tmp/ipykernel_454702/165771129.py:146: FutureWarning: elementwise comparison failed; returning scalar instead, but in the future will perform elementwise comparison\n",
      "  'class0_proba': np.mean(class0_probs) if class0_probs != 'NA' else 'NA',\n",
      "/tmp/ipykernel_454702/165771129.py:147: FutureWarning: elementwise comparison failed; returning scalar instead, but in the future will perform elementwise comparison\n",
      "  'class1_proba': np.mean(class1_probs) if class1_probs != 'NA' else 'NA'\n"
     ]
    },
    {
     "name": "stdout",
     "output_type": "stream",
     "text": [
      "0.8722964077487305\n",
      "0.2611534276387377\n",
      "Using Ada Boost method...\n"
     ]
    },
    {
     "name": "stderr",
     "output_type": "stream",
     "text": [
      "/tmp/ipykernel_454702/165771129.py:146: FutureWarning: elementwise comparison failed; returning scalar instead, but in the future will perform elementwise comparison\n",
      "  'class0_proba': np.mean(class0_probs) if class0_probs != 'NA' else 'NA',\n",
      "/tmp/ipykernel_454702/165771129.py:147: FutureWarning: elementwise comparison failed; returning scalar instead, but in the future will perform elementwise comparison\n",
      "  'class1_proba': np.mean(class1_probs) if class1_probs != 'NA' else 'NA'\n"
     ]
    },
    {
     "name": "stdout",
     "output_type": "stream",
     "text": [
      "0.8593213877239801\n",
      "0.2545454545454546\n",
      "Using Perceptron method...\n",
      "0.8486816965991594\n",
      "0.20958083832335328\n",
      "Using SGD method...\n",
      "0.8289795918367346\n",
      "0.3727544910179641\n",
      "Using SVC method...\n",
      "0.8748577929465301\n",
      "0.31392931392931395\n",
      "Using Linear SVC method...\n"
     ]
    },
    {
     "name": "stderr",
     "output_type": "stream",
     "text": [
      "/home/payam/.virtualenvs/nabi/lib/python3.10/site-packages/sklearn/svm/_classes.py:32: FutureWarning: The default value of `dual` will change from `True` to `'auto'` in 1.5. Set the value of `dual` explicitly to suppress the warning.\n",
      "  warnings.warn(\n",
      "/home/payam/.virtualenvs/nabi/lib/python3.10/site-packages/sklearn/svm/_base.py:1242: ConvergenceWarning: Liblinear failed to converge, increase the number of iterations.\n",
      "  warnings.warn(\n"
     ]
    },
    {
     "name": "stdout",
     "output_type": "stream",
     "text": [
      "0.739323220536756\n",
      "0.42747309072270634\n",
      "Using Random Forest method...\n"
     ]
    },
    {
     "name": "stderr",
     "output_type": "stream",
     "text": [
      "/tmp/ipykernel_454702/165771129.py:146: FutureWarning: elementwise comparison failed; returning scalar instead, but in the future will perform elementwise comparison\n",
      "  'class0_proba': np.mean(class0_probs) if class0_probs != 'NA' else 'NA',\n",
      "/tmp/ipykernel_454702/165771129.py:147: FutureWarning: elementwise comparison failed; returning scalar instead, but in the future will perform elementwise comparison\n",
      "  'class1_proba': np.mean(class1_probs) if class1_probs != 'NA' else 'NA'\n"
     ]
    },
    {
     "name": "stdout",
     "output_type": "stream",
     "text": [
      "0.8443908323281062\n",
      "0.3866877971473851\n",
      "Using Logistic Regression method...\n"
     ]
    },
    {
     "name": "stderr",
     "output_type": "stream",
     "text": [
      "/tmp/ipykernel_454702/165771129.py:146: FutureWarning: elementwise comparison failed; returning scalar instead, but in the future will perform elementwise comparison\n",
      "  'class0_proba': np.mean(class0_probs) if class0_probs != 'NA' else 'NA',\n",
      "/tmp/ipykernel_454702/165771129.py:147: FutureWarning: elementwise comparison failed; returning scalar instead, but in the future will perform elementwise comparison\n",
      "  'class1_proba': np.mean(class1_probs) if class1_probs != 'NA' else 'NA'\n"
     ]
    },
    {
     "name": "stdout",
     "output_type": "stream",
     "text": [
      "0.8407798537774168\n",
      "0.40243902439024387\n",
      "Using Gradient Boosting method...\n"
     ]
    },
    {
     "name": "stderr",
     "output_type": "stream",
     "text": [
      "/tmp/ipykernel_454702/165771129.py:146: FutureWarning: elementwise comparison failed; returning scalar instead, but in the future will perform elementwise comparison\n",
      "  'class0_proba': np.mean(class0_probs) if class0_probs != 'NA' else 'NA',\n",
      "/tmp/ipykernel_454702/165771129.py:147: FutureWarning: elementwise comparison failed; returning scalar instead, but in the future will perform elementwise comparison\n",
      "  'class1_proba': np.mean(class1_probs) if class1_probs != 'NA' else 'NA'\n"
     ]
    },
    {
     "name": "stdout",
     "output_type": "stream",
     "text": [
      "0.8699416525503483\n",
      "0.2513542795232936\n",
      "Using Ada Boost method...\n"
     ]
    },
    {
     "name": "stderr",
     "output_type": "stream",
     "text": [
      "/tmp/ipykernel_454702/165771129.py:146: FutureWarning: elementwise comparison failed; returning scalar instead, but in the future will perform elementwise comparison\n",
      "  'class0_proba': np.mean(class0_probs) if class0_probs != 'NA' else 'NA',\n",
      "/tmp/ipykernel_454702/165771129.py:147: FutureWarning: elementwise comparison failed; returning scalar instead, but in the future will perform elementwise comparison\n",
      "  'class1_proba': np.mean(class1_probs) if class1_probs != 'NA' else 'NA'\n"
     ]
    },
    {
     "name": "stdout",
     "output_type": "stream",
     "text": [
      "0.8631020098596891\n",
      "0.2494802494802495\n",
      "Using Perceptron method...\n",
      "0.8591786986686668\n",
      "0.16832779623477295\n",
      "Using SGD method...\n",
      "0.8342396777442096\n",
      "0.35247836349331235\n",
      "Using SVC method...\n",
      "0.8744292237442922\n",
      "0.32653061224489793\n",
      "Using Linear SVC method...\n"
     ]
    },
    {
     "name": "stderr",
     "output_type": "stream",
     "text": [
      "/home/payam/.virtualenvs/nabi/lib/python3.10/site-packages/sklearn/svm/_classes.py:32: FutureWarning: The default value of `dual` will change from `True` to `'auto'` in 1.5. Set the value of `dual` explicitly to suppress the warning.\n",
      "  warnings.warn(\n",
      "/home/payam/.virtualenvs/nabi/lib/python3.10/site-packages/sklearn/svm/_base.py:1242: ConvergenceWarning: Liblinear failed to converge, increase the number of iterations.\n",
      "  warnings.warn(\n"
     ]
    },
    {
     "name": "stdout",
     "output_type": "stream",
     "text": [
      "0.8345618345618346\n",
      "0.40236686390532544\n",
      "25\n",
      "Using Random Forest method...\n"
     ]
    },
    {
     "name": "stderr",
     "output_type": "stream",
     "text": [
      "/tmp/ipykernel_454702/165771129.py:146: FutureWarning: elementwise comparison failed; returning scalar instead, but in the future will perform elementwise comparison\n",
      "  'class0_proba': np.mean(class0_probs) if class0_probs != 'NA' else 'NA',\n",
      "/tmp/ipykernel_454702/165771129.py:147: FutureWarning: elementwise comparison failed; returning scalar instead, but in the future will perform elementwise comparison\n",
      "  'class1_proba': np.mean(class1_probs) if class1_probs != 'NA' else 'NA'\n"
     ]
    },
    {
     "name": "stdout",
     "output_type": "stream",
     "text": [
      "0.8852336448598132\n",
      "0.30699774266365687\n",
      "Using Logistic Regression method...\n"
     ]
    },
    {
     "name": "stderr",
     "output_type": "stream",
     "text": [
      "/home/payam/.virtualenvs/nabi/lib/python3.10/site-packages/sklearn/linear_model/_logistic.py:460: ConvergenceWarning: lbfgs failed to converge (status=1):\n",
      "STOP: TOTAL NO. of ITERATIONS REACHED LIMIT.\n",
      "\n",
      "Increase the number of iterations (max_iter) or scale the data as shown in:\n",
      "    https://scikit-learn.org/stable/modules/preprocessing.html\n",
      "Please also refer to the documentation for alternative solver options:\n",
      "    https://scikit-learn.org/stable/modules/linear_model.html#logistic-regression\n",
      "  n_iter_i = _check_optimize_result(\n",
      "/tmp/ipykernel_454702/165771129.py:146: FutureWarning: elementwise comparison failed; returning scalar instead, but in the future will perform elementwise comparison\n",
      "  'class0_proba': np.mean(class0_probs) if class0_probs != 'NA' else 'NA',\n",
      "/tmp/ipykernel_454702/165771129.py:147: FutureWarning: elementwise comparison failed; returning scalar instead, but in the future will perform elementwise comparison\n",
      "  'class1_proba': np.mean(class1_probs) if class1_probs != 'NA' else 'NA'\n"
     ]
    },
    {
     "name": "stdout",
     "output_type": "stream",
     "text": [
      "0.8642352491884666\n",
      "0.2882882882882883\n",
      "Using Gradient Boosting method...\n"
     ]
    },
    {
     "name": "stderr",
     "output_type": "stream",
     "text": [
      "/tmp/ipykernel_454702/165771129.py:146: FutureWarning: elementwise comparison failed; returning scalar instead, but in the future will perform elementwise comparison\n",
      "  'class0_proba': np.mean(class0_probs) if class0_probs != 'NA' else 'NA',\n",
      "/tmp/ipykernel_454702/165771129.py:147: FutureWarning: elementwise comparison failed; returning scalar instead, but in the future will perform elementwise comparison\n",
      "  'class1_proba': np.mean(class1_probs) if class1_probs != 'NA' else 'NA'\n"
     ]
    },
    {
     "name": "stdout",
     "output_type": "stream",
     "text": [
      "0.900305370935872\n",
      "0.17040358744394618\n",
      "Using Ada Boost method...\n"
     ]
    },
    {
     "name": "stderr",
     "output_type": "stream",
     "text": [
      "/tmp/ipykernel_454702/165771129.py:146: FutureWarning: elementwise comparison failed; returning scalar instead, but in the future will perform elementwise comparison\n",
      "  'class0_proba': np.mean(class0_probs) if class0_probs != 'NA' else 'NA',\n",
      "/tmp/ipykernel_454702/165771129.py:147: FutureWarning: elementwise comparison failed; returning scalar instead, but in the future will perform elementwise comparison\n",
      "  'class1_proba': np.mean(class1_probs) if class1_probs != 'NA' else 'NA'\n"
     ]
    },
    {
     "name": "stdout",
     "output_type": "stream",
     "text": [
      "0.8943942133815551\n",
      "0.1728045325779037\n",
      "Using Perceptron method...\n",
      "0.842292490118577\n",
      "0.3214285714285714\n",
      "Using SGD method...\n",
      "0.8507899356348743\n",
      "0.31018935978358875\n",
      "Using SVC method...\n",
      "0.9014644729705298\n",
      "0.2269503546099291\n",
      "Using Linear SVC method...\n"
     ]
    },
    {
     "name": "stderr",
     "output_type": "stream",
     "text": [
      "/home/payam/.virtualenvs/nabi/lib/python3.10/site-packages/sklearn/svm/_classes.py:32: FutureWarning: The default value of `dual` will change from `True` to `'auto'` in 1.5. Set the value of `dual` explicitly to suppress the warning.\n",
      "  warnings.warn(\n",
      "/home/payam/.virtualenvs/nabi/lib/python3.10/site-packages/sklearn/svm/_base.py:1242: ConvergenceWarning: Liblinear failed to converge, increase the number of iterations.\n",
      "  warnings.warn(\n"
     ]
    },
    {
     "name": "stdout",
     "output_type": "stream",
     "text": [
      "0.8824183976261128\n",
      "0.24881516587677724\n",
      "Using Random Forest method...\n"
     ]
    },
    {
     "name": "stderr",
     "output_type": "stream",
     "text": [
      "/tmp/ipykernel_454702/165771129.py:146: FutureWarning: elementwise comparison failed; returning scalar instead, but in the future will perform elementwise comparison\n",
      "  'class0_proba': np.mean(class0_probs) if class0_probs != 'NA' else 'NA',\n",
      "/tmp/ipykernel_454702/165771129.py:147: FutureWarning: elementwise comparison failed; returning scalar instead, but in the future will perform elementwise comparison\n",
      "  'class1_proba': np.mean(class1_probs) if class1_probs != 'NA' else 'NA'\n"
     ]
    },
    {
     "name": "stdout",
     "output_type": "stream",
     "text": [
      "0.8809031044214488\n",
      "0.3127035830618893\n",
      "Using Logistic Regression method...\n"
     ]
    },
    {
     "name": "stderr",
     "output_type": "stream",
     "text": [
      "/tmp/ipykernel_454702/165771129.py:146: FutureWarning: elementwise comparison failed; returning scalar instead, but in the future will perform elementwise comparison\n",
      "  'class0_proba': np.mean(class0_probs) if class0_probs != 'NA' else 'NA',\n",
      "/tmp/ipykernel_454702/165771129.py:147: FutureWarning: elementwise comparison failed; returning scalar instead, but in the future will perform elementwise comparison\n",
      "  'class1_proba': np.mean(class1_probs) if class1_probs != 'NA' else 'NA'\n"
     ]
    },
    {
     "name": "stdout",
     "output_type": "stream",
     "text": [
      "0.8698799771385026\n",
      "0.3080040526849037\n",
      "Using Gradient Boosting method...\n"
     ]
    },
    {
     "name": "stderr",
     "output_type": "stream",
     "text": [
      "/tmp/ipykernel_454702/165771129.py:146: FutureWarning: elementwise comparison failed; returning scalar instead, but in the future will perform elementwise comparison\n",
      "  'class0_proba': np.mean(class0_probs) if class0_probs != 'NA' else 'NA',\n",
      "/tmp/ipykernel_454702/165771129.py:147: FutureWarning: elementwise comparison failed; returning scalar instead, but in the future will perform elementwise comparison\n",
      "  'class1_proba': np.mean(class1_probs) if class1_probs != 'NA' else 'NA'\n"
     ]
    },
    {
     "name": "stdout",
     "output_type": "stream",
     "text": [
      "0.9001436781609194\n",
      "0.16766467065868262\n",
      "Using Ada Boost method...\n"
     ]
    },
    {
     "name": "stderr",
     "output_type": "stream",
     "text": [
      "/tmp/ipykernel_454702/165771129.py:146: FutureWarning: elementwise comparison failed; returning scalar instead, but in the future will perform elementwise comparison\n",
      "  'class0_proba': np.mean(class0_probs) if class0_probs != 'NA' else 'NA',\n",
      "/tmp/ipykernel_454702/165771129.py:147: FutureWarning: elementwise comparison failed; returning scalar instead, but in the future will perform elementwise comparison\n",
      "  'class1_proba': np.mean(class1_probs) if class1_probs != 'NA' else 'NA'\n"
     ]
    },
    {
     "name": "stdout",
     "output_type": "stream",
     "text": [
      "0.8960028938325195\n",
      "0.18670438472418668\n",
      "Using Perceptron method...\n",
      "0.8631701180568996\n",
      "0.33863423760523853\n",
      "Using SGD method...\n",
      "0.8585799961307797\n",
      "0.3149015932521087\n",
      "Using SVC method...\n",
      "0.9031323556038384\n",
      "0.24964936886395514\n",
      "Using Linear SVC method...\n"
     ]
    },
    {
     "name": "stderr",
     "output_type": "stream",
     "text": [
      "/home/payam/.virtualenvs/nabi/lib/python3.10/site-packages/sklearn/svm/_classes.py:32: FutureWarning: The default value of `dual` will change from `True` to `'auto'` in 1.5. Set the value of `dual` explicitly to suppress the warning.\n",
      "  warnings.warn(\n",
      "/home/payam/.virtualenvs/nabi/lib/python3.10/site-packages/sklearn/svm/_base.py:1242: ConvergenceWarning: Liblinear failed to converge, increase the number of iterations.\n",
      "  warnings.warn(\n"
     ]
    },
    {
     "name": "stdout",
     "output_type": "stream",
     "text": [
      "0.8784240150093809\n",
      "0.28476821192052976\n",
      "26\n",
      "Using Random Forest method...\n"
     ]
    },
    {
     "name": "stderr",
     "output_type": "stream",
     "text": [
      "/tmp/ipykernel_454702/165771129.py:146: FutureWarning: elementwise comparison failed; returning scalar instead, but in the future will perform elementwise comparison\n",
      "  'class0_proba': np.mean(class0_probs) if class0_probs != 'NA' else 'NA',\n",
      "/tmp/ipykernel_454702/165771129.py:147: FutureWarning: elementwise comparison failed; returning scalar instead, but in the future will perform elementwise comparison\n",
      "  'class1_proba': np.mean(class1_probs) if class1_probs != 'NA' else 'NA'\n"
     ]
    },
    {
     "name": "stdout",
     "output_type": "stream",
     "text": [
      "0.9097660601559598\n",
      "0.42823529411764705\n",
      "Using Logistic Regression method...\n"
     ]
    },
    {
     "name": "stderr",
     "output_type": "stream",
     "text": [
      "/home/payam/.virtualenvs/nabi/lib/python3.10/site-packages/sklearn/linear_model/_logistic.py:460: ConvergenceWarning: lbfgs failed to converge (status=1):\n",
      "STOP: TOTAL NO. of ITERATIONS REACHED LIMIT.\n",
      "\n",
      "Increase the number of iterations (max_iter) or scale the data as shown in:\n",
      "    https://scikit-learn.org/stable/modules/preprocessing.html\n",
      "Please also refer to the documentation for alternative solver options:\n",
      "    https://scikit-learn.org/stable/modules/linear_model.html#logistic-regression\n",
      "  n_iter_i = _check_optimize_result(\n",
      "/tmp/ipykernel_454702/165771129.py:146: FutureWarning: elementwise comparison failed; returning scalar instead, but in the future will perform elementwise comparison\n",
      "  'class0_proba': np.mean(class0_probs) if class0_probs != 'NA' else 'NA',\n",
      "/tmp/ipykernel_454702/165771129.py:147: FutureWarning: elementwise comparison failed; returning scalar instead, but in the future will perform elementwise comparison\n",
      "  'class1_proba': np.mean(class1_probs) if class1_probs != 'NA' else 'NA'\n"
     ]
    },
    {
     "name": "stdout",
     "output_type": "stream",
     "text": [
      "0.8975903614457831\n",
      "0.41125541125541126\n",
      "Using Gradient Boosting method...\n"
     ]
    },
    {
     "name": "stderr",
     "output_type": "stream",
     "text": [
      "/tmp/ipykernel_454702/165771129.py:146: FutureWarning: elementwise comparison failed; returning scalar instead, but in the future will perform elementwise comparison\n",
      "  'class0_proba': np.mean(class0_probs) if class0_probs != 'NA' else 'NA',\n",
      "/tmp/ipykernel_454702/165771129.py:147: FutureWarning: elementwise comparison failed; returning scalar instead, but in the future will perform elementwise comparison\n",
      "  'class1_proba': np.mean(class1_probs) if class1_probs != 'NA' else 'NA'\n"
     ]
    },
    {
     "name": "stdout",
     "output_type": "stream",
     "text": [
      "0.9190059002324333\n",
      "0.2954898911353033\n",
      "Using Ada Boost method...\n"
     ]
    },
    {
     "name": "stderr",
     "output_type": "stream",
     "text": [
      "/tmp/ipykernel_454702/165771129.py:146: FutureWarning: elementwise comparison failed; returning scalar instead, but in the future will perform elementwise comparison\n",
      "  'class0_proba': np.mean(class0_probs) if class0_probs != 'NA' else 'NA',\n",
      "/tmp/ipykernel_454702/165771129.py:147: FutureWarning: elementwise comparison failed; returning scalar instead, but in the future will perform elementwise comparison\n",
      "  'class1_proba': np.mean(class1_probs) if class1_probs != 'NA' else 'NA'\n"
     ]
    },
    {
     "name": "stdout",
     "output_type": "stream",
     "text": [
      "0.9085083659665362\n",
      "0.16828478964401294\n",
      "Using Perceptron method...\n",
      "0.7734855136084284\n",
      "0.38571428571428573\n",
      "Using SGD method...\n",
      "0.8902278290340803\n",
      "0.3697297297297297\n",
      "Using SVC method...\n",
      "0.9233267183835469\n",
      "0.3867243867243867\n",
      "Using Linear SVC method...\n"
     ]
    },
    {
     "name": "stderr",
     "output_type": "stream",
     "text": [
      "/home/payam/.virtualenvs/nabi/lib/python3.10/site-packages/sklearn/svm/_classes.py:32: FutureWarning: The default value of `dual` will change from `True` to `'auto'` in 1.5. Set the value of `dual` explicitly to suppress the warning.\n",
      "  warnings.warn(\n",
      "/home/payam/.virtualenvs/nabi/lib/python3.10/site-packages/sklearn/svm/_base.py:1242: ConvergenceWarning: Liblinear failed to converge, increase the number of iterations.\n",
      "  warnings.warn(\n"
     ]
    },
    {
     "name": "stdout",
     "output_type": "stream",
     "text": [
      "0.8941488354478319\n",
      "0.41465968586387436\n",
      "Using Random Forest method...\n"
     ]
    },
    {
     "name": "stderr",
     "output_type": "stream",
     "text": [
      "/tmp/ipykernel_454702/165771129.py:146: FutureWarning: elementwise comparison failed; returning scalar instead, but in the future will perform elementwise comparison\n",
      "  'class0_proba': np.mean(class0_probs) if class0_probs != 'NA' else 'NA',\n",
      "/tmp/ipykernel_454702/165771129.py:147: FutureWarning: elementwise comparison failed; returning scalar instead, but in the future will perform elementwise comparison\n",
      "  'class1_proba': np.mean(class1_probs) if class1_probs != 'NA' else 'NA'\n"
     ]
    },
    {
     "name": "stdout",
     "output_type": "stream",
     "text": [
      "0.907277428888068\n",
      "0.389294403892944\n",
      "Using Logistic Regression method...\n"
     ]
    },
    {
     "name": "stderr",
     "output_type": "stream",
     "text": [
      "/tmp/ipykernel_454702/165771129.py:146: FutureWarning: elementwise comparison failed; returning scalar instead, but in the future will perform elementwise comparison\n",
      "  'class0_proba': np.mean(class0_probs) if class0_probs != 'NA' else 'NA',\n",
      "/tmp/ipykernel_454702/165771129.py:147: FutureWarning: elementwise comparison failed; returning scalar instead, but in the future will perform elementwise comparison\n",
      "  'class1_proba': np.mean(class1_probs) if class1_probs != 'NA' else 'NA'\n"
     ]
    },
    {
     "name": "stdout",
     "output_type": "stream",
     "text": [
      "0.8894348894348896\n",
      "0.380952380952381\n",
      "Using Gradient Boosting method...\n"
     ]
    },
    {
     "name": "stderr",
     "output_type": "stream",
     "text": [
      "/tmp/ipykernel_454702/165771129.py:146: FutureWarning: elementwise comparison failed; returning scalar instead, but in the future will perform elementwise comparison\n",
      "  'class0_proba': np.mean(class0_probs) if class0_probs != 'NA' else 'NA',\n",
      "/tmp/ipykernel_454702/165771129.py:147: FutureWarning: elementwise comparison failed; returning scalar instead, but in the future will perform elementwise comparison\n",
      "  'class1_proba': np.mean(class1_probs) if class1_probs != 'NA' else 'NA'\n"
     ]
    },
    {
     "name": "stdout",
     "output_type": "stream",
     "text": [
      "0.9170975218399001\n",
      "0.2583732057416268\n",
      "Using Ada Boost method...\n"
     ]
    },
    {
     "name": "stderr",
     "output_type": "stream",
     "text": [
      "/tmp/ipykernel_454702/165771129.py:146: FutureWarning: elementwise comparison failed; returning scalar instead, but in the future will perform elementwise comparison\n",
      "  'class0_proba': np.mean(class0_probs) if class0_probs != 'NA' else 'NA',\n",
      "/tmp/ipykernel_454702/165771129.py:147: FutureWarning: elementwise comparison failed; returning scalar instead, but in the future will perform elementwise comparison\n",
      "  'class1_proba': np.mean(class1_probs) if class1_probs != 'NA' else 'NA'\n"
     ]
    },
    {
     "name": "stdout",
     "output_type": "stream",
     "text": [
      "0.9087994299964375\n",
      "0.17684887459807075\n",
      "Using Perceptron method...\n",
      "0.897944063715503\n",
      "0.34169653524492233\n",
      "Using SGD method...\n",
      "0.9038773669972948\n",
      "0.22865412445730826\n",
      "Using SVC method...\n",
      "0.9210241615578795\n",
      "0.3652173913043478\n",
      "Using Linear SVC method...\n"
     ]
    },
    {
     "name": "stderr",
     "output_type": "stream",
     "text": [
      "/home/payam/.virtualenvs/nabi/lib/python3.10/site-packages/sklearn/svm/_classes.py:32: FutureWarning: The default value of `dual` will change from `True` to `'auto'` in 1.5. Set the value of `dual` explicitly to suppress the warning.\n",
      "  warnings.warn(\n",
      "/home/payam/.virtualenvs/nabi/lib/python3.10/site-packages/sklearn/svm/_base.py:1242: ConvergenceWarning: Liblinear failed to converge, increase the number of iterations.\n",
      "  warnings.warn(\n"
     ]
    },
    {
     "name": "stdout",
     "output_type": "stream",
     "text": [
      "0.8845349058398326\n",
      "0.37997957099080704\n",
      "27\n",
      "Using Random Forest method...\n"
     ]
    },
    {
     "name": "stderr",
     "output_type": "stream",
     "text": [
      "/tmp/ipykernel_454702/165771129.py:146: FutureWarning: elementwise comparison failed; returning scalar instead, but in the future will perform elementwise comparison\n",
      "  'class0_proba': np.mean(class0_probs) if class0_probs != 'NA' else 'NA',\n",
      "/tmp/ipykernel_454702/165771129.py:147: FutureWarning: elementwise comparison failed; returning scalar instead, but in the future will perform elementwise comparison\n",
      "  'class1_proba': np.mean(class1_probs) if class1_probs != 'NA' else 'NA'\n"
     ]
    },
    {
     "name": "stdout",
     "output_type": "stream",
     "text": [
      "0.8243801652892563\n",
      "0.3911174785100287\n",
      "Using Logistic Regression method...\n"
     ]
    },
    {
     "name": "stderr",
     "output_type": "stream",
     "text": [
      "/home/payam/.virtualenvs/nabi/lib/python3.10/site-packages/sklearn/linear_model/_logistic.py:460: ConvergenceWarning: lbfgs failed to converge (status=1):\n",
      "STOP: TOTAL NO. of ITERATIONS REACHED LIMIT.\n",
      "\n",
      "Increase the number of iterations (max_iter) or scale the data as shown in:\n",
      "    https://scikit-learn.org/stable/modules/preprocessing.html\n",
      "Please also refer to the documentation for alternative solver options:\n",
      "    https://scikit-learn.org/stable/modules/linear_model.html#logistic-regression\n",
      "  n_iter_i = _check_optimize_result(\n",
      "/tmp/ipykernel_454702/165771129.py:146: FutureWarning: elementwise comparison failed; returning scalar instead, but in the future will perform elementwise comparison\n",
      "  'class0_proba': np.mean(class0_probs) if class0_probs != 'NA' else 'NA',\n",
      "/tmp/ipykernel_454702/165771129.py:147: FutureWarning: elementwise comparison failed; returning scalar instead, but in the future will perform elementwise comparison\n",
      "  'class1_proba': np.mean(class1_probs) if class1_probs != 'NA' else 'NA'\n"
     ]
    },
    {
     "name": "stdout",
     "output_type": "stream",
     "text": [
      "0.8203944607637432\n",
      "0.417687074829932\n",
      "Using Gradient Boosting method...\n"
     ]
    },
    {
     "name": "stderr",
     "output_type": "stream",
     "text": [
      "/tmp/ipykernel_454702/165771129.py:146: FutureWarning: elementwise comparison failed; returning scalar instead, but in the future will perform elementwise comparison\n",
      "  'class0_proba': np.mean(class0_probs) if class0_probs != 'NA' else 'NA',\n",
      "/tmp/ipykernel_454702/165771129.py:147: FutureWarning: elementwise comparison failed; returning scalar instead, but in the future will perform elementwise comparison\n",
      "  'class1_proba': np.mean(class1_probs) if class1_probs != 'NA' else 'NA'\n"
     ]
    },
    {
     "name": "stdout",
     "output_type": "stream",
     "text": [
      "0.8456066141126707\n",
      "0.22415458937198066\n",
      "Using Ada Boost method...\n"
     ]
    },
    {
     "name": "stderr",
     "output_type": "stream",
     "text": [
      "/tmp/ipykernel_454702/165771129.py:146: FutureWarning: elementwise comparison failed; returning scalar instead, but in the future will perform elementwise comparison\n",
      "  'class0_proba': np.mean(class0_probs) if class0_probs != 'NA' else 'NA',\n",
      "/tmp/ipykernel_454702/165771129.py:147: FutureWarning: elementwise comparison failed; returning scalar instead, but in the future will perform elementwise comparison\n",
      "  'class1_proba': np.mean(class1_probs) if class1_probs != 'NA' else 'NA'\n"
     ]
    },
    {
     "name": "stdout",
     "output_type": "stream",
     "text": [
      "0.8344706570481576\n",
      "0.2330623306233062\n",
      "Using Perceptron method...\n",
      "0.7816964285714286\n",
      "0.4430523917995445\n",
      "Using SGD method...\n",
      "0.7689463955637708\n",
      "0.47589098532494756\n",
      "Using SVC method...\n",
      "0.8559734944455271\n",
      "0.3312217194570136\n",
      "Using Linear SVC method...\n"
     ]
    },
    {
     "name": "stderr",
     "output_type": "stream",
     "text": [
      "/home/payam/.virtualenvs/nabi/lib/python3.10/site-packages/sklearn/svm/_classes.py:32: FutureWarning: The default value of `dual` will change from `True` to `'auto'` in 1.5. Set the value of `dual` explicitly to suppress the warning.\n",
      "  warnings.warn(\n",
      "/home/payam/.virtualenvs/nabi/lib/python3.10/site-packages/sklearn/svm/_base.py:1242: ConvergenceWarning: Liblinear failed to converge, increase the number of iterations.\n",
      "  warnings.warn(\n"
     ]
    },
    {
     "name": "stdout",
     "output_type": "stream",
     "text": [
      "0.7967833079765267\n",
      "0.4281345565749235\n",
      "Using Random Forest method...\n"
     ]
    },
    {
     "name": "stderr",
     "output_type": "stream",
     "text": [
      "/tmp/ipykernel_454702/165771129.py:146: FutureWarning: elementwise comparison failed; returning scalar instead, but in the future will perform elementwise comparison\n",
      "  'class0_proba': np.mean(class0_probs) if class0_probs != 'NA' else 'NA',\n",
      "/tmp/ipykernel_454702/165771129.py:147: FutureWarning: elementwise comparison failed; returning scalar instead, but in the future will perform elementwise comparison\n",
      "  'class1_proba': np.mean(class1_probs) if class1_probs != 'NA' else 'NA'\n"
     ]
    },
    {
     "name": "stdout",
     "output_type": "stream",
     "text": [
      "0.8172535944988539\n",
      "0.3897007654836465\n",
      "Using Logistic Regression method...\n"
     ]
    },
    {
     "name": "stderr",
     "output_type": "stream",
     "text": [
      "/tmp/ipykernel_454702/165771129.py:146: FutureWarning: elementwise comparison failed; returning scalar instead, but in the future will perform elementwise comparison\n",
      "  'class0_proba': np.mean(class0_probs) if class0_probs != 'NA' else 'NA',\n",
      "/tmp/ipykernel_454702/165771129.py:147: FutureWarning: elementwise comparison failed; returning scalar instead, but in the future will perform elementwise comparison\n",
      "  'class1_proba': np.mean(class1_probs) if class1_probs != 'NA' else 'NA'\n"
     ]
    },
    {
     "name": "stdout",
     "output_type": "stream",
     "text": [
      "0.8109704641350212\n",
      "0.40106951871657753\n",
      "Using Gradient Boosting method...\n"
     ]
    },
    {
     "name": "stderr",
     "output_type": "stream",
     "text": [
      "/tmp/ipykernel_454702/165771129.py:146: FutureWarning: elementwise comparison failed; returning scalar instead, but in the future will perform elementwise comparison\n",
      "  'class0_proba': np.mean(class0_probs) if class0_probs != 'NA' else 'NA',\n",
      "/tmp/ipykernel_454702/165771129.py:147: FutureWarning: elementwise comparison failed; returning scalar instead, but in the future will perform elementwise comparison\n",
      "  'class1_proba': np.mean(class1_probs) if class1_probs != 'NA' else 'NA'\n"
     ]
    },
    {
     "name": "stdout",
     "output_type": "stream",
     "text": [
      "0.8457672980286046\n",
      "0.24858757062146894\n",
      "Using Ada Boost method...\n"
     ]
    },
    {
     "name": "stderr",
     "output_type": "stream",
     "text": [
      "/tmp/ipykernel_454702/165771129.py:146: FutureWarning: elementwise comparison failed; returning scalar instead, but in the future will perform elementwise comparison\n",
      "  'class0_proba': np.mean(class0_probs) if class0_probs != 'NA' else 'NA',\n",
      "/tmp/ipykernel_454702/165771129.py:147: FutureWarning: elementwise comparison failed; returning scalar instead, but in the future will perform elementwise comparison\n",
      "  'class1_proba': np.mean(class1_probs) if class1_probs != 'NA' else 'NA'\n"
     ]
    },
    {
     "name": "stdout",
     "output_type": "stream",
     "text": [
      "0.8391142465216539\n",
      "0.27537511032656664\n",
      "Using Perceptron method...\n",
      "0.7250178869544479\n",
      "0.43563387175721974\n",
      "Using SGD method...\n",
      "0.7820683533067022\n",
      "0.4323699421965318\n",
      "Using SVC method...\n",
      "0.8500391542678153\n",
      "0.32092198581560283\n",
      "Using Linear SVC method...\n"
     ]
    },
    {
     "name": "stderr",
     "output_type": "stream",
     "text": [
      "/home/payam/.virtualenvs/nabi/lib/python3.10/site-packages/sklearn/svm/_classes.py:32: FutureWarning: The default value of `dual` will change from `True` to `'auto'` in 1.5. Set the value of `dual` explicitly to suppress the warning.\n",
      "  warnings.warn(\n",
      "/home/payam/.virtualenvs/nabi/lib/python3.10/site-packages/sklearn/svm/_base.py:1242: ConvergenceWarning: Liblinear failed to converge, increase the number of iterations.\n",
      "  warnings.warn(\n"
     ]
    },
    {
     "name": "stdout",
     "output_type": "stream",
     "text": [
      "0.7981220657276996\n",
      "0.3896774193548387\n",
      "28\n",
      "Using Random Forest method...\n"
     ]
    },
    {
     "name": "stderr",
     "output_type": "stream",
     "text": [
      "/tmp/ipykernel_454702/165771129.py:146: FutureWarning: elementwise comparison failed; returning scalar instead, but in the future will perform elementwise comparison\n",
      "  'class0_proba': np.mean(class0_probs) if class0_probs != 'NA' else 'NA',\n",
      "/tmp/ipykernel_454702/165771129.py:147: FutureWarning: elementwise comparison failed; returning scalar instead, but in the future will perform elementwise comparison\n",
      "  'class1_proba': np.mean(class1_probs) if class1_probs != 'NA' else 'NA'\n"
     ]
    },
    {
     "name": "stdout",
     "output_type": "stream",
     "text": [
      "0.5406102277610657\n",
      "0.7265285239191609\n",
      "Using Logistic Regression method...\n"
     ]
    },
    {
     "name": "stderr",
     "output_type": "stream",
     "text": [
      "/home/payam/.virtualenvs/nabi/lib/python3.10/site-packages/sklearn/linear_model/_logistic.py:460: ConvergenceWarning: lbfgs failed to converge (status=1):\n",
      "STOP: TOTAL NO. of ITERATIONS REACHED LIMIT.\n",
      "\n",
      "Increase the number of iterations (max_iter) or scale the data as shown in:\n",
      "    https://scikit-learn.org/stable/modules/preprocessing.html\n",
      "Please also refer to the documentation for alternative solver options:\n",
      "    https://scikit-learn.org/stable/modules/linear_model.html#logistic-regression\n",
      "  n_iter_i = _check_optimize_result(\n",
      "/tmp/ipykernel_454702/165771129.py:146: FutureWarning: elementwise comparison failed; returning scalar instead, but in the future will perform elementwise comparison\n",
      "  'class0_proba': np.mean(class0_probs) if class0_probs != 'NA' else 'NA',\n",
      "/tmp/ipykernel_454702/165771129.py:147: FutureWarning: elementwise comparison failed; returning scalar instead, but in the future will perform elementwise comparison\n",
      "  'class1_proba': np.mean(class1_probs) if class1_probs != 'NA' else 'NA'\n"
     ]
    },
    {
     "name": "stdout",
     "output_type": "stream",
     "text": [
      "0.5516680227827502\n",
      "0.7083112758073056\n",
      "Using Gradient Boosting method...\n"
     ]
    },
    {
     "name": "stderr",
     "output_type": "stream",
     "text": [
      "/tmp/ipykernel_454702/165771129.py:146: FutureWarning: elementwise comparison failed; returning scalar instead, but in the future will perform elementwise comparison\n",
      "  'class0_proba': np.mean(class0_probs) if class0_probs != 'NA' else 'NA',\n",
      "/tmp/ipykernel_454702/165771129.py:147: FutureWarning: elementwise comparison failed; returning scalar instead, but in the future will perform elementwise comparison\n",
      "  'class1_proba': np.mean(class1_probs) if class1_probs != 'NA' else 'NA'\n"
     ]
    },
    {
     "name": "stdout",
     "output_type": "stream",
     "text": [
      "0.5116063138347261\n",
      "0.7422831945124938\n",
      "Using Ada Boost method...\n"
     ]
    },
    {
     "name": "stderr",
     "output_type": "stream",
     "text": [
      "/tmp/ipykernel_454702/165771129.py:146: FutureWarning: elementwise comparison failed; returning scalar instead, but in the future will perform elementwise comparison\n",
      "  'class0_proba': np.mean(class0_probs) if class0_probs != 'NA' else 'NA',\n",
      "/tmp/ipykernel_454702/165771129.py:147: FutureWarning: elementwise comparison failed; returning scalar instead, but in the future will perform elementwise comparison\n",
      "  'class1_proba': np.mean(class1_probs) if class1_probs != 'NA' else 'NA'\n"
     ]
    },
    {
     "name": "stdout",
     "output_type": "stream",
     "text": [
      "0.4785165083672546\n",
      "0.7135403726708075\n",
      "Using Perceptron method...\n",
      "0.30751708428246016\n",
      "0.7285714285714285\n",
      "Using SGD method...\n",
      "0.5875666074600355\n",
      "0.6606255480853552\n",
      "Using SVC method...\n",
      "0.5614973262032086\n",
      "0.7535070140280561\n",
      "Using Linear SVC method...\n"
     ]
    },
    {
     "name": "stderr",
     "output_type": "stream",
     "text": [
      "/home/payam/.virtualenvs/nabi/lib/python3.10/site-packages/sklearn/svm/_classes.py:32: FutureWarning: The default value of `dual` will change from `True` to `'auto'` in 1.5. Set the value of `dual` explicitly to suppress the warning.\n",
      "  warnings.warn(\n",
      "/home/payam/.virtualenvs/nabi/lib/python3.10/site-packages/sklearn/svm/_base.py:1242: ConvergenceWarning: Liblinear failed to converge, increase the number of iterations.\n",
      "  warnings.warn(\n"
     ]
    },
    {
     "name": "stdout",
     "output_type": "stream",
     "text": [
      "0.599021207177814\n",
      "0.6124251024913276\n",
      "Using Random Forest method...\n"
     ]
    },
    {
     "name": "stderr",
     "output_type": "stream",
     "text": [
      "/tmp/ipykernel_454702/165771129.py:146: FutureWarning: elementwise comparison failed; returning scalar instead, but in the future will perform elementwise comparison\n",
      "  'class0_proba': np.mean(class0_probs) if class0_probs != 'NA' else 'NA',\n",
      "/tmp/ipykernel_454702/165771129.py:147: FutureWarning: elementwise comparison failed; returning scalar instead, but in the future will perform elementwise comparison\n",
      "  'class1_proba': np.mean(class1_probs) if class1_probs != 'NA' else 'NA'\n"
     ]
    },
    {
     "name": "stdout",
     "output_type": "stream",
     "text": [
      "0.5459940652818992\n",
      "0.7237554810420427\n",
      "Using Logistic Regression method...\n"
     ]
    },
    {
     "name": "stderr",
     "output_type": "stream",
     "text": [
      "/tmp/ipykernel_454702/165771129.py:146: FutureWarning: elementwise comparison failed; returning scalar instead, but in the future will perform elementwise comparison\n",
      "  'class0_proba': np.mean(class0_probs) if class0_probs != 'NA' else 'NA',\n",
      "/tmp/ipykernel_454702/165771129.py:147: FutureWarning: elementwise comparison failed; returning scalar instead, but in the future will perform elementwise comparison\n",
      "  'class1_proba': np.mean(class1_probs) if class1_probs != 'NA' else 'NA'\n"
     ]
    },
    {
     "name": "stdout",
     "output_type": "stream",
     "text": [
      "0.5447912444264289\n",
      "0.7020429822234014\n",
      "Using Gradient Boosting method...\n"
     ]
    },
    {
     "name": "stderr",
     "output_type": "stream",
     "text": [
      "/tmp/ipykernel_454702/165771129.py:146: FutureWarning: elementwise comparison failed; returning scalar instead, but in the future will perform elementwise comparison\n",
      "  'class0_proba': np.mean(class0_probs) if class0_probs != 'NA' else 'NA',\n",
      "/tmp/ipykernel_454702/165771129.py:147: FutureWarning: elementwise comparison failed; returning scalar instead, but in the future will perform elementwise comparison\n",
      "  'class1_proba': np.mean(class1_probs) if class1_probs != 'NA' else 'NA'\n"
     ]
    },
    {
     "name": "stdout",
     "output_type": "stream",
     "text": [
      "0.46454069490718713\n",
      "0.7279322853688028\n",
      "Using Ada Boost method...\n"
     ]
    },
    {
     "name": "stderr",
     "output_type": "stream",
     "text": [
      "/tmp/ipykernel_454702/165771129.py:146: FutureWarning: elementwise comparison failed; returning scalar instead, but in the future will perform elementwise comparison\n",
      "  'class0_proba': np.mean(class0_probs) if class0_probs != 'NA' else 'NA',\n",
      "/tmp/ipykernel_454702/165771129.py:147: FutureWarning: elementwise comparison failed; returning scalar instead, but in the future will perform elementwise comparison\n",
      "  'class1_proba': np.mean(class1_probs) if class1_probs != 'NA' else 'NA'\n"
     ]
    },
    {
     "name": "stdout",
     "output_type": "stream",
     "text": [
      "0.45112107623318387\n",
      "0.6944583125312032\n",
      "Using Perceptron method...\n",
      "0.5933660933660935\n",
      "0.5557046979865772\n",
      "Using SGD method...\n",
      "0.5214827295703454\n",
      "0.7058518902123253\n",
      "Using SVC method...\n",
      "0.5333333333333333\n",
      "0.7420318725099602\n",
      "Using Linear SVC method...\n"
     ]
    },
    {
     "name": "stderr",
     "output_type": "stream",
     "text": [
      "/home/payam/.virtualenvs/nabi/lib/python3.10/site-packages/sklearn/svm/_classes.py:32: FutureWarning: The default value of `dual` will change from `True` to `'auto'` in 1.5. Set the value of `dual` explicitly to suppress the warning.\n",
      "  warnings.warn(\n",
      "/home/payam/.virtualenvs/nabi/lib/python3.10/site-packages/sklearn/svm/_base.py:1242: ConvergenceWarning: Liblinear failed to converge, increase the number of iterations.\n",
      "  warnings.warn(\n"
     ]
    },
    {
     "name": "stdout",
     "output_type": "stream",
     "text": [
      "0.5811537083482623\n",
      "0.6606676342525399\n",
      "29\n",
      "Using Random Forest method...\n"
     ]
    },
    {
     "name": "stderr",
     "output_type": "stream",
     "text": [
      "/tmp/ipykernel_454702/165771129.py:146: FutureWarning: elementwise comparison failed; returning scalar instead, but in the future will perform elementwise comparison\n",
      "  'class0_proba': np.mean(class0_probs) if class0_probs != 'NA' else 'NA',\n",
      "/tmp/ipykernel_454702/165771129.py:147: FutureWarning: elementwise comparison failed; returning scalar instead, but in the future will perform elementwise comparison\n",
      "  'class1_proba': np.mean(class1_probs) if class1_probs != 'NA' else 'NA'\n"
     ]
    },
    {
     "name": "stdout",
     "output_type": "stream",
     "text": [
      "0.9169004207573632\n",
      "0.10902255639097745\n",
      "Using Logistic Regression method...\n"
     ]
    },
    {
     "name": "stderr",
     "output_type": "stream",
     "text": [
      "/home/payam/.virtualenvs/nabi/lib/python3.10/site-packages/sklearn/linear_model/_logistic.py:460: ConvergenceWarning: lbfgs failed to converge (status=1):\n",
      "STOP: TOTAL NO. of ITERATIONS REACHED LIMIT.\n",
      "\n",
      "Increase the number of iterations (max_iter) or scale the data as shown in:\n",
      "    https://scikit-learn.org/stable/modules/preprocessing.html\n",
      "Please also refer to the documentation for alternative solver options:\n",
      "    https://scikit-learn.org/stable/modules/linear_model.html#logistic-regression\n",
      "  n_iter_i = _check_optimize_result(\n",
      "/tmp/ipykernel_454702/165771129.py:146: FutureWarning: elementwise comparison failed; returning scalar instead, but in the future will perform elementwise comparison\n",
      "  'class0_proba': np.mean(class0_probs) if class0_probs != 'NA' else 'NA',\n",
      "/tmp/ipykernel_454702/165771129.py:147: FutureWarning: elementwise comparison failed; returning scalar instead, but in the future will perform elementwise comparison\n",
      "  'class1_proba': np.mean(class1_probs) if class1_probs != 'NA' else 'NA'\n"
     ]
    },
    {
     "name": "stdout",
     "output_type": "stream",
     "text": [
      "0.9058614564831261\n",
      "0.1254125412541254\n",
      "Using Gradient Boosting method...\n"
     ]
    },
    {
     "name": "stderr",
     "output_type": "stream",
     "text": [
      "/tmp/ipykernel_454702/165771129.py:146: FutureWarning: elementwise comparison failed; returning scalar instead, but in the future will perform elementwise comparison\n",
      "  'class0_proba': np.mean(class0_probs) if class0_probs != 'NA' else 'NA',\n",
      "/tmp/ipykernel_454702/165771129.py:147: FutureWarning: elementwise comparison failed; returning scalar instead, but in the future will perform elementwise comparison\n",
      "  'class1_proba': np.mean(class1_probs) if class1_probs != 'NA' else 'NA'\n"
     ]
    },
    {
     "name": "stdout",
     "output_type": "stream",
     "text": [
      "0.9394351820347057\n",
      "0.00558659217877095\n",
      "Using Ada Boost method...\n"
     ]
    },
    {
     "name": "stderr",
     "output_type": "stream",
     "text": [
      "/tmp/ipykernel_454702/165771129.py:146: FutureWarning: elementwise comparison failed; returning scalar instead, but in the future will perform elementwise comparison\n",
      "  'class0_proba': np.mean(class0_probs) if class0_probs != 'NA' else 'NA',\n",
      "/tmp/ipykernel_454702/165771129.py:147: FutureWarning: elementwise comparison failed; returning scalar instead, but in the future will perform elementwise comparison\n",
      "  'class1_proba': np.mean(class1_probs) if class1_probs != 'NA' else 'NA'\n"
     ]
    },
    {
     "name": "stdout",
     "output_type": "stream",
     "text": [
      "0.9394351820347057\n",
      "0.00558659217877095\n",
      "Using Perceptron method...\n",
      "0.8819558474730889\n",
      "0.14304635761589404\n",
      "Using SGD method...\n",
      "0.8629726694122052\n",
      "0.18120805369127518\n",
      "Using SVC method...\n",
      "0.9383304940374788\n",
      "0.010928961748633878\n",
      "Using Linear SVC method...\n"
     ]
    },
    {
     "name": "stderr",
     "output_type": "stream",
     "text": [
      "/home/payam/.virtualenvs/nabi/lib/python3.10/site-packages/sklearn/svm/_classes.py:32: FutureWarning: The default value of `dual` will change from `True` to `'auto'` in 1.5. Set the value of `dual` explicitly to suppress the warning.\n",
      "  warnings.warn(\n",
      "/home/payam/.virtualenvs/nabi/lib/python3.10/site-packages/sklearn/svm/_base.py:1242: ConvergenceWarning: Liblinear failed to converge, increase the number of iterations.\n",
      "  warnings.warn(\n"
     ]
    },
    {
     "name": "stdout",
     "output_type": "stream",
     "text": [
      "0.8808518450523224\n",
      "0.1774397972116603\n",
      "Using Random Forest method...\n"
     ]
    },
    {
     "name": "stderr",
     "output_type": "stream",
     "text": [
      "/tmp/ipykernel_454702/165771129.py:146: FutureWarning: elementwise comparison failed; returning scalar instead, but in the future will perform elementwise comparison\n",
      "  'class0_proba': np.mean(class0_probs) if class0_probs != 'NA' else 'NA',\n",
      "/tmp/ipykernel_454702/165771129.py:147: FutureWarning: elementwise comparison failed; returning scalar instead, but in the future will perform elementwise comparison\n",
      "  'class1_proba': np.mean(class1_probs) if class1_probs != 'NA' else 'NA'\n"
     ]
    },
    {
     "name": "stdout",
     "output_type": "stream",
     "text": [
      "0.9194595543077734\n",
      "0.14525139664804468\n",
      "Using Logistic Regression method...\n"
     ]
    },
    {
     "name": "stderr",
     "output_type": "stream",
     "text": [
      "/home/payam/.virtualenvs/nabi/lib/python3.10/site-packages/sklearn/linear_model/_logistic.py:460: ConvergenceWarning: lbfgs failed to converge (status=1):\n",
      "STOP: TOTAL NO. of ITERATIONS REACHED LIMIT.\n",
      "\n",
      "Increase the number of iterations (max_iter) or scale the data as shown in:\n",
      "    https://scikit-learn.org/stable/modules/preprocessing.html\n",
      "Please also refer to the documentation for alternative solver options:\n",
      "    https://scikit-learn.org/stable/modules/linear_model.html#logistic-regression\n",
      "  n_iter_i = _check_optimize_result(\n",
      "/tmp/ipykernel_454702/165771129.py:146: FutureWarning: elementwise comparison failed; returning scalar instead, but in the future will perform elementwise comparison\n",
      "  'class0_proba': np.mean(class0_probs) if class0_probs != 'NA' else 'NA',\n",
      "/tmp/ipykernel_454702/165771129.py:147: FutureWarning: elementwise comparison failed; returning scalar instead, but in the future will perform elementwise comparison\n",
      "  'class1_proba': np.mean(class1_probs) if class1_probs != 'NA' else 'NA'\n"
     ]
    },
    {
     "name": "stdout",
     "output_type": "stream",
     "text": [
      "0.909541511771995\n",
      "0.12947189097103917\n",
      "Using Gradient Boosting method...\n"
     ]
    },
    {
     "name": "stderr",
     "output_type": "stream",
     "text": [
      "/tmp/ipykernel_454702/165771129.py:146: FutureWarning: elementwise comparison failed; returning scalar instead, but in the future will perform elementwise comparison\n",
      "  'class0_proba': np.mean(class0_probs) if class0_probs != 'NA' else 'NA',\n",
      "/tmp/ipykernel_454702/165771129.py:147: FutureWarning: elementwise comparison failed; returning scalar instead, but in the future will perform elementwise comparison\n",
      "  'class1_proba': np.mean(class1_probs) if class1_probs != 'NA' else 'NA'\n"
     ]
    },
    {
     "name": "stdout",
     "output_type": "stream",
     "text": [
      "0.9381917248424996\n",
      "0.0\n",
      "Using Ada Boost method...\n"
     ]
    },
    {
     "name": "stderr",
     "output_type": "stream",
     "text": [
      "/tmp/ipykernel_454702/165771129.py:146: FutureWarning: elementwise comparison failed; returning scalar instead, but in the future will perform elementwise comparison\n",
      "  'class0_proba': np.mean(class0_probs) if class0_probs != 'NA' else 'NA',\n",
      "/tmp/ipykernel_454702/165771129.py:147: FutureWarning: elementwise comparison failed; returning scalar instead, but in the future will perform elementwise comparison\n",
      "  'class1_proba': np.mean(class1_probs) if class1_probs != 'NA' else 'NA'\n"
     ]
    },
    {
     "name": "stdout",
     "output_type": "stream",
     "text": [
      "0.9392547217968351\n",
      "0.005571030640668524\n",
      "Using Perceptron method...\n",
      "0.869063140249581\n",
      "0.18915801614763553\n",
      "Using SGD method...\n",
      "0.9165790396074308\n",
      "0.1018867924528302\n",
      "Using SVC method...\n",
      "0.9379474940334128\n",
      "0.016216216216216217\n",
      "Using Linear SVC method...\n"
     ]
    },
    {
     "name": "stderr",
     "output_type": "stream",
     "text": [
      "/home/payam/.virtualenvs/nabi/lib/python3.10/site-packages/sklearn/svm/_classes.py:32: FutureWarning: The default value of `dual` will change from `True` to `'auto'` in 1.5. Set the value of `dual` explicitly to suppress the warning.\n",
      "  warnings.warn(\n",
      "/home/payam/.virtualenvs/nabi/lib/python3.10/site-packages/sklearn/svm/_base.py:1242: ConvergenceWarning: Liblinear failed to converge, increase the number of iterations.\n",
      "  warnings.warn(\n"
     ]
    },
    {
     "name": "stdout",
     "output_type": "stream",
     "text": [
      "0.9131810193321618\n",
      "0.09523809523809525\n",
      "30\n",
      "Using Random Forest method...\n"
     ]
    },
    {
     "name": "stderr",
     "output_type": "stream",
     "text": [
      "/tmp/ipykernel_454702/165771129.py:146: FutureWarning: elementwise comparison failed; returning scalar instead, but in the future will perform elementwise comparison\n",
      "  'class0_proba': np.mean(class0_probs) if class0_probs != 'NA' else 'NA',\n",
      "/tmp/ipykernel_454702/165771129.py:147: FutureWarning: elementwise comparison failed; returning scalar instead, but in the future will perform elementwise comparison\n",
      "  'class1_proba': np.mean(class1_probs) if class1_probs != 'NA' else 'NA'\n"
     ]
    },
    {
     "name": "stdout",
     "output_type": "stream",
     "text": [
      "0.7542802025560645\n",
      "0.5122067975107707\n",
      "Using Logistic Regression method...\n"
     ]
    },
    {
     "name": "stderr",
     "output_type": "stream",
     "text": [
      "/home/payam/.virtualenvs/nabi/lib/python3.10/site-packages/sklearn/linear_model/_logistic.py:460: ConvergenceWarning: lbfgs failed to converge (status=1):\n",
      "STOP: TOTAL NO. of ITERATIONS REACHED LIMIT.\n",
      "\n",
      "Increase the number of iterations (max_iter) or scale the data as shown in:\n",
      "    https://scikit-learn.org/stable/modules/preprocessing.html\n",
      "Please also refer to the documentation for alternative solver options:\n",
      "    https://scikit-learn.org/stable/modules/linear_model.html#logistic-regression\n",
      "  n_iter_i = _check_optimize_result(\n",
      "/tmp/ipykernel_454702/165771129.py:146: FutureWarning: elementwise comparison failed; returning scalar instead, but in the future will perform elementwise comparison\n",
      "  'class0_proba': np.mean(class0_probs) if class0_probs != 'NA' else 'NA',\n",
      "/tmp/ipykernel_454702/165771129.py:147: FutureWarning: elementwise comparison failed; returning scalar instead, but in the future will perform elementwise comparison\n",
      "  'class1_proba': np.mean(class1_probs) if class1_probs != 'NA' else 'NA'\n"
     ]
    },
    {
     "name": "stdout",
     "output_type": "stream",
     "text": [
      "0.7287589794401784\n",
      "0.5020463847203274\n",
      "Using Gradient Boosting method...\n"
     ]
    },
    {
     "name": "stderr",
     "output_type": "stream",
     "text": [
      "/tmp/ipykernel_454702/165771129.py:146: FutureWarning: elementwise comparison failed; returning scalar instead, but in the future will perform elementwise comparison\n",
      "  'class0_proba': np.mean(class0_probs) if class0_probs != 'NA' else 'NA',\n",
      "/tmp/ipykernel_454702/165771129.py:147: FutureWarning: elementwise comparison failed; returning scalar instead, but in the future will perform elementwise comparison\n",
      "  'class1_proba': np.mean(class1_probs) if class1_probs != 'NA' else 'NA'\n"
     ]
    },
    {
     "name": "stdout",
     "output_type": "stream",
     "text": [
      "0.782495101241019\n",
      "0.39196591600730374\n",
      "Using Ada Boost method...\n"
     ]
    },
    {
     "name": "stderr",
     "output_type": "stream",
     "text": [
      "/tmp/ipykernel_454702/165771129.py:146: FutureWarning: elementwise comparison failed; returning scalar instead, but in the future will perform elementwise comparison\n",
      "  'class0_proba': np.mean(class0_probs) if class0_probs != 'NA' else 'NA',\n",
      "/tmp/ipykernel_454702/165771129.py:147: FutureWarning: elementwise comparison failed; returning scalar instead, but in the future will perform elementwise comparison\n",
      "  'class1_proba': np.mean(class1_probs) if class1_probs != 'NA' else 'NA'\n"
     ]
    },
    {
     "name": "stdout",
     "output_type": "stream",
     "text": [
      "0.7636925795053002\n",
      "0.373536299765808\n",
      "Using Perceptron method...\n",
      "0.7699530516431926\n",
      "0.30451612903225805\n",
      "Using SGD method...\n",
      "0.665929814865985\n",
      "0.5380206343141001\n",
      "Using SVC method...\n",
      "0.7933884297520662\n",
      "0.47413303013075614\n",
      "Using Linear SVC method...\n"
     ]
    },
    {
     "name": "stderr",
     "output_type": "stream",
     "text": [
      "/home/payam/.virtualenvs/nabi/lib/python3.10/site-packages/sklearn/svm/_classes.py:32: FutureWarning: The default value of `dual` will change from `True` to `'auto'` in 1.5. Set the value of `dual` explicitly to suppress the warning.\n",
      "  warnings.warn(\n",
      "/home/payam/.virtualenvs/nabi/lib/python3.10/site-packages/sklearn/svm/_base.py:1242: ConvergenceWarning: Liblinear failed to converge, increase the number of iterations.\n",
      "  warnings.warn(\n"
     ]
    },
    {
     "name": "stdout",
     "output_type": "stream",
     "text": [
      "0.7529357586921482\n",
      "0.43317485472794504\n",
      "Using Random Forest method...\n"
     ]
    },
    {
     "name": "stderr",
     "output_type": "stream",
     "text": [
      "/tmp/ipykernel_454702/165771129.py:146: FutureWarning: elementwise comparison failed; returning scalar instead, but in the future will perform elementwise comparison\n",
      "  'class0_proba': np.mean(class0_probs) if class0_probs != 'NA' else 'NA',\n",
      "/tmp/ipykernel_454702/165771129.py:147: FutureWarning: elementwise comparison failed; returning scalar instead, but in the future will perform elementwise comparison\n",
      "  'class1_proba': np.mean(class1_probs) if class1_probs != 'NA' else 'NA'\n"
     ]
    },
    {
     "name": "stdout",
     "output_type": "stream",
     "text": [
      "0.7622478386167146\n",
      "0.5222007722007722\n",
      "Using Logistic Regression method...\n"
     ]
    },
    {
     "name": "stderr",
     "output_type": "stream",
     "text": [
      "/tmp/ipykernel_454702/165771129.py:146: FutureWarning: elementwise comparison failed; returning scalar instead, but in the future will perform elementwise comparison\n",
      "  'class0_proba': np.mean(class0_probs) if class0_probs != 'NA' else 'NA',\n",
      "/tmp/ipykernel_454702/165771129.py:147: FutureWarning: elementwise comparison failed; returning scalar instead, but in the future will perform elementwise comparison\n",
      "  'class1_proba': np.mean(class1_probs) if class1_probs != 'NA' else 'NA'\n"
     ]
    },
    {
     "name": "stdout",
     "output_type": "stream",
     "text": [
      "0.7362262311067771\n",
      "0.49297094657919405\n",
      "Using Gradient Boosting method...\n"
     ]
    },
    {
     "name": "stderr",
     "output_type": "stream",
     "text": [
      "/tmp/ipykernel_454702/165771129.py:146: FutureWarning: elementwise comparison failed; returning scalar instead, but in the future will perform elementwise comparison\n",
      "  'class0_proba': np.mean(class0_probs) if class0_probs != 'NA' else 'NA',\n",
      "/tmp/ipykernel_454702/165771129.py:147: FutureWarning: elementwise comparison failed; returning scalar instead, but in the future will perform elementwise comparison\n",
      "  'class1_proba': np.mean(class1_probs) if class1_probs != 'NA' else 'NA'\n"
     ]
    },
    {
     "name": "stdout",
     "output_type": "stream",
     "text": [
      "0.785220397579948\n",
      "0.3818407960199005\n",
      "Using Ada Boost method...\n"
     ]
    },
    {
     "name": "stderr",
     "output_type": "stream",
     "text": [
      "/tmp/ipykernel_454702/165771129.py:146: FutureWarning: elementwise comparison failed; returning scalar instead, but in the future will perform elementwise comparison\n",
      "  'class0_proba': np.mean(class0_probs) if class0_probs != 'NA' else 'NA',\n",
      "/tmp/ipykernel_454702/165771129.py:147: FutureWarning: elementwise comparison failed; returning scalar instead, but in the future will perform elementwise comparison\n",
      "  'class1_proba': np.mean(class1_probs) if class1_probs != 'NA' else 'NA'\n"
     ]
    },
    {
     "name": "stdout",
     "output_type": "stream",
     "text": [
      "0.7649789962414327\n",
      "0.3794512551079977\n",
      "Using Perceptron method...\n",
      "0.7210321324245377\n",
      "0.46146616541353386\n",
      "Using SGD method...\n",
      "0.6462489463332396\n",
      "0.5296974224878596\n",
      "Using SVC method...\n",
      "0.798671096345515\n",
      "0.47181871005229514\n",
      "Using Linear SVC method...\n"
     ]
    },
    {
     "name": "stderr",
     "output_type": "stream",
     "text": [
      "/home/payam/.virtualenvs/nabi/lib/python3.10/site-packages/sklearn/svm/_classes.py:32: FutureWarning: The default value of `dual` will change from `True` to `'auto'` in 1.5. Set the value of `dual` explicitly to suppress the warning.\n",
      "  warnings.warn(\n",
      "/home/payam/.virtualenvs/nabi/lib/python3.10/site-packages/sklearn/svm/_base.py:1242: ConvergenceWarning: Liblinear failed to converge, increase the number of iterations.\n",
      "  warnings.warn(\n"
     ]
    },
    {
     "name": "stdout",
     "output_type": "stream",
     "text": [
      "0.7723281216534591\n",
      "0.32163369495851946\n",
      "31\n",
      "Using Random Forest method...\n"
     ]
    },
    {
     "name": "stderr",
     "output_type": "stream",
     "text": [
      "/tmp/ipykernel_454702/165771129.py:146: FutureWarning: elementwise comparison failed; returning scalar instead, but in the future will perform elementwise comparison\n",
      "  'class0_proba': np.mean(class0_probs) if class0_probs != 'NA' else 'NA',\n",
      "/tmp/ipykernel_454702/165771129.py:147: FutureWarning: elementwise comparison failed; returning scalar instead, but in the future will perform elementwise comparison\n",
      "  'class1_proba': np.mean(class1_probs) if class1_probs != 'NA' else 'NA'\n"
     ]
    },
    {
     "name": "stdout",
     "output_type": "stream",
     "text": [
      "0.8205128205128205\n",
      "0.46015424164524427\n",
      "Using Logistic Regression method...\n"
     ]
    },
    {
     "name": "stderr",
     "output_type": "stream",
     "text": [
      "/home/payam/.virtualenvs/nabi/lib/python3.10/site-packages/sklearn/linear_model/_logistic.py:460: ConvergenceWarning: lbfgs failed to converge (status=1):\n",
      "STOP: TOTAL NO. of ITERATIONS REACHED LIMIT.\n",
      "\n",
      "Increase the number of iterations (max_iter) or scale the data as shown in:\n",
      "    https://scikit-learn.org/stable/modules/preprocessing.html\n",
      "Please also refer to the documentation for alternative solver options:\n",
      "    https://scikit-learn.org/stable/modules/linear_model.html#logistic-regression\n",
      "  n_iter_i = _check_optimize_result(\n",
      "/tmp/ipykernel_454702/165771129.py:146: FutureWarning: elementwise comparison failed; returning scalar instead, but in the future will perform elementwise comparison\n",
      "  'class0_proba': np.mean(class0_probs) if class0_probs != 'NA' else 'NA',\n",
      "/tmp/ipykernel_454702/165771129.py:147: FutureWarning: elementwise comparison failed; returning scalar instead, but in the future will perform elementwise comparison\n",
      "  'class1_proba': np.mean(class1_probs) if class1_probs != 'NA' else 'NA'\n"
     ]
    },
    {
     "name": "stdout",
     "output_type": "stream",
     "text": [
      "0.7940533449934413\n",
      "0.4332129963898917\n",
      "Using Gradient Boosting method...\n"
     ]
    },
    {
     "name": "stderr",
     "output_type": "stream",
     "text": [
      "/tmp/ipykernel_454702/165771129.py:146: FutureWarning: elementwise comparison failed; returning scalar instead, but in the future will perform elementwise comparison\n",
      "  'class0_proba': np.mean(class0_probs) if class0_probs != 'NA' else 'NA',\n",
      "/tmp/ipykernel_454702/165771129.py:147: FutureWarning: elementwise comparison failed; returning scalar instead, but in the future will perform elementwise comparison\n",
      "  'class1_proba': np.mean(class1_probs) if class1_probs != 'NA' else 'NA'\n"
     ]
    },
    {
     "name": "stdout",
     "output_type": "stream",
     "text": [
      "0.8363851151801536\n",
      "0.28176318063958516\n",
      "Using Ada Boost method...\n"
     ]
    },
    {
     "name": "stderr",
     "output_type": "stream",
     "text": [
      "/tmp/ipykernel_454702/165771129.py:146: FutureWarning: elementwise comparison failed; returning scalar instead, but in the future will perform elementwise comparison\n",
      "  'class0_proba': np.mean(class0_probs) if class0_probs != 'NA' else 'NA',\n",
      "/tmp/ipykernel_454702/165771129.py:147: FutureWarning: elementwise comparison failed; returning scalar instead, but in the future will perform elementwise comparison\n",
      "  'class1_proba': np.mean(class1_probs) if class1_probs != 'NA' else 'NA'\n"
     ]
    },
    {
     "name": "stdout",
     "output_type": "stream",
     "text": [
      "0.8178528347406514\n",
      "0.28209191759112523\n",
      "Using Perceptron method...\n",
      "0.7949718248807977\n",
      "0.41676942046855736\n",
      "Using SGD method...\n",
      "0.4189776144336786\n",
      "0.463768115942029\n",
      "Using SVC method...\n",
      "0.842274462527627\n",
      "0.3764892772041303\n",
      "Using Linear SVC method...\n"
     ]
    },
    {
     "name": "stderr",
     "output_type": "stream",
     "text": [
      "/home/payam/.virtualenvs/nabi/lib/python3.10/site-packages/sklearn/svm/_classes.py:32: FutureWarning: The default value of `dual` will change from `True` to `'auto'` in 1.5. Set the value of `dual` explicitly to suppress the warning.\n",
      "  warnings.warn(\n",
      "/home/payam/.virtualenvs/nabi/lib/python3.10/site-packages/sklearn/svm/_base.py:1242: ConvergenceWarning: Liblinear failed to converge, increase the number of iterations.\n",
      "  warnings.warn(\n"
     ]
    },
    {
     "name": "stdout",
     "output_type": "stream",
     "text": [
      "0.7712801986904493\n",
      "0.4394023242944106\n",
      "Using Random Forest method...\n"
     ]
    },
    {
     "name": "stderr",
     "output_type": "stream",
     "text": [
      "/tmp/ipykernel_454702/165771129.py:146: FutureWarning: elementwise comparison failed; returning scalar instead, but in the future will perform elementwise comparison\n",
      "  'class0_proba': np.mean(class0_probs) if class0_probs != 'NA' else 'NA',\n",
      "/tmp/ipykernel_454702/165771129.py:147: FutureWarning: elementwise comparison failed; returning scalar instead, but in the future will perform elementwise comparison\n",
      "  'class1_proba': np.mean(class1_probs) if class1_probs != 'NA' else 'NA'\n"
     ]
    },
    {
     "name": "stdout",
     "output_type": "stream",
     "text": [
      "0.8133645456480102\n",
      "0.42940793754066364\n",
      "Using Logistic Regression method...\n"
     ]
    },
    {
     "name": "stderr",
     "output_type": "stream",
     "text": [
      "/tmp/ipykernel_454702/165771129.py:146: FutureWarning: elementwise comparison failed; returning scalar instead, but in the future will perform elementwise comparison\n",
      "  'class0_proba': np.mean(class0_probs) if class0_probs != 'NA' else 'NA',\n",
      "/tmp/ipykernel_454702/165771129.py:147: FutureWarning: elementwise comparison failed; returning scalar instead, but in the future will perform elementwise comparison\n",
      "  'class1_proba': np.mean(class1_probs) if class1_probs != 'NA' else 'NA'\n"
     ]
    },
    {
     "name": "stdout",
     "output_type": "stream",
     "text": [
      "0.8008611410118407\n",
      "0.41860465116279066\n",
      "Using Gradient Boosting method...\n"
     ]
    },
    {
     "name": "stderr",
     "output_type": "stream",
     "text": [
      "/tmp/ipykernel_454702/165771129.py:146: FutureWarning: elementwise comparison failed; returning scalar instead, but in the future will perform elementwise comparison\n",
      "  'class0_proba': np.mean(class0_probs) if class0_probs != 'NA' else 'NA',\n",
      "/tmp/ipykernel_454702/165771129.py:147: FutureWarning: elementwise comparison failed; returning scalar instead, but in the future will perform elementwise comparison\n",
      "  'class1_proba': np.mean(class1_probs) if class1_probs != 'NA' else 'NA'\n"
     ]
    },
    {
     "name": "stdout",
     "output_type": "stream",
     "text": [
      "0.8333988212180746\n",
      "0.2600349040139616\n",
      "Using Ada Boost method...\n"
     ]
    },
    {
     "name": "stderr",
     "output_type": "stream",
     "text": [
      "/tmp/ipykernel_454702/165771129.py:146: FutureWarning: elementwise comparison failed; returning scalar instead, but in the future will perform elementwise comparison\n",
      "  'class0_proba': np.mean(class0_probs) if class0_probs != 'NA' else 'NA',\n",
      "/tmp/ipykernel_454702/165771129.py:147: FutureWarning: elementwise comparison failed; returning scalar instead, but in the future will perform elementwise comparison\n",
      "  'class1_proba': np.mean(class1_probs) if class1_probs != 'NA' else 'NA'\n"
     ]
    },
    {
     "name": "stdout",
     "output_type": "stream",
     "text": [
      "0.8165046617734576\n",
      "0.22594142259414227\n",
      "Using Perceptron method...\n",
      "0.7817745803357313\n",
      "0.39296543359611885\n",
      "Using SGD method...\n",
      "0.6054421768707483\n",
      "0.4859675036927621\n",
      "Using SVC method...\n",
      "0.8413047828697219\n",
      "0.35996771589991927\n",
      "Using Linear SVC method...\n"
     ]
    },
    {
     "name": "stderr",
     "output_type": "stream",
     "text": [
      "/home/payam/.virtualenvs/nabi/lib/python3.10/site-packages/sklearn/svm/_classes.py:32: FutureWarning: The default value of `dual` will change from `True` to `'auto'` in 1.5. Set the value of `dual` explicitly to suppress the warning.\n",
      "  warnings.warn(\n",
      "/home/payam/.virtualenvs/nabi/lib/python3.10/site-packages/sklearn/svm/_base.py:1242: ConvergenceWarning: Liblinear failed to converge, increase the number of iterations.\n",
      "  warnings.warn(\n"
     ]
    },
    {
     "name": "stdout",
     "output_type": "stream",
     "text": [
      "0.8192078801559615\n",
      "0.35363169479090245\n",
      "32\n",
      "Using Random Forest method...\n"
     ]
    },
    {
     "name": "stderr",
     "output_type": "stream",
     "text": [
      "/tmp/ipykernel_454702/165771129.py:146: FutureWarning: elementwise comparison failed; returning scalar instead, but in the future will perform elementwise comparison\n",
      "  'class0_proba': np.mean(class0_probs) if class0_probs != 'NA' else 'NA',\n",
      "/tmp/ipykernel_454702/165771129.py:147: FutureWarning: elementwise comparison failed; returning scalar instead, but in the future will perform elementwise comparison\n",
      "  'class1_proba': np.mean(class1_probs) if class1_probs != 'NA' else 'NA'\n"
     ]
    },
    {
     "name": "stdout",
     "output_type": "stream",
     "text": [
      "0.8930421909696521\n",
      "0.3052884615384615\n",
      "Using Logistic Regression method...\n"
     ]
    },
    {
     "name": "stderr",
     "output_type": "stream",
     "text": [
      "/home/payam/.virtualenvs/nabi/lib/python3.10/site-packages/sklearn/linear_model/_logistic.py:460: ConvergenceWarning: lbfgs failed to converge (status=1):\n",
      "STOP: TOTAL NO. of ITERATIONS REACHED LIMIT.\n",
      "\n",
      "Increase the number of iterations (max_iter) or scale the data as shown in:\n",
      "    https://scikit-learn.org/stable/modules/preprocessing.html\n",
      "Please also refer to the documentation for alternative solver options:\n",
      "    https://scikit-learn.org/stable/modules/linear_model.html#logistic-regression\n",
      "  n_iter_i = _check_optimize_result(\n",
      "/tmp/ipykernel_454702/165771129.py:146: FutureWarning: elementwise comparison failed; returning scalar instead, but in the future will perform elementwise comparison\n",
      "  'class0_proba': np.mean(class0_probs) if class0_probs != 'NA' else 'NA',\n",
      "/tmp/ipykernel_454702/165771129.py:147: FutureWarning: elementwise comparison failed; returning scalar instead, but in the future will perform elementwise comparison\n",
      "  'class1_proba': np.mean(class1_probs) if class1_probs != 'NA' else 'NA'\n"
     ]
    },
    {
     "name": "stdout",
     "output_type": "stream",
     "text": [
      "0.8903566710700132\n",
      "0.3799359658484525\n",
      "Using Gradient Boosting method...\n"
     ]
    },
    {
     "name": "stderr",
     "output_type": "stream",
     "text": [
      "/tmp/ipykernel_454702/165771129.py:146: FutureWarning: elementwise comparison failed; returning scalar instead, but in the future will perform elementwise comparison\n",
      "  'class0_proba': np.mean(class0_probs) if class0_probs != 'NA' else 'NA',\n",
      "/tmp/ipykernel_454702/165771129.py:147: FutureWarning: elementwise comparison failed; returning scalar instead, but in the future will perform elementwise comparison\n",
      "  'class1_proba': np.mean(class1_probs) if class1_probs != 'NA' else 'NA'\n"
     ]
    },
    {
     "name": "stdout",
     "output_type": "stream",
     "text": [
      "0.9140807174887893\n",
      "0.2753403933434191\n",
      "Using Ada Boost method...\n"
     ]
    },
    {
     "name": "stderr",
     "output_type": "stream",
     "text": [
      "/tmp/ipykernel_454702/165771129.py:146: FutureWarning: elementwise comparison failed; returning scalar instead, but in the future will perform elementwise comparison\n",
      "  'class0_proba': np.mean(class0_probs) if class0_probs != 'NA' else 'NA',\n",
      "/tmp/ipykernel_454702/165771129.py:147: FutureWarning: elementwise comparison failed; returning scalar instead, but in the future will perform elementwise comparison\n",
      "  'class1_proba': np.mean(class1_probs) if class1_probs != 'NA' else 'NA'\n"
     ]
    },
    {
     "name": "stdout",
     "output_type": "stream",
     "text": [
      "0.9087971274685818\n",
      "0.23723723723723722\n",
      "Using Perceptron method...\n",
      "0.8868140243902439\n",
      "0.39878542510121456\n",
      "Using SGD method...\n",
      "0.8725718725718725\n",
      "0.3970588235294118\n",
      "Using SVC method...\n",
      "0.9157060518731989\n",
      "0.31578947368421056\n",
      "Using Linear SVC method...\n"
     ]
    },
    {
     "name": "stderr",
     "output_type": "stream",
     "text": [
      "/home/payam/.virtualenvs/nabi/lib/python3.10/site-packages/sklearn/svm/_classes.py:32: FutureWarning: The default value of `dual` will change from `True` to `'auto'` in 1.5. Set the value of `dual` explicitly to suppress the warning.\n",
      "  warnings.warn(\n",
      "/home/payam/.virtualenvs/nabi/lib/python3.10/site-packages/sklearn/svm/_base.py:1242: ConvergenceWarning: Liblinear failed to converge, increase the number of iterations.\n",
      "  warnings.warn(\n"
     ]
    },
    {
     "name": "stdout",
     "output_type": "stream",
     "text": [
      "0.8938798427849522\n",
      "0.3650615901455767\n",
      "Using Random Forest method...\n"
     ]
    },
    {
     "name": "stderr",
     "output_type": "stream",
     "text": [
      "/tmp/ipykernel_454702/165771129.py:146: FutureWarning: elementwise comparison failed; returning scalar instead, but in the future will perform elementwise comparison\n",
      "  'class0_proba': np.mean(class0_probs) if class0_probs != 'NA' else 'NA',\n",
      "/tmp/ipykernel_454702/165771129.py:147: FutureWarning: elementwise comparison failed; returning scalar instead, but in the future will perform elementwise comparison\n",
      "  'class1_proba': np.mean(class1_probs) if class1_probs != 'NA' else 'NA'\n"
     ]
    },
    {
     "name": "stdout",
     "output_type": "stream",
     "text": [
      "0.9005177514792899\n",
      "0.3502415458937198\n",
      "Using Logistic Regression method...\n"
     ]
    },
    {
     "name": "stderr",
     "output_type": "stream",
     "text": [
      "/tmp/ipykernel_454702/165771129.py:146: FutureWarning: elementwise comparison failed; returning scalar instead, but in the future will perform elementwise comparison\n",
      "  'class0_proba': np.mean(class0_probs) if class0_probs != 'NA' else 'NA',\n",
      "/tmp/ipykernel_454702/165771129.py:147: FutureWarning: elementwise comparison failed; returning scalar instead, but in the future will perform elementwise comparison\n",
      "  'class1_proba': np.mean(class1_probs) if class1_probs != 'NA' else 'NA'\n"
     ]
    },
    {
     "name": "stdout",
     "output_type": "stream",
     "text": [
      "0.8869565217391304\n",
      "0.36786469344608874\n",
      "Using Gradient Boosting method...\n"
     ]
    },
    {
     "name": "stderr",
     "output_type": "stream",
     "text": [
      "/tmp/ipykernel_454702/165771129.py:146: FutureWarning: elementwise comparison failed; returning scalar instead, but in the future will perform elementwise comparison\n",
      "  'class0_proba': np.mean(class0_probs) if class0_probs != 'NA' else 'NA',\n",
      "/tmp/ipykernel_454702/165771129.py:147: FutureWarning: elementwise comparison failed; returning scalar instead, but in the future will perform elementwise comparison\n",
      "  'class1_proba': np.mean(class1_probs) if class1_probs != 'NA' else 'NA'\n"
     ]
    },
    {
     "name": "stdout",
     "output_type": "stream",
     "text": [
      "0.9139881486801938\n",
      "0.28185907046476766\n",
      "Using Ada Boost method...\n"
     ]
    },
    {
     "name": "stderr",
     "output_type": "stream",
     "text": [
      "/tmp/ipykernel_454702/165771129.py:146: FutureWarning: elementwise comparison failed; returning scalar instead, but in the future will perform elementwise comparison\n",
      "  'class0_proba': np.mean(class0_probs) if class0_probs != 'NA' else 'NA',\n",
      "/tmp/ipykernel_454702/165771129.py:147: FutureWarning: elementwise comparison failed; returning scalar instead, but in the future will perform elementwise comparison\n",
      "  'class1_proba': np.mean(class1_probs) if class1_probs != 'NA' else 'NA'\n"
     ]
    },
    {
     "name": "stdout",
     "output_type": "stream",
     "text": [
      "0.9106981778820133\n",
      "0.2857142857142857\n",
      "Using Perceptron method...\n",
      "0.871260374445088\n",
      "0.3677725118483412\n",
      "Using SGD method...\n",
      "0.8772130211307824\n",
      "0.3438453713123093\n",
      "Using SVC method...\n",
      "0.9178378378378378\n",
      "0.33527696793002915\n",
      "Using Linear SVC method...\n"
     ]
    },
    {
     "name": "stderr",
     "output_type": "stream",
     "text": [
      "/home/payam/.virtualenvs/nabi/lib/python3.10/site-packages/sklearn/svm/_classes.py:32: FutureWarning: The default value of `dual` will change from `True` to `'auto'` in 1.5. Set the value of `dual` explicitly to suppress the warning.\n",
      "  warnings.warn(\n",
      "/home/payam/.virtualenvs/nabi/lib/python3.10/site-packages/sklearn/svm/_base.py:1242: ConvergenceWarning: Liblinear failed to converge, increase the number of iterations.\n",
      "  warnings.warn(\n"
     ]
    },
    {
     "name": "stdout",
     "output_type": "stream",
     "text": [
      "0.8264906127501547\n",
      "0.394528437724982\n",
      "33\n",
      "Using Random Forest method...\n"
     ]
    },
    {
     "name": "stderr",
     "output_type": "stream",
     "text": [
      "/tmp/ipykernel_454702/165771129.py:146: FutureWarning: elementwise comparison failed; returning scalar instead, but in the future will perform elementwise comparison\n",
      "  'class0_proba': np.mean(class0_probs) if class0_probs != 'NA' else 'NA',\n",
      "/tmp/ipykernel_454702/165771129.py:147: FutureWarning: elementwise comparison failed; returning scalar instead, but in the future will perform elementwise comparison\n",
      "  'class1_proba': np.mean(class1_probs) if class1_probs != 'NA' else 'NA'\n"
     ]
    },
    {
     "name": "stdout",
     "output_type": "stream",
     "text": [
      "0.9506773185133728\n",
      "0.405857740585774\n",
      "Using Logistic Regression method...\n"
     ]
    },
    {
     "name": "stderr",
     "output_type": "stream",
     "text": [
      "/home/payam/.virtualenvs/nabi/lib/python3.10/site-packages/sklearn/linear_model/_logistic.py:460: ConvergenceWarning: lbfgs failed to converge (status=1):\n",
      "STOP: TOTAL NO. of ITERATIONS REACHED LIMIT.\n",
      "\n",
      "Increase the number of iterations (max_iter) or scale the data as shown in:\n",
      "    https://scikit-learn.org/stable/modules/preprocessing.html\n",
      "Please also refer to the documentation for alternative solver options:\n",
      "    https://scikit-learn.org/stable/modules/linear_model.html#logistic-regression\n",
      "  n_iter_i = _check_optimize_result(\n",
      "/tmp/ipykernel_454702/165771129.py:146: FutureWarning: elementwise comparison failed; returning scalar instead, but in the future will perform elementwise comparison\n",
      "  'class0_proba': np.mean(class0_probs) if class0_probs != 'NA' else 'NA',\n",
      "/tmp/ipykernel_454702/165771129.py:147: FutureWarning: elementwise comparison failed; returning scalar instead, but in the future will perform elementwise comparison\n",
      "  'class1_proba': np.mean(class1_probs) if class1_probs != 'NA' else 'NA'\n"
     ]
    },
    {
     "name": "stdout",
     "output_type": "stream",
     "text": [
      "0.936147570060305\n",
      "0.39799331103678925\n",
      "Using Gradient Boosting method...\n"
     ]
    },
    {
     "name": "stderr",
     "output_type": "stream",
     "text": [
      "/tmp/ipykernel_454702/165771129.py:146: FutureWarning: elementwise comparison failed; returning scalar instead, but in the future will perform elementwise comparison\n",
      "  'class0_proba': np.mean(class0_probs) if class0_probs != 'NA' else 'NA',\n",
      "/tmp/ipykernel_454702/165771129.py:147: FutureWarning: elementwise comparison failed; returning scalar instead, but in the future will perform elementwise comparison\n",
      "  'class1_proba': np.mean(class1_probs) if class1_probs != 'NA' else 'NA'\n"
     ]
    },
    {
     "name": "stdout",
     "output_type": "stream",
     "text": [
      "0.9577705590699265\n",
      "0.3617571059431524\n",
      "Using Ada Boost method...\n"
     ]
    },
    {
     "name": "stderr",
     "output_type": "stream",
     "text": [
      "/tmp/ipykernel_454702/165771129.py:146: FutureWarning: elementwise comparison failed; returning scalar instead, but in the future will perform elementwise comparison\n",
      "  'class0_proba': np.mean(class0_probs) if class0_probs != 'NA' else 'NA',\n",
      "/tmp/ipykernel_454702/165771129.py:147: FutureWarning: elementwise comparison failed; returning scalar instead, but in the future will perform elementwise comparison\n",
      "  'class1_proba': np.mean(class1_probs) if class1_probs != 'NA' else 'NA'\n"
     ]
    },
    {
     "name": "stdout",
     "output_type": "stream",
     "text": [
      "0.951340276592112\n",
      "0.24802110817941952\n",
      "Using Perceptron method...\n",
      "0.9058212829069336\n",
      "0.39667458432304037\n",
      "Using SGD method...\n",
      "0.9385593220338982\n",
      "0.3916083916083916\n",
      "Using SVC method...\n",
      "0.9599862613772969\n",
      "0.4358353510895884\n",
      "Using Linear SVC method...\n"
     ]
    },
    {
     "name": "stderr",
     "output_type": "stream",
     "text": [
      "/home/payam/.virtualenvs/nabi/lib/python3.10/site-packages/sklearn/svm/_classes.py:32: FutureWarning: The default value of `dual` will change from `True` to `'auto'` in 1.5. Set the value of `dual` explicitly to suppress the warning.\n",
      "  warnings.warn(\n",
      "/home/payam/.virtualenvs/nabi/lib/python3.10/site-packages/sklearn/svm/_base.py:1242: ConvergenceWarning: Liblinear failed to converge, increase the number of iterations.\n",
      "  warnings.warn(\n"
     ]
    },
    {
     "name": "stdout",
     "output_type": "stream",
     "text": [
      "0.9329787234042554\n",
      "0.3657718120805369\n",
      "Using Random Forest method...\n"
     ]
    },
    {
     "name": "stderr",
     "output_type": "stream",
     "text": [
      "/tmp/ipykernel_454702/165771129.py:146: FutureWarning: elementwise comparison failed; returning scalar instead, but in the future will perform elementwise comparison\n",
      "  'class0_proba': np.mean(class0_probs) if class0_probs != 'NA' else 'NA',\n",
      "/tmp/ipykernel_454702/165771129.py:147: FutureWarning: elementwise comparison failed; returning scalar instead, but in the future will perform elementwise comparison\n",
      "  'class1_proba': np.mean(class1_probs) if class1_probs != 'NA' else 'NA'\n"
     ]
    },
    {
     "name": "stdout",
     "output_type": "stream",
     "text": [
      "0.9533321852936112\n",
      "0.3682983682983683\n",
      "Using Logistic Regression method...\n"
     ]
    },
    {
     "name": "stderr",
     "output_type": "stream",
     "text": [
      "/home/payam/.virtualenvs/nabi/lib/python3.10/site-packages/sklearn/linear_model/_logistic.py:460: ConvergenceWarning: lbfgs failed to converge (status=1):\n",
      "STOP: TOTAL NO. of ITERATIONS REACHED LIMIT.\n",
      "\n",
      "Increase the number of iterations (max_iter) or scale the data as shown in:\n",
      "    https://scikit-learn.org/stable/modules/preprocessing.html\n",
      "Please also refer to the documentation for alternative solver options:\n",
      "    https://scikit-learn.org/stable/modules/linear_model.html#logistic-regression\n",
      "  n_iter_i = _check_optimize_result(\n",
      "/tmp/ipykernel_454702/165771129.py:146: FutureWarning: elementwise comparison failed; returning scalar instead, but in the future will perform elementwise comparison\n",
      "  'class0_proba': np.mean(class0_probs) if class0_probs != 'NA' else 'NA',\n",
      "/tmp/ipykernel_454702/165771129.py:147: FutureWarning: elementwise comparison failed; returning scalar instead, but in the future will perform elementwise comparison\n",
      "  'class1_proba': np.mean(class1_probs) if class1_probs != 'NA' else 'NA'\n"
     ]
    },
    {
     "name": "stdout",
     "output_type": "stream",
     "text": [
      "0.9350833628946434\n",
      "0.3879598662207358\n",
      "Using Gradient Boosting method...\n"
     ]
    },
    {
     "name": "stderr",
     "output_type": "stream",
     "text": [
      "/tmp/ipykernel_454702/165771129.py:146: FutureWarning: elementwise comparison failed; returning scalar instead, but in the future will perform elementwise comparison\n",
      "  'class0_proba': np.mean(class0_probs) if class0_probs != 'NA' else 'NA',\n",
      "/tmp/ipykernel_454702/165771129.py:147: FutureWarning: elementwise comparison failed; returning scalar instead, but in the future will perform elementwise comparison\n",
      "  'class1_proba': np.mean(class1_probs) if class1_probs != 'NA' else 'NA'\n"
     ]
    },
    {
     "name": "stdout",
     "output_type": "stream",
     "text": [
      "0.9548012962647109\n",
      "0.28954423592493295\n",
      "Using Ada Boost method...\n"
     ]
    },
    {
     "name": "stderr",
     "output_type": "stream",
     "text": [
      "/tmp/ipykernel_454702/165771129.py:146: FutureWarning: elementwise comparison failed; returning scalar instead, but in the future will perform elementwise comparison\n",
      "  'class0_proba': np.mean(class0_probs) if class0_probs != 'NA' else 'NA',\n",
      "/tmp/ipykernel_454702/165771129.py:147: FutureWarning: elementwise comparison failed; returning scalar instead, but in the future will perform elementwise comparison\n",
      "  'class1_proba': np.mean(class1_probs) if class1_probs != 'NA' else 'NA'\n"
     ]
    },
    {
     "name": "stdout",
     "output_type": "stream",
     "text": [
      "0.9491293956981905\n",
      "0.21164021164021166\n",
      "Using Perceptron method...\n",
      "0.9332628983976052\n",
      "0.31956912028725315\n",
      "Using SGD method...\n",
      "0.9363876651982378\n",
      "0.35650623885918004\n",
      "Using SVC method...\n",
      "0.9569083447332422\n",
      "0.35051546391752575\n",
      "Using Linear SVC method...\n"
     ]
    },
    {
     "name": "stderr",
     "output_type": "stream",
     "text": [
      "/home/payam/.virtualenvs/nabi/lib/python3.10/site-packages/sklearn/svm/_classes.py:32: FutureWarning: The default value of `dual` will change from `True` to `'auto'` in 1.5. Set the value of `dual` explicitly to suppress the warning.\n",
      "  warnings.warn(\n",
      "/home/payam/.virtualenvs/nabi/lib/python3.10/site-packages/sklearn/svm/_base.py:1242: ConvergenceWarning: Liblinear failed to converge, increase the number of iterations.\n",
      "  warnings.warn(\n"
     ]
    },
    {
     "name": "stdout",
     "output_type": "stream",
     "text": [
      "0.9227722772277228\n",
      "0.3700440528634361\n"
     ]
    }
   ],
   "source": [
    "# In[5]:\n",
    "\n",
    "\n",
    "drug_list_to_exclude = [\n",
    "    \"Amodiaquine\",\n",
    "    \"Crizotinib\",\n",
    "    \"Mebhydrolin\",\n",
    "    \"Harringtonin\",\n",
    "    \"Fluphenazine\",\n",
    "    \"Fingolimod\",\n",
    "    \"Fendiline\",\n",
    "    \"Dronedarone\",\n",
    "    \"Perphenazine\",\n",
    "    \"Pimavanserin\",\n",
    "    \"Prochlorperazine\",\n",
    "    \"Raloxifene\",\n",
    "    \"Abemaciclib\",\n",
    "    \"Mefloquine\",\n",
    "    \"Revaprazan\",\n",
    "    \"Melitracen\",\n",
    "    \"Nelfinavir\",\n",
    "    \"Nicardipine\",\n",
    "    \"Nilotinib\",\n",
    "    \"Olmutinib\",\n",
    "    \"harringtonin\",\n",
    "    \"Terconazole\",\n",
    "    \"Thioridazine\",\n",
    "    \"Thiothixene\",\n",
    "    \"Tilorone-dihydrochloride\",\n",
    "    \"Triflupromazine\"\n",
    "]\n",
    "\n",
    "smiles_list = get_smiles_from_drug_names(drug_list_to_exclude, new_client, return_type='list')\n",
    "smiles_list\n",
    "\n",
    "# In[6]:\n",
    "\n",
    "\n",
    "smiles_dataframe = get_smiles_from_drug_names(drug_list_to_exclude, new_client, return_type='dataframe')\n",
    "smiles_dataframe\n",
    "\n",
    "# In[ ]:\n",
    "\n",
    "\n",
    "now = datetime.now()\n",
    "folder_name = now.strftime(\"%Y_%b_%d\") + str('_code_classifier')\n",
    "folder_name = folder_name.lower()\n",
    "if os.path.isdir(folder_name):\n",
    "    shutil.rmtree(folder_name)\n",
    "os.makedirs(folder_name)\n",
    "\n",
    "df_label = pd.read_csv('label-all-new.csv', header=None)\n",
    "df_label.reset_index(inplace=True)\n",
    "df_label.rename(columns={'index': 'label', 0: 'location'}, inplace=True)\n",
    "df_label = df_label[['label', 'location']]\n",
    "\n",
    "# Fingerprint methods list\n",
    "fp_method_list = ['RDKFingerprint']\n",
    "\n",
    "# Create dictionary to store results\n",
    "smiles_prediction_results = {}\n",
    "\n",
    "# Results dictionary\n",
    "result_dict = {}\n",
    "\n",
    "start = time.time()\n",
    "ml_methods = [\n",
    "    {'name': 'Random Forest', 'classifier': RandomForestClassifier()},\n",
    "    {'name': 'Logistic Regression', 'classifier': LogisticRegression()},\n",
    "    {'name': 'Gradient Boosting', 'classifier': GradientBoostingClassifier()},\n",
    "    {'name': 'Ada Boost', 'classifier': AdaBoostClassifier()},\n",
    "#     {'name': 'Dummy', 'classifier': DummyClassifier()},\n",
    "#     {'name': 'Passive Aggressive', 'classifier': PassiveAggressiveClassifier(max_iter=1000)},\n",
    "    {'name': 'Perceptron', 'classifier': Perceptron()},\n",
    "    {'name': 'SGD', 'classifier': SGDClassifier()},\n",
    "    {'name': 'SVC', 'classifier': SVC()},\n",
    "    {'name': 'Linear SVC', 'classifier': LinearSVC()},\n",
    "]\n",
    "\n",
    "number_of_files = len([f for f in os.listdir('final_label_to_train_LV') if os.path.isfile(os.path.join('final_label_to_train_LV', f))])\n",
    "\n",
    "for label_location in range(number_of_files):\n",
    "    print(label_location)\n",
    "    df = data_training('final_label_to_train_LV', label_location)\n",
    "    if not df.empty:\n",
    "        df = df[~df['smiles'].isin(smiles_list)]\n",
    "        location = df_label.loc[df_label['label'] == label_location, 'location'].values[0]\n",
    "        for finger_print_method in fp_method_list:\n",
    "            for descriptor_bool in [True,False]:\n",
    "                for finger_print_bool in [True]:\n",
    "                    if finger_print_bool or descriptor_bool:\n",
    "                        X, Y, df = apply_descriptors_and_fp(df, 'y', 'smiles',\n",
    "                                                            finger_print_method,\n",
    "                                                            finger_print_bool,\n",
    "                                                            descriptor_bool)\n",
    "                        number_of_zeros = sum([1 for i in Y if i == 0])\n",
    "                        number_of_ones = sum([1 for i in Y if i == 1])\n",
    "\n",
    "                        zero_ratio = round(max(number_of_zeros, number_of_ones) / number_of_zeros)\n",
    "                        one_ratio = round(max(number_of_zeros, number_of_ones) / number_of_ones)\n",
    "                        class_weight = {0: zero_ratio, 1: one_ratio}\n",
    "\n",
    "                        X_train, X_test, y_train, y_test = train_test_split(X, Y, test_size=0.2, stratify=Y)\n",
    "\n",
    "                        # Initialize the SVC with probability=True\n",
    "                        for method in ml_methods:\n",
    "                            print(f\"Using {method['name']} method...\")\n",
    "                            clf = method['classifier']\n",
    "                            if 'class_weight' in clf.get_params():\n",
    "#                                 clf.set_params(class_weight=class_weight)\n",
    "                                pass\n",
    "                            if method['name'] == 'Logistic Regression':\n",
    "                                clf.set_params(max_iter=500)\n",
    "                            \n",
    "                            clf.fit(X_train, y_train)\n",
    "\n",
    "                            y_pred = clf.predict(X_test)\n",
    "\n",
    "                            # Calculate probabilities for each class\n",
    "                            if hasattr(clf, 'predict_proba'):\n",
    "                                # Calculate probabilities for each class\n",
    "                                probs = clf.predict_proba(X_test)\n",
    "                                class0_probs = probs[:, 0]\n",
    "                                class1_probs = probs[:, 1]\n",
    "                            else:\n",
    "                                # Set to 'NA' if predict_proba method does not exist\n",
    "                                class0_probs = 'NA'\n",
    "                                class1_probs = 'NA'\n",
    "\n",
    "                            unique_key = f\"{method['name']}_{label_location}_{finger_print_method}_{finger_print_bool}_{descriptor_bool}\"\n",
    "                            result_dict[unique_key] = {\n",
    "                                'method': method['name'],\n",
    "                                'location': location,\n",
    "                                'finger_print_method': finger_print_method,\n",
    "                                'finger_print_bool': finger_print_bool,\n",
    "                                'descriptor_bool': descriptor_bool,\n",
    "                                'accuracy': accuracy_score(y_test, y_pred),\n",
    "                                'kappa': cohen_kappa_score(y_test, y_pred),\n",
    "                                'f1_score': f1_score(y_test, y_pred, average='weighted'),\n",
    "                                'f1_score_class_0': f1_score(y_test, y_pred, average=None)[0],\n",
    "                                'f1_score_class_1': f1_score(y_test, y_pred, average=None)[1],\n",
    "                                'precision': precision_score(y_test, y_pred, average='weighted'),\n",
    "                                'recall': recall_score(y_test, y_pred, average='weighted'),\n",
    "                                'label_1': np.count_nonzero(Y == 1),\n",
    "                                'label_0': np.count_nonzero(Y == 0),\n",
    "                                'class0_proba': np.mean(class0_probs) if class0_probs != 'NA' else 'NA',\n",
    "                                'class1_proba': np.mean(class1_probs) if class1_probs != 'NA' else 'NA'\n",
    "                            }\n",
    "                            print(f1_score(y_test, y_pred, average=None)[0])\n",
    "                            print(f1_score(y_test, y_pred, average=None)[1])\n",
    "                            # Predict on smiles_list and store results\n",
    "                            smiles_features = apply_descriptors_and_fp(smiles_dataframe, None, 'smiles',\n",
    "                                                                       finger_print_method,\n",
    "                                                                       finger_print_bool,\n",
    "                                                                       descriptor_bool)[0]\n",
    "                            smiles_pred = clf.predict(smiles_features)\n",
    "                            if hasattr(clf, 'predict_proba'):\n",
    "                                smiles_pred_proba = clf.predict_proba(smiles_features)  # Get probabilities\n",
    "\n",
    "                            else:\n",
    "                                smiles_pred_proba = np.full((smiles_pred.shape[0], 2), np.nan)\n",
    "                            for i, prediction in enumerate(smiles_pred):\n",
    "                                smile = f\"{smiles_dataframe['smiles'].iloc[i]}_{label_location}_{finger_print_method}_{finger_print_bool}_{descriptor_bool}\"\n",
    "                                if smile in smiles_prediction_results:\n",
    "                                    smiles_prediction_results[smile].append(\n",
    "                                        [label_location, finger_print_method, finger_print_bool, descriptor_bool,\n",
    "                                         smiles_pred[i], smiles_pred_proba[i, 0], smiles_pred_proba[i, 1]])\n",
    "                                else:\n",
    "                                    smiles_prediction_results[smile] = [label_location, finger_print_method,\n",
    "                                                                        finger_print_bool, descriptor_bool,\n",
    "                                                                        smiles_pred[i],\n",
    "                                                                        smiles_pred_proba[i, 0],\n",
    "                                                                        smiles_pred_proba[i, 1]]\n",
    "\n",
    "                            folder_path = f'./{folder_name}/{label_location}_{location}/'\n",
    "                            if not os.path.exists(folder_path):\n",
    "                                os.makedirs(folder_path)\n",
    "                            dump(clf,\n",
    "                                 folder_path + f\"{method['name']}_{finger_print_method}_{descriptor_bool}_{finger_print_bool}_model.joblib\")\n",
    "                            np.save(folder_path + f'{finger_print_method}_{descriptor_bool}_{finger_print_bool}_X.npy',\n",
    "                                    X)\n",
    "                            np.save(folder_path + f'{finger_print_method}_{descriptor_bool}_{finger_print_bool}_Y.npy',\n",
    "                                    Y)\n",
    "\n",
    "#                             np.save(\n",
    "#                                 folder_path + f'{method[\"name\"]}_{finger_print_method}_{descriptor_bool}_{finger_print_bool}_X_train.npy',\n",
    "#                                 X_train)\n",
    "#                             np.save(\n",
    "#                                 folder_path + f'{method[\"name\"]}_{finger_print_method}_{descriptor_bool}_{finger_print_bool}_Y_train.npy',\n",
    "#                                 y_train)\n",
    "\n",
    "#                             np.save(\n",
    "#                                 folder_path + f'{method[\"name\"]}_{finger_print_method}_{descriptor_bool}_{finger_print_bool}_X_test.npy',\n",
    "#                                 X_test)\n",
    "#                             np.save(\n",
    "#                                 folder_path + f'{method[\"name\"]}_{finger_print_method}_{descriptor_bool}_{finger_print_bool}_Y_test.npy',\n",
    "#                                 y_test)\n",
    "\n",
    "                            df.to_csv(\n",
    "                                folder_path + f'{method[\"name\"]}_{finger_print_method}_{descriptor_bool}_{finger_print_bool}_df.csv',\n",
    "                                index=False)\n",
    "\n",
    "    else:\n",
    "        location = 'nan'\n",
    "        unique_key = f\"{label_location}_{location}\"\n",
    "        result_dict[unique_key] = {\n",
    "            'method': 'NA',\n",
    "            'location': location,\n",
    "            'finger_print_method': 'NA',\n",
    "            'finger_print_bool': 'NA',\n",
    "            'kappa':'NA',\n",
    "            'descriptor_bool': 'NA',\n",
    "            'accuracy': 'NA',\n",
    "            'f1_score': 'NA',\n",
    "            'f1_score_class_0': 'NA',\n",
    "            'f1_score_class_1': 'NA',\n",
    "            'precision': 'NA',\n",
    "            'recall': 'NA'\n",
    "        }\n",
    "\n",
    "df_result = pd.DataFrame.from_dict(result_dict, orient='index')\n",
    "end = start - time.time()\n",
    "\n",
    "# In[9]:\n",
    "\n",
    "\n",
    "df_result.to_csv('final_result_classifier.csv', index=False)\n",
    "\n",
    "with open('smiles_prediction_results_classifier', 'wb') as f:\n",
    "    pickle.dump(smiles_prediction_results, f)\n",
    "\n",
    "# In[10]:"
   ]
  },
  {
   "cell_type": "code",
   "execution_count": 4,
   "id": "6b25c9f6",
   "metadata": {},
   "outputs": [
    {
     "data": {
      "text/plain": [
       "False"
      ]
     },
     "execution_count": 4,
     "metadata": {},
     "output_type": "execute_result"
    }
   ],
   "source": [
    "df.empty"
   ]
  },
  {
   "cell_type": "code",
   "execution_count": 5,
   "id": "a3f27c04",
   "metadata": {},
   "outputs": [],
   "source": [
    "df_result = pd.DataFrame.from_dict(result_dict, orient='index')\n"
   ]
  },
  {
   "cell_type": "code",
   "execution_count": 11,
   "id": "796ef652",
   "metadata": {},
   "outputs": [],
   "source": [
    "df_result.to_csv('ZZ-diffmodels.csv', index = False)"
   ]
  },
  {
   "cell_type": "code",
   "execution_count": null,
   "id": "7d6ae24d-c337-43c6-858a-0bab74e9a287",
   "metadata": {},
   "outputs": [],
   "source": [
    "df_result"
   ]
  },
  {
   "cell_type": "code",
   "execution_count": 7,
   "id": "3fc43739",
   "metadata": {},
   "outputs": [],
   "source": [
    "from datetime import datetime\n",
    "\n",
    "# Get the current time and format it as a string\n",
    "timestamp = datetime.now().strftime('%Y%m%d_%H%M%S')\n",
    "filename = f'reso_with_kappa_SVM_{timestamp}.csv'\n",
    "\n",
    "# Save the dataframe without overwriting previous files\n",
    "df_result.to_csv(filename, index=False)"
   ]
  },
  {
   "cell_type": "code",
   "execution_count": 8,
   "id": "c4928273",
   "metadata": {},
   "outputs": [
    {
     "data": {
      "text/html": [
       "<div>\n",
       "<style scoped>\n",
       "    .dataframe tbody tr th:only-of-type {\n",
       "        vertical-align: middle;\n",
       "    }\n",
       "\n",
       "    .dataframe tbody tr th {\n",
       "        vertical-align: top;\n",
       "    }\n",
       "\n",
       "    .dataframe thead th {\n",
       "        text-align: right;\n",
       "    }\n",
       "</style>\n",
       "<table border=\"1\" class=\"dataframe\">\n",
       "  <thead>\n",
       "    <tr style=\"text-align: right;\">\n",
       "      <th></th>\n",
       "      <th>drug_name</th>\n",
       "      <th>smiles</th>\n",
       "    </tr>\n",
       "  </thead>\n",
       "  <tbody>\n",
       "    <tr>\n",
       "      <th>0</th>\n",
       "      <td>Amodiaquine</td>\n",
       "      <td>CCN(CC)Cc1cc(Nc2ccnc3cc(Cl)ccc23)ccc1O</td>\n",
       "    </tr>\n",
       "    <tr>\n",
       "      <th>1</th>\n",
       "      <td>Crizotinib</td>\n",
       "      <td>C[C@@H](Oc1cc(-c2cnn(C3CCNCC3)c2)cnc1N)c1c(Cl)...</td>\n",
       "    </tr>\n",
       "    <tr>\n",
       "      <th>2</th>\n",
       "      <td>Mebhydrolin</td>\n",
       "      <td>CN1CCc2c(c3ccccc3n2Cc2ccccc2)C1</td>\n",
       "    </tr>\n",
       "    <tr>\n",
       "      <th>3</th>\n",
       "      <td>Harringtonin</td>\n",
       "      <td>COC(=O)C[C@@](O)(CCC(C)(C)O)C(=O)O[C@@H]1C(OC)...</td>\n",
       "    </tr>\n",
       "    <tr>\n",
       "      <th>4</th>\n",
       "      <td>Fluphenazine</td>\n",
       "      <td>OCCN1CCN(CCCN2c3ccccc3Sc3ccc(C(F)(F)F)cc32)CC1</td>\n",
       "    </tr>\n",
       "    <tr>\n",
       "      <th>5</th>\n",
       "      <td>Fingolimod</td>\n",
       "      <td>CCCCCCCCc1ccc(CCC(N)(CO)CO)cc1</td>\n",
       "    </tr>\n",
       "    <tr>\n",
       "      <th>6</th>\n",
       "      <td>Fendiline</td>\n",
       "      <td>CC(NCCC(c1ccccc1)c1ccccc1)c1ccccc1</td>\n",
       "    </tr>\n",
       "    <tr>\n",
       "      <th>7</th>\n",
       "      <td>Dronedarone</td>\n",
       "      <td>CCCCc1oc2ccc(NS(C)(=O)=O)cc2c1C(=O)c1ccc(OCCCN...</td>\n",
       "    </tr>\n",
       "    <tr>\n",
       "      <th>8</th>\n",
       "      <td>Perphenazine</td>\n",
       "      <td>OCCN1CCN(CCCN2c3ccccc3Sc3ccc(Cl)cc32)CC1</td>\n",
       "    </tr>\n",
       "    <tr>\n",
       "      <th>9</th>\n",
       "      <td>Pimavanserin</td>\n",
       "      <td>CC(C)COc1ccc(CNC(=O)N(Cc2ccc(F)cc2)C2CCN(C)CC2...</td>\n",
       "    </tr>\n",
       "    <tr>\n",
       "      <th>10</th>\n",
       "      <td>Prochlorperazine</td>\n",
       "      <td>CN1CCN(CCCN2c3ccccc3Sc3ccc(Cl)cc32)CC1.O=S(=O)...</td>\n",
       "    </tr>\n",
       "    <tr>\n",
       "      <th>11</th>\n",
       "      <td>Raloxifene</td>\n",
       "      <td>O=C(c1ccc(OCCN2CCCCC2)cc1)c1c(-c2ccc(O)cc2)sc2...</td>\n",
       "    </tr>\n",
       "    <tr>\n",
       "      <th>12</th>\n",
       "      <td>Abemaciclib</td>\n",
       "      <td>CCN1CCN(Cc2ccc(Nc3ncc(F)c(-c4cc(F)c5nc(C)n(C(C...</td>\n",
       "    </tr>\n",
       "    <tr>\n",
       "      <th>13</th>\n",
       "      <td>Mefloquine</td>\n",
       "      <td>O[C@@H](c1cc(C(F)(F)F)nc2c(C(F)(F)F)cccc12)[C@...</td>\n",
       "    </tr>\n",
       "    <tr>\n",
       "      <th>14</th>\n",
       "      <td>Revaprazan</td>\n",
       "      <td>Cc1nc(Nc2ccc(F)cc2)nc(N2CCc3ccccc3C2C)c1C</td>\n",
       "    </tr>\n",
       "    <tr>\n",
       "      <th>15</th>\n",
       "      <td>Melitracen</td>\n",
       "      <td>CN(C)CCC=C1c2ccccc2C(C)(C)c2ccccc21</td>\n",
       "    </tr>\n",
       "    <tr>\n",
       "      <th>16</th>\n",
       "      <td>Nelfinavir</td>\n",
       "      <td>Cc1c(O)cccc1C(=O)N[C@@H](CSc1ccccc1)[C@H](O)CN...</td>\n",
       "    </tr>\n",
       "    <tr>\n",
       "      <th>17</th>\n",
       "      <td>Nicardipine</td>\n",
       "      <td>COC(=O)C1=C(C)NC(C)=C(C(=O)OCCN(C)Cc2ccccc2)C1...</td>\n",
       "    </tr>\n",
       "    <tr>\n",
       "      <th>18</th>\n",
       "      <td>Nilotinib</td>\n",
       "      <td>Cc1cn(-c2cc(NC(=O)c3ccc(C)c(Nc4nccc(-c5cccnc5)...</td>\n",
       "    </tr>\n",
       "    <tr>\n",
       "      <th>19</th>\n",
       "      <td>Olmutinib</td>\n",
       "      <td>C=CC(=O)Nc1cccc(Oc2nc(Nc3ccc(N4CCN(C)CC4)cc3)n...</td>\n",
       "    </tr>\n",
       "    <tr>\n",
       "      <th>20</th>\n",
       "      <td>harringtonin</td>\n",
       "      <td>COC(=O)C[C@@](O)(CCC(C)(C)O)C(=O)O[C@@H]1C(OC)...</td>\n",
       "    </tr>\n",
       "    <tr>\n",
       "      <th>21</th>\n",
       "      <td>Terconazole</td>\n",
       "      <td>CC(C)N1CCN(c2ccc(OC[C@H]3CO[C@](Cn4cncn4)(c4cc...</td>\n",
       "    </tr>\n",
       "    <tr>\n",
       "      <th>22</th>\n",
       "      <td>Thioridazine</td>\n",
       "      <td>CSc1ccc2c(c1)N(CCC1CCCCN1C)c1ccccc1S2</td>\n",
       "    </tr>\n",
       "    <tr>\n",
       "      <th>23</th>\n",
       "      <td>Thiothixene</td>\n",
       "      <td>CN1CCN(CC/C=C2/c3ccccc3Sc3ccc(S(=O)(=O)N(C)C)c...</td>\n",
       "    </tr>\n",
       "    <tr>\n",
       "      <th>24</th>\n",
       "      <td>Tilorone-dihydrochloride</td>\n",
       "      <td>CCN(CC)CCOc1ccc2c(c1)C(=O)c1cc(OCCN(CC)CC)ccc1-2</td>\n",
       "    </tr>\n",
       "    <tr>\n",
       "      <th>25</th>\n",
       "      <td>Triflupromazine</td>\n",
       "      <td>CN(C)CCCN1c2ccccc2Sc2ccc(C(F)(F)F)cc21.Cl</td>\n",
       "    </tr>\n",
       "  </tbody>\n",
       "</table>\n",
       "</div>"
      ],
      "text/plain": [
       "                   drug_name   \n",
       "0                Amodiaquine  \\\n",
       "1                 Crizotinib   \n",
       "2                Mebhydrolin   \n",
       "3               Harringtonin   \n",
       "4               Fluphenazine   \n",
       "5                 Fingolimod   \n",
       "6                  Fendiline   \n",
       "7                Dronedarone   \n",
       "8               Perphenazine   \n",
       "9               Pimavanserin   \n",
       "10          Prochlorperazine   \n",
       "11                Raloxifene   \n",
       "12               Abemaciclib   \n",
       "13                Mefloquine   \n",
       "14                Revaprazan   \n",
       "15                Melitracen   \n",
       "16                Nelfinavir   \n",
       "17               Nicardipine   \n",
       "18                 Nilotinib   \n",
       "19                 Olmutinib   \n",
       "20              harringtonin   \n",
       "21               Terconazole   \n",
       "22              Thioridazine   \n",
       "23               Thiothixene   \n",
       "24  Tilorone-dihydrochloride   \n",
       "25           Triflupromazine   \n",
       "\n",
       "                                               smiles  \n",
       "0              CCN(CC)Cc1cc(Nc2ccnc3cc(Cl)ccc23)ccc1O  \n",
       "1   C[C@@H](Oc1cc(-c2cnn(C3CCNCC3)c2)cnc1N)c1c(Cl)...  \n",
       "2                     CN1CCc2c(c3ccccc3n2Cc2ccccc2)C1  \n",
       "3   COC(=O)C[C@@](O)(CCC(C)(C)O)C(=O)O[C@@H]1C(OC)...  \n",
       "4      OCCN1CCN(CCCN2c3ccccc3Sc3ccc(C(F)(F)F)cc32)CC1  \n",
       "5                      CCCCCCCCc1ccc(CCC(N)(CO)CO)cc1  \n",
       "6                  CC(NCCC(c1ccccc1)c1ccccc1)c1ccccc1  \n",
       "7   CCCCc1oc2ccc(NS(C)(=O)=O)cc2c1C(=O)c1ccc(OCCCN...  \n",
       "8            OCCN1CCN(CCCN2c3ccccc3Sc3ccc(Cl)cc32)CC1  \n",
       "9   CC(C)COc1ccc(CNC(=O)N(Cc2ccc(F)cc2)C2CCN(C)CC2...  \n",
       "10  CN1CCN(CCCN2c3ccccc3Sc3ccc(Cl)cc32)CC1.O=S(=O)...  \n",
       "11  O=C(c1ccc(OCCN2CCCCC2)cc1)c1c(-c2ccc(O)cc2)sc2...  \n",
       "12  CCN1CCN(Cc2ccc(Nc3ncc(F)c(-c4cc(F)c5nc(C)n(C(C...  \n",
       "13  O[C@@H](c1cc(C(F)(F)F)nc2c(C(F)(F)F)cccc12)[C@...  \n",
       "14          Cc1nc(Nc2ccc(F)cc2)nc(N2CCc3ccccc3C2C)c1C  \n",
       "15                CN(C)CCC=C1c2ccccc2C(C)(C)c2ccccc21  \n",
       "16  Cc1c(O)cccc1C(=O)N[C@@H](CSc1ccccc1)[C@H](O)CN...  \n",
       "17  COC(=O)C1=C(C)NC(C)=C(C(=O)OCCN(C)Cc2ccccc2)C1...  \n",
       "18  Cc1cn(-c2cc(NC(=O)c3ccc(C)c(Nc4nccc(-c5cccnc5)...  \n",
       "19  C=CC(=O)Nc1cccc(Oc2nc(Nc3ccc(N4CCN(C)CC4)cc3)n...  \n",
       "20  COC(=O)C[C@@](O)(CCC(C)(C)O)C(=O)O[C@@H]1C(OC)...  \n",
       "21  CC(C)N1CCN(c2ccc(OC[C@H]3CO[C@](Cn4cncn4)(c4cc...  \n",
       "22              CSc1ccc2c(c1)N(CCC1CCCCN1C)c1ccccc1S2  \n",
       "23  CN1CCN(CC/C=C2/c3ccccc3Sc3ccc(S(=O)(=O)N(C)C)c...  \n",
       "24   CCN(CC)CCOc1ccc2c(c1)C(=O)c1cc(OCCN(CC)CC)ccc1-2  \n",
       "25          CN(C)CCCN1c2ccccc2Sc2ccc(C(F)(F)F)cc21.Cl  "
      ]
     },
     "execution_count": 8,
     "metadata": {},
     "output_type": "execute_result"
    }
   ],
   "source": [
    "drug_list_to_exclude = [\n",
    "    \"Amodiaquine\",\n",
    "    \"Crizotinib\",\n",
    "    \"Mebhydrolin\",\n",
    "    \"Harringtonin\",\n",
    "    \"Fluphenazine\",\n",
    "    \"Fingolimod\",\n",
    "    \"Fendiline\",\n",
    "    \"Dronedarone\",\n",
    "    \"Perphenazine\",\n",
    "    \"Pimavanserin\",\n",
    "    \"Prochlorperazine\",\n",
    "    \"Raloxifene\",\n",
    "    \"Abemaciclib\",\n",
    "    \"Mefloquine\",\n",
    "    \"Revaprazan\",\n",
    "    \"Melitracen\",\n",
    "    \"Nelfinavir\",\n",
    "    \"Nicardipine\",\n",
    "    \"Nilotinib\",\n",
    "    \"Olmutinib\",\n",
    "    \"harringtonin\",\n",
    "    \"Terconazole\",\n",
    "    \"Thioridazine\",\n",
    "    \"Thiothixene\",\n",
    "    \"Tilorone-dihydrochloride\",\n",
    "    \"Triflupromazine\"\n",
    "]\n",
    "\n",
    "\n",
    "smiles_dataframe = get_smiles_from_drug_names(drug_list_to_exclude, new_client, return_type='dataframe')\n",
    "smiles_dataframe"
   ]
  },
  {
   "cell_type": "code",
   "execution_count": 9,
   "id": "8281e8d7",
   "metadata": {},
   "outputs": [
    {
     "data": {
      "text/plain": [
       "0                CCN(CC)Cc1cc(Nc2ccnc3cc(Cl)ccc23)ccc1O\n",
       "1     C[C@@H](Oc1cc(-c2cnn(C3CCNCC3)c2)cnc1N)c1c(Cl)...\n",
       "2                       CN1CCc2c(c3ccccc3n2Cc2ccccc2)C1\n",
       "3     COC(=O)C[C@@](O)(CCC(C)(C)O)C(=O)O[C@@H]1C(OC)...\n",
       "4        OCCN1CCN(CCCN2c3ccccc3Sc3ccc(C(F)(F)F)cc32)CC1\n",
       "5                        CCCCCCCCc1ccc(CCC(N)(CO)CO)cc1\n",
       "6                    CC(NCCC(c1ccccc1)c1ccccc1)c1ccccc1\n",
       "7     CCCCc1oc2ccc(NS(C)(=O)=O)cc2c1C(=O)c1ccc(OCCCN...\n",
       "8              OCCN1CCN(CCCN2c3ccccc3Sc3ccc(Cl)cc32)CC1\n",
       "9     CC(C)COc1ccc(CNC(=O)N(Cc2ccc(F)cc2)C2CCN(C)CC2...\n",
       "10    CN1CCN(CCCN2c3ccccc3Sc3ccc(Cl)cc32)CC1.O=S(=O)...\n",
       "11    O=C(c1ccc(OCCN2CCCCC2)cc1)c1c(-c2ccc(O)cc2)sc2...\n",
       "12    CCN1CCN(Cc2ccc(Nc3ncc(F)c(-c4cc(F)c5nc(C)n(C(C...\n",
       "13    O[C@@H](c1cc(C(F)(F)F)nc2c(C(F)(F)F)cccc12)[C@...\n",
       "14            Cc1nc(Nc2ccc(F)cc2)nc(N2CCc3ccccc3C2C)c1C\n",
       "15                  CN(C)CCC=C1c2ccccc2C(C)(C)c2ccccc21\n",
       "16    Cc1c(O)cccc1C(=O)N[C@@H](CSc1ccccc1)[C@H](O)CN...\n",
       "17    COC(=O)C1=C(C)NC(C)=C(C(=O)OCCN(C)Cc2ccccc2)C1...\n",
       "18    Cc1cn(-c2cc(NC(=O)c3ccc(C)c(Nc4nccc(-c5cccnc5)...\n",
       "19    C=CC(=O)Nc1cccc(Oc2nc(Nc3ccc(N4CCN(C)CC4)cc3)n...\n",
       "20    COC(=O)C[C@@](O)(CCC(C)(C)O)C(=O)O[C@@H]1C(OC)...\n",
       "21    CC(C)N1CCN(c2ccc(OC[C@H]3CO[C@](Cn4cncn4)(c4cc...\n",
       "22                CSc1ccc2c(c1)N(CCC1CCCCN1C)c1ccccc1S2\n",
       "23    CN1CCN(CC/C=C2/c3ccccc3Sc3ccc(S(=O)(=O)N(C)C)c...\n",
       "24     CCN(CC)CCOc1ccc2c(c1)C(=O)c1cc(OCCN(CC)CC)ccc1-2\n",
       "25            CN(C)CCCN1c2ccccc2Sc2ccc(C(F)(F)F)cc21.Cl\n",
       "Name: smiles, dtype: object"
      ]
     },
     "execution_count": 9,
     "metadata": {},
     "output_type": "execute_result"
    }
   ],
   "source": [
    "smiles_dataframe['smiles']"
   ]
  },
  {
   "cell_type": "code",
   "execution_count": 16,
   "id": "78666660-c79a-41e8-8875-89e32955635f",
   "metadata": {},
   "outputs": [
    {
     "name": "stdout",
     "output_type": "stream",
     "text": [
      "Length of list for key 'CCN(CC)Cc1cc(Nc2ccnc3cc(Cl)ccc23)ccc1O_1_RDKFingerprint_True_True': 14\n",
      "Length of list for key 'C[C@@H](Oc1cc(-c2cnn(C3CCNCC3)c2)cnc1N)c1c(Cl)ccc(F)c1Cl_1_RDKFingerprint_True_True': 14\n",
      "Length of list for key 'CN1CCc2c(c3ccccc3n2Cc2ccccc2)C1_1_RDKFingerprint_True_True': 14\n",
      "Length of list for key 'COC(=O)C[C@@](O)(CCC(C)(C)O)C(=O)O[C@@H]1C(OC)=C[C@]23CCCN2CCc2cc4c(cc2[C@@H]13)OCO4_1_RDKFingerprint_True_True': 22\n",
      "Length of list for key 'OCCN1CCN(CCCN2c3ccccc3Sc3ccc(C(F)(F)F)cc32)CC1_1_RDKFingerprint_True_True': 14\n",
      "Length of list for key 'CCCCCCCCc1ccc(CCC(N)(CO)CO)cc1_1_RDKFingerprint_True_True': 14\n",
      "Length of list for key 'CC(NCCC(c1ccccc1)c1ccccc1)c1ccccc1_1_RDKFingerprint_True_True': 14\n",
      "Length of list for key 'CCCCc1oc2ccc(NS(C)(=O)=O)cc2c1C(=O)c1ccc(OCCCN(CCCC)CCCC)cc1.Cl_1_RDKFingerprint_True_True': 14\n",
      "Length of list for key 'OCCN1CCN(CCCN2c3ccccc3Sc3ccc(Cl)cc32)CC1_1_RDKFingerprint_True_True': 14\n",
      "Length of list for key 'CC(C)COc1ccc(CNC(=O)N(Cc2ccc(F)cc2)C2CCN(C)CC2)cc1_1_RDKFingerprint_True_True': 14\n",
      "Length of list for key 'CN1CCN(CCCN2c3ccccc3Sc3ccc(Cl)cc32)CC1.O=S(=O)(O)CCS(=O)(=O)O_1_RDKFingerprint_True_True': 14\n",
      "Length of list for key 'O=C(c1ccc(OCCN2CCCCC2)cc1)c1c(-c2ccc(O)cc2)sc2cc(O)ccc12_1_RDKFingerprint_True_True': 14\n",
      "Length of list for key 'CCN1CCN(Cc2ccc(Nc3ncc(F)c(-c4cc(F)c5nc(C)n(C(C)C)c5c4)n3)nc2)CC1_1_RDKFingerprint_True_True': 14\n",
      "Length of list for key 'O[C@@H](c1cc(C(F)(F)F)nc2c(C(F)(F)F)cccc12)[C@H]1CCCCN1_1_RDKFingerprint_True_True': 14\n",
      "Length of list for key 'Cc1nc(Nc2ccc(F)cc2)nc(N2CCc3ccccc3C2C)c1C_1_RDKFingerprint_True_True': 14\n",
      "Length of list for key 'CN(C)CCC=C1c2ccccc2C(C)(C)c2ccccc21_1_RDKFingerprint_True_True': 14\n",
      "Length of list for key 'Cc1c(O)cccc1C(=O)N[C@@H](CSc1ccccc1)[C@H](O)CN1C[C@H]2CCCC[C@H]2C[C@H]1C(=O)NC(C)(C)C_1_RDKFingerprint_True_True': 14\n",
      "Length of list for key 'COC(=O)C1=C(C)NC(C)=C(C(=O)OCCN(C)Cc2ccccc2)C1c1cccc([N+](=O)[O-])c1.Cl_1_RDKFingerprint_True_True': 14\n",
      "Length of list for key 'Cc1cn(-c2cc(NC(=O)c3ccc(C)c(Nc4nccc(-c5cccnc5)n4)c3)cc(C(F)(F)F)c2)cn1_1_RDKFingerprint_True_True': 14\n",
      "Length of list for key 'C=CC(=O)Nc1cccc(Oc2nc(Nc3ccc(N4CCN(C)CC4)cc3)nc3ccsc23)c1_1_RDKFingerprint_True_True': 14\n",
      "Length of list for key 'CC(C)N1CCN(c2ccc(OC[C@H]3CO[C@](Cn4cncn4)(c4ccc(Cl)cc4Cl)O3)cc2)CC1_1_RDKFingerprint_True_True': 14\n",
      "Length of list for key 'CSc1ccc2c(c1)N(CCC1CCCCN1C)c1ccccc1S2_1_RDKFingerprint_True_True': 14\n",
      "Length of list for key 'CN1CCN(CC/C=C2/c3ccccc3Sc3ccc(S(=O)(=O)N(C)C)cc32)CC1_1_RDKFingerprint_True_True': 14\n",
      "Length of list for key 'CCN(CC)CCOc1ccc2c(c1)C(=O)c1cc(OCCN(CC)CC)ccc1-2_1_RDKFingerprint_True_True': 14\n",
      "Length of list for key 'CN(C)CCCN1c2ccccc2Sc2ccc(C(F)(F)F)cc21.Cl_1_RDKFingerprint_True_True': 14\n",
      "Length of list for key 'CCN(CC)Cc1cc(Nc2ccnc3cc(Cl)ccc23)ccc1O_1_RDKFingerprint_True_False': 14\n",
      "Length of list for key 'C[C@@H](Oc1cc(-c2cnn(C3CCNCC3)c2)cnc1N)c1c(Cl)ccc(F)c1Cl_1_RDKFingerprint_True_False': 14\n",
      "Length of list for key 'CN1CCc2c(c3ccccc3n2Cc2ccccc2)C1_1_RDKFingerprint_True_False': 14\n",
      "Length of list for key 'COC(=O)C[C@@](O)(CCC(C)(C)O)C(=O)O[C@@H]1C(OC)=C[C@]23CCCN2CCc2cc4c(cc2[C@@H]13)OCO4_1_RDKFingerprint_True_False': 22\n",
      "Length of list for key 'OCCN1CCN(CCCN2c3ccccc3Sc3ccc(C(F)(F)F)cc32)CC1_1_RDKFingerprint_True_False': 14\n",
      "Length of list for key 'CCCCCCCCc1ccc(CCC(N)(CO)CO)cc1_1_RDKFingerprint_True_False': 14\n",
      "Length of list for key 'CC(NCCC(c1ccccc1)c1ccccc1)c1ccccc1_1_RDKFingerprint_True_False': 14\n",
      "Length of list for key 'CCCCc1oc2ccc(NS(C)(=O)=O)cc2c1C(=O)c1ccc(OCCCN(CCCC)CCCC)cc1.Cl_1_RDKFingerprint_True_False': 14\n",
      "Length of list for key 'OCCN1CCN(CCCN2c3ccccc3Sc3ccc(Cl)cc32)CC1_1_RDKFingerprint_True_False': 14\n",
      "Length of list for key 'CC(C)COc1ccc(CNC(=O)N(Cc2ccc(F)cc2)C2CCN(C)CC2)cc1_1_RDKFingerprint_True_False': 14\n",
      "Length of list for key 'CN1CCN(CCCN2c3ccccc3Sc3ccc(Cl)cc32)CC1.O=S(=O)(O)CCS(=O)(=O)O_1_RDKFingerprint_True_False': 14\n",
      "Length of list for key 'O=C(c1ccc(OCCN2CCCCC2)cc1)c1c(-c2ccc(O)cc2)sc2cc(O)ccc12_1_RDKFingerprint_True_False': 14\n",
      "Length of list for key 'CCN1CCN(Cc2ccc(Nc3ncc(F)c(-c4cc(F)c5nc(C)n(C(C)C)c5c4)n3)nc2)CC1_1_RDKFingerprint_True_False': 14\n",
      "Length of list for key 'O[C@@H](c1cc(C(F)(F)F)nc2c(C(F)(F)F)cccc12)[C@H]1CCCCN1_1_RDKFingerprint_True_False': 14\n",
      "Length of list for key 'Cc1nc(Nc2ccc(F)cc2)nc(N2CCc3ccccc3C2C)c1C_1_RDKFingerprint_True_False': 14\n",
      "Length of list for key 'CN(C)CCC=C1c2ccccc2C(C)(C)c2ccccc21_1_RDKFingerprint_True_False': 14\n",
      "Length of list for key 'Cc1c(O)cccc1C(=O)N[C@@H](CSc1ccccc1)[C@H](O)CN1C[C@H]2CCCC[C@H]2C[C@H]1C(=O)NC(C)(C)C_1_RDKFingerprint_True_False': 14\n",
      "Length of list for key 'COC(=O)C1=C(C)NC(C)=C(C(=O)OCCN(C)Cc2ccccc2)C1c1cccc([N+](=O)[O-])c1.Cl_1_RDKFingerprint_True_False': 14\n",
      "Length of list for key 'Cc1cn(-c2cc(NC(=O)c3ccc(C)c(Nc4nccc(-c5cccnc5)n4)c3)cc(C(F)(F)F)c2)cn1_1_RDKFingerprint_True_False': 14\n",
      "Length of list for key 'C=CC(=O)Nc1cccc(Oc2nc(Nc3ccc(N4CCN(C)CC4)cc3)nc3ccsc23)c1_1_RDKFingerprint_True_False': 14\n",
      "Length of list for key 'CC(C)N1CCN(c2ccc(OC[C@H]3CO[C@](Cn4cncn4)(c4ccc(Cl)cc4Cl)O3)cc2)CC1_1_RDKFingerprint_True_False': 14\n",
      "Length of list for key 'CSc1ccc2c(c1)N(CCC1CCCCN1C)c1ccccc1S2_1_RDKFingerprint_True_False': 14\n",
      "Length of list for key 'CN1CCN(CC/C=C2/c3ccccc3Sc3ccc(S(=O)(=O)N(C)C)cc32)CC1_1_RDKFingerprint_True_False': 14\n",
      "Length of list for key 'CCN(CC)CCOc1ccc2c(c1)C(=O)c1cc(OCCN(CC)CC)ccc1-2_1_RDKFingerprint_True_False': 14\n",
      "Length of list for key 'CN(C)CCCN1c2ccccc2Sc2ccc(C(F)(F)F)cc21.Cl_1_RDKFingerprint_True_False': 14\n",
      "Length of list for key 'CCN(CC)Cc1cc(Nc2ccnc3cc(Cl)ccc23)ccc1O_2_RDKFingerprint_True_True': 14\n",
      "Length of list for key 'C[C@@H](Oc1cc(-c2cnn(C3CCNCC3)c2)cnc1N)c1c(Cl)ccc(F)c1Cl_2_RDKFingerprint_True_True': 14\n",
      "Length of list for key 'CN1CCc2c(c3ccccc3n2Cc2ccccc2)C1_2_RDKFingerprint_True_True': 14\n",
      "Length of list for key 'COC(=O)C[C@@](O)(CCC(C)(C)O)C(=O)O[C@@H]1C(OC)=C[C@]23CCCN2CCc2cc4c(cc2[C@@H]13)OCO4_2_RDKFingerprint_True_True': 22\n",
      "Length of list for key 'OCCN1CCN(CCCN2c3ccccc3Sc3ccc(C(F)(F)F)cc32)CC1_2_RDKFingerprint_True_True': 14\n",
      "Length of list for key 'CCCCCCCCc1ccc(CCC(N)(CO)CO)cc1_2_RDKFingerprint_True_True': 14\n",
      "Length of list for key 'CC(NCCC(c1ccccc1)c1ccccc1)c1ccccc1_2_RDKFingerprint_True_True': 14\n",
      "Length of list for key 'CCCCc1oc2ccc(NS(C)(=O)=O)cc2c1C(=O)c1ccc(OCCCN(CCCC)CCCC)cc1.Cl_2_RDKFingerprint_True_True': 14\n",
      "Length of list for key 'OCCN1CCN(CCCN2c3ccccc3Sc3ccc(Cl)cc32)CC1_2_RDKFingerprint_True_True': 14\n",
      "Length of list for key 'CC(C)COc1ccc(CNC(=O)N(Cc2ccc(F)cc2)C2CCN(C)CC2)cc1_2_RDKFingerprint_True_True': 14\n",
      "Length of list for key 'CN1CCN(CCCN2c3ccccc3Sc3ccc(Cl)cc32)CC1.O=S(=O)(O)CCS(=O)(=O)O_2_RDKFingerprint_True_True': 14\n",
      "Length of list for key 'O=C(c1ccc(OCCN2CCCCC2)cc1)c1c(-c2ccc(O)cc2)sc2cc(O)ccc12_2_RDKFingerprint_True_True': 14\n",
      "Length of list for key 'CCN1CCN(Cc2ccc(Nc3ncc(F)c(-c4cc(F)c5nc(C)n(C(C)C)c5c4)n3)nc2)CC1_2_RDKFingerprint_True_True': 14\n",
      "Length of list for key 'O[C@@H](c1cc(C(F)(F)F)nc2c(C(F)(F)F)cccc12)[C@H]1CCCCN1_2_RDKFingerprint_True_True': 14\n",
      "Length of list for key 'Cc1nc(Nc2ccc(F)cc2)nc(N2CCc3ccccc3C2C)c1C_2_RDKFingerprint_True_True': 14\n",
      "Length of list for key 'CN(C)CCC=C1c2ccccc2C(C)(C)c2ccccc21_2_RDKFingerprint_True_True': 14\n",
      "Length of list for key 'Cc1c(O)cccc1C(=O)N[C@@H](CSc1ccccc1)[C@H](O)CN1C[C@H]2CCCC[C@H]2C[C@H]1C(=O)NC(C)(C)C_2_RDKFingerprint_True_True': 14\n",
      "Length of list for key 'COC(=O)C1=C(C)NC(C)=C(C(=O)OCCN(C)Cc2ccccc2)C1c1cccc([N+](=O)[O-])c1.Cl_2_RDKFingerprint_True_True': 14\n",
      "Length of list for key 'Cc1cn(-c2cc(NC(=O)c3ccc(C)c(Nc4nccc(-c5cccnc5)n4)c3)cc(C(F)(F)F)c2)cn1_2_RDKFingerprint_True_True': 14\n",
      "Length of list for key 'C=CC(=O)Nc1cccc(Oc2nc(Nc3ccc(N4CCN(C)CC4)cc3)nc3ccsc23)c1_2_RDKFingerprint_True_True': 14\n",
      "Length of list for key 'CC(C)N1CCN(c2ccc(OC[C@H]3CO[C@](Cn4cncn4)(c4ccc(Cl)cc4Cl)O3)cc2)CC1_2_RDKFingerprint_True_True': 14\n",
      "Length of list for key 'CSc1ccc2c(c1)N(CCC1CCCCN1C)c1ccccc1S2_2_RDKFingerprint_True_True': 14\n",
      "Length of list for key 'CN1CCN(CC/C=C2/c3ccccc3Sc3ccc(S(=O)(=O)N(C)C)cc32)CC1_2_RDKFingerprint_True_True': 14\n",
      "Length of list for key 'CCN(CC)CCOc1ccc2c(c1)C(=O)c1cc(OCCN(CC)CC)ccc1-2_2_RDKFingerprint_True_True': 14\n",
      "Length of list for key 'CN(C)CCCN1c2ccccc2Sc2ccc(C(F)(F)F)cc21.Cl_2_RDKFingerprint_True_True': 14\n",
      "Length of list for key 'CCN(CC)Cc1cc(Nc2ccnc3cc(Cl)ccc23)ccc1O_2_RDKFingerprint_True_False': 14\n",
      "Length of list for key 'C[C@@H](Oc1cc(-c2cnn(C3CCNCC3)c2)cnc1N)c1c(Cl)ccc(F)c1Cl_2_RDKFingerprint_True_False': 14\n",
      "Length of list for key 'CN1CCc2c(c3ccccc3n2Cc2ccccc2)C1_2_RDKFingerprint_True_False': 14\n",
      "Length of list for key 'COC(=O)C[C@@](O)(CCC(C)(C)O)C(=O)O[C@@H]1C(OC)=C[C@]23CCCN2CCc2cc4c(cc2[C@@H]13)OCO4_2_RDKFingerprint_True_False': 22\n",
      "Length of list for key 'OCCN1CCN(CCCN2c3ccccc3Sc3ccc(C(F)(F)F)cc32)CC1_2_RDKFingerprint_True_False': 14\n",
      "Length of list for key 'CCCCCCCCc1ccc(CCC(N)(CO)CO)cc1_2_RDKFingerprint_True_False': 14\n",
      "Length of list for key 'CC(NCCC(c1ccccc1)c1ccccc1)c1ccccc1_2_RDKFingerprint_True_False': 14\n",
      "Length of list for key 'CCCCc1oc2ccc(NS(C)(=O)=O)cc2c1C(=O)c1ccc(OCCCN(CCCC)CCCC)cc1.Cl_2_RDKFingerprint_True_False': 14\n",
      "Length of list for key 'OCCN1CCN(CCCN2c3ccccc3Sc3ccc(Cl)cc32)CC1_2_RDKFingerprint_True_False': 14\n",
      "Length of list for key 'CC(C)COc1ccc(CNC(=O)N(Cc2ccc(F)cc2)C2CCN(C)CC2)cc1_2_RDKFingerprint_True_False': 14\n",
      "Length of list for key 'CN1CCN(CCCN2c3ccccc3Sc3ccc(Cl)cc32)CC1.O=S(=O)(O)CCS(=O)(=O)O_2_RDKFingerprint_True_False': 14\n",
      "Length of list for key 'O=C(c1ccc(OCCN2CCCCC2)cc1)c1c(-c2ccc(O)cc2)sc2cc(O)ccc12_2_RDKFingerprint_True_False': 14\n",
      "Length of list for key 'CCN1CCN(Cc2ccc(Nc3ncc(F)c(-c4cc(F)c5nc(C)n(C(C)C)c5c4)n3)nc2)CC1_2_RDKFingerprint_True_False': 14\n",
      "Length of list for key 'O[C@@H](c1cc(C(F)(F)F)nc2c(C(F)(F)F)cccc12)[C@H]1CCCCN1_2_RDKFingerprint_True_False': 14\n",
      "Length of list for key 'Cc1nc(Nc2ccc(F)cc2)nc(N2CCc3ccccc3C2C)c1C_2_RDKFingerprint_True_False': 14\n",
      "Length of list for key 'CN(C)CCC=C1c2ccccc2C(C)(C)c2ccccc21_2_RDKFingerprint_True_False': 14\n",
      "Length of list for key 'Cc1c(O)cccc1C(=O)N[C@@H](CSc1ccccc1)[C@H](O)CN1C[C@H]2CCCC[C@H]2C[C@H]1C(=O)NC(C)(C)C_2_RDKFingerprint_True_False': 14\n",
      "Length of list for key 'COC(=O)C1=C(C)NC(C)=C(C(=O)OCCN(C)Cc2ccccc2)C1c1cccc([N+](=O)[O-])c1.Cl_2_RDKFingerprint_True_False': 14\n",
      "Length of list for key 'Cc1cn(-c2cc(NC(=O)c3ccc(C)c(Nc4nccc(-c5cccnc5)n4)c3)cc(C(F)(F)F)c2)cn1_2_RDKFingerprint_True_False': 14\n",
      "Length of list for key 'C=CC(=O)Nc1cccc(Oc2nc(Nc3ccc(N4CCN(C)CC4)cc3)nc3ccsc23)c1_2_RDKFingerprint_True_False': 14\n",
      "Length of list for key 'CC(C)N1CCN(c2ccc(OC[C@H]3CO[C@](Cn4cncn4)(c4ccc(Cl)cc4Cl)O3)cc2)CC1_2_RDKFingerprint_True_False': 14\n",
      "Length of list for key 'CSc1ccc2c(c1)N(CCC1CCCCN1C)c1ccccc1S2_2_RDKFingerprint_True_False': 14\n",
      "Length of list for key 'CN1CCN(CC/C=C2/c3ccccc3Sc3ccc(S(=O)(=O)N(C)C)cc32)CC1_2_RDKFingerprint_True_False': 14\n",
      "Length of list for key 'CCN(CC)CCOc1ccc2c(c1)C(=O)c1cc(OCCN(CC)CC)ccc1-2_2_RDKFingerprint_True_False': 14\n",
      "Length of list for key 'CN(C)CCCN1c2ccccc2Sc2ccc(C(F)(F)F)cc21.Cl_2_RDKFingerprint_True_False': 14\n",
      "Length of list for key 'CCN(CC)Cc1cc(Nc2ccnc3cc(Cl)ccc23)ccc1O_3_RDKFingerprint_True_True': 14\n",
      "Length of list for key 'C[C@@H](Oc1cc(-c2cnn(C3CCNCC3)c2)cnc1N)c1c(Cl)ccc(F)c1Cl_3_RDKFingerprint_True_True': 14\n",
      "Length of list for key 'CN1CCc2c(c3ccccc3n2Cc2ccccc2)C1_3_RDKFingerprint_True_True': 14\n",
      "Length of list for key 'COC(=O)C[C@@](O)(CCC(C)(C)O)C(=O)O[C@@H]1C(OC)=C[C@]23CCCN2CCc2cc4c(cc2[C@@H]13)OCO4_3_RDKFingerprint_True_True': 22\n",
      "Length of list for key 'OCCN1CCN(CCCN2c3ccccc3Sc3ccc(C(F)(F)F)cc32)CC1_3_RDKFingerprint_True_True': 14\n",
      "Length of list for key 'CCCCCCCCc1ccc(CCC(N)(CO)CO)cc1_3_RDKFingerprint_True_True': 14\n",
      "Length of list for key 'CC(NCCC(c1ccccc1)c1ccccc1)c1ccccc1_3_RDKFingerprint_True_True': 14\n",
      "Length of list for key 'CCCCc1oc2ccc(NS(C)(=O)=O)cc2c1C(=O)c1ccc(OCCCN(CCCC)CCCC)cc1.Cl_3_RDKFingerprint_True_True': 14\n",
      "Length of list for key 'OCCN1CCN(CCCN2c3ccccc3Sc3ccc(Cl)cc32)CC1_3_RDKFingerprint_True_True': 14\n",
      "Length of list for key 'CC(C)COc1ccc(CNC(=O)N(Cc2ccc(F)cc2)C2CCN(C)CC2)cc1_3_RDKFingerprint_True_True': 14\n",
      "Length of list for key 'CN1CCN(CCCN2c3ccccc3Sc3ccc(Cl)cc32)CC1.O=S(=O)(O)CCS(=O)(=O)O_3_RDKFingerprint_True_True': 14\n",
      "Length of list for key 'O=C(c1ccc(OCCN2CCCCC2)cc1)c1c(-c2ccc(O)cc2)sc2cc(O)ccc12_3_RDKFingerprint_True_True': 14\n",
      "Length of list for key 'CCN1CCN(Cc2ccc(Nc3ncc(F)c(-c4cc(F)c5nc(C)n(C(C)C)c5c4)n3)nc2)CC1_3_RDKFingerprint_True_True': 14\n",
      "Length of list for key 'O[C@@H](c1cc(C(F)(F)F)nc2c(C(F)(F)F)cccc12)[C@H]1CCCCN1_3_RDKFingerprint_True_True': 14\n",
      "Length of list for key 'Cc1nc(Nc2ccc(F)cc2)nc(N2CCc3ccccc3C2C)c1C_3_RDKFingerprint_True_True': 14\n",
      "Length of list for key 'CN(C)CCC=C1c2ccccc2C(C)(C)c2ccccc21_3_RDKFingerprint_True_True': 14\n",
      "Length of list for key 'Cc1c(O)cccc1C(=O)N[C@@H](CSc1ccccc1)[C@H](O)CN1C[C@H]2CCCC[C@H]2C[C@H]1C(=O)NC(C)(C)C_3_RDKFingerprint_True_True': 14\n",
      "Length of list for key 'COC(=O)C1=C(C)NC(C)=C(C(=O)OCCN(C)Cc2ccccc2)C1c1cccc([N+](=O)[O-])c1.Cl_3_RDKFingerprint_True_True': 14\n",
      "Length of list for key 'Cc1cn(-c2cc(NC(=O)c3ccc(C)c(Nc4nccc(-c5cccnc5)n4)c3)cc(C(F)(F)F)c2)cn1_3_RDKFingerprint_True_True': 14\n",
      "Length of list for key 'C=CC(=O)Nc1cccc(Oc2nc(Nc3ccc(N4CCN(C)CC4)cc3)nc3ccsc23)c1_3_RDKFingerprint_True_True': 14\n",
      "Length of list for key 'CC(C)N1CCN(c2ccc(OC[C@H]3CO[C@](Cn4cncn4)(c4ccc(Cl)cc4Cl)O3)cc2)CC1_3_RDKFingerprint_True_True': 14\n",
      "Length of list for key 'CSc1ccc2c(c1)N(CCC1CCCCN1C)c1ccccc1S2_3_RDKFingerprint_True_True': 14\n",
      "Length of list for key 'CN1CCN(CC/C=C2/c3ccccc3Sc3ccc(S(=O)(=O)N(C)C)cc32)CC1_3_RDKFingerprint_True_True': 14\n",
      "Length of list for key 'CCN(CC)CCOc1ccc2c(c1)C(=O)c1cc(OCCN(CC)CC)ccc1-2_3_RDKFingerprint_True_True': 14\n",
      "Length of list for key 'CN(C)CCCN1c2ccccc2Sc2ccc(C(F)(F)F)cc21.Cl_3_RDKFingerprint_True_True': 14\n",
      "Length of list for key 'CCN(CC)Cc1cc(Nc2ccnc3cc(Cl)ccc23)ccc1O_3_RDKFingerprint_True_False': 14\n",
      "Length of list for key 'C[C@@H](Oc1cc(-c2cnn(C3CCNCC3)c2)cnc1N)c1c(Cl)ccc(F)c1Cl_3_RDKFingerprint_True_False': 14\n",
      "Length of list for key 'CN1CCc2c(c3ccccc3n2Cc2ccccc2)C1_3_RDKFingerprint_True_False': 14\n",
      "Length of list for key 'COC(=O)C[C@@](O)(CCC(C)(C)O)C(=O)O[C@@H]1C(OC)=C[C@]23CCCN2CCc2cc4c(cc2[C@@H]13)OCO4_3_RDKFingerprint_True_False': 22\n",
      "Length of list for key 'OCCN1CCN(CCCN2c3ccccc3Sc3ccc(C(F)(F)F)cc32)CC1_3_RDKFingerprint_True_False': 14\n",
      "Length of list for key 'CCCCCCCCc1ccc(CCC(N)(CO)CO)cc1_3_RDKFingerprint_True_False': 14\n",
      "Length of list for key 'CC(NCCC(c1ccccc1)c1ccccc1)c1ccccc1_3_RDKFingerprint_True_False': 14\n",
      "Length of list for key 'CCCCc1oc2ccc(NS(C)(=O)=O)cc2c1C(=O)c1ccc(OCCCN(CCCC)CCCC)cc1.Cl_3_RDKFingerprint_True_False': 14\n",
      "Length of list for key 'OCCN1CCN(CCCN2c3ccccc3Sc3ccc(Cl)cc32)CC1_3_RDKFingerprint_True_False': 14\n",
      "Length of list for key 'CC(C)COc1ccc(CNC(=O)N(Cc2ccc(F)cc2)C2CCN(C)CC2)cc1_3_RDKFingerprint_True_False': 14\n",
      "Length of list for key 'CN1CCN(CCCN2c3ccccc3Sc3ccc(Cl)cc32)CC1.O=S(=O)(O)CCS(=O)(=O)O_3_RDKFingerprint_True_False': 14\n",
      "Length of list for key 'O=C(c1ccc(OCCN2CCCCC2)cc1)c1c(-c2ccc(O)cc2)sc2cc(O)ccc12_3_RDKFingerprint_True_False': 14\n",
      "Length of list for key 'CCN1CCN(Cc2ccc(Nc3ncc(F)c(-c4cc(F)c5nc(C)n(C(C)C)c5c4)n3)nc2)CC1_3_RDKFingerprint_True_False': 14\n",
      "Length of list for key 'O[C@@H](c1cc(C(F)(F)F)nc2c(C(F)(F)F)cccc12)[C@H]1CCCCN1_3_RDKFingerprint_True_False': 14\n",
      "Length of list for key 'Cc1nc(Nc2ccc(F)cc2)nc(N2CCc3ccccc3C2C)c1C_3_RDKFingerprint_True_False': 14\n",
      "Length of list for key 'CN(C)CCC=C1c2ccccc2C(C)(C)c2ccccc21_3_RDKFingerprint_True_False': 14\n",
      "Length of list for key 'Cc1c(O)cccc1C(=O)N[C@@H](CSc1ccccc1)[C@H](O)CN1C[C@H]2CCCC[C@H]2C[C@H]1C(=O)NC(C)(C)C_3_RDKFingerprint_True_False': 14\n",
      "Length of list for key 'COC(=O)C1=C(C)NC(C)=C(C(=O)OCCN(C)Cc2ccccc2)C1c1cccc([N+](=O)[O-])c1.Cl_3_RDKFingerprint_True_False': 14\n",
      "Length of list for key 'Cc1cn(-c2cc(NC(=O)c3ccc(C)c(Nc4nccc(-c5cccnc5)n4)c3)cc(C(F)(F)F)c2)cn1_3_RDKFingerprint_True_False': 14\n",
      "Length of list for key 'C=CC(=O)Nc1cccc(Oc2nc(Nc3ccc(N4CCN(C)CC4)cc3)nc3ccsc23)c1_3_RDKFingerprint_True_False': 14\n",
      "Length of list for key 'CC(C)N1CCN(c2ccc(OC[C@H]3CO[C@](Cn4cncn4)(c4ccc(Cl)cc4Cl)O3)cc2)CC1_3_RDKFingerprint_True_False': 14\n",
      "Length of list for key 'CSc1ccc2c(c1)N(CCC1CCCCN1C)c1ccccc1S2_3_RDKFingerprint_True_False': 14\n",
      "Length of list for key 'CN1CCN(CC/C=C2/c3ccccc3Sc3ccc(S(=O)(=O)N(C)C)cc32)CC1_3_RDKFingerprint_True_False': 14\n",
      "Length of list for key 'CCN(CC)CCOc1ccc2c(c1)C(=O)c1cc(OCCN(CC)CC)ccc1-2_3_RDKFingerprint_True_False': 14\n",
      "Length of list for key 'CN(C)CCCN1c2ccccc2Sc2ccc(C(F)(F)F)cc21.Cl_3_RDKFingerprint_True_False': 14\n",
      "Length of list for key 'CCN(CC)Cc1cc(Nc2ccnc3cc(Cl)ccc23)ccc1O_4_RDKFingerprint_True_True': 14\n",
      "Length of list for key 'C[C@@H](Oc1cc(-c2cnn(C3CCNCC3)c2)cnc1N)c1c(Cl)ccc(F)c1Cl_4_RDKFingerprint_True_True': 14\n",
      "Length of list for key 'CN1CCc2c(c3ccccc3n2Cc2ccccc2)C1_4_RDKFingerprint_True_True': 14\n",
      "Length of list for key 'COC(=O)C[C@@](O)(CCC(C)(C)O)C(=O)O[C@@H]1C(OC)=C[C@]23CCCN2CCc2cc4c(cc2[C@@H]13)OCO4_4_RDKFingerprint_True_True': 22\n",
      "Length of list for key 'OCCN1CCN(CCCN2c3ccccc3Sc3ccc(C(F)(F)F)cc32)CC1_4_RDKFingerprint_True_True': 14\n",
      "Length of list for key 'CCCCCCCCc1ccc(CCC(N)(CO)CO)cc1_4_RDKFingerprint_True_True': 14\n",
      "Length of list for key 'CC(NCCC(c1ccccc1)c1ccccc1)c1ccccc1_4_RDKFingerprint_True_True': 14\n",
      "Length of list for key 'CCCCc1oc2ccc(NS(C)(=O)=O)cc2c1C(=O)c1ccc(OCCCN(CCCC)CCCC)cc1.Cl_4_RDKFingerprint_True_True': 14\n",
      "Length of list for key 'OCCN1CCN(CCCN2c3ccccc3Sc3ccc(Cl)cc32)CC1_4_RDKFingerprint_True_True': 14\n",
      "Length of list for key 'CC(C)COc1ccc(CNC(=O)N(Cc2ccc(F)cc2)C2CCN(C)CC2)cc1_4_RDKFingerprint_True_True': 14\n",
      "Length of list for key 'CN1CCN(CCCN2c3ccccc3Sc3ccc(Cl)cc32)CC1.O=S(=O)(O)CCS(=O)(=O)O_4_RDKFingerprint_True_True': 14\n",
      "Length of list for key 'O=C(c1ccc(OCCN2CCCCC2)cc1)c1c(-c2ccc(O)cc2)sc2cc(O)ccc12_4_RDKFingerprint_True_True': 14\n",
      "Length of list for key 'CCN1CCN(Cc2ccc(Nc3ncc(F)c(-c4cc(F)c5nc(C)n(C(C)C)c5c4)n3)nc2)CC1_4_RDKFingerprint_True_True': 14\n",
      "Length of list for key 'O[C@@H](c1cc(C(F)(F)F)nc2c(C(F)(F)F)cccc12)[C@H]1CCCCN1_4_RDKFingerprint_True_True': 14\n",
      "Length of list for key 'Cc1nc(Nc2ccc(F)cc2)nc(N2CCc3ccccc3C2C)c1C_4_RDKFingerprint_True_True': 14\n",
      "Length of list for key 'CN(C)CCC=C1c2ccccc2C(C)(C)c2ccccc21_4_RDKFingerprint_True_True': 14\n",
      "Length of list for key 'Cc1c(O)cccc1C(=O)N[C@@H](CSc1ccccc1)[C@H](O)CN1C[C@H]2CCCC[C@H]2C[C@H]1C(=O)NC(C)(C)C_4_RDKFingerprint_True_True': 14\n",
      "Length of list for key 'COC(=O)C1=C(C)NC(C)=C(C(=O)OCCN(C)Cc2ccccc2)C1c1cccc([N+](=O)[O-])c1.Cl_4_RDKFingerprint_True_True': 14\n",
      "Length of list for key 'Cc1cn(-c2cc(NC(=O)c3ccc(C)c(Nc4nccc(-c5cccnc5)n4)c3)cc(C(F)(F)F)c2)cn1_4_RDKFingerprint_True_True': 14\n",
      "Length of list for key 'C=CC(=O)Nc1cccc(Oc2nc(Nc3ccc(N4CCN(C)CC4)cc3)nc3ccsc23)c1_4_RDKFingerprint_True_True': 14\n",
      "Length of list for key 'CC(C)N1CCN(c2ccc(OC[C@H]3CO[C@](Cn4cncn4)(c4ccc(Cl)cc4Cl)O3)cc2)CC1_4_RDKFingerprint_True_True': 14\n",
      "Length of list for key 'CSc1ccc2c(c1)N(CCC1CCCCN1C)c1ccccc1S2_4_RDKFingerprint_True_True': 14\n",
      "Length of list for key 'CN1CCN(CC/C=C2/c3ccccc3Sc3ccc(S(=O)(=O)N(C)C)cc32)CC1_4_RDKFingerprint_True_True': 14\n",
      "Length of list for key 'CCN(CC)CCOc1ccc2c(c1)C(=O)c1cc(OCCN(CC)CC)ccc1-2_4_RDKFingerprint_True_True': 14\n",
      "Length of list for key 'CN(C)CCCN1c2ccccc2Sc2ccc(C(F)(F)F)cc21.Cl_4_RDKFingerprint_True_True': 14\n",
      "Length of list for key 'CCN(CC)Cc1cc(Nc2ccnc3cc(Cl)ccc23)ccc1O_4_RDKFingerprint_True_False': 14\n",
      "Length of list for key 'C[C@@H](Oc1cc(-c2cnn(C3CCNCC3)c2)cnc1N)c1c(Cl)ccc(F)c1Cl_4_RDKFingerprint_True_False': 14\n",
      "Length of list for key 'CN1CCc2c(c3ccccc3n2Cc2ccccc2)C1_4_RDKFingerprint_True_False': 14\n",
      "Length of list for key 'COC(=O)C[C@@](O)(CCC(C)(C)O)C(=O)O[C@@H]1C(OC)=C[C@]23CCCN2CCc2cc4c(cc2[C@@H]13)OCO4_4_RDKFingerprint_True_False': 22\n",
      "Length of list for key 'OCCN1CCN(CCCN2c3ccccc3Sc3ccc(C(F)(F)F)cc32)CC1_4_RDKFingerprint_True_False': 14\n",
      "Length of list for key 'CCCCCCCCc1ccc(CCC(N)(CO)CO)cc1_4_RDKFingerprint_True_False': 14\n",
      "Length of list for key 'CC(NCCC(c1ccccc1)c1ccccc1)c1ccccc1_4_RDKFingerprint_True_False': 14\n",
      "Length of list for key 'CCCCc1oc2ccc(NS(C)(=O)=O)cc2c1C(=O)c1ccc(OCCCN(CCCC)CCCC)cc1.Cl_4_RDKFingerprint_True_False': 14\n",
      "Length of list for key 'OCCN1CCN(CCCN2c3ccccc3Sc3ccc(Cl)cc32)CC1_4_RDKFingerprint_True_False': 14\n",
      "Length of list for key 'CC(C)COc1ccc(CNC(=O)N(Cc2ccc(F)cc2)C2CCN(C)CC2)cc1_4_RDKFingerprint_True_False': 14\n",
      "Length of list for key 'CN1CCN(CCCN2c3ccccc3Sc3ccc(Cl)cc32)CC1.O=S(=O)(O)CCS(=O)(=O)O_4_RDKFingerprint_True_False': 14\n",
      "Length of list for key 'O=C(c1ccc(OCCN2CCCCC2)cc1)c1c(-c2ccc(O)cc2)sc2cc(O)ccc12_4_RDKFingerprint_True_False': 14\n",
      "Length of list for key 'CCN1CCN(Cc2ccc(Nc3ncc(F)c(-c4cc(F)c5nc(C)n(C(C)C)c5c4)n3)nc2)CC1_4_RDKFingerprint_True_False': 14\n",
      "Length of list for key 'O[C@@H](c1cc(C(F)(F)F)nc2c(C(F)(F)F)cccc12)[C@H]1CCCCN1_4_RDKFingerprint_True_False': 14\n",
      "Length of list for key 'Cc1nc(Nc2ccc(F)cc2)nc(N2CCc3ccccc3C2C)c1C_4_RDKFingerprint_True_False': 14\n",
      "Length of list for key 'CN(C)CCC=C1c2ccccc2C(C)(C)c2ccccc21_4_RDKFingerprint_True_False': 14\n",
      "Length of list for key 'Cc1c(O)cccc1C(=O)N[C@@H](CSc1ccccc1)[C@H](O)CN1C[C@H]2CCCC[C@H]2C[C@H]1C(=O)NC(C)(C)C_4_RDKFingerprint_True_False': 14\n",
      "Length of list for key 'COC(=O)C1=C(C)NC(C)=C(C(=O)OCCN(C)Cc2ccccc2)C1c1cccc([N+](=O)[O-])c1.Cl_4_RDKFingerprint_True_False': 14\n",
      "Length of list for key 'Cc1cn(-c2cc(NC(=O)c3ccc(C)c(Nc4nccc(-c5cccnc5)n4)c3)cc(C(F)(F)F)c2)cn1_4_RDKFingerprint_True_False': 14\n",
      "Length of list for key 'C=CC(=O)Nc1cccc(Oc2nc(Nc3ccc(N4CCN(C)CC4)cc3)nc3ccsc23)c1_4_RDKFingerprint_True_False': 14\n",
      "Length of list for key 'CC(C)N1CCN(c2ccc(OC[C@H]3CO[C@](Cn4cncn4)(c4ccc(Cl)cc4Cl)O3)cc2)CC1_4_RDKFingerprint_True_False': 14\n",
      "Length of list for key 'CSc1ccc2c(c1)N(CCC1CCCCN1C)c1ccccc1S2_4_RDKFingerprint_True_False': 14\n",
      "Length of list for key 'CN1CCN(CC/C=C2/c3ccccc3Sc3ccc(S(=O)(=O)N(C)C)cc32)CC1_4_RDKFingerprint_True_False': 14\n",
      "Length of list for key 'CCN(CC)CCOc1ccc2c(c1)C(=O)c1cc(OCCN(CC)CC)ccc1-2_4_RDKFingerprint_True_False': 14\n",
      "Length of list for key 'CN(C)CCCN1c2ccccc2Sc2ccc(C(F)(F)F)cc21.Cl_4_RDKFingerprint_True_False': 14\n",
      "Length of list for key 'CCN(CC)Cc1cc(Nc2ccnc3cc(Cl)ccc23)ccc1O_5_RDKFingerprint_True_True': 14\n",
      "Length of list for key 'C[C@@H](Oc1cc(-c2cnn(C3CCNCC3)c2)cnc1N)c1c(Cl)ccc(F)c1Cl_5_RDKFingerprint_True_True': 14\n",
      "Length of list for key 'CN1CCc2c(c3ccccc3n2Cc2ccccc2)C1_5_RDKFingerprint_True_True': 14\n",
      "Length of list for key 'COC(=O)C[C@@](O)(CCC(C)(C)O)C(=O)O[C@@H]1C(OC)=C[C@]23CCCN2CCc2cc4c(cc2[C@@H]13)OCO4_5_RDKFingerprint_True_True': 22\n",
      "Length of list for key 'OCCN1CCN(CCCN2c3ccccc3Sc3ccc(C(F)(F)F)cc32)CC1_5_RDKFingerprint_True_True': 14\n",
      "Length of list for key 'CCCCCCCCc1ccc(CCC(N)(CO)CO)cc1_5_RDKFingerprint_True_True': 14\n",
      "Length of list for key 'CC(NCCC(c1ccccc1)c1ccccc1)c1ccccc1_5_RDKFingerprint_True_True': 14\n",
      "Length of list for key 'CCCCc1oc2ccc(NS(C)(=O)=O)cc2c1C(=O)c1ccc(OCCCN(CCCC)CCCC)cc1.Cl_5_RDKFingerprint_True_True': 14\n",
      "Length of list for key 'OCCN1CCN(CCCN2c3ccccc3Sc3ccc(Cl)cc32)CC1_5_RDKFingerprint_True_True': 14\n",
      "Length of list for key 'CC(C)COc1ccc(CNC(=O)N(Cc2ccc(F)cc2)C2CCN(C)CC2)cc1_5_RDKFingerprint_True_True': 14\n",
      "Length of list for key 'CN1CCN(CCCN2c3ccccc3Sc3ccc(Cl)cc32)CC1.O=S(=O)(O)CCS(=O)(=O)O_5_RDKFingerprint_True_True': 14\n",
      "Length of list for key 'O=C(c1ccc(OCCN2CCCCC2)cc1)c1c(-c2ccc(O)cc2)sc2cc(O)ccc12_5_RDKFingerprint_True_True': 14\n",
      "Length of list for key 'CCN1CCN(Cc2ccc(Nc3ncc(F)c(-c4cc(F)c5nc(C)n(C(C)C)c5c4)n3)nc2)CC1_5_RDKFingerprint_True_True': 14\n",
      "Length of list for key 'O[C@@H](c1cc(C(F)(F)F)nc2c(C(F)(F)F)cccc12)[C@H]1CCCCN1_5_RDKFingerprint_True_True': 14\n",
      "Length of list for key 'Cc1nc(Nc2ccc(F)cc2)nc(N2CCc3ccccc3C2C)c1C_5_RDKFingerprint_True_True': 14\n",
      "Length of list for key 'CN(C)CCC=C1c2ccccc2C(C)(C)c2ccccc21_5_RDKFingerprint_True_True': 14\n",
      "Length of list for key 'Cc1c(O)cccc1C(=O)N[C@@H](CSc1ccccc1)[C@H](O)CN1C[C@H]2CCCC[C@H]2C[C@H]1C(=O)NC(C)(C)C_5_RDKFingerprint_True_True': 14\n",
      "Length of list for key 'COC(=O)C1=C(C)NC(C)=C(C(=O)OCCN(C)Cc2ccccc2)C1c1cccc([N+](=O)[O-])c1.Cl_5_RDKFingerprint_True_True': 14\n",
      "Length of list for key 'Cc1cn(-c2cc(NC(=O)c3ccc(C)c(Nc4nccc(-c5cccnc5)n4)c3)cc(C(F)(F)F)c2)cn1_5_RDKFingerprint_True_True': 14\n",
      "Length of list for key 'C=CC(=O)Nc1cccc(Oc2nc(Nc3ccc(N4CCN(C)CC4)cc3)nc3ccsc23)c1_5_RDKFingerprint_True_True': 14\n",
      "Length of list for key 'CC(C)N1CCN(c2ccc(OC[C@H]3CO[C@](Cn4cncn4)(c4ccc(Cl)cc4Cl)O3)cc2)CC1_5_RDKFingerprint_True_True': 14\n",
      "Length of list for key 'CSc1ccc2c(c1)N(CCC1CCCCN1C)c1ccccc1S2_5_RDKFingerprint_True_True': 14\n",
      "Length of list for key 'CN1CCN(CC/C=C2/c3ccccc3Sc3ccc(S(=O)(=O)N(C)C)cc32)CC1_5_RDKFingerprint_True_True': 14\n",
      "Length of list for key 'CCN(CC)CCOc1ccc2c(c1)C(=O)c1cc(OCCN(CC)CC)ccc1-2_5_RDKFingerprint_True_True': 14\n",
      "Length of list for key 'CN(C)CCCN1c2ccccc2Sc2ccc(C(F)(F)F)cc21.Cl_5_RDKFingerprint_True_True': 14\n",
      "Length of list for key 'CCN(CC)Cc1cc(Nc2ccnc3cc(Cl)ccc23)ccc1O_5_RDKFingerprint_True_False': 14\n",
      "Length of list for key 'C[C@@H](Oc1cc(-c2cnn(C3CCNCC3)c2)cnc1N)c1c(Cl)ccc(F)c1Cl_5_RDKFingerprint_True_False': 14\n",
      "Length of list for key 'CN1CCc2c(c3ccccc3n2Cc2ccccc2)C1_5_RDKFingerprint_True_False': 14\n",
      "Length of list for key 'COC(=O)C[C@@](O)(CCC(C)(C)O)C(=O)O[C@@H]1C(OC)=C[C@]23CCCN2CCc2cc4c(cc2[C@@H]13)OCO4_5_RDKFingerprint_True_False': 22\n",
      "Length of list for key 'OCCN1CCN(CCCN2c3ccccc3Sc3ccc(C(F)(F)F)cc32)CC1_5_RDKFingerprint_True_False': 14\n",
      "Length of list for key 'CCCCCCCCc1ccc(CCC(N)(CO)CO)cc1_5_RDKFingerprint_True_False': 14\n",
      "Length of list for key 'CC(NCCC(c1ccccc1)c1ccccc1)c1ccccc1_5_RDKFingerprint_True_False': 14\n",
      "Length of list for key 'CCCCc1oc2ccc(NS(C)(=O)=O)cc2c1C(=O)c1ccc(OCCCN(CCCC)CCCC)cc1.Cl_5_RDKFingerprint_True_False': 14\n",
      "Length of list for key 'OCCN1CCN(CCCN2c3ccccc3Sc3ccc(Cl)cc32)CC1_5_RDKFingerprint_True_False': 14\n",
      "Length of list for key 'CC(C)COc1ccc(CNC(=O)N(Cc2ccc(F)cc2)C2CCN(C)CC2)cc1_5_RDKFingerprint_True_False': 14\n",
      "Length of list for key 'CN1CCN(CCCN2c3ccccc3Sc3ccc(Cl)cc32)CC1.O=S(=O)(O)CCS(=O)(=O)O_5_RDKFingerprint_True_False': 14\n",
      "Length of list for key 'O=C(c1ccc(OCCN2CCCCC2)cc1)c1c(-c2ccc(O)cc2)sc2cc(O)ccc12_5_RDKFingerprint_True_False': 14\n",
      "Length of list for key 'CCN1CCN(Cc2ccc(Nc3ncc(F)c(-c4cc(F)c5nc(C)n(C(C)C)c5c4)n3)nc2)CC1_5_RDKFingerprint_True_False': 14\n",
      "Length of list for key 'O[C@@H](c1cc(C(F)(F)F)nc2c(C(F)(F)F)cccc12)[C@H]1CCCCN1_5_RDKFingerprint_True_False': 14\n",
      "Length of list for key 'Cc1nc(Nc2ccc(F)cc2)nc(N2CCc3ccccc3C2C)c1C_5_RDKFingerprint_True_False': 14\n",
      "Length of list for key 'CN(C)CCC=C1c2ccccc2C(C)(C)c2ccccc21_5_RDKFingerprint_True_False': 14\n",
      "Length of list for key 'Cc1c(O)cccc1C(=O)N[C@@H](CSc1ccccc1)[C@H](O)CN1C[C@H]2CCCC[C@H]2C[C@H]1C(=O)NC(C)(C)C_5_RDKFingerprint_True_False': 14\n",
      "Length of list for key 'COC(=O)C1=C(C)NC(C)=C(C(=O)OCCN(C)Cc2ccccc2)C1c1cccc([N+](=O)[O-])c1.Cl_5_RDKFingerprint_True_False': 14\n",
      "Length of list for key 'Cc1cn(-c2cc(NC(=O)c3ccc(C)c(Nc4nccc(-c5cccnc5)n4)c3)cc(C(F)(F)F)c2)cn1_5_RDKFingerprint_True_False': 14\n",
      "Length of list for key 'C=CC(=O)Nc1cccc(Oc2nc(Nc3ccc(N4CCN(C)CC4)cc3)nc3ccsc23)c1_5_RDKFingerprint_True_False': 14\n",
      "Length of list for key 'CC(C)N1CCN(c2ccc(OC[C@H]3CO[C@](Cn4cncn4)(c4ccc(Cl)cc4Cl)O3)cc2)CC1_5_RDKFingerprint_True_False': 14\n",
      "Length of list for key 'CSc1ccc2c(c1)N(CCC1CCCCN1C)c1ccccc1S2_5_RDKFingerprint_True_False': 14\n",
      "Length of list for key 'CN1CCN(CC/C=C2/c3ccccc3Sc3ccc(S(=O)(=O)N(C)C)cc32)CC1_5_RDKFingerprint_True_False': 14\n",
      "Length of list for key 'CCN(CC)CCOc1ccc2c(c1)C(=O)c1cc(OCCN(CC)CC)ccc1-2_5_RDKFingerprint_True_False': 14\n",
      "Length of list for key 'CN(C)CCCN1c2ccccc2Sc2ccc(C(F)(F)F)cc21.Cl_5_RDKFingerprint_True_False': 14\n",
      "Length of list for key 'CCN(CC)Cc1cc(Nc2ccnc3cc(Cl)ccc23)ccc1O_6_RDKFingerprint_True_True': 14\n",
      "Length of list for key 'C[C@@H](Oc1cc(-c2cnn(C3CCNCC3)c2)cnc1N)c1c(Cl)ccc(F)c1Cl_6_RDKFingerprint_True_True': 14\n",
      "Length of list for key 'CN1CCc2c(c3ccccc3n2Cc2ccccc2)C1_6_RDKFingerprint_True_True': 14\n",
      "Length of list for key 'COC(=O)C[C@@](O)(CCC(C)(C)O)C(=O)O[C@@H]1C(OC)=C[C@]23CCCN2CCc2cc4c(cc2[C@@H]13)OCO4_6_RDKFingerprint_True_True': 22\n",
      "Length of list for key 'OCCN1CCN(CCCN2c3ccccc3Sc3ccc(C(F)(F)F)cc32)CC1_6_RDKFingerprint_True_True': 14\n",
      "Length of list for key 'CCCCCCCCc1ccc(CCC(N)(CO)CO)cc1_6_RDKFingerprint_True_True': 14\n",
      "Length of list for key 'CC(NCCC(c1ccccc1)c1ccccc1)c1ccccc1_6_RDKFingerprint_True_True': 14\n",
      "Length of list for key 'CCCCc1oc2ccc(NS(C)(=O)=O)cc2c1C(=O)c1ccc(OCCCN(CCCC)CCCC)cc1.Cl_6_RDKFingerprint_True_True': 14\n",
      "Length of list for key 'OCCN1CCN(CCCN2c3ccccc3Sc3ccc(Cl)cc32)CC1_6_RDKFingerprint_True_True': 14\n",
      "Length of list for key 'CC(C)COc1ccc(CNC(=O)N(Cc2ccc(F)cc2)C2CCN(C)CC2)cc1_6_RDKFingerprint_True_True': 14\n",
      "Length of list for key 'CN1CCN(CCCN2c3ccccc3Sc3ccc(Cl)cc32)CC1.O=S(=O)(O)CCS(=O)(=O)O_6_RDKFingerprint_True_True': 14\n",
      "Length of list for key 'O=C(c1ccc(OCCN2CCCCC2)cc1)c1c(-c2ccc(O)cc2)sc2cc(O)ccc12_6_RDKFingerprint_True_True': 14\n",
      "Length of list for key 'CCN1CCN(Cc2ccc(Nc3ncc(F)c(-c4cc(F)c5nc(C)n(C(C)C)c5c4)n3)nc2)CC1_6_RDKFingerprint_True_True': 14\n",
      "Length of list for key 'O[C@@H](c1cc(C(F)(F)F)nc2c(C(F)(F)F)cccc12)[C@H]1CCCCN1_6_RDKFingerprint_True_True': 14\n",
      "Length of list for key 'Cc1nc(Nc2ccc(F)cc2)nc(N2CCc3ccccc3C2C)c1C_6_RDKFingerprint_True_True': 14\n",
      "Length of list for key 'CN(C)CCC=C1c2ccccc2C(C)(C)c2ccccc21_6_RDKFingerprint_True_True': 14\n",
      "Length of list for key 'Cc1c(O)cccc1C(=O)N[C@@H](CSc1ccccc1)[C@H](O)CN1C[C@H]2CCCC[C@H]2C[C@H]1C(=O)NC(C)(C)C_6_RDKFingerprint_True_True': 14\n",
      "Length of list for key 'COC(=O)C1=C(C)NC(C)=C(C(=O)OCCN(C)Cc2ccccc2)C1c1cccc([N+](=O)[O-])c1.Cl_6_RDKFingerprint_True_True': 14\n",
      "Length of list for key 'Cc1cn(-c2cc(NC(=O)c3ccc(C)c(Nc4nccc(-c5cccnc5)n4)c3)cc(C(F)(F)F)c2)cn1_6_RDKFingerprint_True_True': 14\n",
      "Length of list for key 'C=CC(=O)Nc1cccc(Oc2nc(Nc3ccc(N4CCN(C)CC4)cc3)nc3ccsc23)c1_6_RDKFingerprint_True_True': 14\n",
      "Length of list for key 'CC(C)N1CCN(c2ccc(OC[C@H]3CO[C@](Cn4cncn4)(c4ccc(Cl)cc4Cl)O3)cc2)CC1_6_RDKFingerprint_True_True': 14\n",
      "Length of list for key 'CSc1ccc2c(c1)N(CCC1CCCCN1C)c1ccccc1S2_6_RDKFingerprint_True_True': 14\n",
      "Length of list for key 'CN1CCN(CC/C=C2/c3ccccc3Sc3ccc(S(=O)(=O)N(C)C)cc32)CC1_6_RDKFingerprint_True_True': 14\n",
      "Length of list for key 'CCN(CC)CCOc1ccc2c(c1)C(=O)c1cc(OCCN(CC)CC)ccc1-2_6_RDKFingerprint_True_True': 14\n",
      "Length of list for key 'CN(C)CCCN1c2ccccc2Sc2ccc(C(F)(F)F)cc21.Cl_6_RDKFingerprint_True_True': 14\n",
      "Length of list for key 'CCN(CC)Cc1cc(Nc2ccnc3cc(Cl)ccc23)ccc1O_6_RDKFingerprint_True_False': 14\n",
      "Length of list for key 'C[C@@H](Oc1cc(-c2cnn(C3CCNCC3)c2)cnc1N)c1c(Cl)ccc(F)c1Cl_6_RDKFingerprint_True_False': 14\n",
      "Length of list for key 'CN1CCc2c(c3ccccc3n2Cc2ccccc2)C1_6_RDKFingerprint_True_False': 14\n",
      "Length of list for key 'COC(=O)C[C@@](O)(CCC(C)(C)O)C(=O)O[C@@H]1C(OC)=C[C@]23CCCN2CCc2cc4c(cc2[C@@H]13)OCO4_6_RDKFingerprint_True_False': 22\n",
      "Length of list for key 'OCCN1CCN(CCCN2c3ccccc3Sc3ccc(C(F)(F)F)cc32)CC1_6_RDKFingerprint_True_False': 14\n",
      "Length of list for key 'CCCCCCCCc1ccc(CCC(N)(CO)CO)cc1_6_RDKFingerprint_True_False': 14\n",
      "Length of list for key 'CC(NCCC(c1ccccc1)c1ccccc1)c1ccccc1_6_RDKFingerprint_True_False': 14\n",
      "Length of list for key 'CCCCc1oc2ccc(NS(C)(=O)=O)cc2c1C(=O)c1ccc(OCCCN(CCCC)CCCC)cc1.Cl_6_RDKFingerprint_True_False': 14\n",
      "Length of list for key 'OCCN1CCN(CCCN2c3ccccc3Sc3ccc(Cl)cc32)CC1_6_RDKFingerprint_True_False': 14\n",
      "Length of list for key 'CC(C)COc1ccc(CNC(=O)N(Cc2ccc(F)cc2)C2CCN(C)CC2)cc1_6_RDKFingerprint_True_False': 14\n",
      "Length of list for key 'CN1CCN(CCCN2c3ccccc3Sc3ccc(Cl)cc32)CC1.O=S(=O)(O)CCS(=O)(=O)O_6_RDKFingerprint_True_False': 14\n",
      "Length of list for key 'O=C(c1ccc(OCCN2CCCCC2)cc1)c1c(-c2ccc(O)cc2)sc2cc(O)ccc12_6_RDKFingerprint_True_False': 14\n",
      "Length of list for key 'CCN1CCN(Cc2ccc(Nc3ncc(F)c(-c4cc(F)c5nc(C)n(C(C)C)c5c4)n3)nc2)CC1_6_RDKFingerprint_True_False': 14\n",
      "Length of list for key 'O[C@@H](c1cc(C(F)(F)F)nc2c(C(F)(F)F)cccc12)[C@H]1CCCCN1_6_RDKFingerprint_True_False': 14\n",
      "Length of list for key 'Cc1nc(Nc2ccc(F)cc2)nc(N2CCc3ccccc3C2C)c1C_6_RDKFingerprint_True_False': 14\n",
      "Length of list for key 'CN(C)CCC=C1c2ccccc2C(C)(C)c2ccccc21_6_RDKFingerprint_True_False': 14\n",
      "Length of list for key 'Cc1c(O)cccc1C(=O)N[C@@H](CSc1ccccc1)[C@H](O)CN1C[C@H]2CCCC[C@H]2C[C@H]1C(=O)NC(C)(C)C_6_RDKFingerprint_True_False': 14\n",
      "Length of list for key 'COC(=O)C1=C(C)NC(C)=C(C(=O)OCCN(C)Cc2ccccc2)C1c1cccc([N+](=O)[O-])c1.Cl_6_RDKFingerprint_True_False': 14\n",
      "Length of list for key 'Cc1cn(-c2cc(NC(=O)c3ccc(C)c(Nc4nccc(-c5cccnc5)n4)c3)cc(C(F)(F)F)c2)cn1_6_RDKFingerprint_True_False': 14\n",
      "Length of list for key 'C=CC(=O)Nc1cccc(Oc2nc(Nc3ccc(N4CCN(C)CC4)cc3)nc3ccsc23)c1_6_RDKFingerprint_True_False': 14\n",
      "Length of list for key 'CC(C)N1CCN(c2ccc(OC[C@H]3CO[C@](Cn4cncn4)(c4ccc(Cl)cc4Cl)O3)cc2)CC1_6_RDKFingerprint_True_False': 14\n",
      "Length of list for key 'CSc1ccc2c(c1)N(CCC1CCCCN1C)c1ccccc1S2_6_RDKFingerprint_True_False': 14\n",
      "Length of list for key 'CN1CCN(CC/C=C2/c3ccccc3Sc3ccc(S(=O)(=O)N(C)C)cc32)CC1_6_RDKFingerprint_True_False': 14\n",
      "Length of list for key 'CCN(CC)CCOc1ccc2c(c1)C(=O)c1cc(OCCN(CC)CC)ccc1-2_6_RDKFingerprint_True_False': 14\n",
      "Length of list for key 'CN(C)CCCN1c2ccccc2Sc2ccc(C(F)(F)F)cc21.Cl_6_RDKFingerprint_True_False': 14\n",
      "Length of list for key 'CCN(CC)Cc1cc(Nc2ccnc3cc(Cl)ccc23)ccc1O_7_RDKFingerprint_True_True': 14\n",
      "Length of list for key 'C[C@@H](Oc1cc(-c2cnn(C3CCNCC3)c2)cnc1N)c1c(Cl)ccc(F)c1Cl_7_RDKFingerprint_True_True': 14\n",
      "Length of list for key 'CN1CCc2c(c3ccccc3n2Cc2ccccc2)C1_7_RDKFingerprint_True_True': 14\n",
      "Length of list for key 'COC(=O)C[C@@](O)(CCC(C)(C)O)C(=O)O[C@@H]1C(OC)=C[C@]23CCCN2CCc2cc4c(cc2[C@@H]13)OCO4_7_RDKFingerprint_True_True': 22\n",
      "Length of list for key 'OCCN1CCN(CCCN2c3ccccc3Sc3ccc(C(F)(F)F)cc32)CC1_7_RDKFingerprint_True_True': 14\n",
      "Length of list for key 'CCCCCCCCc1ccc(CCC(N)(CO)CO)cc1_7_RDKFingerprint_True_True': 14\n",
      "Length of list for key 'CC(NCCC(c1ccccc1)c1ccccc1)c1ccccc1_7_RDKFingerprint_True_True': 14\n",
      "Length of list for key 'CCCCc1oc2ccc(NS(C)(=O)=O)cc2c1C(=O)c1ccc(OCCCN(CCCC)CCCC)cc1.Cl_7_RDKFingerprint_True_True': 14\n",
      "Length of list for key 'OCCN1CCN(CCCN2c3ccccc3Sc3ccc(Cl)cc32)CC1_7_RDKFingerprint_True_True': 14\n",
      "Length of list for key 'CC(C)COc1ccc(CNC(=O)N(Cc2ccc(F)cc2)C2CCN(C)CC2)cc1_7_RDKFingerprint_True_True': 14\n",
      "Length of list for key 'CN1CCN(CCCN2c3ccccc3Sc3ccc(Cl)cc32)CC1.O=S(=O)(O)CCS(=O)(=O)O_7_RDKFingerprint_True_True': 14\n",
      "Length of list for key 'O=C(c1ccc(OCCN2CCCCC2)cc1)c1c(-c2ccc(O)cc2)sc2cc(O)ccc12_7_RDKFingerprint_True_True': 14\n",
      "Length of list for key 'CCN1CCN(Cc2ccc(Nc3ncc(F)c(-c4cc(F)c5nc(C)n(C(C)C)c5c4)n3)nc2)CC1_7_RDKFingerprint_True_True': 14\n",
      "Length of list for key 'O[C@@H](c1cc(C(F)(F)F)nc2c(C(F)(F)F)cccc12)[C@H]1CCCCN1_7_RDKFingerprint_True_True': 14\n",
      "Length of list for key 'Cc1nc(Nc2ccc(F)cc2)nc(N2CCc3ccccc3C2C)c1C_7_RDKFingerprint_True_True': 14\n",
      "Length of list for key 'CN(C)CCC=C1c2ccccc2C(C)(C)c2ccccc21_7_RDKFingerprint_True_True': 14\n",
      "Length of list for key 'Cc1c(O)cccc1C(=O)N[C@@H](CSc1ccccc1)[C@H](O)CN1C[C@H]2CCCC[C@H]2C[C@H]1C(=O)NC(C)(C)C_7_RDKFingerprint_True_True': 14\n",
      "Length of list for key 'COC(=O)C1=C(C)NC(C)=C(C(=O)OCCN(C)Cc2ccccc2)C1c1cccc([N+](=O)[O-])c1.Cl_7_RDKFingerprint_True_True': 14\n",
      "Length of list for key 'Cc1cn(-c2cc(NC(=O)c3ccc(C)c(Nc4nccc(-c5cccnc5)n4)c3)cc(C(F)(F)F)c2)cn1_7_RDKFingerprint_True_True': 14\n",
      "Length of list for key 'C=CC(=O)Nc1cccc(Oc2nc(Nc3ccc(N4CCN(C)CC4)cc3)nc3ccsc23)c1_7_RDKFingerprint_True_True': 14\n",
      "Length of list for key 'CC(C)N1CCN(c2ccc(OC[C@H]3CO[C@](Cn4cncn4)(c4ccc(Cl)cc4Cl)O3)cc2)CC1_7_RDKFingerprint_True_True': 14\n",
      "Length of list for key 'CSc1ccc2c(c1)N(CCC1CCCCN1C)c1ccccc1S2_7_RDKFingerprint_True_True': 14\n",
      "Length of list for key 'CN1CCN(CC/C=C2/c3ccccc3Sc3ccc(S(=O)(=O)N(C)C)cc32)CC1_7_RDKFingerprint_True_True': 14\n",
      "Length of list for key 'CCN(CC)CCOc1ccc2c(c1)C(=O)c1cc(OCCN(CC)CC)ccc1-2_7_RDKFingerprint_True_True': 14\n",
      "Length of list for key 'CN(C)CCCN1c2ccccc2Sc2ccc(C(F)(F)F)cc21.Cl_7_RDKFingerprint_True_True': 14\n",
      "Length of list for key 'CCN(CC)Cc1cc(Nc2ccnc3cc(Cl)ccc23)ccc1O_7_RDKFingerprint_True_False': 14\n",
      "Length of list for key 'C[C@@H](Oc1cc(-c2cnn(C3CCNCC3)c2)cnc1N)c1c(Cl)ccc(F)c1Cl_7_RDKFingerprint_True_False': 14\n",
      "Length of list for key 'CN1CCc2c(c3ccccc3n2Cc2ccccc2)C1_7_RDKFingerprint_True_False': 14\n",
      "Length of list for key 'COC(=O)C[C@@](O)(CCC(C)(C)O)C(=O)O[C@@H]1C(OC)=C[C@]23CCCN2CCc2cc4c(cc2[C@@H]13)OCO4_7_RDKFingerprint_True_False': 22\n",
      "Length of list for key 'OCCN1CCN(CCCN2c3ccccc3Sc3ccc(C(F)(F)F)cc32)CC1_7_RDKFingerprint_True_False': 14\n",
      "Length of list for key 'CCCCCCCCc1ccc(CCC(N)(CO)CO)cc1_7_RDKFingerprint_True_False': 14\n",
      "Length of list for key 'CC(NCCC(c1ccccc1)c1ccccc1)c1ccccc1_7_RDKFingerprint_True_False': 14\n",
      "Length of list for key 'CCCCc1oc2ccc(NS(C)(=O)=O)cc2c1C(=O)c1ccc(OCCCN(CCCC)CCCC)cc1.Cl_7_RDKFingerprint_True_False': 14\n",
      "Length of list for key 'OCCN1CCN(CCCN2c3ccccc3Sc3ccc(Cl)cc32)CC1_7_RDKFingerprint_True_False': 14\n",
      "Length of list for key 'CC(C)COc1ccc(CNC(=O)N(Cc2ccc(F)cc2)C2CCN(C)CC2)cc1_7_RDKFingerprint_True_False': 14\n",
      "Length of list for key 'CN1CCN(CCCN2c3ccccc3Sc3ccc(Cl)cc32)CC1.O=S(=O)(O)CCS(=O)(=O)O_7_RDKFingerprint_True_False': 14\n",
      "Length of list for key 'O=C(c1ccc(OCCN2CCCCC2)cc1)c1c(-c2ccc(O)cc2)sc2cc(O)ccc12_7_RDKFingerprint_True_False': 14\n",
      "Length of list for key 'CCN1CCN(Cc2ccc(Nc3ncc(F)c(-c4cc(F)c5nc(C)n(C(C)C)c5c4)n3)nc2)CC1_7_RDKFingerprint_True_False': 14\n",
      "Length of list for key 'O[C@@H](c1cc(C(F)(F)F)nc2c(C(F)(F)F)cccc12)[C@H]1CCCCN1_7_RDKFingerprint_True_False': 14\n",
      "Length of list for key 'Cc1nc(Nc2ccc(F)cc2)nc(N2CCc3ccccc3C2C)c1C_7_RDKFingerprint_True_False': 14\n",
      "Length of list for key 'CN(C)CCC=C1c2ccccc2C(C)(C)c2ccccc21_7_RDKFingerprint_True_False': 14\n",
      "Length of list for key 'Cc1c(O)cccc1C(=O)N[C@@H](CSc1ccccc1)[C@H](O)CN1C[C@H]2CCCC[C@H]2C[C@H]1C(=O)NC(C)(C)C_7_RDKFingerprint_True_False': 14\n",
      "Length of list for key 'COC(=O)C1=C(C)NC(C)=C(C(=O)OCCN(C)Cc2ccccc2)C1c1cccc([N+](=O)[O-])c1.Cl_7_RDKFingerprint_True_False': 14\n",
      "Length of list for key 'Cc1cn(-c2cc(NC(=O)c3ccc(C)c(Nc4nccc(-c5cccnc5)n4)c3)cc(C(F)(F)F)c2)cn1_7_RDKFingerprint_True_False': 14\n",
      "Length of list for key 'C=CC(=O)Nc1cccc(Oc2nc(Nc3ccc(N4CCN(C)CC4)cc3)nc3ccsc23)c1_7_RDKFingerprint_True_False': 14\n",
      "Length of list for key 'CC(C)N1CCN(c2ccc(OC[C@H]3CO[C@](Cn4cncn4)(c4ccc(Cl)cc4Cl)O3)cc2)CC1_7_RDKFingerprint_True_False': 14\n",
      "Length of list for key 'CSc1ccc2c(c1)N(CCC1CCCCN1C)c1ccccc1S2_7_RDKFingerprint_True_False': 14\n",
      "Length of list for key 'CN1CCN(CC/C=C2/c3ccccc3Sc3ccc(S(=O)(=O)N(C)C)cc32)CC1_7_RDKFingerprint_True_False': 14\n",
      "Length of list for key 'CCN(CC)CCOc1ccc2c(c1)C(=O)c1cc(OCCN(CC)CC)ccc1-2_7_RDKFingerprint_True_False': 14\n",
      "Length of list for key 'CN(C)CCCN1c2ccccc2Sc2ccc(C(F)(F)F)cc21.Cl_7_RDKFingerprint_True_False': 14\n",
      "Length of list for key 'CCN(CC)Cc1cc(Nc2ccnc3cc(Cl)ccc23)ccc1O_8_RDKFingerprint_True_True': 14\n",
      "Length of list for key 'C[C@@H](Oc1cc(-c2cnn(C3CCNCC3)c2)cnc1N)c1c(Cl)ccc(F)c1Cl_8_RDKFingerprint_True_True': 14\n",
      "Length of list for key 'CN1CCc2c(c3ccccc3n2Cc2ccccc2)C1_8_RDKFingerprint_True_True': 14\n",
      "Length of list for key 'COC(=O)C[C@@](O)(CCC(C)(C)O)C(=O)O[C@@H]1C(OC)=C[C@]23CCCN2CCc2cc4c(cc2[C@@H]13)OCO4_8_RDKFingerprint_True_True': 22\n",
      "Length of list for key 'OCCN1CCN(CCCN2c3ccccc3Sc3ccc(C(F)(F)F)cc32)CC1_8_RDKFingerprint_True_True': 14\n",
      "Length of list for key 'CCCCCCCCc1ccc(CCC(N)(CO)CO)cc1_8_RDKFingerprint_True_True': 14\n",
      "Length of list for key 'CC(NCCC(c1ccccc1)c1ccccc1)c1ccccc1_8_RDKFingerprint_True_True': 14\n",
      "Length of list for key 'CCCCc1oc2ccc(NS(C)(=O)=O)cc2c1C(=O)c1ccc(OCCCN(CCCC)CCCC)cc1.Cl_8_RDKFingerprint_True_True': 14\n",
      "Length of list for key 'OCCN1CCN(CCCN2c3ccccc3Sc3ccc(Cl)cc32)CC1_8_RDKFingerprint_True_True': 14\n",
      "Length of list for key 'CC(C)COc1ccc(CNC(=O)N(Cc2ccc(F)cc2)C2CCN(C)CC2)cc1_8_RDKFingerprint_True_True': 14\n",
      "Length of list for key 'CN1CCN(CCCN2c3ccccc3Sc3ccc(Cl)cc32)CC1.O=S(=O)(O)CCS(=O)(=O)O_8_RDKFingerprint_True_True': 14\n",
      "Length of list for key 'O=C(c1ccc(OCCN2CCCCC2)cc1)c1c(-c2ccc(O)cc2)sc2cc(O)ccc12_8_RDKFingerprint_True_True': 14\n",
      "Length of list for key 'CCN1CCN(Cc2ccc(Nc3ncc(F)c(-c4cc(F)c5nc(C)n(C(C)C)c5c4)n3)nc2)CC1_8_RDKFingerprint_True_True': 14\n",
      "Length of list for key 'O[C@@H](c1cc(C(F)(F)F)nc2c(C(F)(F)F)cccc12)[C@H]1CCCCN1_8_RDKFingerprint_True_True': 14\n",
      "Length of list for key 'Cc1nc(Nc2ccc(F)cc2)nc(N2CCc3ccccc3C2C)c1C_8_RDKFingerprint_True_True': 14\n",
      "Length of list for key 'CN(C)CCC=C1c2ccccc2C(C)(C)c2ccccc21_8_RDKFingerprint_True_True': 14\n",
      "Length of list for key 'Cc1c(O)cccc1C(=O)N[C@@H](CSc1ccccc1)[C@H](O)CN1C[C@H]2CCCC[C@H]2C[C@H]1C(=O)NC(C)(C)C_8_RDKFingerprint_True_True': 14\n",
      "Length of list for key 'COC(=O)C1=C(C)NC(C)=C(C(=O)OCCN(C)Cc2ccccc2)C1c1cccc([N+](=O)[O-])c1.Cl_8_RDKFingerprint_True_True': 14\n",
      "Length of list for key 'Cc1cn(-c2cc(NC(=O)c3ccc(C)c(Nc4nccc(-c5cccnc5)n4)c3)cc(C(F)(F)F)c2)cn1_8_RDKFingerprint_True_True': 14\n",
      "Length of list for key 'C=CC(=O)Nc1cccc(Oc2nc(Nc3ccc(N4CCN(C)CC4)cc3)nc3ccsc23)c1_8_RDKFingerprint_True_True': 14\n",
      "Length of list for key 'CC(C)N1CCN(c2ccc(OC[C@H]3CO[C@](Cn4cncn4)(c4ccc(Cl)cc4Cl)O3)cc2)CC1_8_RDKFingerprint_True_True': 14\n",
      "Length of list for key 'CSc1ccc2c(c1)N(CCC1CCCCN1C)c1ccccc1S2_8_RDKFingerprint_True_True': 14\n",
      "Length of list for key 'CN1CCN(CC/C=C2/c3ccccc3Sc3ccc(S(=O)(=O)N(C)C)cc32)CC1_8_RDKFingerprint_True_True': 14\n",
      "Length of list for key 'CCN(CC)CCOc1ccc2c(c1)C(=O)c1cc(OCCN(CC)CC)ccc1-2_8_RDKFingerprint_True_True': 14\n",
      "Length of list for key 'CN(C)CCCN1c2ccccc2Sc2ccc(C(F)(F)F)cc21.Cl_8_RDKFingerprint_True_True': 14\n",
      "Length of list for key 'CCN(CC)Cc1cc(Nc2ccnc3cc(Cl)ccc23)ccc1O_8_RDKFingerprint_True_False': 14\n",
      "Length of list for key 'C[C@@H](Oc1cc(-c2cnn(C3CCNCC3)c2)cnc1N)c1c(Cl)ccc(F)c1Cl_8_RDKFingerprint_True_False': 14\n",
      "Length of list for key 'CN1CCc2c(c3ccccc3n2Cc2ccccc2)C1_8_RDKFingerprint_True_False': 14\n",
      "Length of list for key 'COC(=O)C[C@@](O)(CCC(C)(C)O)C(=O)O[C@@H]1C(OC)=C[C@]23CCCN2CCc2cc4c(cc2[C@@H]13)OCO4_8_RDKFingerprint_True_False': 22\n",
      "Length of list for key 'OCCN1CCN(CCCN2c3ccccc3Sc3ccc(C(F)(F)F)cc32)CC1_8_RDKFingerprint_True_False': 14\n",
      "Length of list for key 'CCCCCCCCc1ccc(CCC(N)(CO)CO)cc1_8_RDKFingerprint_True_False': 14\n",
      "Length of list for key 'CC(NCCC(c1ccccc1)c1ccccc1)c1ccccc1_8_RDKFingerprint_True_False': 14\n",
      "Length of list for key 'CCCCc1oc2ccc(NS(C)(=O)=O)cc2c1C(=O)c1ccc(OCCCN(CCCC)CCCC)cc1.Cl_8_RDKFingerprint_True_False': 14\n",
      "Length of list for key 'OCCN1CCN(CCCN2c3ccccc3Sc3ccc(Cl)cc32)CC1_8_RDKFingerprint_True_False': 14\n",
      "Length of list for key 'CC(C)COc1ccc(CNC(=O)N(Cc2ccc(F)cc2)C2CCN(C)CC2)cc1_8_RDKFingerprint_True_False': 14\n",
      "Length of list for key 'CN1CCN(CCCN2c3ccccc3Sc3ccc(Cl)cc32)CC1.O=S(=O)(O)CCS(=O)(=O)O_8_RDKFingerprint_True_False': 14\n",
      "Length of list for key 'O=C(c1ccc(OCCN2CCCCC2)cc1)c1c(-c2ccc(O)cc2)sc2cc(O)ccc12_8_RDKFingerprint_True_False': 14\n",
      "Length of list for key 'CCN1CCN(Cc2ccc(Nc3ncc(F)c(-c4cc(F)c5nc(C)n(C(C)C)c5c4)n3)nc2)CC1_8_RDKFingerprint_True_False': 14\n",
      "Length of list for key 'O[C@@H](c1cc(C(F)(F)F)nc2c(C(F)(F)F)cccc12)[C@H]1CCCCN1_8_RDKFingerprint_True_False': 14\n",
      "Length of list for key 'Cc1nc(Nc2ccc(F)cc2)nc(N2CCc3ccccc3C2C)c1C_8_RDKFingerprint_True_False': 14\n",
      "Length of list for key 'CN(C)CCC=C1c2ccccc2C(C)(C)c2ccccc21_8_RDKFingerprint_True_False': 14\n",
      "Length of list for key 'Cc1c(O)cccc1C(=O)N[C@@H](CSc1ccccc1)[C@H](O)CN1C[C@H]2CCCC[C@H]2C[C@H]1C(=O)NC(C)(C)C_8_RDKFingerprint_True_False': 14\n",
      "Length of list for key 'COC(=O)C1=C(C)NC(C)=C(C(=O)OCCN(C)Cc2ccccc2)C1c1cccc([N+](=O)[O-])c1.Cl_8_RDKFingerprint_True_False': 14\n",
      "Length of list for key 'Cc1cn(-c2cc(NC(=O)c3ccc(C)c(Nc4nccc(-c5cccnc5)n4)c3)cc(C(F)(F)F)c2)cn1_8_RDKFingerprint_True_False': 14\n",
      "Length of list for key 'C=CC(=O)Nc1cccc(Oc2nc(Nc3ccc(N4CCN(C)CC4)cc3)nc3ccsc23)c1_8_RDKFingerprint_True_False': 14\n",
      "Length of list for key 'CC(C)N1CCN(c2ccc(OC[C@H]3CO[C@](Cn4cncn4)(c4ccc(Cl)cc4Cl)O3)cc2)CC1_8_RDKFingerprint_True_False': 14\n",
      "Length of list for key 'CSc1ccc2c(c1)N(CCC1CCCCN1C)c1ccccc1S2_8_RDKFingerprint_True_False': 14\n",
      "Length of list for key 'CN1CCN(CC/C=C2/c3ccccc3Sc3ccc(S(=O)(=O)N(C)C)cc32)CC1_8_RDKFingerprint_True_False': 14\n",
      "Length of list for key 'CCN(CC)CCOc1ccc2c(c1)C(=O)c1cc(OCCN(CC)CC)ccc1-2_8_RDKFingerprint_True_False': 14\n",
      "Length of list for key 'CN(C)CCCN1c2ccccc2Sc2ccc(C(F)(F)F)cc21.Cl_8_RDKFingerprint_True_False': 14\n",
      "Length of list for key 'CCN(CC)Cc1cc(Nc2ccnc3cc(Cl)ccc23)ccc1O_9_RDKFingerprint_True_True': 14\n",
      "Length of list for key 'C[C@@H](Oc1cc(-c2cnn(C3CCNCC3)c2)cnc1N)c1c(Cl)ccc(F)c1Cl_9_RDKFingerprint_True_True': 14\n",
      "Length of list for key 'CN1CCc2c(c3ccccc3n2Cc2ccccc2)C1_9_RDKFingerprint_True_True': 14\n",
      "Length of list for key 'COC(=O)C[C@@](O)(CCC(C)(C)O)C(=O)O[C@@H]1C(OC)=C[C@]23CCCN2CCc2cc4c(cc2[C@@H]13)OCO4_9_RDKFingerprint_True_True': 22\n",
      "Length of list for key 'OCCN1CCN(CCCN2c3ccccc3Sc3ccc(C(F)(F)F)cc32)CC1_9_RDKFingerprint_True_True': 14\n",
      "Length of list for key 'CCCCCCCCc1ccc(CCC(N)(CO)CO)cc1_9_RDKFingerprint_True_True': 14\n",
      "Length of list for key 'CC(NCCC(c1ccccc1)c1ccccc1)c1ccccc1_9_RDKFingerprint_True_True': 14\n",
      "Length of list for key 'CCCCc1oc2ccc(NS(C)(=O)=O)cc2c1C(=O)c1ccc(OCCCN(CCCC)CCCC)cc1.Cl_9_RDKFingerprint_True_True': 14\n",
      "Length of list for key 'OCCN1CCN(CCCN2c3ccccc3Sc3ccc(Cl)cc32)CC1_9_RDKFingerprint_True_True': 14\n",
      "Length of list for key 'CC(C)COc1ccc(CNC(=O)N(Cc2ccc(F)cc2)C2CCN(C)CC2)cc1_9_RDKFingerprint_True_True': 14\n",
      "Length of list for key 'CN1CCN(CCCN2c3ccccc3Sc3ccc(Cl)cc32)CC1.O=S(=O)(O)CCS(=O)(=O)O_9_RDKFingerprint_True_True': 14\n",
      "Length of list for key 'O=C(c1ccc(OCCN2CCCCC2)cc1)c1c(-c2ccc(O)cc2)sc2cc(O)ccc12_9_RDKFingerprint_True_True': 14\n",
      "Length of list for key 'CCN1CCN(Cc2ccc(Nc3ncc(F)c(-c4cc(F)c5nc(C)n(C(C)C)c5c4)n3)nc2)CC1_9_RDKFingerprint_True_True': 14\n",
      "Length of list for key 'O[C@@H](c1cc(C(F)(F)F)nc2c(C(F)(F)F)cccc12)[C@H]1CCCCN1_9_RDKFingerprint_True_True': 14\n",
      "Length of list for key 'Cc1nc(Nc2ccc(F)cc2)nc(N2CCc3ccccc3C2C)c1C_9_RDKFingerprint_True_True': 14\n",
      "Length of list for key 'CN(C)CCC=C1c2ccccc2C(C)(C)c2ccccc21_9_RDKFingerprint_True_True': 14\n",
      "Length of list for key 'Cc1c(O)cccc1C(=O)N[C@@H](CSc1ccccc1)[C@H](O)CN1C[C@H]2CCCC[C@H]2C[C@H]1C(=O)NC(C)(C)C_9_RDKFingerprint_True_True': 14\n",
      "Length of list for key 'COC(=O)C1=C(C)NC(C)=C(C(=O)OCCN(C)Cc2ccccc2)C1c1cccc([N+](=O)[O-])c1.Cl_9_RDKFingerprint_True_True': 14\n",
      "Length of list for key 'Cc1cn(-c2cc(NC(=O)c3ccc(C)c(Nc4nccc(-c5cccnc5)n4)c3)cc(C(F)(F)F)c2)cn1_9_RDKFingerprint_True_True': 14\n",
      "Length of list for key 'C=CC(=O)Nc1cccc(Oc2nc(Nc3ccc(N4CCN(C)CC4)cc3)nc3ccsc23)c1_9_RDKFingerprint_True_True': 14\n",
      "Length of list for key 'CC(C)N1CCN(c2ccc(OC[C@H]3CO[C@](Cn4cncn4)(c4ccc(Cl)cc4Cl)O3)cc2)CC1_9_RDKFingerprint_True_True': 14\n",
      "Length of list for key 'CSc1ccc2c(c1)N(CCC1CCCCN1C)c1ccccc1S2_9_RDKFingerprint_True_True': 14\n",
      "Length of list for key 'CN1CCN(CC/C=C2/c3ccccc3Sc3ccc(S(=O)(=O)N(C)C)cc32)CC1_9_RDKFingerprint_True_True': 14\n",
      "Length of list for key 'CCN(CC)CCOc1ccc2c(c1)C(=O)c1cc(OCCN(CC)CC)ccc1-2_9_RDKFingerprint_True_True': 14\n",
      "Length of list for key 'CN(C)CCCN1c2ccccc2Sc2ccc(C(F)(F)F)cc21.Cl_9_RDKFingerprint_True_True': 14\n",
      "Length of list for key 'CCN(CC)Cc1cc(Nc2ccnc3cc(Cl)ccc23)ccc1O_9_RDKFingerprint_True_False': 14\n",
      "Length of list for key 'C[C@@H](Oc1cc(-c2cnn(C3CCNCC3)c2)cnc1N)c1c(Cl)ccc(F)c1Cl_9_RDKFingerprint_True_False': 14\n",
      "Length of list for key 'CN1CCc2c(c3ccccc3n2Cc2ccccc2)C1_9_RDKFingerprint_True_False': 14\n",
      "Length of list for key 'COC(=O)C[C@@](O)(CCC(C)(C)O)C(=O)O[C@@H]1C(OC)=C[C@]23CCCN2CCc2cc4c(cc2[C@@H]13)OCO4_9_RDKFingerprint_True_False': 22\n",
      "Length of list for key 'OCCN1CCN(CCCN2c3ccccc3Sc3ccc(C(F)(F)F)cc32)CC1_9_RDKFingerprint_True_False': 14\n",
      "Length of list for key 'CCCCCCCCc1ccc(CCC(N)(CO)CO)cc1_9_RDKFingerprint_True_False': 14\n",
      "Length of list for key 'CC(NCCC(c1ccccc1)c1ccccc1)c1ccccc1_9_RDKFingerprint_True_False': 14\n",
      "Length of list for key 'CCCCc1oc2ccc(NS(C)(=O)=O)cc2c1C(=O)c1ccc(OCCCN(CCCC)CCCC)cc1.Cl_9_RDKFingerprint_True_False': 14\n",
      "Length of list for key 'OCCN1CCN(CCCN2c3ccccc3Sc3ccc(Cl)cc32)CC1_9_RDKFingerprint_True_False': 14\n",
      "Length of list for key 'CC(C)COc1ccc(CNC(=O)N(Cc2ccc(F)cc2)C2CCN(C)CC2)cc1_9_RDKFingerprint_True_False': 14\n",
      "Length of list for key 'CN1CCN(CCCN2c3ccccc3Sc3ccc(Cl)cc32)CC1.O=S(=O)(O)CCS(=O)(=O)O_9_RDKFingerprint_True_False': 14\n",
      "Length of list for key 'O=C(c1ccc(OCCN2CCCCC2)cc1)c1c(-c2ccc(O)cc2)sc2cc(O)ccc12_9_RDKFingerprint_True_False': 14\n",
      "Length of list for key 'CCN1CCN(Cc2ccc(Nc3ncc(F)c(-c4cc(F)c5nc(C)n(C(C)C)c5c4)n3)nc2)CC1_9_RDKFingerprint_True_False': 14\n",
      "Length of list for key 'O[C@@H](c1cc(C(F)(F)F)nc2c(C(F)(F)F)cccc12)[C@H]1CCCCN1_9_RDKFingerprint_True_False': 14\n",
      "Length of list for key 'Cc1nc(Nc2ccc(F)cc2)nc(N2CCc3ccccc3C2C)c1C_9_RDKFingerprint_True_False': 14\n",
      "Length of list for key 'CN(C)CCC=C1c2ccccc2C(C)(C)c2ccccc21_9_RDKFingerprint_True_False': 14\n",
      "Length of list for key 'Cc1c(O)cccc1C(=O)N[C@@H](CSc1ccccc1)[C@H](O)CN1C[C@H]2CCCC[C@H]2C[C@H]1C(=O)NC(C)(C)C_9_RDKFingerprint_True_False': 14\n",
      "Length of list for key 'COC(=O)C1=C(C)NC(C)=C(C(=O)OCCN(C)Cc2ccccc2)C1c1cccc([N+](=O)[O-])c1.Cl_9_RDKFingerprint_True_False': 14\n",
      "Length of list for key 'Cc1cn(-c2cc(NC(=O)c3ccc(C)c(Nc4nccc(-c5cccnc5)n4)c3)cc(C(F)(F)F)c2)cn1_9_RDKFingerprint_True_False': 14\n",
      "Length of list for key 'C=CC(=O)Nc1cccc(Oc2nc(Nc3ccc(N4CCN(C)CC4)cc3)nc3ccsc23)c1_9_RDKFingerprint_True_False': 14\n",
      "Length of list for key 'CC(C)N1CCN(c2ccc(OC[C@H]3CO[C@](Cn4cncn4)(c4ccc(Cl)cc4Cl)O3)cc2)CC1_9_RDKFingerprint_True_False': 14\n",
      "Length of list for key 'CSc1ccc2c(c1)N(CCC1CCCCN1C)c1ccccc1S2_9_RDKFingerprint_True_False': 14\n",
      "Length of list for key 'CN1CCN(CC/C=C2/c3ccccc3Sc3ccc(S(=O)(=O)N(C)C)cc32)CC1_9_RDKFingerprint_True_False': 14\n",
      "Length of list for key 'CCN(CC)CCOc1ccc2c(c1)C(=O)c1cc(OCCN(CC)CC)ccc1-2_9_RDKFingerprint_True_False': 14\n",
      "Length of list for key 'CN(C)CCCN1c2ccccc2Sc2ccc(C(F)(F)F)cc21.Cl_9_RDKFingerprint_True_False': 14\n",
      "Length of list for key 'CCN(CC)Cc1cc(Nc2ccnc3cc(Cl)ccc23)ccc1O_10_RDKFingerprint_True_True': 14\n",
      "Length of list for key 'C[C@@H](Oc1cc(-c2cnn(C3CCNCC3)c2)cnc1N)c1c(Cl)ccc(F)c1Cl_10_RDKFingerprint_True_True': 14\n",
      "Length of list for key 'CN1CCc2c(c3ccccc3n2Cc2ccccc2)C1_10_RDKFingerprint_True_True': 14\n",
      "Length of list for key 'COC(=O)C[C@@](O)(CCC(C)(C)O)C(=O)O[C@@H]1C(OC)=C[C@]23CCCN2CCc2cc4c(cc2[C@@H]13)OCO4_10_RDKFingerprint_True_True': 22\n",
      "Length of list for key 'OCCN1CCN(CCCN2c3ccccc3Sc3ccc(C(F)(F)F)cc32)CC1_10_RDKFingerprint_True_True': 14\n",
      "Length of list for key 'CCCCCCCCc1ccc(CCC(N)(CO)CO)cc1_10_RDKFingerprint_True_True': 14\n",
      "Length of list for key 'CC(NCCC(c1ccccc1)c1ccccc1)c1ccccc1_10_RDKFingerprint_True_True': 14\n",
      "Length of list for key 'CCCCc1oc2ccc(NS(C)(=O)=O)cc2c1C(=O)c1ccc(OCCCN(CCCC)CCCC)cc1.Cl_10_RDKFingerprint_True_True': 14\n",
      "Length of list for key 'OCCN1CCN(CCCN2c3ccccc3Sc3ccc(Cl)cc32)CC1_10_RDKFingerprint_True_True': 14\n",
      "Length of list for key 'CC(C)COc1ccc(CNC(=O)N(Cc2ccc(F)cc2)C2CCN(C)CC2)cc1_10_RDKFingerprint_True_True': 14\n",
      "Length of list for key 'CN1CCN(CCCN2c3ccccc3Sc3ccc(Cl)cc32)CC1.O=S(=O)(O)CCS(=O)(=O)O_10_RDKFingerprint_True_True': 14\n",
      "Length of list for key 'O=C(c1ccc(OCCN2CCCCC2)cc1)c1c(-c2ccc(O)cc2)sc2cc(O)ccc12_10_RDKFingerprint_True_True': 14\n",
      "Length of list for key 'CCN1CCN(Cc2ccc(Nc3ncc(F)c(-c4cc(F)c5nc(C)n(C(C)C)c5c4)n3)nc2)CC1_10_RDKFingerprint_True_True': 14\n",
      "Length of list for key 'O[C@@H](c1cc(C(F)(F)F)nc2c(C(F)(F)F)cccc12)[C@H]1CCCCN1_10_RDKFingerprint_True_True': 14\n",
      "Length of list for key 'Cc1nc(Nc2ccc(F)cc2)nc(N2CCc3ccccc3C2C)c1C_10_RDKFingerprint_True_True': 14\n",
      "Length of list for key 'CN(C)CCC=C1c2ccccc2C(C)(C)c2ccccc21_10_RDKFingerprint_True_True': 14\n",
      "Length of list for key 'Cc1c(O)cccc1C(=O)N[C@@H](CSc1ccccc1)[C@H](O)CN1C[C@H]2CCCC[C@H]2C[C@H]1C(=O)NC(C)(C)C_10_RDKFingerprint_True_True': 14\n",
      "Length of list for key 'COC(=O)C1=C(C)NC(C)=C(C(=O)OCCN(C)Cc2ccccc2)C1c1cccc([N+](=O)[O-])c1.Cl_10_RDKFingerprint_True_True': 14\n",
      "Length of list for key 'Cc1cn(-c2cc(NC(=O)c3ccc(C)c(Nc4nccc(-c5cccnc5)n4)c3)cc(C(F)(F)F)c2)cn1_10_RDKFingerprint_True_True': 14\n",
      "Length of list for key 'C=CC(=O)Nc1cccc(Oc2nc(Nc3ccc(N4CCN(C)CC4)cc3)nc3ccsc23)c1_10_RDKFingerprint_True_True': 14\n",
      "Length of list for key 'CC(C)N1CCN(c2ccc(OC[C@H]3CO[C@](Cn4cncn4)(c4ccc(Cl)cc4Cl)O3)cc2)CC1_10_RDKFingerprint_True_True': 14\n",
      "Length of list for key 'CSc1ccc2c(c1)N(CCC1CCCCN1C)c1ccccc1S2_10_RDKFingerprint_True_True': 14\n",
      "Length of list for key 'CN1CCN(CC/C=C2/c3ccccc3Sc3ccc(S(=O)(=O)N(C)C)cc32)CC1_10_RDKFingerprint_True_True': 14\n",
      "Length of list for key 'CCN(CC)CCOc1ccc2c(c1)C(=O)c1cc(OCCN(CC)CC)ccc1-2_10_RDKFingerprint_True_True': 14\n",
      "Length of list for key 'CN(C)CCCN1c2ccccc2Sc2ccc(C(F)(F)F)cc21.Cl_10_RDKFingerprint_True_True': 14\n",
      "Length of list for key 'CCN(CC)Cc1cc(Nc2ccnc3cc(Cl)ccc23)ccc1O_10_RDKFingerprint_True_False': 14\n",
      "Length of list for key 'C[C@@H](Oc1cc(-c2cnn(C3CCNCC3)c2)cnc1N)c1c(Cl)ccc(F)c1Cl_10_RDKFingerprint_True_False': 14\n",
      "Length of list for key 'CN1CCc2c(c3ccccc3n2Cc2ccccc2)C1_10_RDKFingerprint_True_False': 14\n",
      "Length of list for key 'COC(=O)C[C@@](O)(CCC(C)(C)O)C(=O)O[C@@H]1C(OC)=C[C@]23CCCN2CCc2cc4c(cc2[C@@H]13)OCO4_10_RDKFingerprint_True_False': 22\n",
      "Length of list for key 'OCCN1CCN(CCCN2c3ccccc3Sc3ccc(C(F)(F)F)cc32)CC1_10_RDKFingerprint_True_False': 14\n",
      "Length of list for key 'CCCCCCCCc1ccc(CCC(N)(CO)CO)cc1_10_RDKFingerprint_True_False': 14\n",
      "Length of list for key 'CC(NCCC(c1ccccc1)c1ccccc1)c1ccccc1_10_RDKFingerprint_True_False': 14\n",
      "Length of list for key 'CCCCc1oc2ccc(NS(C)(=O)=O)cc2c1C(=O)c1ccc(OCCCN(CCCC)CCCC)cc1.Cl_10_RDKFingerprint_True_False': 14\n",
      "Length of list for key 'OCCN1CCN(CCCN2c3ccccc3Sc3ccc(Cl)cc32)CC1_10_RDKFingerprint_True_False': 14\n",
      "Length of list for key 'CC(C)COc1ccc(CNC(=O)N(Cc2ccc(F)cc2)C2CCN(C)CC2)cc1_10_RDKFingerprint_True_False': 14\n",
      "Length of list for key 'CN1CCN(CCCN2c3ccccc3Sc3ccc(Cl)cc32)CC1.O=S(=O)(O)CCS(=O)(=O)O_10_RDKFingerprint_True_False': 14\n",
      "Length of list for key 'O=C(c1ccc(OCCN2CCCCC2)cc1)c1c(-c2ccc(O)cc2)sc2cc(O)ccc12_10_RDKFingerprint_True_False': 14\n",
      "Length of list for key 'CCN1CCN(Cc2ccc(Nc3ncc(F)c(-c4cc(F)c5nc(C)n(C(C)C)c5c4)n3)nc2)CC1_10_RDKFingerprint_True_False': 14\n",
      "Length of list for key 'O[C@@H](c1cc(C(F)(F)F)nc2c(C(F)(F)F)cccc12)[C@H]1CCCCN1_10_RDKFingerprint_True_False': 14\n",
      "Length of list for key 'Cc1nc(Nc2ccc(F)cc2)nc(N2CCc3ccccc3C2C)c1C_10_RDKFingerprint_True_False': 14\n",
      "Length of list for key 'CN(C)CCC=C1c2ccccc2C(C)(C)c2ccccc21_10_RDKFingerprint_True_False': 14\n",
      "Length of list for key 'Cc1c(O)cccc1C(=O)N[C@@H](CSc1ccccc1)[C@H](O)CN1C[C@H]2CCCC[C@H]2C[C@H]1C(=O)NC(C)(C)C_10_RDKFingerprint_True_False': 14\n",
      "Length of list for key 'COC(=O)C1=C(C)NC(C)=C(C(=O)OCCN(C)Cc2ccccc2)C1c1cccc([N+](=O)[O-])c1.Cl_10_RDKFingerprint_True_False': 14\n",
      "Length of list for key 'Cc1cn(-c2cc(NC(=O)c3ccc(C)c(Nc4nccc(-c5cccnc5)n4)c3)cc(C(F)(F)F)c2)cn1_10_RDKFingerprint_True_False': 14\n",
      "Length of list for key 'C=CC(=O)Nc1cccc(Oc2nc(Nc3ccc(N4CCN(C)CC4)cc3)nc3ccsc23)c1_10_RDKFingerprint_True_False': 14\n",
      "Length of list for key 'CC(C)N1CCN(c2ccc(OC[C@H]3CO[C@](Cn4cncn4)(c4ccc(Cl)cc4Cl)O3)cc2)CC1_10_RDKFingerprint_True_False': 14\n",
      "Length of list for key 'CSc1ccc2c(c1)N(CCC1CCCCN1C)c1ccccc1S2_10_RDKFingerprint_True_False': 14\n",
      "Length of list for key 'CN1CCN(CC/C=C2/c3ccccc3Sc3ccc(S(=O)(=O)N(C)C)cc32)CC1_10_RDKFingerprint_True_False': 14\n",
      "Length of list for key 'CCN(CC)CCOc1ccc2c(c1)C(=O)c1cc(OCCN(CC)CC)ccc1-2_10_RDKFingerprint_True_False': 14\n",
      "Length of list for key 'CN(C)CCCN1c2ccccc2Sc2ccc(C(F)(F)F)cc21.Cl_10_RDKFingerprint_True_False': 14\n",
      "Length of list for key 'CCN(CC)Cc1cc(Nc2ccnc3cc(Cl)ccc23)ccc1O_11_RDKFingerprint_True_True': 14\n",
      "Length of list for key 'C[C@@H](Oc1cc(-c2cnn(C3CCNCC3)c2)cnc1N)c1c(Cl)ccc(F)c1Cl_11_RDKFingerprint_True_True': 14\n",
      "Length of list for key 'CN1CCc2c(c3ccccc3n2Cc2ccccc2)C1_11_RDKFingerprint_True_True': 14\n",
      "Length of list for key 'COC(=O)C[C@@](O)(CCC(C)(C)O)C(=O)O[C@@H]1C(OC)=C[C@]23CCCN2CCc2cc4c(cc2[C@@H]13)OCO4_11_RDKFingerprint_True_True': 22\n",
      "Length of list for key 'OCCN1CCN(CCCN2c3ccccc3Sc3ccc(C(F)(F)F)cc32)CC1_11_RDKFingerprint_True_True': 14\n",
      "Length of list for key 'CCCCCCCCc1ccc(CCC(N)(CO)CO)cc1_11_RDKFingerprint_True_True': 14\n",
      "Length of list for key 'CC(NCCC(c1ccccc1)c1ccccc1)c1ccccc1_11_RDKFingerprint_True_True': 14\n",
      "Length of list for key 'CCCCc1oc2ccc(NS(C)(=O)=O)cc2c1C(=O)c1ccc(OCCCN(CCCC)CCCC)cc1.Cl_11_RDKFingerprint_True_True': 14\n",
      "Length of list for key 'OCCN1CCN(CCCN2c3ccccc3Sc3ccc(Cl)cc32)CC1_11_RDKFingerprint_True_True': 14\n",
      "Length of list for key 'CC(C)COc1ccc(CNC(=O)N(Cc2ccc(F)cc2)C2CCN(C)CC2)cc1_11_RDKFingerprint_True_True': 14\n",
      "Length of list for key 'CN1CCN(CCCN2c3ccccc3Sc3ccc(Cl)cc32)CC1.O=S(=O)(O)CCS(=O)(=O)O_11_RDKFingerprint_True_True': 14\n",
      "Length of list for key 'O=C(c1ccc(OCCN2CCCCC2)cc1)c1c(-c2ccc(O)cc2)sc2cc(O)ccc12_11_RDKFingerprint_True_True': 14\n",
      "Length of list for key 'CCN1CCN(Cc2ccc(Nc3ncc(F)c(-c4cc(F)c5nc(C)n(C(C)C)c5c4)n3)nc2)CC1_11_RDKFingerprint_True_True': 14\n",
      "Length of list for key 'O[C@@H](c1cc(C(F)(F)F)nc2c(C(F)(F)F)cccc12)[C@H]1CCCCN1_11_RDKFingerprint_True_True': 14\n",
      "Length of list for key 'Cc1nc(Nc2ccc(F)cc2)nc(N2CCc3ccccc3C2C)c1C_11_RDKFingerprint_True_True': 14\n",
      "Length of list for key 'CN(C)CCC=C1c2ccccc2C(C)(C)c2ccccc21_11_RDKFingerprint_True_True': 14\n",
      "Length of list for key 'Cc1c(O)cccc1C(=O)N[C@@H](CSc1ccccc1)[C@H](O)CN1C[C@H]2CCCC[C@H]2C[C@H]1C(=O)NC(C)(C)C_11_RDKFingerprint_True_True': 14\n",
      "Length of list for key 'COC(=O)C1=C(C)NC(C)=C(C(=O)OCCN(C)Cc2ccccc2)C1c1cccc([N+](=O)[O-])c1.Cl_11_RDKFingerprint_True_True': 14\n",
      "Length of list for key 'Cc1cn(-c2cc(NC(=O)c3ccc(C)c(Nc4nccc(-c5cccnc5)n4)c3)cc(C(F)(F)F)c2)cn1_11_RDKFingerprint_True_True': 14\n",
      "Length of list for key 'C=CC(=O)Nc1cccc(Oc2nc(Nc3ccc(N4CCN(C)CC4)cc3)nc3ccsc23)c1_11_RDKFingerprint_True_True': 14\n",
      "Length of list for key 'CC(C)N1CCN(c2ccc(OC[C@H]3CO[C@](Cn4cncn4)(c4ccc(Cl)cc4Cl)O3)cc2)CC1_11_RDKFingerprint_True_True': 14\n",
      "Length of list for key 'CSc1ccc2c(c1)N(CCC1CCCCN1C)c1ccccc1S2_11_RDKFingerprint_True_True': 14\n",
      "Length of list for key 'CN1CCN(CC/C=C2/c3ccccc3Sc3ccc(S(=O)(=O)N(C)C)cc32)CC1_11_RDKFingerprint_True_True': 14\n",
      "Length of list for key 'CCN(CC)CCOc1ccc2c(c1)C(=O)c1cc(OCCN(CC)CC)ccc1-2_11_RDKFingerprint_True_True': 14\n",
      "Length of list for key 'CN(C)CCCN1c2ccccc2Sc2ccc(C(F)(F)F)cc21.Cl_11_RDKFingerprint_True_True': 14\n",
      "Length of list for key 'CCN(CC)Cc1cc(Nc2ccnc3cc(Cl)ccc23)ccc1O_11_RDKFingerprint_True_False': 14\n",
      "Length of list for key 'C[C@@H](Oc1cc(-c2cnn(C3CCNCC3)c2)cnc1N)c1c(Cl)ccc(F)c1Cl_11_RDKFingerprint_True_False': 14\n",
      "Length of list for key 'CN1CCc2c(c3ccccc3n2Cc2ccccc2)C1_11_RDKFingerprint_True_False': 14\n",
      "Length of list for key 'COC(=O)C[C@@](O)(CCC(C)(C)O)C(=O)O[C@@H]1C(OC)=C[C@]23CCCN2CCc2cc4c(cc2[C@@H]13)OCO4_11_RDKFingerprint_True_False': 22\n",
      "Length of list for key 'OCCN1CCN(CCCN2c3ccccc3Sc3ccc(C(F)(F)F)cc32)CC1_11_RDKFingerprint_True_False': 14\n",
      "Length of list for key 'CCCCCCCCc1ccc(CCC(N)(CO)CO)cc1_11_RDKFingerprint_True_False': 14\n",
      "Length of list for key 'CC(NCCC(c1ccccc1)c1ccccc1)c1ccccc1_11_RDKFingerprint_True_False': 14\n",
      "Length of list for key 'CCCCc1oc2ccc(NS(C)(=O)=O)cc2c1C(=O)c1ccc(OCCCN(CCCC)CCCC)cc1.Cl_11_RDKFingerprint_True_False': 14\n",
      "Length of list for key 'OCCN1CCN(CCCN2c3ccccc3Sc3ccc(Cl)cc32)CC1_11_RDKFingerprint_True_False': 14\n",
      "Length of list for key 'CC(C)COc1ccc(CNC(=O)N(Cc2ccc(F)cc2)C2CCN(C)CC2)cc1_11_RDKFingerprint_True_False': 14\n",
      "Length of list for key 'CN1CCN(CCCN2c3ccccc3Sc3ccc(Cl)cc32)CC1.O=S(=O)(O)CCS(=O)(=O)O_11_RDKFingerprint_True_False': 14\n",
      "Length of list for key 'O=C(c1ccc(OCCN2CCCCC2)cc1)c1c(-c2ccc(O)cc2)sc2cc(O)ccc12_11_RDKFingerprint_True_False': 14\n",
      "Length of list for key 'CCN1CCN(Cc2ccc(Nc3ncc(F)c(-c4cc(F)c5nc(C)n(C(C)C)c5c4)n3)nc2)CC1_11_RDKFingerprint_True_False': 14\n",
      "Length of list for key 'O[C@@H](c1cc(C(F)(F)F)nc2c(C(F)(F)F)cccc12)[C@H]1CCCCN1_11_RDKFingerprint_True_False': 14\n",
      "Length of list for key 'Cc1nc(Nc2ccc(F)cc2)nc(N2CCc3ccccc3C2C)c1C_11_RDKFingerprint_True_False': 14\n",
      "Length of list for key 'CN(C)CCC=C1c2ccccc2C(C)(C)c2ccccc21_11_RDKFingerprint_True_False': 14\n",
      "Length of list for key 'Cc1c(O)cccc1C(=O)N[C@@H](CSc1ccccc1)[C@H](O)CN1C[C@H]2CCCC[C@H]2C[C@H]1C(=O)NC(C)(C)C_11_RDKFingerprint_True_False': 14\n",
      "Length of list for key 'COC(=O)C1=C(C)NC(C)=C(C(=O)OCCN(C)Cc2ccccc2)C1c1cccc([N+](=O)[O-])c1.Cl_11_RDKFingerprint_True_False': 14\n",
      "Length of list for key 'Cc1cn(-c2cc(NC(=O)c3ccc(C)c(Nc4nccc(-c5cccnc5)n4)c3)cc(C(F)(F)F)c2)cn1_11_RDKFingerprint_True_False': 14\n",
      "Length of list for key 'C=CC(=O)Nc1cccc(Oc2nc(Nc3ccc(N4CCN(C)CC4)cc3)nc3ccsc23)c1_11_RDKFingerprint_True_False': 14\n",
      "Length of list for key 'CC(C)N1CCN(c2ccc(OC[C@H]3CO[C@](Cn4cncn4)(c4ccc(Cl)cc4Cl)O3)cc2)CC1_11_RDKFingerprint_True_False': 14\n",
      "Length of list for key 'CSc1ccc2c(c1)N(CCC1CCCCN1C)c1ccccc1S2_11_RDKFingerprint_True_False': 14\n",
      "Length of list for key 'CN1CCN(CC/C=C2/c3ccccc3Sc3ccc(S(=O)(=O)N(C)C)cc32)CC1_11_RDKFingerprint_True_False': 14\n",
      "Length of list for key 'CCN(CC)CCOc1ccc2c(c1)C(=O)c1cc(OCCN(CC)CC)ccc1-2_11_RDKFingerprint_True_False': 14\n",
      "Length of list for key 'CN(C)CCCN1c2ccccc2Sc2ccc(C(F)(F)F)cc21.Cl_11_RDKFingerprint_True_False': 14\n",
      "Length of list for key 'CCN(CC)Cc1cc(Nc2ccnc3cc(Cl)ccc23)ccc1O_12_RDKFingerprint_True_True': 14\n",
      "Length of list for key 'C[C@@H](Oc1cc(-c2cnn(C3CCNCC3)c2)cnc1N)c1c(Cl)ccc(F)c1Cl_12_RDKFingerprint_True_True': 14\n",
      "Length of list for key 'CN1CCc2c(c3ccccc3n2Cc2ccccc2)C1_12_RDKFingerprint_True_True': 14\n",
      "Length of list for key 'COC(=O)C[C@@](O)(CCC(C)(C)O)C(=O)O[C@@H]1C(OC)=C[C@]23CCCN2CCc2cc4c(cc2[C@@H]13)OCO4_12_RDKFingerprint_True_True': 22\n",
      "Length of list for key 'OCCN1CCN(CCCN2c3ccccc3Sc3ccc(C(F)(F)F)cc32)CC1_12_RDKFingerprint_True_True': 14\n",
      "Length of list for key 'CCCCCCCCc1ccc(CCC(N)(CO)CO)cc1_12_RDKFingerprint_True_True': 14\n",
      "Length of list for key 'CC(NCCC(c1ccccc1)c1ccccc1)c1ccccc1_12_RDKFingerprint_True_True': 14\n",
      "Length of list for key 'CCCCc1oc2ccc(NS(C)(=O)=O)cc2c1C(=O)c1ccc(OCCCN(CCCC)CCCC)cc1.Cl_12_RDKFingerprint_True_True': 14\n",
      "Length of list for key 'OCCN1CCN(CCCN2c3ccccc3Sc3ccc(Cl)cc32)CC1_12_RDKFingerprint_True_True': 14\n",
      "Length of list for key 'CC(C)COc1ccc(CNC(=O)N(Cc2ccc(F)cc2)C2CCN(C)CC2)cc1_12_RDKFingerprint_True_True': 14\n",
      "Length of list for key 'CN1CCN(CCCN2c3ccccc3Sc3ccc(Cl)cc32)CC1.O=S(=O)(O)CCS(=O)(=O)O_12_RDKFingerprint_True_True': 14\n",
      "Length of list for key 'O=C(c1ccc(OCCN2CCCCC2)cc1)c1c(-c2ccc(O)cc2)sc2cc(O)ccc12_12_RDKFingerprint_True_True': 14\n",
      "Length of list for key 'CCN1CCN(Cc2ccc(Nc3ncc(F)c(-c4cc(F)c5nc(C)n(C(C)C)c5c4)n3)nc2)CC1_12_RDKFingerprint_True_True': 14\n",
      "Length of list for key 'O[C@@H](c1cc(C(F)(F)F)nc2c(C(F)(F)F)cccc12)[C@H]1CCCCN1_12_RDKFingerprint_True_True': 14\n",
      "Length of list for key 'Cc1nc(Nc2ccc(F)cc2)nc(N2CCc3ccccc3C2C)c1C_12_RDKFingerprint_True_True': 14\n",
      "Length of list for key 'CN(C)CCC=C1c2ccccc2C(C)(C)c2ccccc21_12_RDKFingerprint_True_True': 14\n",
      "Length of list for key 'Cc1c(O)cccc1C(=O)N[C@@H](CSc1ccccc1)[C@H](O)CN1C[C@H]2CCCC[C@H]2C[C@H]1C(=O)NC(C)(C)C_12_RDKFingerprint_True_True': 14\n",
      "Length of list for key 'COC(=O)C1=C(C)NC(C)=C(C(=O)OCCN(C)Cc2ccccc2)C1c1cccc([N+](=O)[O-])c1.Cl_12_RDKFingerprint_True_True': 14\n",
      "Length of list for key 'Cc1cn(-c2cc(NC(=O)c3ccc(C)c(Nc4nccc(-c5cccnc5)n4)c3)cc(C(F)(F)F)c2)cn1_12_RDKFingerprint_True_True': 14\n",
      "Length of list for key 'C=CC(=O)Nc1cccc(Oc2nc(Nc3ccc(N4CCN(C)CC4)cc3)nc3ccsc23)c1_12_RDKFingerprint_True_True': 14\n",
      "Length of list for key 'CC(C)N1CCN(c2ccc(OC[C@H]3CO[C@](Cn4cncn4)(c4ccc(Cl)cc4Cl)O3)cc2)CC1_12_RDKFingerprint_True_True': 14\n",
      "Length of list for key 'CSc1ccc2c(c1)N(CCC1CCCCN1C)c1ccccc1S2_12_RDKFingerprint_True_True': 14\n",
      "Length of list for key 'CN1CCN(CC/C=C2/c3ccccc3Sc3ccc(S(=O)(=O)N(C)C)cc32)CC1_12_RDKFingerprint_True_True': 14\n",
      "Length of list for key 'CCN(CC)CCOc1ccc2c(c1)C(=O)c1cc(OCCN(CC)CC)ccc1-2_12_RDKFingerprint_True_True': 14\n",
      "Length of list for key 'CN(C)CCCN1c2ccccc2Sc2ccc(C(F)(F)F)cc21.Cl_12_RDKFingerprint_True_True': 14\n",
      "Length of list for key 'CCN(CC)Cc1cc(Nc2ccnc3cc(Cl)ccc23)ccc1O_12_RDKFingerprint_True_False': 14\n",
      "Length of list for key 'C[C@@H](Oc1cc(-c2cnn(C3CCNCC3)c2)cnc1N)c1c(Cl)ccc(F)c1Cl_12_RDKFingerprint_True_False': 14\n",
      "Length of list for key 'CN1CCc2c(c3ccccc3n2Cc2ccccc2)C1_12_RDKFingerprint_True_False': 14\n",
      "Length of list for key 'COC(=O)C[C@@](O)(CCC(C)(C)O)C(=O)O[C@@H]1C(OC)=C[C@]23CCCN2CCc2cc4c(cc2[C@@H]13)OCO4_12_RDKFingerprint_True_False': 22\n",
      "Length of list for key 'OCCN1CCN(CCCN2c3ccccc3Sc3ccc(C(F)(F)F)cc32)CC1_12_RDKFingerprint_True_False': 14\n",
      "Length of list for key 'CCCCCCCCc1ccc(CCC(N)(CO)CO)cc1_12_RDKFingerprint_True_False': 14\n",
      "Length of list for key 'CC(NCCC(c1ccccc1)c1ccccc1)c1ccccc1_12_RDKFingerprint_True_False': 14\n",
      "Length of list for key 'CCCCc1oc2ccc(NS(C)(=O)=O)cc2c1C(=O)c1ccc(OCCCN(CCCC)CCCC)cc1.Cl_12_RDKFingerprint_True_False': 14\n",
      "Length of list for key 'OCCN1CCN(CCCN2c3ccccc3Sc3ccc(Cl)cc32)CC1_12_RDKFingerprint_True_False': 14\n",
      "Length of list for key 'CC(C)COc1ccc(CNC(=O)N(Cc2ccc(F)cc2)C2CCN(C)CC2)cc1_12_RDKFingerprint_True_False': 14\n",
      "Length of list for key 'CN1CCN(CCCN2c3ccccc3Sc3ccc(Cl)cc32)CC1.O=S(=O)(O)CCS(=O)(=O)O_12_RDKFingerprint_True_False': 14\n",
      "Length of list for key 'O=C(c1ccc(OCCN2CCCCC2)cc1)c1c(-c2ccc(O)cc2)sc2cc(O)ccc12_12_RDKFingerprint_True_False': 14\n",
      "Length of list for key 'CCN1CCN(Cc2ccc(Nc3ncc(F)c(-c4cc(F)c5nc(C)n(C(C)C)c5c4)n3)nc2)CC1_12_RDKFingerprint_True_False': 14\n",
      "Length of list for key 'O[C@@H](c1cc(C(F)(F)F)nc2c(C(F)(F)F)cccc12)[C@H]1CCCCN1_12_RDKFingerprint_True_False': 14\n",
      "Length of list for key 'Cc1nc(Nc2ccc(F)cc2)nc(N2CCc3ccccc3C2C)c1C_12_RDKFingerprint_True_False': 14\n",
      "Length of list for key 'CN(C)CCC=C1c2ccccc2C(C)(C)c2ccccc21_12_RDKFingerprint_True_False': 14\n",
      "Length of list for key 'Cc1c(O)cccc1C(=O)N[C@@H](CSc1ccccc1)[C@H](O)CN1C[C@H]2CCCC[C@H]2C[C@H]1C(=O)NC(C)(C)C_12_RDKFingerprint_True_False': 14\n",
      "Length of list for key 'COC(=O)C1=C(C)NC(C)=C(C(=O)OCCN(C)Cc2ccccc2)C1c1cccc([N+](=O)[O-])c1.Cl_12_RDKFingerprint_True_False': 14\n",
      "Length of list for key 'Cc1cn(-c2cc(NC(=O)c3ccc(C)c(Nc4nccc(-c5cccnc5)n4)c3)cc(C(F)(F)F)c2)cn1_12_RDKFingerprint_True_False': 14\n",
      "Length of list for key 'C=CC(=O)Nc1cccc(Oc2nc(Nc3ccc(N4CCN(C)CC4)cc3)nc3ccsc23)c1_12_RDKFingerprint_True_False': 14\n",
      "Length of list for key 'CC(C)N1CCN(c2ccc(OC[C@H]3CO[C@](Cn4cncn4)(c4ccc(Cl)cc4Cl)O3)cc2)CC1_12_RDKFingerprint_True_False': 14\n",
      "Length of list for key 'CSc1ccc2c(c1)N(CCC1CCCCN1C)c1ccccc1S2_12_RDKFingerprint_True_False': 14\n",
      "Length of list for key 'CN1CCN(CC/C=C2/c3ccccc3Sc3ccc(S(=O)(=O)N(C)C)cc32)CC1_12_RDKFingerprint_True_False': 14\n",
      "Length of list for key 'CCN(CC)CCOc1ccc2c(c1)C(=O)c1cc(OCCN(CC)CC)ccc1-2_12_RDKFingerprint_True_False': 14\n",
      "Length of list for key 'CN(C)CCCN1c2ccccc2Sc2ccc(C(F)(F)F)cc21.Cl_12_RDKFingerprint_True_False': 14\n",
      "Length of list for key 'CCN(CC)Cc1cc(Nc2ccnc3cc(Cl)ccc23)ccc1O_13_RDKFingerprint_True_True': 14\n",
      "Length of list for key 'C[C@@H](Oc1cc(-c2cnn(C3CCNCC3)c2)cnc1N)c1c(Cl)ccc(F)c1Cl_13_RDKFingerprint_True_True': 14\n",
      "Length of list for key 'CN1CCc2c(c3ccccc3n2Cc2ccccc2)C1_13_RDKFingerprint_True_True': 14\n",
      "Length of list for key 'COC(=O)C[C@@](O)(CCC(C)(C)O)C(=O)O[C@@H]1C(OC)=C[C@]23CCCN2CCc2cc4c(cc2[C@@H]13)OCO4_13_RDKFingerprint_True_True': 22\n",
      "Length of list for key 'OCCN1CCN(CCCN2c3ccccc3Sc3ccc(C(F)(F)F)cc32)CC1_13_RDKFingerprint_True_True': 14\n",
      "Length of list for key 'CCCCCCCCc1ccc(CCC(N)(CO)CO)cc1_13_RDKFingerprint_True_True': 14\n",
      "Length of list for key 'CC(NCCC(c1ccccc1)c1ccccc1)c1ccccc1_13_RDKFingerprint_True_True': 14\n",
      "Length of list for key 'CCCCc1oc2ccc(NS(C)(=O)=O)cc2c1C(=O)c1ccc(OCCCN(CCCC)CCCC)cc1.Cl_13_RDKFingerprint_True_True': 14\n",
      "Length of list for key 'OCCN1CCN(CCCN2c3ccccc3Sc3ccc(Cl)cc32)CC1_13_RDKFingerprint_True_True': 14\n",
      "Length of list for key 'CC(C)COc1ccc(CNC(=O)N(Cc2ccc(F)cc2)C2CCN(C)CC2)cc1_13_RDKFingerprint_True_True': 14\n",
      "Length of list for key 'CN1CCN(CCCN2c3ccccc3Sc3ccc(Cl)cc32)CC1.O=S(=O)(O)CCS(=O)(=O)O_13_RDKFingerprint_True_True': 14\n",
      "Length of list for key 'O=C(c1ccc(OCCN2CCCCC2)cc1)c1c(-c2ccc(O)cc2)sc2cc(O)ccc12_13_RDKFingerprint_True_True': 14\n",
      "Length of list for key 'CCN1CCN(Cc2ccc(Nc3ncc(F)c(-c4cc(F)c5nc(C)n(C(C)C)c5c4)n3)nc2)CC1_13_RDKFingerprint_True_True': 14\n",
      "Length of list for key 'O[C@@H](c1cc(C(F)(F)F)nc2c(C(F)(F)F)cccc12)[C@H]1CCCCN1_13_RDKFingerprint_True_True': 14\n",
      "Length of list for key 'Cc1nc(Nc2ccc(F)cc2)nc(N2CCc3ccccc3C2C)c1C_13_RDKFingerprint_True_True': 14\n",
      "Length of list for key 'CN(C)CCC=C1c2ccccc2C(C)(C)c2ccccc21_13_RDKFingerprint_True_True': 14\n",
      "Length of list for key 'Cc1c(O)cccc1C(=O)N[C@@H](CSc1ccccc1)[C@H](O)CN1C[C@H]2CCCC[C@H]2C[C@H]1C(=O)NC(C)(C)C_13_RDKFingerprint_True_True': 14\n",
      "Length of list for key 'COC(=O)C1=C(C)NC(C)=C(C(=O)OCCN(C)Cc2ccccc2)C1c1cccc([N+](=O)[O-])c1.Cl_13_RDKFingerprint_True_True': 14\n",
      "Length of list for key 'Cc1cn(-c2cc(NC(=O)c3ccc(C)c(Nc4nccc(-c5cccnc5)n4)c3)cc(C(F)(F)F)c2)cn1_13_RDKFingerprint_True_True': 14\n",
      "Length of list for key 'C=CC(=O)Nc1cccc(Oc2nc(Nc3ccc(N4CCN(C)CC4)cc3)nc3ccsc23)c1_13_RDKFingerprint_True_True': 14\n",
      "Length of list for key 'CC(C)N1CCN(c2ccc(OC[C@H]3CO[C@](Cn4cncn4)(c4ccc(Cl)cc4Cl)O3)cc2)CC1_13_RDKFingerprint_True_True': 14\n",
      "Length of list for key 'CSc1ccc2c(c1)N(CCC1CCCCN1C)c1ccccc1S2_13_RDKFingerprint_True_True': 14\n",
      "Length of list for key 'CN1CCN(CC/C=C2/c3ccccc3Sc3ccc(S(=O)(=O)N(C)C)cc32)CC1_13_RDKFingerprint_True_True': 14\n",
      "Length of list for key 'CCN(CC)CCOc1ccc2c(c1)C(=O)c1cc(OCCN(CC)CC)ccc1-2_13_RDKFingerprint_True_True': 14\n",
      "Length of list for key 'CN(C)CCCN1c2ccccc2Sc2ccc(C(F)(F)F)cc21.Cl_13_RDKFingerprint_True_True': 14\n",
      "Length of list for key 'CCN(CC)Cc1cc(Nc2ccnc3cc(Cl)ccc23)ccc1O_13_RDKFingerprint_True_False': 14\n",
      "Length of list for key 'C[C@@H](Oc1cc(-c2cnn(C3CCNCC3)c2)cnc1N)c1c(Cl)ccc(F)c1Cl_13_RDKFingerprint_True_False': 14\n",
      "Length of list for key 'CN1CCc2c(c3ccccc3n2Cc2ccccc2)C1_13_RDKFingerprint_True_False': 14\n",
      "Length of list for key 'COC(=O)C[C@@](O)(CCC(C)(C)O)C(=O)O[C@@H]1C(OC)=C[C@]23CCCN2CCc2cc4c(cc2[C@@H]13)OCO4_13_RDKFingerprint_True_False': 22\n",
      "Length of list for key 'OCCN1CCN(CCCN2c3ccccc3Sc3ccc(C(F)(F)F)cc32)CC1_13_RDKFingerprint_True_False': 14\n",
      "Length of list for key 'CCCCCCCCc1ccc(CCC(N)(CO)CO)cc1_13_RDKFingerprint_True_False': 14\n",
      "Length of list for key 'CC(NCCC(c1ccccc1)c1ccccc1)c1ccccc1_13_RDKFingerprint_True_False': 14\n",
      "Length of list for key 'CCCCc1oc2ccc(NS(C)(=O)=O)cc2c1C(=O)c1ccc(OCCCN(CCCC)CCCC)cc1.Cl_13_RDKFingerprint_True_False': 14\n",
      "Length of list for key 'OCCN1CCN(CCCN2c3ccccc3Sc3ccc(Cl)cc32)CC1_13_RDKFingerprint_True_False': 14\n",
      "Length of list for key 'CC(C)COc1ccc(CNC(=O)N(Cc2ccc(F)cc2)C2CCN(C)CC2)cc1_13_RDKFingerprint_True_False': 14\n",
      "Length of list for key 'CN1CCN(CCCN2c3ccccc3Sc3ccc(Cl)cc32)CC1.O=S(=O)(O)CCS(=O)(=O)O_13_RDKFingerprint_True_False': 14\n",
      "Length of list for key 'O=C(c1ccc(OCCN2CCCCC2)cc1)c1c(-c2ccc(O)cc2)sc2cc(O)ccc12_13_RDKFingerprint_True_False': 14\n",
      "Length of list for key 'CCN1CCN(Cc2ccc(Nc3ncc(F)c(-c4cc(F)c5nc(C)n(C(C)C)c5c4)n3)nc2)CC1_13_RDKFingerprint_True_False': 14\n",
      "Length of list for key 'O[C@@H](c1cc(C(F)(F)F)nc2c(C(F)(F)F)cccc12)[C@H]1CCCCN1_13_RDKFingerprint_True_False': 14\n",
      "Length of list for key 'Cc1nc(Nc2ccc(F)cc2)nc(N2CCc3ccccc3C2C)c1C_13_RDKFingerprint_True_False': 14\n",
      "Length of list for key 'CN(C)CCC=C1c2ccccc2C(C)(C)c2ccccc21_13_RDKFingerprint_True_False': 14\n",
      "Length of list for key 'Cc1c(O)cccc1C(=O)N[C@@H](CSc1ccccc1)[C@H](O)CN1C[C@H]2CCCC[C@H]2C[C@H]1C(=O)NC(C)(C)C_13_RDKFingerprint_True_False': 14\n",
      "Length of list for key 'COC(=O)C1=C(C)NC(C)=C(C(=O)OCCN(C)Cc2ccccc2)C1c1cccc([N+](=O)[O-])c1.Cl_13_RDKFingerprint_True_False': 14\n",
      "Length of list for key 'Cc1cn(-c2cc(NC(=O)c3ccc(C)c(Nc4nccc(-c5cccnc5)n4)c3)cc(C(F)(F)F)c2)cn1_13_RDKFingerprint_True_False': 14\n",
      "Length of list for key 'C=CC(=O)Nc1cccc(Oc2nc(Nc3ccc(N4CCN(C)CC4)cc3)nc3ccsc23)c1_13_RDKFingerprint_True_False': 14\n",
      "Length of list for key 'CC(C)N1CCN(c2ccc(OC[C@H]3CO[C@](Cn4cncn4)(c4ccc(Cl)cc4Cl)O3)cc2)CC1_13_RDKFingerprint_True_False': 14\n",
      "Length of list for key 'CSc1ccc2c(c1)N(CCC1CCCCN1C)c1ccccc1S2_13_RDKFingerprint_True_False': 14\n",
      "Length of list for key 'CN1CCN(CC/C=C2/c3ccccc3Sc3ccc(S(=O)(=O)N(C)C)cc32)CC1_13_RDKFingerprint_True_False': 14\n",
      "Length of list for key 'CCN(CC)CCOc1ccc2c(c1)C(=O)c1cc(OCCN(CC)CC)ccc1-2_13_RDKFingerprint_True_False': 14\n",
      "Length of list for key 'CN(C)CCCN1c2ccccc2Sc2ccc(C(F)(F)F)cc21.Cl_13_RDKFingerprint_True_False': 14\n",
      "Length of list for key 'CCN(CC)Cc1cc(Nc2ccnc3cc(Cl)ccc23)ccc1O_14_RDKFingerprint_True_True': 14\n",
      "Length of list for key 'C[C@@H](Oc1cc(-c2cnn(C3CCNCC3)c2)cnc1N)c1c(Cl)ccc(F)c1Cl_14_RDKFingerprint_True_True': 14\n",
      "Length of list for key 'CN1CCc2c(c3ccccc3n2Cc2ccccc2)C1_14_RDKFingerprint_True_True': 14\n",
      "Length of list for key 'COC(=O)C[C@@](O)(CCC(C)(C)O)C(=O)O[C@@H]1C(OC)=C[C@]23CCCN2CCc2cc4c(cc2[C@@H]13)OCO4_14_RDKFingerprint_True_True': 22\n",
      "Length of list for key 'OCCN1CCN(CCCN2c3ccccc3Sc3ccc(C(F)(F)F)cc32)CC1_14_RDKFingerprint_True_True': 14\n",
      "Length of list for key 'CCCCCCCCc1ccc(CCC(N)(CO)CO)cc1_14_RDKFingerprint_True_True': 14\n",
      "Length of list for key 'CC(NCCC(c1ccccc1)c1ccccc1)c1ccccc1_14_RDKFingerprint_True_True': 14\n",
      "Length of list for key 'CCCCc1oc2ccc(NS(C)(=O)=O)cc2c1C(=O)c1ccc(OCCCN(CCCC)CCCC)cc1.Cl_14_RDKFingerprint_True_True': 14\n",
      "Length of list for key 'OCCN1CCN(CCCN2c3ccccc3Sc3ccc(Cl)cc32)CC1_14_RDKFingerprint_True_True': 14\n",
      "Length of list for key 'CC(C)COc1ccc(CNC(=O)N(Cc2ccc(F)cc2)C2CCN(C)CC2)cc1_14_RDKFingerprint_True_True': 14\n",
      "Length of list for key 'CN1CCN(CCCN2c3ccccc3Sc3ccc(Cl)cc32)CC1.O=S(=O)(O)CCS(=O)(=O)O_14_RDKFingerprint_True_True': 14\n",
      "Length of list for key 'O=C(c1ccc(OCCN2CCCCC2)cc1)c1c(-c2ccc(O)cc2)sc2cc(O)ccc12_14_RDKFingerprint_True_True': 14\n",
      "Length of list for key 'CCN1CCN(Cc2ccc(Nc3ncc(F)c(-c4cc(F)c5nc(C)n(C(C)C)c5c4)n3)nc2)CC1_14_RDKFingerprint_True_True': 14\n",
      "Length of list for key 'O[C@@H](c1cc(C(F)(F)F)nc2c(C(F)(F)F)cccc12)[C@H]1CCCCN1_14_RDKFingerprint_True_True': 14\n",
      "Length of list for key 'Cc1nc(Nc2ccc(F)cc2)nc(N2CCc3ccccc3C2C)c1C_14_RDKFingerprint_True_True': 14\n",
      "Length of list for key 'CN(C)CCC=C1c2ccccc2C(C)(C)c2ccccc21_14_RDKFingerprint_True_True': 14\n",
      "Length of list for key 'Cc1c(O)cccc1C(=O)N[C@@H](CSc1ccccc1)[C@H](O)CN1C[C@H]2CCCC[C@H]2C[C@H]1C(=O)NC(C)(C)C_14_RDKFingerprint_True_True': 14\n",
      "Length of list for key 'COC(=O)C1=C(C)NC(C)=C(C(=O)OCCN(C)Cc2ccccc2)C1c1cccc([N+](=O)[O-])c1.Cl_14_RDKFingerprint_True_True': 14\n",
      "Length of list for key 'Cc1cn(-c2cc(NC(=O)c3ccc(C)c(Nc4nccc(-c5cccnc5)n4)c3)cc(C(F)(F)F)c2)cn1_14_RDKFingerprint_True_True': 14\n",
      "Length of list for key 'C=CC(=O)Nc1cccc(Oc2nc(Nc3ccc(N4CCN(C)CC4)cc3)nc3ccsc23)c1_14_RDKFingerprint_True_True': 14\n",
      "Length of list for key 'CC(C)N1CCN(c2ccc(OC[C@H]3CO[C@](Cn4cncn4)(c4ccc(Cl)cc4Cl)O3)cc2)CC1_14_RDKFingerprint_True_True': 14\n",
      "Length of list for key 'CSc1ccc2c(c1)N(CCC1CCCCN1C)c1ccccc1S2_14_RDKFingerprint_True_True': 14\n",
      "Length of list for key 'CN1CCN(CC/C=C2/c3ccccc3Sc3ccc(S(=O)(=O)N(C)C)cc32)CC1_14_RDKFingerprint_True_True': 14\n",
      "Length of list for key 'CCN(CC)CCOc1ccc2c(c1)C(=O)c1cc(OCCN(CC)CC)ccc1-2_14_RDKFingerprint_True_True': 14\n",
      "Length of list for key 'CN(C)CCCN1c2ccccc2Sc2ccc(C(F)(F)F)cc21.Cl_14_RDKFingerprint_True_True': 14\n",
      "Length of list for key 'CCN(CC)Cc1cc(Nc2ccnc3cc(Cl)ccc23)ccc1O_14_RDKFingerprint_True_False': 14\n",
      "Length of list for key 'C[C@@H](Oc1cc(-c2cnn(C3CCNCC3)c2)cnc1N)c1c(Cl)ccc(F)c1Cl_14_RDKFingerprint_True_False': 14\n",
      "Length of list for key 'CN1CCc2c(c3ccccc3n2Cc2ccccc2)C1_14_RDKFingerprint_True_False': 14\n",
      "Length of list for key 'COC(=O)C[C@@](O)(CCC(C)(C)O)C(=O)O[C@@H]1C(OC)=C[C@]23CCCN2CCc2cc4c(cc2[C@@H]13)OCO4_14_RDKFingerprint_True_False': 22\n",
      "Length of list for key 'OCCN1CCN(CCCN2c3ccccc3Sc3ccc(C(F)(F)F)cc32)CC1_14_RDKFingerprint_True_False': 14\n",
      "Length of list for key 'CCCCCCCCc1ccc(CCC(N)(CO)CO)cc1_14_RDKFingerprint_True_False': 14\n",
      "Length of list for key 'CC(NCCC(c1ccccc1)c1ccccc1)c1ccccc1_14_RDKFingerprint_True_False': 14\n",
      "Length of list for key 'CCCCc1oc2ccc(NS(C)(=O)=O)cc2c1C(=O)c1ccc(OCCCN(CCCC)CCCC)cc1.Cl_14_RDKFingerprint_True_False': 14\n",
      "Length of list for key 'OCCN1CCN(CCCN2c3ccccc3Sc3ccc(Cl)cc32)CC1_14_RDKFingerprint_True_False': 14\n",
      "Length of list for key 'CC(C)COc1ccc(CNC(=O)N(Cc2ccc(F)cc2)C2CCN(C)CC2)cc1_14_RDKFingerprint_True_False': 14\n",
      "Length of list for key 'CN1CCN(CCCN2c3ccccc3Sc3ccc(Cl)cc32)CC1.O=S(=O)(O)CCS(=O)(=O)O_14_RDKFingerprint_True_False': 14\n",
      "Length of list for key 'O=C(c1ccc(OCCN2CCCCC2)cc1)c1c(-c2ccc(O)cc2)sc2cc(O)ccc12_14_RDKFingerprint_True_False': 14\n",
      "Length of list for key 'CCN1CCN(Cc2ccc(Nc3ncc(F)c(-c4cc(F)c5nc(C)n(C(C)C)c5c4)n3)nc2)CC1_14_RDKFingerprint_True_False': 14\n",
      "Length of list for key 'O[C@@H](c1cc(C(F)(F)F)nc2c(C(F)(F)F)cccc12)[C@H]1CCCCN1_14_RDKFingerprint_True_False': 14\n",
      "Length of list for key 'Cc1nc(Nc2ccc(F)cc2)nc(N2CCc3ccccc3C2C)c1C_14_RDKFingerprint_True_False': 14\n",
      "Length of list for key 'CN(C)CCC=C1c2ccccc2C(C)(C)c2ccccc21_14_RDKFingerprint_True_False': 14\n",
      "Length of list for key 'Cc1c(O)cccc1C(=O)N[C@@H](CSc1ccccc1)[C@H](O)CN1C[C@H]2CCCC[C@H]2C[C@H]1C(=O)NC(C)(C)C_14_RDKFingerprint_True_False': 14\n",
      "Length of list for key 'COC(=O)C1=C(C)NC(C)=C(C(=O)OCCN(C)Cc2ccccc2)C1c1cccc([N+](=O)[O-])c1.Cl_14_RDKFingerprint_True_False': 14\n",
      "Length of list for key 'Cc1cn(-c2cc(NC(=O)c3ccc(C)c(Nc4nccc(-c5cccnc5)n4)c3)cc(C(F)(F)F)c2)cn1_14_RDKFingerprint_True_False': 14\n",
      "Length of list for key 'C=CC(=O)Nc1cccc(Oc2nc(Nc3ccc(N4CCN(C)CC4)cc3)nc3ccsc23)c1_14_RDKFingerprint_True_False': 14\n",
      "Length of list for key 'CC(C)N1CCN(c2ccc(OC[C@H]3CO[C@](Cn4cncn4)(c4ccc(Cl)cc4Cl)O3)cc2)CC1_14_RDKFingerprint_True_False': 14\n",
      "Length of list for key 'CSc1ccc2c(c1)N(CCC1CCCCN1C)c1ccccc1S2_14_RDKFingerprint_True_False': 14\n",
      "Length of list for key 'CN1CCN(CC/C=C2/c3ccccc3Sc3ccc(S(=O)(=O)N(C)C)cc32)CC1_14_RDKFingerprint_True_False': 14\n",
      "Length of list for key 'CCN(CC)CCOc1ccc2c(c1)C(=O)c1cc(OCCN(CC)CC)ccc1-2_14_RDKFingerprint_True_False': 14\n",
      "Length of list for key 'CN(C)CCCN1c2ccccc2Sc2ccc(C(F)(F)F)cc21.Cl_14_RDKFingerprint_True_False': 14\n",
      "Length of list for key 'CCN(CC)Cc1cc(Nc2ccnc3cc(Cl)ccc23)ccc1O_15_RDKFingerprint_True_True': 14\n",
      "Length of list for key 'C[C@@H](Oc1cc(-c2cnn(C3CCNCC3)c2)cnc1N)c1c(Cl)ccc(F)c1Cl_15_RDKFingerprint_True_True': 14\n",
      "Length of list for key 'CN1CCc2c(c3ccccc3n2Cc2ccccc2)C1_15_RDKFingerprint_True_True': 14\n",
      "Length of list for key 'COC(=O)C[C@@](O)(CCC(C)(C)O)C(=O)O[C@@H]1C(OC)=C[C@]23CCCN2CCc2cc4c(cc2[C@@H]13)OCO4_15_RDKFingerprint_True_True': 22\n",
      "Length of list for key 'OCCN1CCN(CCCN2c3ccccc3Sc3ccc(C(F)(F)F)cc32)CC1_15_RDKFingerprint_True_True': 14\n",
      "Length of list for key 'CCCCCCCCc1ccc(CCC(N)(CO)CO)cc1_15_RDKFingerprint_True_True': 14\n",
      "Length of list for key 'CC(NCCC(c1ccccc1)c1ccccc1)c1ccccc1_15_RDKFingerprint_True_True': 14\n",
      "Length of list for key 'CCCCc1oc2ccc(NS(C)(=O)=O)cc2c1C(=O)c1ccc(OCCCN(CCCC)CCCC)cc1.Cl_15_RDKFingerprint_True_True': 14\n",
      "Length of list for key 'OCCN1CCN(CCCN2c3ccccc3Sc3ccc(Cl)cc32)CC1_15_RDKFingerprint_True_True': 14\n",
      "Length of list for key 'CC(C)COc1ccc(CNC(=O)N(Cc2ccc(F)cc2)C2CCN(C)CC2)cc1_15_RDKFingerprint_True_True': 14\n",
      "Length of list for key 'CN1CCN(CCCN2c3ccccc3Sc3ccc(Cl)cc32)CC1.O=S(=O)(O)CCS(=O)(=O)O_15_RDKFingerprint_True_True': 14\n",
      "Length of list for key 'O=C(c1ccc(OCCN2CCCCC2)cc1)c1c(-c2ccc(O)cc2)sc2cc(O)ccc12_15_RDKFingerprint_True_True': 14\n",
      "Length of list for key 'CCN1CCN(Cc2ccc(Nc3ncc(F)c(-c4cc(F)c5nc(C)n(C(C)C)c5c4)n3)nc2)CC1_15_RDKFingerprint_True_True': 14\n",
      "Length of list for key 'O[C@@H](c1cc(C(F)(F)F)nc2c(C(F)(F)F)cccc12)[C@H]1CCCCN1_15_RDKFingerprint_True_True': 14\n",
      "Length of list for key 'Cc1nc(Nc2ccc(F)cc2)nc(N2CCc3ccccc3C2C)c1C_15_RDKFingerprint_True_True': 14\n",
      "Length of list for key 'CN(C)CCC=C1c2ccccc2C(C)(C)c2ccccc21_15_RDKFingerprint_True_True': 14\n",
      "Length of list for key 'Cc1c(O)cccc1C(=O)N[C@@H](CSc1ccccc1)[C@H](O)CN1C[C@H]2CCCC[C@H]2C[C@H]1C(=O)NC(C)(C)C_15_RDKFingerprint_True_True': 14\n",
      "Length of list for key 'COC(=O)C1=C(C)NC(C)=C(C(=O)OCCN(C)Cc2ccccc2)C1c1cccc([N+](=O)[O-])c1.Cl_15_RDKFingerprint_True_True': 14\n",
      "Length of list for key 'Cc1cn(-c2cc(NC(=O)c3ccc(C)c(Nc4nccc(-c5cccnc5)n4)c3)cc(C(F)(F)F)c2)cn1_15_RDKFingerprint_True_True': 14\n",
      "Length of list for key 'C=CC(=O)Nc1cccc(Oc2nc(Nc3ccc(N4CCN(C)CC4)cc3)nc3ccsc23)c1_15_RDKFingerprint_True_True': 14\n",
      "Length of list for key 'CC(C)N1CCN(c2ccc(OC[C@H]3CO[C@](Cn4cncn4)(c4ccc(Cl)cc4Cl)O3)cc2)CC1_15_RDKFingerprint_True_True': 14\n",
      "Length of list for key 'CSc1ccc2c(c1)N(CCC1CCCCN1C)c1ccccc1S2_15_RDKFingerprint_True_True': 14\n",
      "Length of list for key 'CN1CCN(CC/C=C2/c3ccccc3Sc3ccc(S(=O)(=O)N(C)C)cc32)CC1_15_RDKFingerprint_True_True': 14\n",
      "Length of list for key 'CCN(CC)CCOc1ccc2c(c1)C(=O)c1cc(OCCN(CC)CC)ccc1-2_15_RDKFingerprint_True_True': 14\n",
      "Length of list for key 'CN(C)CCCN1c2ccccc2Sc2ccc(C(F)(F)F)cc21.Cl_15_RDKFingerprint_True_True': 14\n",
      "Length of list for key 'CCN(CC)Cc1cc(Nc2ccnc3cc(Cl)ccc23)ccc1O_15_RDKFingerprint_True_False': 14\n",
      "Length of list for key 'C[C@@H](Oc1cc(-c2cnn(C3CCNCC3)c2)cnc1N)c1c(Cl)ccc(F)c1Cl_15_RDKFingerprint_True_False': 14\n",
      "Length of list for key 'CN1CCc2c(c3ccccc3n2Cc2ccccc2)C1_15_RDKFingerprint_True_False': 14\n",
      "Length of list for key 'COC(=O)C[C@@](O)(CCC(C)(C)O)C(=O)O[C@@H]1C(OC)=C[C@]23CCCN2CCc2cc4c(cc2[C@@H]13)OCO4_15_RDKFingerprint_True_False': 22\n",
      "Length of list for key 'OCCN1CCN(CCCN2c3ccccc3Sc3ccc(C(F)(F)F)cc32)CC1_15_RDKFingerprint_True_False': 14\n",
      "Length of list for key 'CCCCCCCCc1ccc(CCC(N)(CO)CO)cc1_15_RDKFingerprint_True_False': 14\n",
      "Length of list for key 'CC(NCCC(c1ccccc1)c1ccccc1)c1ccccc1_15_RDKFingerprint_True_False': 14\n",
      "Length of list for key 'CCCCc1oc2ccc(NS(C)(=O)=O)cc2c1C(=O)c1ccc(OCCCN(CCCC)CCCC)cc1.Cl_15_RDKFingerprint_True_False': 14\n",
      "Length of list for key 'OCCN1CCN(CCCN2c3ccccc3Sc3ccc(Cl)cc32)CC1_15_RDKFingerprint_True_False': 14\n",
      "Length of list for key 'CC(C)COc1ccc(CNC(=O)N(Cc2ccc(F)cc2)C2CCN(C)CC2)cc1_15_RDKFingerprint_True_False': 14\n",
      "Length of list for key 'CN1CCN(CCCN2c3ccccc3Sc3ccc(Cl)cc32)CC1.O=S(=O)(O)CCS(=O)(=O)O_15_RDKFingerprint_True_False': 14\n",
      "Length of list for key 'O=C(c1ccc(OCCN2CCCCC2)cc1)c1c(-c2ccc(O)cc2)sc2cc(O)ccc12_15_RDKFingerprint_True_False': 14\n",
      "Length of list for key 'CCN1CCN(Cc2ccc(Nc3ncc(F)c(-c4cc(F)c5nc(C)n(C(C)C)c5c4)n3)nc2)CC1_15_RDKFingerprint_True_False': 14\n",
      "Length of list for key 'O[C@@H](c1cc(C(F)(F)F)nc2c(C(F)(F)F)cccc12)[C@H]1CCCCN1_15_RDKFingerprint_True_False': 14\n",
      "Length of list for key 'Cc1nc(Nc2ccc(F)cc2)nc(N2CCc3ccccc3C2C)c1C_15_RDKFingerprint_True_False': 14\n",
      "Length of list for key 'CN(C)CCC=C1c2ccccc2C(C)(C)c2ccccc21_15_RDKFingerprint_True_False': 14\n",
      "Length of list for key 'Cc1c(O)cccc1C(=O)N[C@@H](CSc1ccccc1)[C@H](O)CN1C[C@H]2CCCC[C@H]2C[C@H]1C(=O)NC(C)(C)C_15_RDKFingerprint_True_False': 14\n",
      "Length of list for key 'COC(=O)C1=C(C)NC(C)=C(C(=O)OCCN(C)Cc2ccccc2)C1c1cccc([N+](=O)[O-])c1.Cl_15_RDKFingerprint_True_False': 14\n",
      "Length of list for key 'Cc1cn(-c2cc(NC(=O)c3ccc(C)c(Nc4nccc(-c5cccnc5)n4)c3)cc(C(F)(F)F)c2)cn1_15_RDKFingerprint_True_False': 14\n",
      "Length of list for key 'C=CC(=O)Nc1cccc(Oc2nc(Nc3ccc(N4CCN(C)CC4)cc3)nc3ccsc23)c1_15_RDKFingerprint_True_False': 14\n",
      "Length of list for key 'CC(C)N1CCN(c2ccc(OC[C@H]3CO[C@](Cn4cncn4)(c4ccc(Cl)cc4Cl)O3)cc2)CC1_15_RDKFingerprint_True_False': 14\n",
      "Length of list for key 'CSc1ccc2c(c1)N(CCC1CCCCN1C)c1ccccc1S2_15_RDKFingerprint_True_False': 14\n",
      "Length of list for key 'CN1CCN(CC/C=C2/c3ccccc3Sc3ccc(S(=O)(=O)N(C)C)cc32)CC1_15_RDKFingerprint_True_False': 14\n",
      "Length of list for key 'CCN(CC)CCOc1ccc2c(c1)C(=O)c1cc(OCCN(CC)CC)ccc1-2_15_RDKFingerprint_True_False': 14\n",
      "Length of list for key 'CN(C)CCCN1c2ccccc2Sc2ccc(C(F)(F)F)cc21.Cl_15_RDKFingerprint_True_False': 14\n",
      "Length of list for key 'CCN(CC)Cc1cc(Nc2ccnc3cc(Cl)ccc23)ccc1O_16_RDKFingerprint_True_True': 14\n",
      "Length of list for key 'C[C@@H](Oc1cc(-c2cnn(C3CCNCC3)c2)cnc1N)c1c(Cl)ccc(F)c1Cl_16_RDKFingerprint_True_True': 14\n",
      "Length of list for key 'CN1CCc2c(c3ccccc3n2Cc2ccccc2)C1_16_RDKFingerprint_True_True': 14\n",
      "Length of list for key 'COC(=O)C[C@@](O)(CCC(C)(C)O)C(=O)O[C@@H]1C(OC)=C[C@]23CCCN2CCc2cc4c(cc2[C@@H]13)OCO4_16_RDKFingerprint_True_True': 22\n",
      "Length of list for key 'OCCN1CCN(CCCN2c3ccccc3Sc3ccc(C(F)(F)F)cc32)CC1_16_RDKFingerprint_True_True': 14\n",
      "Length of list for key 'CCCCCCCCc1ccc(CCC(N)(CO)CO)cc1_16_RDKFingerprint_True_True': 14\n",
      "Length of list for key 'CC(NCCC(c1ccccc1)c1ccccc1)c1ccccc1_16_RDKFingerprint_True_True': 14\n",
      "Length of list for key 'CCCCc1oc2ccc(NS(C)(=O)=O)cc2c1C(=O)c1ccc(OCCCN(CCCC)CCCC)cc1.Cl_16_RDKFingerprint_True_True': 14\n",
      "Length of list for key 'OCCN1CCN(CCCN2c3ccccc3Sc3ccc(Cl)cc32)CC1_16_RDKFingerprint_True_True': 14\n",
      "Length of list for key 'CC(C)COc1ccc(CNC(=O)N(Cc2ccc(F)cc2)C2CCN(C)CC2)cc1_16_RDKFingerprint_True_True': 14\n",
      "Length of list for key 'CN1CCN(CCCN2c3ccccc3Sc3ccc(Cl)cc32)CC1.O=S(=O)(O)CCS(=O)(=O)O_16_RDKFingerprint_True_True': 14\n",
      "Length of list for key 'O=C(c1ccc(OCCN2CCCCC2)cc1)c1c(-c2ccc(O)cc2)sc2cc(O)ccc12_16_RDKFingerprint_True_True': 14\n",
      "Length of list for key 'CCN1CCN(Cc2ccc(Nc3ncc(F)c(-c4cc(F)c5nc(C)n(C(C)C)c5c4)n3)nc2)CC1_16_RDKFingerprint_True_True': 14\n",
      "Length of list for key 'O[C@@H](c1cc(C(F)(F)F)nc2c(C(F)(F)F)cccc12)[C@H]1CCCCN1_16_RDKFingerprint_True_True': 14\n",
      "Length of list for key 'Cc1nc(Nc2ccc(F)cc2)nc(N2CCc3ccccc3C2C)c1C_16_RDKFingerprint_True_True': 14\n",
      "Length of list for key 'CN(C)CCC=C1c2ccccc2C(C)(C)c2ccccc21_16_RDKFingerprint_True_True': 14\n",
      "Length of list for key 'Cc1c(O)cccc1C(=O)N[C@@H](CSc1ccccc1)[C@H](O)CN1C[C@H]2CCCC[C@H]2C[C@H]1C(=O)NC(C)(C)C_16_RDKFingerprint_True_True': 14\n",
      "Length of list for key 'COC(=O)C1=C(C)NC(C)=C(C(=O)OCCN(C)Cc2ccccc2)C1c1cccc([N+](=O)[O-])c1.Cl_16_RDKFingerprint_True_True': 14\n",
      "Length of list for key 'Cc1cn(-c2cc(NC(=O)c3ccc(C)c(Nc4nccc(-c5cccnc5)n4)c3)cc(C(F)(F)F)c2)cn1_16_RDKFingerprint_True_True': 14\n",
      "Length of list for key 'C=CC(=O)Nc1cccc(Oc2nc(Nc3ccc(N4CCN(C)CC4)cc3)nc3ccsc23)c1_16_RDKFingerprint_True_True': 14\n",
      "Length of list for key 'CC(C)N1CCN(c2ccc(OC[C@H]3CO[C@](Cn4cncn4)(c4ccc(Cl)cc4Cl)O3)cc2)CC1_16_RDKFingerprint_True_True': 14\n",
      "Length of list for key 'CSc1ccc2c(c1)N(CCC1CCCCN1C)c1ccccc1S2_16_RDKFingerprint_True_True': 14\n",
      "Length of list for key 'CN1CCN(CC/C=C2/c3ccccc3Sc3ccc(S(=O)(=O)N(C)C)cc32)CC1_16_RDKFingerprint_True_True': 14\n",
      "Length of list for key 'CCN(CC)CCOc1ccc2c(c1)C(=O)c1cc(OCCN(CC)CC)ccc1-2_16_RDKFingerprint_True_True': 14\n",
      "Length of list for key 'CN(C)CCCN1c2ccccc2Sc2ccc(C(F)(F)F)cc21.Cl_16_RDKFingerprint_True_True': 14\n",
      "Length of list for key 'CCN(CC)Cc1cc(Nc2ccnc3cc(Cl)ccc23)ccc1O_16_RDKFingerprint_True_False': 14\n",
      "Length of list for key 'C[C@@H](Oc1cc(-c2cnn(C3CCNCC3)c2)cnc1N)c1c(Cl)ccc(F)c1Cl_16_RDKFingerprint_True_False': 14\n",
      "Length of list for key 'CN1CCc2c(c3ccccc3n2Cc2ccccc2)C1_16_RDKFingerprint_True_False': 14\n",
      "Length of list for key 'COC(=O)C[C@@](O)(CCC(C)(C)O)C(=O)O[C@@H]1C(OC)=C[C@]23CCCN2CCc2cc4c(cc2[C@@H]13)OCO4_16_RDKFingerprint_True_False': 22\n",
      "Length of list for key 'OCCN1CCN(CCCN2c3ccccc3Sc3ccc(C(F)(F)F)cc32)CC1_16_RDKFingerprint_True_False': 14\n",
      "Length of list for key 'CCCCCCCCc1ccc(CCC(N)(CO)CO)cc1_16_RDKFingerprint_True_False': 14\n",
      "Length of list for key 'CC(NCCC(c1ccccc1)c1ccccc1)c1ccccc1_16_RDKFingerprint_True_False': 14\n",
      "Length of list for key 'CCCCc1oc2ccc(NS(C)(=O)=O)cc2c1C(=O)c1ccc(OCCCN(CCCC)CCCC)cc1.Cl_16_RDKFingerprint_True_False': 14\n",
      "Length of list for key 'OCCN1CCN(CCCN2c3ccccc3Sc3ccc(Cl)cc32)CC1_16_RDKFingerprint_True_False': 14\n",
      "Length of list for key 'CC(C)COc1ccc(CNC(=O)N(Cc2ccc(F)cc2)C2CCN(C)CC2)cc1_16_RDKFingerprint_True_False': 14\n",
      "Length of list for key 'CN1CCN(CCCN2c3ccccc3Sc3ccc(Cl)cc32)CC1.O=S(=O)(O)CCS(=O)(=O)O_16_RDKFingerprint_True_False': 14\n",
      "Length of list for key 'O=C(c1ccc(OCCN2CCCCC2)cc1)c1c(-c2ccc(O)cc2)sc2cc(O)ccc12_16_RDKFingerprint_True_False': 14\n",
      "Length of list for key 'CCN1CCN(Cc2ccc(Nc3ncc(F)c(-c4cc(F)c5nc(C)n(C(C)C)c5c4)n3)nc2)CC1_16_RDKFingerprint_True_False': 14\n",
      "Length of list for key 'O[C@@H](c1cc(C(F)(F)F)nc2c(C(F)(F)F)cccc12)[C@H]1CCCCN1_16_RDKFingerprint_True_False': 14\n",
      "Length of list for key 'Cc1nc(Nc2ccc(F)cc2)nc(N2CCc3ccccc3C2C)c1C_16_RDKFingerprint_True_False': 14\n",
      "Length of list for key 'CN(C)CCC=C1c2ccccc2C(C)(C)c2ccccc21_16_RDKFingerprint_True_False': 14\n",
      "Length of list for key 'Cc1c(O)cccc1C(=O)N[C@@H](CSc1ccccc1)[C@H](O)CN1C[C@H]2CCCC[C@H]2C[C@H]1C(=O)NC(C)(C)C_16_RDKFingerprint_True_False': 14\n",
      "Length of list for key 'COC(=O)C1=C(C)NC(C)=C(C(=O)OCCN(C)Cc2ccccc2)C1c1cccc([N+](=O)[O-])c1.Cl_16_RDKFingerprint_True_False': 14\n",
      "Length of list for key 'Cc1cn(-c2cc(NC(=O)c3ccc(C)c(Nc4nccc(-c5cccnc5)n4)c3)cc(C(F)(F)F)c2)cn1_16_RDKFingerprint_True_False': 14\n",
      "Length of list for key 'C=CC(=O)Nc1cccc(Oc2nc(Nc3ccc(N4CCN(C)CC4)cc3)nc3ccsc23)c1_16_RDKFingerprint_True_False': 14\n",
      "Length of list for key 'CC(C)N1CCN(c2ccc(OC[C@H]3CO[C@](Cn4cncn4)(c4ccc(Cl)cc4Cl)O3)cc2)CC1_16_RDKFingerprint_True_False': 14\n",
      "Length of list for key 'CSc1ccc2c(c1)N(CCC1CCCCN1C)c1ccccc1S2_16_RDKFingerprint_True_False': 14\n",
      "Length of list for key 'CN1CCN(CC/C=C2/c3ccccc3Sc3ccc(S(=O)(=O)N(C)C)cc32)CC1_16_RDKFingerprint_True_False': 14\n",
      "Length of list for key 'CCN(CC)CCOc1ccc2c(c1)C(=O)c1cc(OCCN(CC)CC)ccc1-2_16_RDKFingerprint_True_False': 14\n",
      "Length of list for key 'CN(C)CCCN1c2ccccc2Sc2ccc(C(F)(F)F)cc21.Cl_16_RDKFingerprint_True_False': 14\n",
      "Length of list for key 'CCN(CC)Cc1cc(Nc2ccnc3cc(Cl)ccc23)ccc1O_17_RDKFingerprint_True_True': 14\n",
      "Length of list for key 'C[C@@H](Oc1cc(-c2cnn(C3CCNCC3)c2)cnc1N)c1c(Cl)ccc(F)c1Cl_17_RDKFingerprint_True_True': 14\n",
      "Length of list for key 'CN1CCc2c(c3ccccc3n2Cc2ccccc2)C1_17_RDKFingerprint_True_True': 14\n",
      "Length of list for key 'COC(=O)C[C@@](O)(CCC(C)(C)O)C(=O)O[C@@H]1C(OC)=C[C@]23CCCN2CCc2cc4c(cc2[C@@H]13)OCO4_17_RDKFingerprint_True_True': 22\n",
      "Length of list for key 'OCCN1CCN(CCCN2c3ccccc3Sc3ccc(C(F)(F)F)cc32)CC1_17_RDKFingerprint_True_True': 14\n",
      "Length of list for key 'CCCCCCCCc1ccc(CCC(N)(CO)CO)cc1_17_RDKFingerprint_True_True': 14\n",
      "Length of list for key 'CC(NCCC(c1ccccc1)c1ccccc1)c1ccccc1_17_RDKFingerprint_True_True': 14\n",
      "Length of list for key 'CCCCc1oc2ccc(NS(C)(=O)=O)cc2c1C(=O)c1ccc(OCCCN(CCCC)CCCC)cc1.Cl_17_RDKFingerprint_True_True': 14\n",
      "Length of list for key 'OCCN1CCN(CCCN2c3ccccc3Sc3ccc(Cl)cc32)CC1_17_RDKFingerprint_True_True': 14\n",
      "Length of list for key 'CC(C)COc1ccc(CNC(=O)N(Cc2ccc(F)cc2)C2CCN(C)CC2)cc1_17_RDKFingerprint_True_True': 14\n",
      "Length of list for key 'CN1CCN(CCCN2c3ccccc3Sc3ccc(Cl)cc32)CC1.O=S(=O)(O)CCS(=O)(=O)O_17_RDKFingerprint_True_True': 14\n",
      "Length of list for key 'O=C(c1ccc(OCCN2CCCCC2)cc1)c1c(-c2ccc(O)cc2)sc2cc(O)ccc12_17_RDKFingerprint_True_True': 14\n",
      "Length of list for key 'CCN1CCN(Cc2ccc(Nc3ncc(F)c(-c4cc(F)c5nc(C)n(C(C)C)c5c4)n3)nc2)CC1_17_RDKFingerprint_True_True': 14\n",
      "Length of list for key 'O[C@@H](c1cc(C(F)(F)F)nc2c(C(F)(F)F)cccc12)[C@H]1CCCCN1_17_RDKFingerprint_True_True': 14\n",
      "Length of list for key 'Cc1nc(Nc2ccc(F)cc2)nc(N2CCc3ccccc3C2C)c1C_17_RDKFingerprint_True_True': 14\n",
      "Length of list for key 'CN(C)CCC=C1c2ccccc2C(C)(C)c2ccccc21_17_RDKFingerprint_True_True': 14\n",
      "Length of list for key 'Cc1c(O)cccc1C(=O)N[C@@H](CSc1ccccc1)[C@H](O)CN1C[C@H]2CCCC[C@H]2C[C@H]1C(=O)NC(C)(C)C_17_RDKFingerprint_True_True': 14\n",
      "Length of list for key 'COC(=O)C1=C(C)NC(C)=C(C(=O)OCCN(C)Cc2ccccc2)C1c1cccc([N+](=O)[O-])c1.Cl_17_RDKFingerprint_True_True': 14\n",
      "Length of list for key 'Cc1cn(-c2cc(NC(=O)c3ccc(C)c(Nc4nccc(-c5cccnc5)n4)c3)cc(C(F)(F)F)c2)cn1_17_RDKFingerprint_True_True': 14\n",
      "Length of list for key 'C=CC(=O)Nc1cccc(Oc2nc(Nc3ccc(N4CCN(C)CC4)cc3)nc3ccsc23)c1_17_RDKFingerprint_True_True': 14\n",
      "Length of list for key 'CC(C)N1CCN(c2ccc(OC[C@H]3CO[C@](Cn4cncn4)(c4ccc(Cl)cc4Cl)O3)cc2)CC1_17_RDKFingerprint_True_True': 14\n",
      "Length of list for key 'CSc1ccc2c(c1)N(CCC1CCCCN1C)c1ccccc1S2_17_RDKFingerprint_True_True': 14\n",
      "Length of list for key 'CN1CCN(CC/C=C2/c3ccccc3Sc3ccc(S(=O)(=O)N(C)C)cc32)CC1_17_RDKFingerprint_True_True': 14\n",
      "Length of list for key 'CCN(CC)CCOc1ccc2c(c1)C(=O)c1cc(OCCN(CC)CC)ccc1-2_17_RDKFingerprint_True_True': 14\n",
      "Length of list for key 'CN(C)CCCN1c2ccccc2Sc2ccc(C(F)(F)F)cc21.Cl_17_RDKFingerprint_True_True': 14\n",
      "Length of list for key 'CCN(CC)Cc1cc(Nc2ccnc3cc(Cl)ccc23)ccc1O_17_RDKFingerprint_True_False': 14\n",
      "Length of list for key 'C[C@@H](Oc1cc(-c2cnn(C3CCNCC3)c2)cnc1N)c1c(Cl)ccc(F)c1Cl_17_RDKFingerprint_True_False': 14\n",
      "Length of list for key 'CN1CCc2c(c3ccccc3n2Cc2ccccc2)C1_17_RDKFingerprint_True_False': 14\n",
      "Length of list for key 'COC(=O)C[C@@](O)(CCC(C)(C)O)C(=O)O[C@@H]1C(OC)=C[C@]23CCCN2CCc2cc4c(cc2[C@@H]13)OCO4_17_RDKFingerprint_True_False': 22\n",
      "Length of list for key 'OCCN1CCN(CCCN2c3ccccc3Sc3ccc(C(F)(F)F)cc32)CC1_17_RDKFingerprint_True_False': 14\n",
      "Length of list for key 'CCCCCCCCc1ccc(CCC(N)(CO)CO)cc1_17_RDKFingerprint_True_False': 14\n",
      "Length of list for key 'CC(NCCC(c1ccccc1)c1ccccc1)c1ccccc1_17_RDKFingerprint_True_False': 14\n",
      "Length of list for key 'CCCCc1oc2ccc(NS(C)(=O)=O)cc2c1C(=O)c1ccc(OCCCN(CCCC)CCCC)cc1.Cl_17_RDKFingerprint_True_False': 14\n",
      "Length of list for key 'OCCN1CCN(CCCN2c3ccccc3Sc3ccc(Cl)cc32)CC1_17_RDKFingerprint_True_False': 14\n",
      "Length of list for key 'CC(C)COc1ccc(CNC(=O)N(Cc2ccc(F)cc2)C2CCN(C)CC2)cc1_17_RDKFingerprint_True_False': 14\n",
      "Length of list for key 'CN1CCN(CCCN2c3ccccc3Sc3ccc(Cl)cc32)CC1.O=S(=O)(O)CCS(=O)(=O)O_17_RDKFingerprint_True_False': 14\n",
      "Length of list for key 'O=C(c1ccc(OCCN2CCCCC2)cc1)c1c(-c2ccc(O)cc2)sc2cc(O)ccc12_17_RDKFingerprint_True_False': 14\n",
      "Length of list for key 'CCN1CCN(Cc2ccc(Nc3ncc(F)c(-c4cc(F)c5nc(C)n(C(C)C)c5c4)n3)nc2)CC1_17_RDKFingerprint_True_False': 14\n",
      "Length of list for key 'O[C@@H](c1cc(C(F)(F)F)nc2c(C(F)(F)F)cccc12)[C@H]1CCCCN1_17_RDKFingerprint_True_False': 14\n",
      "Length of list for key 'Cc1nc(Nc2ccc(F)cc2)nc(N2CCc3ccccc3C2C)c1C_17_RDKFingerprint_True_False': 14\n",
      "Length of list for key 'CN(C)CCC=C1c2ccccc2C(C)(C)c2ccccc21_17_RDKFingerprint_True_False': 14\n",
      "Length of list for key 'Cc1c(O)cccc1C(=O)N[C@@H](CSc1ccccc1)[C@H](O)CN1C[C@H]2CCCC[C@H]2C[C@H]1C(=O)NC(C)(C)C_17_RDKFingerprint_True_False': 14\n",
      "Length of list for key 'COC(=O)C1=C(C)NC(C)=C(C(=O)OCCN(C)Cc2ccccc2)C1c1cccc([N+](=O)[O-])c1.Cl_17_RDKFingerprint_True_False': 14\n",
      "Length of list for key 'Cc1cn(-c2cc(NC(=O)c3ccc(C)c(Nc4nccc(-c5cccnc5)n4)c3)cc(C(F)(F)F)c2)cn1_17_RDKFingerprint_True_False': 14\n",
      "Length of list for key 'C=CC(=O)Nc1cccc(Oc2nc(Nc3ccc(N4CCN(C)CC4)cc3)nc3ccsc23)c1_17_RDKFingerprint_True_False': 14\n",
      "Length of list for key 'CC(C)N1CCN(c2ccc(OC[C@H]3CO[C@](Cn4cncn4)(c4ccc(Cl)cc4Cl)O3)cc2)CC1_17_RDKFingerprint_True_False': 14\n",
      "Length of list for key 'CSc1ccc2c(c1)N(CCC1CCCCN1C)c1ccccc1S2_17_RDKFingerprint_True_False': 14\n",
      "Length of list for key 'CN1CCN(CC/C=C2/c3ccccc3Sc3ccc(S(=O)(=O)N(C)C)cc32)CC1_17_RDKFingerprint_True_False': 14\n",
      "Length of list for key 'CCN(CC)CCOc1ccc2c(c1)C(=O)c1cc(OCCN(CC)CC)ccc1-2_17_RDKFingerprint_True_False': 14\n",
      "Length of list for key 'CN(C)CCCN1c2ccccc2Sc2ccc(C(F)(F)F)cc21.Cl_17_RDKFingerprint_True_False': 14\n",
      "Length of list for key 'CCN(CC)Cc1cc(Nc2ccnc3cc(Cl)ccc23)ccc1O_18_RDKFingerprint_True_True': 14\n",
      "Length of list for key 'C[C@@H](Oc1cc(-c2cnn(C3CCNCC3)c2)cnc1N)c1c(Cl)ccc(F)c1Cl_18_RDKFingerprint_True_True': 14\n",
      "Length of list for key 'CN1CCc2c(c3ccccc3n2Cc2ccccc2)C1_18_RDKFingerprint_True_True': 14\n",
      "Length of list for key 'COC(=O)C[C@@](O)(CCC(C)(C)O)C(=O)O[C@@H]1C(OC)=C[C@]23CCCN2CCc2cc4c(cc2[C@@H]13)OCO4_18_RDKFingerprint_True_True': 22\n",
      "Length of list for key 'OCCN1CCN(CCCN2c3ccccc3Sc3ccc(C(F)(F)F)cc32)CC1_18_RDKFingerprint_True_True': 14\n",
      "Length of list for key 'CCCCCCCCc1ccc(CCC(N)(CO)CO)cc1_18_RDKFingerprint_True_True': 14\n",
      "Length of list for key 'CC(NCCC(c1ccccc1)c1ccccc1)c1ccccc1_18_RDKFingerprint_True_True': 14\n",
      "Length of list for key 'CCCCc1oc2ccc(NS(C)(=O)=O)cc2c1C(=O)c1ccc(OCCCN(CCCC)CCCC)cc1.Cl_18_RDKFingerprint_True_True': 14\n",
      "Length of list for key 'OCCN1CCN(CCCN2c3ccccc3Sc3ccc(Cl)cc32)CC1_18_RDKFingerprint_True_True': 14\n",
      "Length of list for key 'CC(C)COc1ccc(CNC(=O)N(Cc2ccc(F)cc2)C2CCN(C)CC2)cc1_18_RDKFingerprint_True_True': 14\n",
      "Length of list for key 'CN1CCN(CCCN2c3ccccc3Sc3ccc(Cl)cc32)CC1.O=S(=O)(O)CCS(=O)(=O)O_18_RDKFingerprint_True_True': 14\n",
      "Length of list for key 'O=C(c1ccc(OCCN2CCCCC2)cc1)c1c(-c2ccc(O)cc2)sc2cc(O)ccc12_18_RDKFingerprint_True_True': 14\n",
      "Length of list for key 'CCN1CCN(Cc2ccc(Nc3ncc(F)c(-c4cc(F)c5nc(C)n(C(C)C)c5c4)n3)nc2)CC1_18_RDKFingerprint_True_True': 14\n",
      "Length of list for key 'O[C@@H](c1cc(C(F)(F)F)nc2c(C(F)(F)F)cccc12)[C@H]1CCCCN1_18_RDKFingerprint_True_True': 14\n",
      "Length of list for key 'Cc1nc(Nc2ccc(F)cc2)nc(N2CCc3ccccc3C2C)c1C_18_RDKFingerprint_True_True': 14\n",
      "Length of list for key 'CN(C)CCC=C1c2ccccc2C(C)(C)c2ccccc21_18_RDKFingerprint_True_True': 14\n",
      "Length of list for key 'Cc1c(O)cccc1C(=O)N[C@@H](CSc1ccccc1)[C@H](O)CN1C[C@H]2CCCC[C@H]2C[C@H]1C(=O)NC(C)(C)C_18_RDKFingerprint_True_True': 14\n",
      "Length of list for key 'COC(=O)C1=C(C)NC(C)=C(C(=O)OCCN(C)Cc2ccccc2)C1c1cccc([N+](=O)[O-])c1.Cl_18_RDKFingerprint_True_True': 14\n",
      "Length of list for key 'Cc1cn(-c2cc(NC(=O)c3ccc(C)c(Nc4nccc(-c5cccnc5)n4)c3)cc(C(F)(F)F)c2)cn1_18_RDKFingerprint_True_True': 14\n",
      "Length of list for key 'C=CC(=O)Nc1cccc(Oc2nc(Nc3ccc(N4CCN(C)CC4)cc3)nc3ccsc23)c1_18_RDKFingerprint_True_True': 14\n",
      "Length of list for key 'CC(C)N1CCN(c2ccc(OC[C@H]3CO[C@](Cn4cncn4)(c4ccc(Cl)cc4Cl)O3)cc2)CC1_18_RDKFingerprint_True_True': 14\n",
      "Length of list for key 'CSc1ccc2c(c1)N(CCC1CCCCN1C)c1ccccc1S2_18_RDKFingerprint_True_True': 14\n",
      "Length of list for key 'CN1CCN(CC/C=C2/c3ccccc3Sc3ccc(S(=O)(=O)N(C)C)cc32)CC1_18_RDKFingerprint_True_True': 14\n",
      "Length of list for key 'CCN(CC)CCOc1ccc2c(c1)C(=O)c1cc(OCCN(CC)CC)ccc1-2_18_RDKFingerprint_True_True': 14\n",
      "Length of list for key 'CN(C)CCCN1c2ccccc2Sc2ccc(C(F)(F)F)cc21.Cl_18_RDKFingerprint_True_True': 14\n",
      "Length of list for key 'CCN(CC)Cc1cc(Nc2ccnc3cc(Cl)ccc23)ccc1O_18_RDKFingerprint_True_False': 14\n",
      "Length of list for key 'C[C@@H](Oc1cc(-c2cnn(C3CCNCC3)c2)cnc1N)c1c(Cl)ccc(F)c1Cl_18_RDKFingerprint_True_False': 14\n",
      "Length of list for key 'CN1CCc2c(c3ccccc3n2Cc2ccccc2)C1_18_RDKFingerprint_True_False': 14\n",
      "Length of list for key 'COC(=O)C[C@@](O)(CCC(C)(C)O)C(=O)O[C@@H]1C(OC)=C[C@]23CCCN2CCc2cc4c(cc2[C@@H]13)OCO4_18_RDKFingerprint_True_False': 22\n",
      "Length of list for key 'OCCN1CCN(CCCN2c3ccccc3Sc3ccc(C(F)(F)F)cc32)CC1_18_RDKFingerprint_True_False': 14\n",
      "Length of list for key 'CCCCCCCCc1ccc(CCC(N)(CO)CO)cc1_18_RDKFingerprint_True_False': 14\n",
      "Length of list for key 'CC(NCCC(c1ccccc1)c1ccccc1)c1ccccc1_18_RDKFingerprint_True_False': 14\n",
      "Length of list for key 'CCCCc1oc2ccc(NS(C)(=O)=O)cc2c1C(=O)c1ccc(OCCCN(CCCC)CCCC)cc1.Cl_18_RDKFingerprint_True_False': 14\n",
      "Length of list for key 'OCCN1CCN(CCCN2c3ccccc3Sc3ccc(Cl)cc32)CC1_18_RDKFingerprint_True_False': 14\n",
      "Length of list for key 'CC(C)COc1ccc(CNC(=O)N(Cc2ccc(F)cc2)C2CCN(C)CC2)cc1_18_RDKFingerprint_True_False': 14\n",
      "Length of list for key 'CN1CCN(CCCN2c3ccccc3Sc3ccc(Cl)cc32)CC1.O=S(=O)(O)CCS(=O)(=O)O_18_RDKFingerprint_True_False': 14\n",
      "Length of list for key 'O=C(c1ccc(OCCN2CCCCC2)cc1)c1c(-c2ccc(O)cc2)sc2cc(O)ccc12_18_RDKFingerprint_True_False': 14\n",
      "Length of list for key 'CCN1CCN(Cc2ccc(Nc3ncc(F)c(-c4cc(F)c5nc(C)n(C(C)C)c5c4)n3)nc2)CC1_18_RDKFingerprint_True_False': 14\n",
      "Length of list for key 'O[C@@H](c1cc(C(F)(F)F)nc2c(C(F)(F)F)cccc12)[C@H]1CCCCN1_18_RDKFingerprint_True_False': 14\n",
      "Length of list for key 'Cc1nc(Nc2ccc(F)cc2)nc(N2CCc3ccccc3C2C)c1C_18_RDKFingerprint_True_False': 14\n",
      "Length of list for key 'CN(C)CCC=C1c2ccccc2C(C)(C)c2ccccc21_18_RDKFingerprint_True_False': 14\n",
      "Length of list for key 'Cc1c(O)cccc1C(=O)N[C@@H](CSc1ccccc1)[C@H](O)CN1C[C@H]2CCCC[C@H]2C[C@H]1C(=O)NC(C)(C)C_18_RDKFingerprint_True_False': 14\n",
      "Length of list for key 'COC(=O)C1=C(C)NC(C)=C(C(=O)OCCN(C)Cc2ccccc2)C1c1cccc([N+](=O)[O-])c1.Cl_18_RDKFingerprint_True_False': 14\n",
      "Length of list for key 'Cc1cn(-c2cc(NC(=O)c3ccc(C)c(Nc4nccc(-c5cccnc5)n4)c3)cc(C(F)(F)F)c2)cn1_18_RDKFingerprint_True_False': 14\n",
      "Length of list for key 'C=CC(=O)Nc1cccc(Oc2nc(Nc3ccc(N4CCN(C)CC4)cc3)nc3ccsc23)c1_18_RDKFingerprint_True_False': 14\n",
      "Length of list for key 'CC(C)N1CCN(c2ccc(OC[C@H]3CO[C@](Cn4cncn4)(c4ccc(Cl)cc4Cl)O3)cc2)CC1_18_RDKFingerprint_True_False': 14\n",
      "Length of list for key 'CSc1ccc2c(c1)N(CCC1CCCCN1C)c1ccccc1S2_18_RDKFingerprint_True_False': 14\n",
      "Length of list for key 'CN1CCN(CC/C=C2/c3ccccc3Sc3ccc(S(=O)(=O)N(C)C)cc32)CC1_18_RDKFingerprint_True_False': 14\n",
      "Length of list for key 'CCN(CC)CCOc1ccc2c(c1)C(=O)c1cc(OCCN(CC)CC)ccc1-2_18_RDKFingerprint_True_False': 14\n",
      "Length of list for key 'CN(C)CCCN1c2ccccc2Sc2ccc(C(F)(F)F)cc21.Cl_18_RDKFingerprint_True_False': 14\n",
      "Length of list for key 'CCN(CC)Cc1cc(Nc2ccnc3cc(Cl)ccc23)ccc1O_19_RDKFingerprint_True_True': 14\n",
      "Length of list for key 'C[C@@H](Oc1cc(-c2cnn(C3CCNCC3)c2)cnc1N)c1c(Cl)ccc(F)c1Cl_19_RDKFingerprint_True_True': 14\n",
      "Length of list for key 'CN1CCc2c(c3ccccc3n2Cc2ccccc2)C1_19_RDKFingerprint_True_True': 14\n",
      "Length of list for key 'COC(=O)C[C@@](O)(CCC(C)(C)O)C(=O)O[C@@H]1C(OC)=C[C@]23CCCN2CCc2cc4c(cc2[C@@H]13)OCO4_19_RDKFingerprint_True_True': 22\n",
      "Length of list for key 'OCCN1CCN(CCCN2c3ccccc3Sc3ccc(C(F)(F)F)cc32)CC1_19_RDKFingerprint_True_True': 14\n",
      "Length of list for key 'CCCCCCCCc1ccc(CCC(N)(CO)CO)cc1_19_RDKFingerprint_True_True': 14\n",
      "Length of list for key 'CC(NCCC(c1ccccc1)c1ccccc1)c1ccccc1_19_RDKFingerprint_True_True': 14\n",
      "Length of list for key 'CCCCc1oc2ccc(NS(C)(=O)=O)cc2c1C(=O)c1ccc(OCCCN(CCCC)CCCC)cc1.Cl_19_RDKFingerprint_True_True': 14\n",
      "Length of list for key 'OCCN1CCN(CCCN2c3ccccc3Sc3ccc(Cl)cc32)CC1_19_RDKFingerprint_True_True': 14\n",
      "Length of list for key 'CC(C)COc1ccc(CNC(=O)N(Cc2ccc(F)cc2)C2CCN(C)CC2)cc1_19_RDKFingerprint_True_True': 14\n",
      "Length of list for key 'CN1CCN(CCCN2c3ccccc3Sc3ccc(Cl)cc32)CC1.O=S(=O)(O)CCS(=O)(=O)O_19_RDKFingerprint_True_True': 14\n",
      "Length of list for key 'O=C(c1ccc(OCCN2CCCCC2)cc1)c1c(-c2ccc(O)cc2)sc2cc(O)ccc12_19_RDKFingerprint_True_True': 14\n",
      "Length of list for key 'CCN1CCN(Cc2ccc(Nc3ncc(F)c(-c4cc(F)c5nc(C)n(C(C)C)c5c4)n3)nc2)CC1_19_RDKFingerprint_True_True': 14\n",
      "Length of list for key 'O[C@@H](c1cc(C(F)(F)F)nc2c(C(F)(F)F)cccc12)[C@H]1CCCCN1_19_RDKFingerprint_True_True': 14\n",
      "Length of list for key 'Cc1nc(Nc2ccc(F)cc2)nc(N2CCc3ccccc3C2C)c1C_19_RDKFingerprint_True_True': 14\n",
      "Length of list for key 'CN(C)CCC=C1c2ccccc2C(C)(C)c2ccccc21_19_RDKFingerprint_True_True': 14\n",
      "Length of list for key 'Cc1c(O)cccc1C(=O)N[C@@H](CSc1ccccc1)[C@H](O)CN1C[C@H]2CCCC[C@H]2C[C@H]1C(=O)NC(C)(C)C_19_RDKFingerprint_True_True': 14\n",
      "Length of list for key 'COC(=O)C1=C(C)NC(C)=C(C(=O)OCCN(C)Cc2ccccc2)C1c1cccc([N+](=O)[O-])c1.Cl_19_RDKFingerprint_True_True': 14\n",
      "Length of list for key 'Cc1cn(-c2cc(NC(=O)c3ccc(C)c(Nc4nccc(-c5cccnc5)n4)c3)cc(C(F)(F)F)c2)cn1_19_RDKFingerprint_True_True': 14\n",
      "Length of list for key 'C=CC(=O)Nc1cccc(Oc2nc(Nc3ccc(N4CCN(C)CC4)cc3)nc3ccsc23)c1_19_RDKFingerprint_True_True': 14\n",
      "Length of list for key 'CC(C)N1CCN(c2ccc(OC[C@H]3CO[C@](Cn4cncn4)(c4ccc(Cl)cc4Cl)O3)cc2)CC1_19_RDKFingerprint_True_True': 14\n",
      "Length of list for key 'CSc1ccc2c(c1)N(CCC1CCCCN1C)c1ccccc1S2_19_RDKFingerprint_True_True': 14\n",
      "Length of list for key 'CN1CCN(CC/C=C2/c3ccccc3Sc3ccc(S(=O)(=O)N(C)C)cc32)CC1_19_RDKFingerprint_True_True': 14\n",
      "Length of list for key 'CCN(CC)CCOc1ccc2c(c1)C(=O)c1cc(OCCN(CC)CC)ccc1-2_19_RDKFingerprint_True_True': 14\n",
      "Length of list for key 'CN(C)CCCN1c2ccccc2Sc2ccc(C(F)(F)F)cc21.Cl_19_RDKFingerprint_True_True': 14\n",
      "Length of list for key 'CCN(CC)Cc1cc(Nc2ccnc3cc(Cl)ccc23)ccc1O_19_RDKFingerprint_True_False': 14\n",
      "Length of list for key 'C[C@@H](Oc1cc(-c2cnn(C3CCNCC3)c2)cnc1N)c1c(Cl)ccc(F)c1Cl_19_RDKFingerprint_True_False': 14\n",
      "Length of list for key 'CN1CCc2c(c3ccccc3n2Cc2ccccc2)C1_19_RDKFingerprint_True_False': 14\n",
      "Length of list for key 'COC(=O)C[C@@](O)(CCC(C)(C)O)C(=O)O[C@@H]1C(OC)=C[C@]23CCCN2CCc2cc4c(cc2[C@@H]13)OCO4_19_RDKFingerprint_True_False': 22\n",
      "Length of list for key 'OCCN1CCN(CCCN2c3ccccc3Sc3ccc(C(F)(F)F)cc32)CC1_19_RDKFingerprint_True_False': 14\n",
      "Length of list for key 'CCCCCCCCc1ccc(CCC(N)(CO)CO)cc1_19_RDKFingerprint_True_False': 14\n",
      "Length of list for key 'CC(NCCC(c1ccccc1)c1ccccc1)c1ccccc1_19_RDKFingerprint_True_False': 14\n",
      "Length of list for key 'CCCCc1oc2ccc(NS(C)(=O)=O)cc2c1C(=O)c1ccc(OCCCN(CCCC)CCCC)cc1.Cl_19_RDKFingerprint_True_False': 14\n",
      "Length of list for key 'OCCN1CCN(CCCN2c3ccccc3Sc3ccc(Cl)cc32)CC1_19_RDKFingerprint_True_False': 14\n",
      "Length of list for key 'CC(C)COc1ccc(CNC(=O)N(Cc2ccc(F)cc2)C2CCN(C)CC2)cc1_19_RDKFingerprint_True_False': 14\n",
      "Length of list for key 'CN1CCN(CCCN2c3ccccc3Sc3ccc(Cl)cc32)CC1.O=S(=O)(O)CCS(=O)(=O)O_19_RDKFingerprint_True_False': 14\n",
      "Length of list for key 'O=C(c1ccc(OCCN2CCCCC2)cc1)c1c(-c2ccc(O)cc2)sc2cc(O)ccc12_19_RDKFingerprint_True_False': 14\n",
      "Length of list for key 'CCN1CCN(Cc2ccc(Nc3ncc(F)c(-c4cc(F)c5nc(C)n(C(C)C)c5c4)n3)nc2)CC1_19_RDKFingerprint_True_False': 14\n",
      "Length of list for key 'O[C@@H](c1cc(C(F)(F)F)nc2c(C(F)(F)F)cccc12)[C@H]1CCCCN1_19_RDKFingerprint_True_False': 14\n",
      "Length of list for key 'Cc1nc(Nc2ccc(F)cc2)nc(N2CCc3ccccc3C2C)c1C_19_RDKFingerprint_True_False': 14\n",
      "Length of list for key 'CN(C)CCC=C1c2ccccc2C(C)(C)c2ccccc21_19_RDKFingerprint_True_False': 14\n",
      "Length of list for key 'Cc1c(O)cccc1C(=O)N[C@@H](CSc1ccccc1)[C@H](O)CN1C[C@H]2CCCC[C@H]2C[C@H]1C(=O)NC(C)(C)C_19_RDKFingerprint_True_False': 14\n",
      "Length of list for key 'COC(=O)C1=C(C)NC(C)=C(C(=O)OCCN(C)Cc2ccccc2)C1c1cccc([N+](=O)[O-])c1.Cl_19_RDKFingerprint_True_False': 14\n",
      "Length of list for key 'Cc1cn(-c2cc(NC(=O)c3ccc(C)c(Nc4nccc(-c5cccnc5)n4)c3)cc(C(F)(F)F)c2)cn1_19_RDKFingerprint_True_False': 14\n",
      "Length of list for key 'C=CC(=O)Nc1cccc(Oc2nc(Nc3ccc(N4CCN(C)CC4)cc3)nc3ccsc23)c1_19_RDKFingerprint_True_False': 14\n",
      "Length of list for key 'CC(C)N1CCN(c2ccc(OC[C@H]3CO[C@](Cn4cncn4)(c4ccc(Cl)cc4Cl)O3)cc2)CC1_19_RDKFingerprint_True_False': 14\n",
      "Length of list for key 'CSc1ccc2c(c1)N(CCC1CCCCN1C)c1ccccc1S2_19_RDKFingerprint_True_False': 14\n",
      "Length of list for key 'CN1CCN(CC/C=C2/c3ccccc3Sc3ccc(S(=O)(=O)N(C)C)cc32)CC1_19_RDKFingerprint_True_False': 14\n",
      "Length of list for key 'CCN(CC)CCOc1ccc2c(c1)C(=O)c1cc(OCCN(CC)CC)ccc1-2_19_RDKFingerprint_True_False': 14\n",
      "Length of list for key 'CN(C)CCCN1c2ccccc2Sc2ccc(C(F)(F)F)cc21.Cl_19_RDKFingerprint_True_False': 14\n",
      "Length of list for key 'CCN(CC)Cc1cc(Nc2ccnc3cc(Cl)ccc23)ccc1O_20_RDKFingerprint_True_True': 14\n",
      "Length of list for key 'C[C@@H](Oc1cc(-c2cnn(C3CCNCC3)c2)cnc1N)c1c(Cl)ccc(F)c1Cl_20_RDKFingerprint_True_True': 14\n",
      "Length of list for key 'CN1CCc2c(c3ccccc3n2Cc2ccccc2)C1_20_RDKFingerprint_True_True': 14\n",
      "Length of list for key 'COC(=O)C[C@@](O)(CCC(C)(C)O)C(=O)O[C@@H]1C(OC)=C[C@]23CCCN2CCc2cc4c(cc2[C@@H]13)OCO4_20_RDKFingerprint_True_True': 22\n",
      "Length of list for key 'OCCN1CCN(CCCN2c3ccccc3Sc3ccc(C(F)(F)F)cc32)CC1_20_RDKFingerprint_True_True': 14\n",
      "Length of list for key 'CCCCCCCCc1ccc(CCC(N)(CO)CO)cc1_20_RDKFingerprint_True_True': 14\n",
      "Length of list for key 'CC(NCCC(c1ccccc1)c1ccccc1)c1ccccc1_20_RDKFingerprint_True_True': 14\n",
      "Length of list for key 'CCCCc1oc2ccc(NS(C)(=O)=O)cc2c1C(=O)c1ccc(OCCCN(CCCC)CCCC)cc1.Cl_20_RDKFingerprint_True_True': 14\n",
      "Length of list for key 'OCCN1CCN(CCCN2c3ccccc3Sc3ccc(Cl)cc32)CC1_20_RDKFingerprint_True_True': 14\n",
      "Length of list for key 'CC(C)COc1ccc(CNC(=O)N(Cc2ccc(F)cc2)C2CCN(C)CC2)cc1_20_RDKFingerprint_True_True': 14\n",
      "Length of list for key 'CN1CCN(CCCN2c3ccccc3Sc3ccc(Cl)cc32)CC1.O=S(=O)(O)CCS(=O)(=O)O_20_RDKFingerprint_True_True': 14\n",
      "Length of list for key 'O=C(c1ccc(OCCN2CCCCC2)cc1)c1c(-c2ccc(O)cc2)sc2cc(O)ccc12_20_RDKFingerprint_True_True': 14\n",
      "Length of list for key 'CCN1CCN(Cc2ccc(Nc3ncc(F)c(-c4cc(F)c5nc(C)n(C(C)C)c5c4)n3)nc2)CC1_20_RDKFingerprint_True_True': 14\n",
      "Length of list for key 'O[C@@H](c1cc(C(F)(F)F)nc2c(C(F)(F)F)cccc12)[C@H]1CCCCN1_20_RDKFingerprint_True_True': 14\n",
      "Length of list for key 'Cc1nc(Nc2ccc(F)cc2)nc(N2CCc3ccccc3C2C)c1C_20_RDKFingerprint_True_True': 14\n",
      "Length of list for key 'CN(C)CCC=C1c2ccccc2C(C)(C)c2ccccc21_20_RDKFingerprint_True_True': 14\n",
      "Length of list for key 'Cc1c(O)cccc1C(=O)N[C@@H](CSc1ccccc1)[C@H](O)CN1C[C@H]2CCCC[C@H]2C[C@H]1C(=O)NC(C)(C)C_20_RDKFingerprint_True_True': 14\n",
      "Length of list for key 'COC(=O)C1=C(C)NC(C)=C(C(=O)OCCN(C)Cc2ccccc2)C1c1cccc([N+](=O)[O-])c1.Cl_20_RDKFingerprint_True_True': 14\n",
      "Length of list for key 'Cc1cn(-c2cc(NC(=O)c3ccc(C)c(Nc4nccc(-c5cccnc5)n4)c3)cc(C(F)(F)F)c2)cn1_20_RDKFingerprint_True_True': 14\n",
      "Length of list for key 'C=CC(=O)Nc1cccc(Oc2nc(Nc3ccc(N4CCN(C)CC4)cc3)nc3ccsc23)c1_20_RDKFingerprint_True_True': 14\n",
      "Length of list for key 'CC(C)N1CCN(c2ccc(OC[C@H]3CO[C@](Cn4cncn4)(c4ccc(Cl)cc4Cl)O3)cc2)CC1_20_RDKFingerprint_True_True': 14\n",
      "Length of list for key 'CSc1ccc2c(c1)N(CCC1CCCCN1C)c1ccccc1S2_20_RDKFingerprint_True_True': 14\n",
      "Length of list for key 'CN1CCN(CC/C=C2/c3ccccc3Sc3ccc(S(=O)(=O)N(C)C)cc32)CC1_20_RDKFingerprint_True_True': 14\n",
      "Length of list for key 'CCN(CC)CCOc1ccc2c(c1)C(=O)c1cc(OCCN(CC)CC)ccc1-2_20_RDKFingerprint_True_True': 14\n",
      "Length of list for key 'CN(C)CCCN1c2ccccc2Sc2ccc(C(F)(F)F)cc21.Cl_20_RDKFingerprint_True_True': 14\n",
      "Length of list for key 'CCN(CC)Cc1cc(Nc2ccnc3cc(Cl)ccc23)ccc1O_20_RDKFingerprint_True_False': 14\n",
      "Length of list for key 'C[C@@H](Oc1cc(-c2cnn(C3CCNCC3)c2)cnc1N)c1c(Cl)ccc(F)c1Cl_20_RDKFingerprint_True_False': 14\n",
      "Length of list for key 'CN1CCc2c(c3ccccc3n2Cc2ccccc2)C1_20_RDKFingerprint_True_False': 14\n",
      "Length of list for key 'COC(=O)C[C@@](O)(CCC(C)(C)O)C(=O)O[C@@H]1C(OC)=C[C@]23CCCN2CCc2cc4c(cc2[C@@H]13)OCO4_20_RDKFingerprint_True_False': 22\n",
      "Length of list for key 'OCCN1CCN(CCCN2c3ccccc3Sc3ccc(C(F)(F)F)cc32)CC1_20_RDKFingerprint_True_False': 14\n",
      "Length of list for key 'CCCCCCCCc1ccc(CCC(N)(CO)CO)cc1_20_RDKFingerprint_True_False': 14\n",
      "Length of list for key 'CC(NCCC(c1ccccc1)c1ccccc1)c1ccccc1_20_RDKFingerprint_True_False': 14\n",
      "Length of list for key 'CCCCc1oc2ccc(NS(C)(=O)=O)cc2c1C(=O)c1ccc(OCCCN(CCCC)CCCC)cc1.Cl_20_RDKFingerprint_True_False': 14\n",
      "Length of list for key 'OCCN1CCN(CCCN2c3ccccc3Sc3ccc(Cl)cc32)CC1_20_RDKFingerprint_True_False': 14\n",
      "Length of list for key 'CC(C)COc1ccc(CNC(=O)N(Cc2ccc(F)cc2)C2CCN(C)CC2)cc1_20_RDKFingerprint_True_False': 14\n",
      "Length of list for key 'CN1CCN(CCCN2c3ccccc3Sc3ccc(Cl)cc32)CC1.O=S(=O)(O)CCS(=O)(=O)O_20_RDKFingerprint_True_False': 14\n",
      "Length of list for key 'O=C(c1ccc(OCCN2CCCCC2)cc1)c1c(-c2ccc(O)cc2)sc2cc(O)ccc12_20_RDKFingerprint_True_False': 14\n",
      "Length of list for key 'CCN1CCN(Cc2ccc(Nc3ncc(F)c(-c4cc(F)c5nc(C)n(C(C)C)c5c4)n3)nc2)CC1_20_RDKFingerprint_True_False': 14\n",
      "Length of list for key 'O[C@@H](c1cc(C(F)(F)F)nc2c(C(F)(F)F)cccc12)[C@H]1CCCCN1_20_RDKFingerprint_True_False': 14\n",
      "Length of list for key 'Cc1nc(Nc2ccc(F)cc2)nc(N2CCc3ccccc3C2C)c1C_20_RDKFingerprint_True_False': 14\n",
      "Length of list for key 'CN(C)CCC=C1c2ccccc2C(C)(C)c2ccccc21_20_RDKFingerprint_True_False': 14\n",
      "Length of list for key 'Cc1c(O)cccc1C(=O)N[C@@H](CSc1ccccc1)[C@H](O)CN1C[C@H]2CCCC[C@H]2C[C@H]1C(=O)NC(C)(C)C_20_RDKFingerprint_True_False': 14\n",
      "Length of list for key 'COC(=O)C1=C(C)NC(C)=C(C(=O)OCCN(C)Cc2ccccc2)C1c1cccc([N+](=O)[O-])c1.Cl_20_RDKFingerprint_True_False': 14\n",
      "Length of list for key 'Cc1cn(-c2cc(NC(=O)c3ccc(C)c(Nc4nccc(-c5cccnc5)n4)c3)cc(C(F)(F)F)c2)cn1_20_RDKFingerprint_True_False': 14\n",
      "Length of list for key 'C=CC(=O)Nc1cccc(Oc2nc(Nc3ccc(N4CCN(C)CC4)cc3)nc3ccsc23)c1_20_RDKFingerprint_True_False': 14\n",
      "Length of list for key 'CC(C)N1CCN(c2ccc(OC[C@H]3CO[C@](Cn4cncn4)(c4ccc(Cl)cc4Cl)O3)cc2)CC1_20_RDKFingerprint_True_False': 14\n",
      "Length of list for key 'CSc1ccc2c(c1)N(CCC1CCCCN1C)c1ccccc1S2_20_RDKFingerprint_True_False': 14\n",
      "Length of list for key 'CN1CCN(CC/C=C2/c3ccccc3Sc3ccc(S(=O)(=O)N(C)C)cc32)CC1_20_RDKFingerprint_True_False': 14\n",
      "Length of list for key 'CCN(CC)CCOc1ccc2c(c1)C(=O)c1cc(OCCN(CC)CC)ccc1-2_20_RDKFingerprint_True_False': 14\n",
      "Length of list for key 'CN(C)CCCN1c2ccccc2Sc2ccc(C(F)(F)F)cc21.Cl_20_RDKFingerprint_True_False': 14\n",
      "Length of list for key 'CCN(CC)Cc1cc(Nc2ccnc3cc(Cl)ccc23)ccc1O_21_RDKFingerprint_True_True': 14\n",
      "Length of list for key 'C[C@@H](Oc1cc(-c2cnn(C3CCNCC3)c2)cnc1N)c1c(Cl)ccc(F)c1Cl_21_RDKFingerprint_True_True': 14\n",
      "Length of list for key 'CN1CCc2c(c3ccccc3n2Cc2ccccc2)C1_21_RDKFingerprint_True_True': 14\n",
      "Length of list for key 'COC(=O)C[C@@](O)(CCC(C)(C)O)C(=O)O[C@@H]1C(OC)=C[C@]23CCCN2CCc2cc4c(cc2[C@@H]13)OCO4_21_RDKFingerprint_True_True': 22\n",
      "Length of list for key 'OCCN1CCN(CCCN2c3ccccc3Sc3ccc(C(F)(F)F)cc32)CC1_21_RDKFingerprint_True_True': 14\n",
      "Length of list for key 'CCCCCCCCc1ccc(CCC(N)(CO)CO)cc1_21_RDKFingerprint_True_True': 14\n",
      "Length of list for key 'CC(NCCC(c1ccccc1)c1ccccc1)c1ccccc1_21_RDKFingerprint_True_True': 14\n",
      "Length of list for key 'CCCCc1oc2ccc(NS(C)(=O)=O)cc2c1C(=O)c1ccc(OCCCN(CCCC)CCCC)cc1.Cl_21_RDKFingerprint_True_True': 14\n",
      "Length of list for key 'OCCN1CCN(CCCN2c3ccccc3Sc3ccc(Cl)cc32)CC1_21_RDKFingerprint_True_True': 14\n",
      "Length of list for key 'CC(C)COc1ccc(CNC(=O)N(Cc2ccc(F)cc2)C2CCN(C)CC2)cc1_21_RDKFingerprint_True_True': 14\n",
      "Length of list for key 'CN1CCN(CCCN2c3ccccc3Sc3ccc(Cl)cc32)CC1.O=S(=O)(O)CCS(=O)(=O)O_21_RDKFingerprint_True_True': 14\n",
      "Length of list for key 'O=C(c1ccc(OCCN2CCCCC2)cc1)c1c(-c2ccc(O)cc2)sc2cc(O)ccc12_21_RDKFingerprint_True_True': 14\n",
      "Length of list for key 'CCN1CCN(Cc2ccc(Nc3ncc(F)c(-c4cc(F)c5nc(C)n(C(C)C)c5c4)n3)nc2)CC1_21_RDKFingerprint_True_True': 14\n",
      "Length of list for key 'O[C@@H](c1cc(C(F)(F)F)nc2c(C(F)(F)F)cccc12)[C@H]1CCCCN1_21_RDKFingerprint_True_True': 14\n",
      "Length of list for key 'Cc1nc(Nc2ccc(F)cc2)nc(N2CCc3ccccc3C2C)c1C_21_RDKFingerprint_True_True': 14\n",
      "Length of list for key 'CN(C)CCC=C1c2ccccc2C(C)(C)c2ccccc21_21_RDKFingerprint_True_True': 14\n",
      "Length of list for key 'Cc1c(O)cccc1C(=O)N[C@@H](CSc1ccccc1)[C@H](O)CN1C[C@H]2CCCC[C@H]2C[C@H]1C(=O)NC(C)(C)C_21_RDKFingerprint_True_True': 14\n",
      "Length of list for key 'COC(=O)C1=C(C)NC(C)=C(C(=O)OCCN(C)Cc2ccccc2)C1c1cccc([N+](=O)[O-])c1.Cl_21_RDKFingerprint_True_True': 14\n",
      "Length of list for key 'Cc1cn(-c2cc(NC(=O)c3ccc(C)c(Nc4nccc(-c5cccnc5)n4)c3)cc(C(F)(F)F)c2)cn1_21_RDKFingerprint_True_True': 14\n",
      "Length of list for key 'C=CC(=O)Nc1cccc(Oc2nc(Nc3ccc(N4CCN(C)CC4)cc3)nc3ccsc23)c1_21_RDKFingerprint_True_True': 14\n",
      "Length of list for key 'CC(C)N1CCN(c2ccc(OC[C@H]3CO[C@](Cn4cncn4)(c4ccc(Cl)cc4Cl)O3)cc2)CC1_21_RDKFingerprint_True_True': 14\n",
      "Length of list for key 'CSc1ccc2c(c1)N(CCC1CCCCN1C)c1ccccc1S2_21_RDKFingerprint_True_True': 14\n",
      "Length of list for key 'CN1CCN(CC/C=C2/c3ccccc3Sc3ccc(S(=O)(=O)N(C)C)cc32)CC1_21_RDKFingerprint_True_True': 14\n",
      "Length of list for key 'CCN(CC)CCOc1ccc2c(c1)C(=O)c1cc(OCCN(CC)CC)ccc1-2_21_RDKFingerprint_True_True': 14\n",
      "Length of list for key 'CN(C)CCCN1c2ccccc2Sc2ccc(C(F)(F)F)cc21.Cl_21_RDKFingerprint_True_True': 14\n",
      "Length of list for key 'CCN(CC)Cc1cc(Nc2ccnc3cc(Cl)ccc23)ccc1O_21_RDKFingerprint_True_False': 14\n",
      "Length of list for key 'C[C@@H](Oc1cc(-c2cnn(C3CCNCC3)c2)cnc1N)c1c(Cl)ccc(F)c1Cl_21_RDKFingerprint_True_False': 14\n",
      "Length of list for key 'CN1CCc2c(c3ccccc3n2Cc2ccccc2)C1_21_RDKFingerprint_True_False': 14\n",
      "Length of list for key 'COC(=O)C[C@@](O)(CCC(C)(C)O)C(=O)O[C@@H]1C(OC)=C[C@]23CCCN2CCc2cc4c(cc2[C@@H]13)OCO4_21_RDKFingerprint_True_False': 22\n",
      "Length of list for key 'OCCN1CCN(CCCN2c3ccccc3Sc3ccc(C(F)(F)F)cc32)CC1_21_RDKFingerprint_True_False': 14\n",
      "Length of list for key 'CCCCCCCCc1ccc(CCC(N)(CO)CO)cc1_21_RDKFingerprint_True_False': 14\n",
      "Length of list for key 'CC(NCCC(c1ccccc1)c1ccccc1)c1ccccc1_21_RDKFingerprint_True_False': 14\n",
      "Length of list for key 'CCCCc1oc2ccc(NS(C)(=O)=O)cc2c1C(=O)c1ccc(OCCCN(CCCC)CCCC)cc1.Cl_21_RDKFingerprint_True_False': 14\n",
      "Length of list for key 'OCCN1CCN(CCCN2c3ccccc3Sc3ccc(Cl)cc32)CC1_21_RDKFingerprint_True_False': 14\n",
      "Length of list for key 'CC(C)COc1ccc(CNC(=O)N(Cc2ccc(F)cc2)C2CCN(C)CC2)cc1_21_RDKFingerprint_True_False': 14\n",
      "Length of list for key 'CN1CCN(CCCN2c3ccccc3Sc3ccc(Cl)cc32)CC1.O=S(=O)(O)CCS(=O)(=O)O_21_RDKFingerprint_True_False': 14\n",
      "Length of list for key 'O=C(c1ccc(OCCN2CCCCC2)cc1)c1c(-c2ccc(O)cc2)sc2cc(O)ccc12_21_RDKFingerprint_True_False': 14\n",
      "Length of list for key 'CCN1CCN(Cc2ccc(Nc3ncc(F)c(-c4cc(F)c5nc(C)n(C(C)C)c5c4)n3)nc2)CC1_21_RDKFingerprint_True_False': 14\n",
      "Length of list for key 'O[C@@H](c1cc(C(F)(F)F)nc2c(C(F)(F)F)cccc12)[C@H]1CCCCN1_21_RDKFingerprint_True_False': 14\n",
      "Length of list for key 'Cc1nc(Nc2ccc(F)cc2)nc(N2CCc3ccccc3C2C)c1C_21_RDKFingerprint_True_False': 14\n",
      "Length of list for key 'CN(C)CCC=C1c2ccccc2C(C)(C)c2ccccc21_21_RDKFingerprint_True_False': 14\n",
      "Length of list for key 'Cc1c(O)cccc1C(=O)N[C@@H](CSc1ccccc1)[C@H](O)CN1C[C@H]2CCCC[C@H]2C[C@H]1C(=O)NC(C)(C)C_21_RDKFingerprint_True_False': 14\n",
      "Length of list for key 'COC(=O)C1=C(C)NC(C)=C(C(=O)OCCN(C)Cc2ccccc2)C1c1cccc([N+](=O)[O-])c1.Cl_21_RDKFingerprint_True_False': 14\n",
      "Length of list for key 'Cc1cn(-c2cc(NC(=O)c3ccc(C)c(Nc4nccc(-c5cccnc5)n4)c3)cc(C(F)(F)F)c2)cn1_21_RDKFingerprint_True_False': 14\n",
      "Length of list for key 'C=CC(=O)Nc1cccc(Oc2nc(Nc3ccc(N4CCN(C)CC4)cc3)nc3ccsc23)c1_21_RDKFingerprint_True_False': 14\n",
      "Length of list for key 'CC(C)N1CCN(c2ccc(OC[C@H]3CO[C@](Cn4cncn4)(c4ccc(Cl)cc4Cl)O3)cc2)CC1_21_RDKFingerprint_True_False': 14\n",
      "Length of list for key 'CSc1ccc2c(c1)N(CCC1CCCCN1C)c1ccccc1S2_21_RDKFingerprint_True_False': 14\n",
      "Length of list for key 'CN1CCN(CC/C=C2/c3ccccc3Sc3ccc(S(=O)(=O)N(C)C)cc32)CC1_21_RDKFingerprint_True_False': 14\n",
      "Length of list for key 'CCN(CC)CCOc1ccc2c(c1)C(=O)c1cc(OCCN(CC)CC)ccc1-2_21_RDKFingerprint_True_False': 14\n",
      "Length of list for key 'CN(C)CCCN1c2ccccc2Sc2ccc(C(F)(F)F)cc21.Cl_21_RDKFingerprint_True_False': 14\n",
      "Length of list for key 'CCN(CC)Cc1cc(Nc2ccnc3cc(Cl)ccc23)ccc1O_22_RDKFingerprint_True_True': 14\n",
      "Length of list for key 'C[C@@H](Oc1cc(-c2cnn(C3CCNCC3)c2)cnc1N)c1c(Cl)ccc(F)c1Cl_22_RDKFingerprint_True_True': 14\n",
      "Length of list for key 'CN1CCc2c(c3ccccc3n2Cc2ccccc2)C1_22_RDKFingerprint_True_True': 14\n",
      "Length of list for key 'COC(=O)C[C@@](O)(CCC(C)(C)O)C(=O)O[C@@H]1C(OC)=C[C@]23CCCN2CCc2cc4c(cc2[C@@H]13)OCO4_22_RDKFingerprint_True_True': 22\n",
      "Length of list for key 'OCCN1CCN(CCCN2c3ccccc3Sc3ccc(C(F)(F)F)cc32)CC1_22_RDKFingerprint_True_True': 14\n",
      "Length of list for key 'CCCCCCCCc1ccc(CCC(N)(CO)CO)cc1_22_RDKFingerprint_True_True': 14\n",
      "Length of list for key 'CC(NCCC(c1ccccc1)c1ccccc1)c1ccccc1_22_RDKFingerprint_True_True': 14\n",
      "Length of list for key 'CCCCc1oc2ccc(NS(C)(=O)=O)cc2c1C(=O)c1ccc(OCCCN(CCCC)CCCC)cc1.Cl_22_RDKFingerprint_True_True': 14\n",
      "Length of list for key 'OCCN1CCN(CCCN2c3ccccc3Sc3ccc(Cl)cc32)CC1_22_RDKFingerprint_True_True': 14\n",
      "Length of list for key 'CC(C)COc1ccc(CNC(=O)N(Cc2ccc(F)cc2)C2CCN(C)CC2)cc1_22_RDKFingerprint_True_True': 14\n",
      "Length of list for key 'CN1CCN(CCCN2c3ccccc3Sc3ccc(Cl)cc32)CC1.O=S(=O)(O)CCS(=O)(=O)O_22_RDKFingerprint_True_True': 14\n",
      "Length of list for key 'O=C(c1ccc(OCCN2CCCCC2)cc1)c1c(-c2ccc(O)cc2)sc2cc(O)ccc12_22_RDKFingerprint_True_True': 14\n",
      "Length of list for key 'CCN1CCN(Cc2ccc(Nc3ncc(F)c(-c4cc(F)c5nc(C)n(C(C)C)c5c4)n3)nc2)CC1_22_RDKFingerprint_True_True': 14\n",
      "Length of list for key 'O[C@@H](c1cc(C(F)(F)F)nc2c(C(F)(F)F)cccc12)[C@H]1CCCCN1_22_RDKFingerprint_True_True': 14\n",
      "Length of list for key 'Cc1nc(Nc2ccc(F)cc2)nc(N2CCc3ccccc3C2C)c1C_22_RDKFingerprint_True_True': 14\n",
      "Length of list for key 'CN(C)CCC=C1c2ccccc2C(C)(C)c2ccccc21_22_RDKFingerprint_True_True': 14\n",
      "Length of list for key 'Cc1c(O)cccc1C(=O)N[C@@H](CSc1ccccc1)[C@H](O)CN1C[C@H]2CCCC[C@H]2C[C@H]1C(=O)NC(C)(C)C_22_RDKFingerprint_True_True': 14\n",
      "Length of list for key 'COC(=O)C1=C(C)NC(C)=C(C(=O)OCCN(C)Cc2ccccc2)C1c1cccc([N+](=O)[O-])c1.Cl_22_RDKFingerprint_True_True': 14\n",
      "Length of list for key 'Cc1cn(-c2cc(NC(=O)c3ccc(C)c(Nc4nccc(-c5cccnc5)n4)c3)cc(C(F)(F)F)c2)cn1_22_RDKFingerprint_True_True': 14\n",
      "Length of list for key 'C=CC(=O)Nc1cccc(Oc2nc(Nc3ccc(N4CCN(C)CC4)cc3)nc3ccsc23)c1_22_RDKFingerprint_True_True': 14\n",
      "Length of list for key 'CC(C)N1CCN(c2ccc(OC[C@H]3CO[C@](Cn4cncn4)(c4ccc(Cl)cc4Cl)O3)cc2)CC1_22_RDKFingerprint_True_True': 14\n",
      "Length of list for key 'CSc1ccc2c(c1)N(CCC1CCCCN1C)c1ccccc1S2_22_RDKFingerprint_True_True': 14\n",
      "Length of list for key 'CN1CCN(CC/C=C2/c3ccccc3Sc3ccc(S(=O)(=O)N(C)C)cc32)CC1_22_RDKFingerprint_True_True': 14\n",
      "Length of list for key 'CCN(CC)CCOc1ccc2c(c1)C(=O)c1cc(OCCN(CC)CC)ccc1-2_22_RDKFingerprint_True_True': 14\n",
      "Length of list for key 'CN(C)CCCN1c2ccccc2Sc2ccc(C(F)(F)F)cc21.Cl_22_RDKFingerprint_True_True': 14\n",
      "Length of list for key 'CCN(CC)Cc1cc(Nc2ccnc3cc(Cl)ccc23)ccc1O_22_RDKFingerprint_True_False': 14\n",
      "Length of list for key 'C[C@@H](Oc1cc(-c2cnn(C3CCNCC3)c2)cnc1N)c1c(Cl)ccc(F)c1Cl_22_RDKFingerprint_True_False': 14\n",
      "Length of list for key 'CN1CCc2c(c3ccccc3n2Cc2ccccc2)C1_22_RDKFingerprint_True_False': 14\n",
      "Length of list for key 'COC(=O)C[C@@](O)(CCC(C)(C)O)C(=O)O[C@@H]1C(OC)=C[C@]23CCCN2CCc2cc4c(cc2[C@@H]13)OCO4_22_RDKFingerprint_True_False': 22\n",
      "Length of list for key 'OCCN1CCN(CCCN2c3ccccc3Sc3ccc(C(F)(F)F)cc32)CC1_22_RDKFingerprint_True_False': 14\n",
      "Length of list for key 'CCCCCCCCc1ccc(CCC(N)(CO)CO)cc1_22_RDKFingerprint_True_False': 14\n",
      "Length of list for key 'CC(NCCC(c1ccccc1)c1ccccc1)c1ccccc1_22_RDKFingerprint_True_False': 14\n",
      "Length of list for key 'CCCCc1oc2ccc(NS(C)(=O)=O)cc2c1C(=O)c1ccc(OCCCN(CCCC)CCCC)cc1.Cl_22_RDKFingerprint_True_False': 14\n",
      "Length of list for key 'OCCN1CCN(CCCN2c3ccccc3Sc3ccc(Cl)cc32)CC1_22_RDKFingerprint_True_False': 14\n",
      "Length of list for key 'CC(C)COc1ccc(CNC(=O)N(Cc2ccc(F)cc2)C2CCN(C)CC2)cc1_22_RDKFingerprint_True_False': 14\n",
      "Length of list for key 'CN1CCN(CCCN2c3ccccc3Sc3ccc(Cl)cc32)CC1.O=S(=O)(O)CCS(=O)(=O)O_22_RDKFingerprint_True_False': 14\n",
      "Length of list for key 'O=C(c1ccc(OCCN2CCCCC2)cc1)c1c(-c2ccc(O)cc2)sc2cc(O)ccc12_22_RDKFingerprint_True_False': 14\n",
      "Length of list for key 'CCN1CCN(Cc2ccc(Nc3ncc(F)c(-c4cc(F)c5nc(C)n(C(C)C)c5c4)n3)nc2)CC1_22_RDKFingerprint_True_False': 14\n",
      "Length of list for key 'O[C@@H](c1cc(C(F)(F)F)nc2c(C(F)(F)F)cccc12)[C@H]1CCCCN1_22_RDKFingerprint_True_False': 14\n",
      "Length of list for key 'Cc1nc(Nc2ccc(F)cc2)nc(N2CCc3ccccc3C2C)c1C_22_RDKFingerprint_True_False': 14\n",
      "Length of list for key 'CN(C)CCC=C1c2ccccc2C(C)(C)c2ccccc21_22_RDKFingerprint_True_False': 14\n",
      "Length of list for key 'Cc1c(O)cccc1C(=O)N[C@@H](CSc1ccccc1)[C@H](O)CN1C[C@H]2CCCC[C@H]2C[C@H]1C(=O)NC(C)(C)C_22_RDKFingerprint_True_False': 14\n",
      "Length of list for key 'COC(=O)C1=C(C)NC(C)=C(C(=O)OCCN(C)Cc2ccccc2)C1c1cccc([N+](=O)[O-])c1.Cl_22_RDKFingerprint_True_False': 14\n",
      "Length of list for key 'Cc1cn(-c2cc(NC(=O)c3ccc(C)c(Nc4nccc(-c5cccnc5)n4)c3)cc(C(F)(F)F)c2)cn1_22_RDKFingerprint_True_False': 14\n",
      "Length of list for key 'C=CC(=O)Nc1cccc(Oc2nc(Nc3ccc(N4CCN(C)CC4)cc3)nc3ccsc23)c1_22_RDKFingerprint_True_False': 14\n",
      "Length of list for key 'CC(C)N1CCN(c2ccc(OC[C@H]3CO[C@](Cn4cncn4)(c4ccc(Cl)cc4Cl)O3)cc2)CC1_22_RDKFingerprint_True_False': 14\n",
      "Length of list for key 'CSc1ccc2c(c1)N(CCC1CCCCN1C)c1ccccc1S2_22_RDKFingerprint_True_False': 14\n",
      "Length of list for key 'CN1CCN(CC/C=C2/c3ccccc3Sc3ccc(S(=O)(=O)N(C)C)cc32)CC1_22_RDKFingerprint_True_False': 14\n",
      "Length of list for key 'CCN(CC)CCOc1ccc2c(c1)C(=O)c1cc(OCCN(CC)CC)ccc1-2_22_RDKFingerprint_True_False': 14\n",
      "Length of list for key 'CN(C)CCCN1c2ccccc2Sc2ccc(C(F)(F)F)cc21.Cl_22_RDKFingerprint_True_False': 14\n",
      "Length of list for key 'CCN(CC)Cc1cc(Nc2ccnc3cc(Cl)ccc23)ccc1O_23_RDKFingerprint_True_True': 14\n",
      "Length of list for key 'C[C@@H](Oc1cc(-c2cnn(C3CCNCC3)c2)cnc1N)c1c(Cl)ccc(F)c1Cl_23_RDKFingerprint_True_True': 14\n",
      "Length of list for key 'CN1CCc2c(c3ccccc3n2Cc2ccccc2)C1_23_RDKFingerprint_True_True': 14\n",
      "Length of list for key 'COC(=O)C[C@@](O)(CCC(C)(C)O)C(=O)O[C@@H]1C(OC)=C[C@]23CCCN2CCc2cc4c(cc2[C@@H]13)OCO4_23_RDKFingerprint_True_True': 22\n",
      "Length of list for key 'OCCN1CCN(CCCN2c3ccccc3Sc3ccc(C(F)(F)F)cc32)CC1_23_RDKFingerprint_True_True': 14\n",
      "Length of list for key 'CCCCCCCCc1ccc(CCC(N)(CO)CO)cc1_23_RDKFingerprint_True_True': 14\n",
      "Length of list for key 'CC(NCCC(c1ccccc1)c1ccccc1)c1ccccc1_23_RDKFingerprint_True_True': 14\n",
      "Length of list for key 'CCCCc1oc2ccc(NS(C)(=O)=O)cc2c1C(=O)c1ccc(OCCCN(CCCC)CCCC)cc1.Cl_23_RDKFingerprint_True_True': 14\n",
      "Length of list for key 'OCCN1CCN(CCCN2c3ccccc3Sc3ccc(Cl)cc32)CC1_23_RDKFingerprint_True_True': 14\n",
      "Length of list for key 'CC(C)COc1ccc(CNC(=O)N(Cc2ccc(F)cc2)C2CCN(C)CC2)cc1_23_RDKFingerprint_True_True': 14\n",
      "Length of list for key 'CN1CCN(CCCN2c3ccccc3Sc3ccc(Cl)cc32)CC1.O=S(=O)(O)CCS(=O)(=O)O_23_RDKFingerprint_True_True': 14\n",
      "Length of list for key 'O=C(c1ccc(OCCN2CCCCC2)cc1)c1c(-c2ccc(O)cc2)sc2cc(O)ccc12_23_RDKFingerprint_True_True': 14\n",
      "Length of list for key 'CCN1CCN(Cc2ccc(Nc3ncc(F)c(-c4cc(F)c5nc(C)n(C(C)C)c5c4)n3)nc2)CC1_23_RDKFingerprint_True_True': 14\n",
      "Length of list for key 'O[C@@H](c1cc(C(F)(F)F)nc2c(C(F)(F)F)cccc12)[C@H]1CCCCN1_23_RDKFingerprint_True_True': 14\n",
      "Length of list for key 'Cc1nc(Nc2ccc(F)cc2)nc(N2CCc3ccccc3C2C)c1C_23_RDKFingerprint_True_True': 14\n",
      "Length of list for key 'CN(C)CCC=C1c2ccccc2C(C)(C)c2ccccc21_23_RDKFingerprint_True_True': 14\n",
      "Length of list for key 'Cc1c(O)cccc1C(=O)N[C@@H](CSc1ccccc1)[C@H](O)CN1C[C@H]2CCCC[C@H]2C[C@H]1C(=O)NC(C)(C)C_23_RDKFingerprint_True_True': 14\n",
      "Length of list for key 'COC(=O)C1=C(C)NC(C)=C(C(=O)OCCN(C)Cc2ccccc2)C1c1cccc([N+](=O)[O-])c1.Cl_23_RDKFingerprint_True_True': 14\n",
      "Length of list for key 'Cc1cn(-c2cc(NC(=O)c3ccc(C)c(Nc4nccc(-c5cccnc5)n4)c3)cc(C(F)(F)F)c2)cn1_23_RDKFingerprint_True_True': 14\n",
      "Length of list for key 'C=CC(=O)Nc1cccc(Oc2nc(Nc3ccc(N4CCN(C)CC4)cc3)nc3ccsc23)c1_23_RDKFingerprint_True_True': 14\n",
      "Length of list for key 'CC(C)N1CCN(c2ccc(OC[C@H]3CO[C@](Cn4cncn4)(c4ccc(Cl)cc4Cl)O3)cc2)CC1_23_RDKFingerprint_True_True': 14\n",
      "Length of list for key 'CSc1ccc2c(c1)N(CCC1CCCCN1C)c1ccccc1S2_23_RDKFingerprint_True_True': 14\n",
      "Length of list for key 'CN1CCN(CC/C=C2/c3ccccc3Sc3ccc(S(=O)(=O)N(C)C)cc32)CC1_23_RDKFingerprint_True_True': 14\n",
      "Length of list for key 'CCN(CC)CCOc1ccc2c(c1)C(=O)c1cc(OCCN(CC)CC)ccc1-2_23_RDKFingerprint_True_True': 14\n",
      "Length of list for key 'CN(C)CCCN1c2ccccc2Sc2ccc(C(F)(F)F)cc21.Cl_23_RDKFingerprint_True_True': 14\n",
      "Length of list for key 'CCN(CC)Cc1cc(Nc2ccnc3cc(Cl)ccc23)ccc1O_23_RDKFingerprint_True_False': 14\n",
      "Length of list for key 'C[C@@H](Oc1cc(-c2cnn(C3CCNCC3)c2)cnc1N)c1c(Cl)ccc(F)c1Cl_23_RDKFingerprint_True_False': 14\n",
      "Length of list for key 'CN1CCc2c(c3ccccc3n2Cc2ccccc2)C1_23_RDKFingerprint_True_False': 14\n",
      "Length of list for key 'COC(=O)C[C@@](O)(CCC(C)(C)O)C(=O)O[C@@H]1C(OC)=C[C@]23CCCN2CCc2cc4c(cc2[C@@H]13)OCO4_23_RDKFingerprint_True_False': 22\n",
      "Length of list for key 'OCCN1CCN(CCCN2c3ccccc3Sc3ccc(C(F)(F)F)cc32)CC1_23_RDKFingerprint_True_False': 14\n",
      "Length of list for key 'CCCCCCCCc1ccc(CCC(N)(CO)CO)cc1_23_RDKFingerprint_True_False': 14\n",
      "Length of list for key 'CC(NCCC(c1ccccc1)c1ccccc1)c1ccccc1_23_RDKFingerprint_True_False': 14\n",
      "Length of list for key 'CCCCc1oc2ccc(NS(C)(=O)=O)cc2c1C(=O)c1ccc(OCCCN(CCCC)CCCC)cc1.Cl_23_RDKFingerprint_True_False': 14\n",
      "Length of list for key 'OCCN1CCN(CCCN2c3ccccc3Sc3ccc(Cl)cc32)CC1_23_RDKFingerprint_True_False': 14\n",
      "Length of list for key 'CC(C)COc1ccc(CNC(=O)N(Cc2ccc(F)cc2)C2CCN(C)CC2)cc1_23_RDKFingerprint_True_False': 14\n",
      "Length of list for key 'CN1CCN(CCCN2c3ccccc3Sc3ccc(Cl)cc32)CC1.O=S(=O)(O)CCS(=O)(=O)O_23_RDKFingerprint_True_False': 14\n",
      "Length of list for key 'O=C(c1ccc(OCCN2CCCCC2)cc1)c1c(-c2ccc(O)cc2)sc2cc(O)ccc12_23_RDKFingerprint_True_False': 14\n",
      "Length of list for key 'CCN1CCN(Cc2ccc(Nc3ncc(F)c(-c4cc(F)c5nc(C)n(C(C)C)c5c4)n3)nc2)CC1_23_RDKFingerprint_True_False': 14\n",
      "Length of list for key 'O[C@@H](c1cc(C(F)(F)F)nc2c(C(F)(F)F)cccc12)[C@H]1CCCCN1_23_RDKFingerprint_True_False': 14\n",
      "Length of list for key 'Cc1nc(Nc2ccc(F)cc2)nc(N2CCc3ccccc3C2C)c1C_23_RDKFingerprint_True_False': 14\n",
      "Length of list for key 'CN(C)CCC=C1c2ccccc2C(C)(C)c2ccccc21_23_RDKFingerprint_True_False': 14\n",
      "Length of list for key 'Cc1c(O)cccc1C(=O)N[C@@H](CSc1ccccc1)[C@H](O)CN1C[C@H]2CCCC[C@H]2C[C@H]1C(=O)NC(C)(C)C_23_RDKFingerprint_True_False': 14\n",
      "Length of list for key 'COC(=O)C1=C(C)NC(C)=C(C(=O)OCCN(C)Cc2ccccc2)C1c1cccc([N+](=O)[O-])c1.Cl_23_RDKFingerprint_True_False': 14\n",
      "Length of list for key 'Cc1cn(-c2cc(NC(=O)c3ccc(C)c(Nc4nccc(-c5cccnc5)n4)c3)cc(C(F)(F)F)c2)cn1_23_RDKFingerprint_True_False': 14\n",
      "Length of list for key 'C=CC(=O)Nc1cccc(Oc2nc(Nc3ccc(N4CCN(C)CC4)cc3)nc3ccsc23)c1_23_RDKFingerprint_True_False': 14\n",
      "Length of list for key 'CC(C)N1CCN(c2ccc(OC[C@H]3CO[C@](Cn4cncn4)(c4ccc(Cl)cc4Cl)O3)cc2)CC1_23_RDKFingerprint_True_False': 14\n",
      "Length of list for key 'CSc1ccc2c(c1)N(CCC1CCCCN1C)c1ccccc1S2_23_RDKFingerprint_True_False': 14\n",
      "Length of list for key 'CN1CCN(CC/C=C2/c3ccccc3Sc3ccc(S(=O)(=O)N(C)C)cc32)CC1_23_RDKFingerprint_True_False': 14\n",
      "Length of list for key 'CCN(CC)CCOc1ccc2c(c1)C(=O)c1cc(OCCN(CC)CC)ccc1-2_23_RDKFingerprint_True_False': 14\n",
      "Length of list for key 'CN(C)CCCN1c2ccccc2Sc2ccc(C(F)(F)F)cc21.Cl_23_RDKFingerprint_True_False': 14\n",
      "Length of list for key 'CCN(CC)Cc1cc(Nc2ccnc3cc(Cl)ccc23)ccc1O_24_RDKFingerprint_True_True': 14\n",
      "Length of list for key 'C[C@@H](Oc1cc(-c2cnn(C3CCNCC3)c2)cnc1N)c1c(Cl)ccc(F)c1Cl_24_RDKFingerprint_True_True': 14\n",
      "Length of list for key 'CN1CCc2c(c3ccccc3n2Cc2ccccc2)C1_24_RDKFingerprint_True_True': 14\n",
      "Length of list for key 'COC(=O)C[C@@](O)(CCC(C)(C)O)C(=O)O[C@@H]1C(OC)=C[C@]23CCCN2CCc2cc4c(cc2[C@@H]13)OCO4_24_RDKFingerprint_True_True': 22\n",
      "Length of list for key 'OCCN1CCN(CCCN2c3ccccc3Sc3ccc(C(F)(F)F)cc32)CC1_24_RDKFingerprint_True_True': 14\n",
      "Length of list for key 'CCCCCCCCc1ccc(CCC(N)(CO)CO)cc1_24_RDKFingerprint_True_True': 14\n",
      "Length of list for key 'CC(NCCC(c1ccccc1)c1ccccc1)c1ccccc1_24_RDKFingerprint_True_True': 14\n",
      "Length of list for key 'CCCCc1oc2ccc(NS(C)(=O)=O)cc2c1C(=O)c1ccc(OCCCN(CCCC)CCCC)cc1.Cl_24_RDKFingerprint_True_True': 14\n",
      "Length of list for key 'OCCN1CCN(CCCN2c3ccccc3Sc3ccc(Cl)cc32)CC1_24_RDKFingerprint_True_True': 14\n",
      "Length of list for key 'CC(C)COc1ccc(CNC(=O)N(Cc2ccc(F)cc2)C2CCN(C)CC2)cc1_24_RDKFingerprint_True_True': 14\n",
      "Length of list for key 'CN1CCN(CCCN2c3ccccc3Sc3ccc(Cl)cc32)CC1.O=S(=O)(O)CCS(=O)(=O)O_24_RDKFingerprint_True_True': 14\n",
      "Length of list for key 'O=C(c1ccc(OCCN2CCCCC2)cc1)c1c(-c2ccc(O)cc2)sc2cc(O)ccc12_24_RDKFingerprint_True_True': 14\n",
      "Length of list for key 'CCN1CCN(Cc2ccc(Nc3ncc(F)c(-c4cc(F)c5nc(C)n(C(C)C)c5c4)n3)nc2)CC1_24_RDKFingerprint_True_True': 14\n",
      "Length of list for key 'O[C@@H](c1cc(C(F)(F)F)nc2c(C(F)(F)F)cccc12)[C@H]1CCCCN1_24_RDKFingerprint_True_True': 14\n",
      "Length of list for key 'Cc1nc(Nc2ccc(F)cc2)nc(N2CCc3ccccc3C2C)c1C_24_RDKFingerprint_True_True': 14\n",
      "Length of list for key 'CN(C)CCC=C1c2ccccc2C(C)(C)c2ccccc21_24_RDKFingerprint_True_True': 14\n",
      "Length of list for key 'Cc1c(O)cccc1C(=O)N[C@@H](CSc1ccccc1)[C@H](O)CN1C[C@H]2CCCC[C@H]2C[C@H]1C(=O)NC(C)(C)C_24_RDKFingerprint_True_True': 14\n",
      "Length of list for key 'COC(=O)C1=C(C)NC(C)=C(C(=O)OCCN(C)Cc2ccccc2)C1c1cccc([N+](=O)[O-])c1.Cl_24_RDKFingerprint_True_True': 14\n",
      "Length of list for key 'Cc1cn(-c2cc(NC(=O)c3ccc(C)c(Nc4nccc(-c5cccnc5)n4)c3)cc(C(F)(F)F)c2)cn1_24_RDKFingerprint_True_True': 14\n",
      "Length of list for key 'C=CC(=O)Nc1cccc(Oc2nc(Nc3ccc(N4CCN(C)CC4)cc3)nc3ccsc23)c1_24_RDKFingerprint_True_True': 14\n",
      "Length of list for key 'CC(C)N1CCN(c2ccc(OC[C@H]3CO[C@](Cn4cncn4)(c4ccc(Cl)cc4Cl)O3)cc2)CC1_24_RDKFingerprint_True_True': 14\n",
      "Length of list for key 'CSc1ccc2c(c1)N(CCC1CCCCN1C)c1ccccc1S2_24_RDKFingerprint_True_True': 14\n",
      "Length of list for key 'CN1CCN(CC/C=C2/c3ccccc3Sc3ccc(S(=O)(=O)N(C)C)cc32)CC1_24_RDKFingerprint_True_True': 14\n",
      "Length of list for key 'CCN(CC)CCOc1ccc2c(c1)C(=O)c1cc(OCCN(CC)CC)ccc1-2_24_RDKFingerprint_True_True': 14\n",
      "Length of list for key 'CN(C)CCCN1c2ccccc2Sc2ccc(C(F)(F)F)cc21.Cl_24_RDKFingerprint_True_True': 14\n",
      "Length of list for key 'CCN(CC)Cc1cc(Nc2ccnc3cc(Cl)ccc23)ccc1O_24_RDKFingerprint_True_False': 14\n",
      "Length of list for key 'C[C@@H](Oc1cc(-c2cnn(C3CCNCC3)c2)cnc1N)c1c(Cl)ccc(F)c1Cl_24_RDKFingerprint_True_False': 14\n",
      "Length of list for key 'CN1CCc2c(c3ccccc3n2Cc2ccccc2)C1_24_RDKFingerprint_True_False': 14\n",
      "Length of list for key 'COC(=O)C[C@@](O)(CCC(C)(C)O)C(=O)O[C@@H]1C(OC)=C[C@]23CCCN2CCc2cc4c(cc2[C@@H]13)OCO4_24_RDKFingerprint_True_False': 22\n",
      "Length of list for key 'OCCN1CCN(CCCN2c3ccccc3Sc3ccc(C(F)(F)F)cc32)CC1_24_RDKFingerprint_True_False': 14\n",
      "Length of list for key 'CCCCCCCCc1ccc(CCC(N)(CO)CO)cc1_24_RDKFingerprint_True_False': 14\n",
      "Length of list for key 'CC(NCCC(c1ccccc1)c1ccccc1)c1ccccc1_24_RDKFingerprint_True_False': 14\n",
      "Length of list for key 'CCCCc1oc2ccc(NS(C)(=O)=O)cc2c1C(=O)c1ccc(OCCCN(CCCC)CCCC)cc1.Cl_24_RDKFingerprint_True_False': 14\n",
      "Length of list for key 'OCCN1CCN(CCCN2c3ccccc3Sc3ccc(Cl)cc32)CC1_24_RDKFingerprint_True_False': 14\n",
      "Length of list for key 'CC(C)COc1ccc(CNC(=O)N(Cc2ccc(F)cc2)C2CCN(C)CC2)cc1_24_RDKFingerprint_True_False': 14\n",
      "Length of list for key 'CN1CCN(CCCN2c3ccccc3Sc3ccc(Cl)cc32)CC1.O=S(=O)(O)CCS(=O)(=O)O_24_RDKFingerprint_True_False': 14\n",
      "Length of list for key 'O=C(c1ccc(OCCN2CCCCC2)cc1)c1c(-c2ccc(O)cc2)sc2cc(O)ccc12_24_RDKFingerprint_True_False': 14\n",
      "Length of list for key 'CCN1CCN(Cc2ccc(Nc3ncc(F)c(-c4cc(F)c5nc(C)n(C(C)C)c5c4)n3)nc2)CC1_24_RDKFingerprint_True_False': 14\n",
      "Length of list for key 'O[C@@H](c1cc(C(F)(F)F)nc2c(C(F)(F)F)cccc12)[C@H]1CCCCN1_24_RDKFingerprint_True_False': 14\n",
      "Length of list for key 'Cc1nc(Nc2ccc(F)cc2)nc(N2CCc3ccccc3C2C)c1C_24_RDKFingerprint_True_False': 14\n",
      "Length of list for key 'CN(C)CCC=C1c2ccccc2C(C)(C)c2ccccc21_24_RDKFingerprint_True_False': 14\n",
      "Length of list for key 'Cc1c(O)cccc1C(=O)N[C@@H](CSc1ccccc1)[C@H](O)CN1C[C@H]2CCCC[C@H]2C[C@H]1C(=O)NC(C)(C)C_24_RDKFingerprint_True_False': 14\n",
      "Length of list for key 'COC(=O)C1=C(C)NC(C)=C(C(=O)OCCN(C)Cc2ccccc2)C1c1cccc([N+](=O)[O-])c1.Cl_24_RDKFingerprint_True_False': 14\n",
      "Length of list for key 'Cc1cn(-c2cc(NC(=O)c3ccc(C)c(Nc4nccc(-c5cccnc5)n4)c3)cc(C(F)(F)F)c2)cn1_24_RDKFingerprint_True_False': 14\n",
      "Length of list for key 'C=CC(=O)Nc1cccc(Oc2nc(Nc3ccc(N4CCN(C)CC4)cc3)nc3ccsc23)c1_24_RDKFingerprint_True_False': 14\n",
      "Length of list for key 'CC(C)N1CCN(c2ccc(OC[C@H]3CO[C@](Cn4cncn4)(c4ccc(Cl)cc4Cl)O3)cc2)CC1_24_RDKFingerprint_True_False': 14\n",
      "Length of list for key 'CSc1ccc2c(c1)N(CCC1CCCCN1C)c1ccccc1S2_24_RDKFingerprint_True_False': 14\n",
      "Length of list for key 'CN1CCN(CC/C=C2/c3ccccc3Sc3ccc(S(=O)(=O)N(C)C)cc32)CC1_24_RDKFingerprint_True_False': 14\n",
      "Length of list for key 'CCN(CC)CCOc1ccc2c(c1)C(=O)c1cc(OCCN(CC)CC)ccc1-2_24_RDKFingerprint_True_False': 14\n",
      "Length of list for key 'CN(C)CCCN1c2ccccc2Sc2ccc(C(F)(F)F)cc21.Cl_24_RDKFingerprint_True_False': 14\n",
      "Length of list for key 'CCN(CC)Cc1cc(Nc2ccnc3cc(Cl)ccc23)ccc1O_25_RDKFingerprint_True_True': 14\n",
      "Length of list for key 'C[C@@H](Oc1cc(-c2cnn(C3CCNCC3)c2)cnc1N)c1c(Cl)ccc(F)c1Cl_25_RDKFingerprint_True_True': 14\n",
      "Length of list for key 'CN1CCc2c(c3ccccc3n2Cc2ccccc2)C1_25_RDKFingerprint_True_True': 14\n",
      "Length of list for key 'COC(=O)C[C@@](O)(CCC(C)(C)O)C(=O)O[C@@H]1C(OC)=C[C@]23CCCN2CCc2cc4c(cc2[C@@H]13)OCO4_25_RDKFingerprint_True_True': 22\n",
      "Length of list for key 'OCCN1CCN(CCCN2c3ccccc3Sc3ccc(C(F)(F)F)cc32)CC1_25_RDKFingerprint_True_True': 14\n",
      "Length of list for key 'CCCCCCCCc1ccc(CCC(N)(CO)CO)cc1_25_RDKFingerprint_True_True': 14\n",
      "Length of list for key 'CC(NCCC(c1ccccc1)c1ccccc1)c1ccccc1_25_RDKFingerprint_True_True': 14\n",
      "Length of list for key 'CCCCc1oc2ccc(NS(C)(=O)=O)cc2c1C(=O)c1ccc(OCCCN(CCCC)CCCC)cc1.Cl_25_RDKFingerprint_True_True': 14\n",
      "Length of list for key 'OCCN1CCN(CCCN2c3ccccc3Sc3ccc(Cl)cc32)CC1_25_RDKFingerprint_True_True': 14\n",
      "Length of list for key 'CC(C)COc1ccc(CNC(=O)N(Cc2ccc(F)cc2)C2CCN(C)CC2)cc1_25_RDKFingerprint_True_True': 14\n",
      "Length of list for key 'CN1CCN(CCCN2c3ccccc3Sc3ccc(Cl)cc32)CC1.O=S(=O)(O)CCS(=O)(=O)O_25_RDKFingerprint_True_True': 14\n",
      "Length of list for key 'O=C(c1ccc(OCCN2CCCCC2)cc1)c1c(-c2ccc(O)cc2)sc2cc(O)ccc12_25_RDKFingerprint_True_True': 14\n",
      "Length of list for key 'CCN1CCN(Cc2ccc(Nc3ncc(F)c(-c4cc(F)c5nc(C)n(C(C)C)c5c4)n3)nc2)CC1_25_RDKFingerprint_True_True': 14\n",
      "Length of list for key 'O[C@@H](c1cc(C(F)(F)F)nc2c(C(F)(F)F)cccc12)[C@H]1CCCCN1_25_RDKFingerprint_True_True': 14\n",
      "Length of list for key 'Cc1nc(Nc2ccc(F)cc2)nc(N2CCc3ccccc3C2C)c1C_25_RDKFingerprint_True_True': 14\n",
      "Length of list for key 'CN(C)CCC=C1c2ccccc2C(C)(C)c2ccccc21_25_RDKFingerprint_True_True': 14\n",
      "Length of list for key 'Cc1c(O)cccc1C(=O)N[C@@H](CSc1ccccc1)[C@H](O)CN1C[C@H]2CCCC[C@H]2C[C@H]1C(=O)NC(C)(C)C_25_RDKFingerprint_True_True': 14\n",
      "Length of list for key 'COC(=O)C1=C(C)NC(C)=C(C(=O)OCCN(C)Cc2ccccc2)C1c1cccc([N+](=O)[O-])c1.Cl_25_RDKFingerprint_True_True': 14\n",
      "Length of list for key 'Cc1cn(-c2cc(NC(=O)c3ccc(C)c(Nc4nccc(-c5cccnc5)n4)c3)cc(C(F)(F)F)c2)cn1_25_RDKFingerprint_True_True': 14\n",
      "Length of list for key 'C=CC(=O)Nc1cccc(Oc2nc(Nc3ccc(N4CCN(C)CC4)cc3)nc3ccsc23)c1_25_RDKFingerprint_True_True': 14\n",
      "Length of list for key 'CC(C)N1CCN(c2ccc(OC[C@H]3CO[C@](Cn4cncn4)(c4ccc(Cl)cc4Cl)O3)cc2)CC1_25_RDKFingerprint_True_True': 14\n",
      "Length of list for key 'CSc1ccc2c(c1)N(CCC1CCCCN1C)c1ccccc1S2_25_RDKFingerprint_True_True': 14\n",
      "Length of list for key 'CN1CCN(CC/C=C2/c3ccccc3Sc3ccc(S(=O)(=O)N(C)C)cc32)CC1_25_RDKFingerprint_True_True': 14\n",
      "Length of list for key 'CCN(CC)CCOc1ccc2c(c1)C(=O)c1cc(OCCN(CC)CC)ccc1-2_25_RDKFingerprint_True_True': 14\n",
      "Length of list for key 'CN(C)CCCN1c2ccccc2Sc2ccc(C(F)(F)F)cc21.Cl_25_RDKFingerprint_True_True': 14\n",
      "Length of list for key 'CCN(CC)Cc1cc(Nc2ccnc3cc(Cl)ccc23)ccc1O_25_RDKFingerprint_True_False': 14\n",
      "Length of list for key 'C[C@@H](Oc1cc(-c2cnn(C3CCNCC3)c2)cnc1N)c1c(Cl)ccc(F)c1Cl_25_RDKFingerprint_True_False': 14\n",
      "Length of list for key 'CN1CCc2c(c3ccccc3n2Cc2ccccc2)C1_25_RDKFingerprint_True_False': 14\n",
      "Length of list for key 'COC(=O)C[C@@](O)(CCC(C)(C)O)C(=O)O[C@@H]1C(OC)=C[C@]23CCCN2CCc2cc4c(cc2[C@@H]13)OCO4_25_RDKFingerprint_True_False': 22\n",
      "Length of list for key 'OCCN1CCN(CCCN2c3ccccc3Sc3ccc(C(F)(F)F)cc32)CC1_25_RDKFingerprint_True_False': 14\n",
      "Length of list for key 'CCCCCCCCc1ccc(CCC(N)(CO)CO)cc1_25_RDKFingerprint_True_False': 14\n",
      "Length of list for key 'CC(NCCC(c1ccccc1)c1ccccc1)c1ccccc1_25_RDKFingerprint_True_False': 14\n",
      "Length of list for key 'CCCCc1oc2ccc(NS(C)(=O)=O)cc2c1C(=O)c1ccc(OCCCN(CCCC)CCCC)cc1.Cl_25_RDKFingerprint_True_False': 14\n",
      "Length of list for key 'OCCN1CCN(CCCN2c3ccccc3Sc3ccc(Cl)cc32)CC1_25_RDKFingerprint_True_False': 14\n",
      "Length of list for key 'CC(C)COc1ccc(CNC(=O)N(Cc2ccc(F)cc2)C2CCN(C)CC2)cc1_25_RDKFingerprint_True_False': 14\n",
      "Length of list for key 'CN1CCN(CCCN2c3ccccc3Sc3ccc(Cl)cc32)CC1.O=S(=O)(O)CCS(=O)(=O)O_25_RDKFingerprint_True_False': 14\n",
      "Length of list for key 'O=C(c1ccc(OCCN2CCCCC2)cc1)c1c(-c2ccc(O)cc2)sc2cc(O)ccc12_25_RDKFingerprint_True_False': 14\n",
      "Length of list for key 'CCN1CCN(Cc2ccc(Nc3ncc(F)c(-c4cc(F)c5nc(C)n(C(C)C)c5c4)n3)nc2)CC1_25_RDKFingerprint_True_False': 14\n",
      "Length of list for key 'O[C@@H](c1cc(C(F)(F)F)nc2c(C(F)(F)F)cccc12)[C@H]1CCCCN1_25_RDKFingerprint_True_False': 14\n",
      "Length of list for key 'Cc1nc(Nc2ccc(F)cc2)nc(N2CCc3ccccc3C2C)c1C_25_RDKFingerprint_True_False': 14\n",
      "Length of list for key 'CN(C)CCC=C1c2ccccc2C(C)(C)c2ccccc21_25_RDKFingerprint_True_False': 14\n",
      "Length of list for key 'Cc1c(O)cccc1C(=O)N[C@@H](CSc1ccccc1)[C@H](O)CN1C[C@H]2CCCC[C@H]2C[C@H]1C(=O)NC(C)(C)C_25_RDKFingerprint_True_False': 14\n",
      "Length of list for key 'COC(=O)C1=C(C)NC(C)=C(C(=O)OCCN(C)Cc2ccccc2)C1c1cccc([N+](=O)[O-])c1.Cl_25_RDKFingerprint_True_False': 14\n",
      "Length of list for key 'Cc1cn(-c2cc(NC(=O)c3ccc(C)c(Nc4nccc(-c5cccnc5)n4)c3)cc(C(F)(F)F)c2)cn1_25_RDKFingerprint_True_False': 14\n",
      "Length of list for key 'C=CC(=O)Nc1cccc(Oc2nc(Nc3ccc(N4CCN(C)CC4)cc3)nc3ccsc23)c1_25_RDKFingerprint_True_False': 14\n",
      "Length of list for key 'CC(C)N1CCN(c2ccc(OC[C@H]3CO[C@](Cn4cncn4)(c4ccc(Cl)cc4Cl)O3)cc2)CC1_25_RDKFingerprint_True_False': 14\n",
      "Length of list for key 'CSc1ccc2c(c1)N(CCC1CCCCN1C)c1ccccc1S2_25_RDKFingerprint_True_False': 14\n",
      "Length of list for key 'CN1CCN(CC/C=C2/c3ccccc3Sc3ccc(S(=O)(=O)N(C)C)cc32)CC1_25_RDKFingerprint_True_False': 14\n",
      "Length of list for key 'CCN(CC)CCOc1ccc2c(c1)C(=O)c1cc(OCCN(CC)CC)ccc1-2_25_RDKFingerprint_True_False': 14\n",
      "Length of list for key 'CN(C)CCCN1c2ccccc2Sc2ccc(C(F)(F)F)cc21.Cl_25_RDKFingerprint_True_False': 14\n",
      "Length of list for key 'CCN(CC)Cc1cc(Nc2ccnc3cc(Cl)ccc23)ccc1O_26_RDKFingerprint_True_True': 14\n",
      "Length of list for key 'C[C@@H](Oc1cc(-c2cnn(C3CCNCC3)c2)cnc1N)c1c(Cl)ccc(F)c1Cl_26_RDKFingerprint_True_True': 14\n",
      "Length of list for key 'CN1CCc2c(c3ccccc3n2Cc2ccccc2)C1_26_RDKFingerprint_True_True': 14\n",
      "Length of list for key 'COC(=O)C[C@@](O)(CCC(C)(C)O)C(=O)O[C@@H]1C(OC)=C[C@]23CCCN2CCc2cc4c(cc2[C@@H]13)OCO4_26_RDKFingerprint_True_True': 22\n",
      "Length of list for key 'OCCN1CCN(CCCN2c3ccccc3Sc3ccc(C(F)(F)F)cc32)CC1_26_RDKFingerprint_True_True': 14\n",
      "Length of list for key 'CCCCCCCCc1ccc(CCC(N)(CO)CO)cc1_26_RDKFingerprint_True_True': 14\n",
      "Length of list for key 'CC(NCCC(c1ccccc1)c1ccccc1)c1ccccc1_26_RDKFingerprint_True_True': 14\n",
      "Length of list for key 'CCCCc1oc2ccc(NS(C)(=O)=O)cc2c1C(=O)c1ccc(OCCCN(CCCC)CCCC)cc1.Cl_26_RDKFingerprint_True_True': 14\n",
      "Length of list for key 'OCCN1CCN(CCCN2c3ccccc3Sc3ccc(Cl)cc32)CC1_26_RDKFingerprint_True_True': 14\n",
      "Length of list for key 'CC(C)COc1ccc(CNC(=O)N(Cc2ccc(F)cc2)C2CCN(C)CC2)cc1_26_RDKFingerprint_True_True': 14\n",
      "Length of list for key 'CN1CCN(CCCN2c3ccccc3Sc3ccc(Cl)cc32)CC1.O=S(=O)(O)CCS(=O)(=O)O_26_RDKFingerprint_True_True': 14\n",
      "Length of list for key 'O=C(c1ccc(OCCN2CCCCC2)cc1)c1c(-c2ccc(O)cc2)sc2cc(O)ccc12_26_RDKFingerprint_True_True': 14\n",
      "Length of list for key 'CCN1CCN(Cc2ccc(Nc3ncc(F)c(-c4cc(F)c5nc(C)n(C(C)C)c5c4)n3)nc2)CC1_26_RDKFingerprint_True_True': 14\n",
      "Length of list for key 'O[C@@H](c1cc(C(F)(F)F)nc2c(C(F)(F)F)cccc12)[C@H]1CCCCN1_26_RDKFingerprint_True_True': 14\n",
      "Length of list for key 'Cc1nc(Nc2ccc(F)cc2)nc(N2CCc3ccccc3C2C)c1C_26_RDKFingerprint_True_True': 14\n",
      "Length of list for key 'CN(C)CCC=C1c2ccccc2C(C)(C)c2ccccc21_26_RDKFingerprint_True_True': 14\n",
      "Length of list for key 'Cc1c(O)cccc1C(=O)N[C@@H](CSc1ccccc1)[C@H](O)CN1C[C@H]2CCCC[C@H]2C[C@H]1C(=O)NC(C)(C)C_26_RDKFingerprint_True_True': 14\n",
      "Length of list for key 'COC(=O)C1=C(C)NC(C)=C(C(=O)OCCN(C)Cc2ccccc2)C1c1cccc([N+](=O)[O-])c1.Cl_26_RDKFingerprint_True_True': 14\n",
      "Length of list for key 'Cc1cn(-c2cc(NC(=O)c3ccc(C)c(Nc4nccc(-c5cccnc5)n4)c3)cc(C(F)(F)F)c2)cn1_26_RDKFingerprint_True_True': 14\n",
      "Length of list for key 'C=CC(=O)Nc1cccc(Oc2nc(Nc3ccc(N4CCN(C)CC4)cc3)nc3ccsc23)c1_26_RDKFingerprint_True_True': 14\n",
      "Length of list for key 'CC(C)N1CCN(c2ccc(OC[C@H]3CO[C@](Cn4cncn4)(c4ccc(Cl)cc4Cl)O3)cc2)CC1_26_RDKFingerprint_True_True': 14\n",
      "Length of list for key 'CSc1ccc2c(c1)N(CCC1CCCCN1C)c1ccccc1S2_26_RDKFingerprint_True_True': 14\n",
      "Length of list for key 'CN1CCN(CC/C=C2/c3ccccc3Sc3ccc(S(=O)(=O)N(C)C)cc32)CC1_26_RDKFingerprint_True_True': 14\n",
      "Length of list for key 'CCN(CC)CCOc1ccc2c(c1)C(=O)c1cc(OCCN(CC)CC)ccc1-2_26_RDKFingerprint_True_True': 14\n",
      "Length of list for key 'CN(C)CCCN1c2ccccc2Sc2ccc(C(F)(F)F)cc21.Cl_26_RDKFingerprint_True_True': 14\n",
      "Length of list for key 'CCN(CC)Cc1cc(Nc2ccnc3cc(Cl)ccc23)ccc1O_26_RDKFingerprint_True_False': 14\n",
      "Length of list for key 'C[C@@H](Oc1cc(-c2cnn(C3CCNCC3)c2)cnc1N)c1c(Cl)ccc(F)c1Cl_26_RDKFingerprint_True_False': 14\n",
      "Length of list for key 'CN1CCc2c(c3ccccc3n2Cc2ccccc2)C1_26_RDKFingerprint_True_False': 14\n",
      "Length of list for key 'COC(=O)C[C@@](O)(CCC(C)(C)O)C(=O)O[C@@H]1C(OC)=C[C@]23CCCN2CCc2cc4c(cc2[C@@H]13)OCO4_26_RDKFingerprint_True_False': 22\n",
      "Length of list for key 'OCCN1CCN(CCCN2c3ccccc3Sc3ccc(C(F)(F)F)cc32)CC1_26_RDKFingerprint_True_False': 14\n",
      "Length of list for key 'CCCCCCCCc1ccc(CCC(N)(CO)CO)cc1_26_RDKFingerprint_True_False': 14\n",
      "Length of list for key 'CC(NCCC(c1ccccc1)c1ccccc1)c1ccccc1_26_RDKFingerprint_True_False': 14\n",
      "Length of list for key 'CCCCc1oc2ccc(NS(C)(=O)=O)cc2c1C(=O)c1ccc(OCCCN(CCCC)CCCC)cc1.Cl_26_RDKFingerprint_True_False': 14\n",
      "Length of list for key 'OCCN1CCN(CCCN2c3ccccc3Sc3ccc(Cl)cc32)CC1_26_RDKFingerprint_True_False': 14\n",
      "Length of list for key 'CC(C)COc1ccc(CNC(=O)N(Cc2ccc(F)cc2)C2CCN(C)CC2)cc1_26_RDKFingerprint_True_False': 14\n",
      "Length of list for key 'CN1CCN(CCCN2c3ccccc3Sc3ccc(Cl)cc32)CC1.O=S(=O)(O)CCS(=O)(=O)O_26_RDKFingerprint_True_False': 14\n",
      "Length of list for key 'O=C(c1ccc(OCCN2CCCCC2)cc1)c1c(-c2ccc(O)cc2)sc2cc(O)ccc12_26_RDKFingerprint_True_False': 14\n",
      "Length of list for key 'CCN1CCN(Cc2ccc(Nc3ncc(F)c(-c4cc(F)c5nc(C)n(C(C)C)c5c4)n3)nc2)CC1_26_RDKFingerprint_True_False': 14\n",
      "Length of list for key 'O[C@@H](c1cc(C(F)(F)F)nc2c(C(F)(F)F)cccc12)[C@H]1CCCCN1_26_RDKFingerprint_True_False': 14\n",
      "Length of list for key 'Cc1nc(Nc2ccc(F)cc2)nc(N2CCc3ccccc3C2C)c1C_26_RDKFingerprint_True_False': 14\n",
      "Length of list for key 'CN(C)CCC=C1c2ccccc2C(C)(C)c2ccccc21_26_RDKFingerprint_True_False': 14\n",
      "Length of list for key 'Cc1c(O)cccc1C(=O)N[C@@H](CSc1ccccc1)[C@H](O)CN1C[C@H]2CCCC[C@H]2C[C@H]1C(=O)NC(C)(C)C_26_RDKFingerprint_True_False': 14\n",
      "Length of list for key 'COC(=O)C1=C(C)NC(C)=C(C(=O)OCCN(C)Cc2ccccc2)C1c1cccc([N+](=O)[O-])c1.Cl_26_RDKFingerprint_True_False': 14\n",
      "Length of list for key 'Cc1cn(-c2cc(NC(=O)c3ccc(C)c(Nc4nccc(-c5cccnc5)n4)c3)cc(C(F)(F)F)c2)cn1_26_RDKFingerprint_True_False': 14\n",
      "Length of list for key 'C=CC(=O)Nc1cccc(Oc2nc(Nc3ccc(N4CCN(C)CC4)cc3)nc3ccsc23)c1_26_RDKFingerprint_True_False': 14\n",
      "Length of list for key 'CC(C)N1CCN(c2ccc(OC[C@H]3CO[C@](Cn4cncn4)(c4ccc(Cl)cc4Cl)O3)cc2)CC1_26_RDKFingerprint_True_False': 14\n",
      "Length of list for key 'CSc1ccc2c(c1)N(CCC1CCCCN1C)c1ccccc1S2_26_RDKFingerprint_True_False': 14\n",
      "Length of list for key 'CN1CCN(CC/C=C2/c3ccccc3Sc3ccc(S(=O)(=O)N(C)C)cc32)CC1_26_RDKFingerprint_True_False': 14\n",
      "Length of list for key 'CCN(CC)CCOc1ccc2c(c1)C(=O)c1cc(OCCN(CC)CC)ccc1-2_26_RDKFingerprint_True_False': 14\n",
      "Length of list for key 'CN(C)CCCN1c2ccccc2Sc2ccc(C(F)(F)F)cc21.Cl_26_RDKFingerprint_True_False': 14\n",
      "Length of list for key 'CCN(CC)Cc1cc(Nc2ccnc3cc(Cl)ccc23)ccc1O_27_RDKFingerprint_True_True': 14\n",
      "Length of list for key 'C[C@@H](Oc1cc(-c2cnn(C3CCNCC3)c2)cnc1N)c1c(Cl)ccc(F)c1Cl_27_RDKFingerprint_True_True': 14\n",
      "Length of list for key 'CN1CCc2c(c3ccccc3n2Cc2ccccc2)C1_27_RDKFingerprint_True_True': 14\n",
      "Length of list for key 'COC(=O)C[C@@](O)(CCC(C)(C)O)C(=O)O[C@@H]1C(OC)=C[C@]23CCCN2CCc2cc4c(cc2[C@@H]13)OCO4_27_RDKFingerprint_True_True': 22\n",
      "Length of list for key 'OCCN1CCN(CCCN2c3ccccc3Sc3ccc(C(F)(F)F)cc32)CC1_27_RDKFingerprint_True_True': 14\n",
      "Length of list for key 'CCCCCCCCc1ccc(CCC(N)(CO)CO)cc1_27_RDKFingerprint_True_True': 14\n",
      "Length of list for key 'CC(NCCC(c1ccccc1)c1ccccc1)c1ccccc1_27_RDKFingerprint_True_True': 14\n",
      "Length of list for key 'CCCCc1oc2ccc(NS(C)(=O)=O)cc2c1C(=O)c1ccc(OCCCN(CCCC)CCCC)cc1.Cl_27_RDKFingerprint_True_True': 14\n",
      "Length of list for key 'OCCN1CCN(CCCN2c3ccccc3Sc3ccc(Cl)cc32)CC1_27_RDKFingerprint_True_True': 14\n",
      "Length of list for key 'CC(C)COc1ccc(CNC(=O)N(Cc2ccc(F)cc2)C2CCN(C)CC2)cc1_27_RDKFingerprint_True_True': 14\n",
      "Length of list for key 'CN1CCN(CCCN2c3ccccc3Sc3ccc(Cl)cc32)CC1.O=S(=O)(O)CCS(=O)(=O)O_27_RDKFingerprint_True_True': 14\n",
      "Length of list for key 'O=C(c1ccc(OCCN2CCCCC2)cc1)c1c(-c2ccc(O)cc2)sc2cc(O)ccc12_27_RDKFingerprint_True_True': 14\n",
      "Length of list for key 'CCN1CCN(Cc2ccc(Nc3ncc(F)c(-c4cc(F)c5nc(C)n(C(C)C)c5c4)n3)nc2)CC1_27_RDKFingerprint_True_True': 14\n",
      "Length of list for key 'O[C@@H](c1cc(C(F)(F)F)nc2c(C(F)(F)F)cccc12)[C@H]1CCCCN1_27_RDKFingerprint_True_True': 14\n",
      "Length of list for key 'Cc1nc(Nc2ccc(F)cc2)nc(N2CCc3ccccc3C2C)c1C_27_RDKFingerprint_True_True': 14\n",
      "Length of list for key 'CN(C)CCC=C1c2ccccc2C(C)(C)c2ccccc21_27_RDKFingerprint_True_True': 14\n",
      "Length of list for key 'Cc1c(O)cccc1C(=O)N[C@@H](CSc1ccccc1)[C@H](O)CN1C[C@H]2CCCC[C@H]2C[C@H]1C(=O)NC(C)(C)C_27_RDKFingerprint_True_True': 14\n",
      "Length of list for key 'COC(=O)C1=C(C)NC(C)=C(C(=O)OCCN(C)Cc2ccccc2)C1c1cccc([N+](=O)[O-])c1.Cl_27_RDKFingerprint_True_True': 14\n",
      "Length of list for key 'Cc1cn(-c2cc(NC(=O)c3ccc(C)c(Nc4nccc(-c5cccnc5)n4)c3)cc(C(F)(F)F)c2)cn1_27_RDKFingerprint_True_True': 14\n",
      "Length of list for key 'C=CC(=O)Nc1cccc(Oc2nc(Nc3ccc(N4CCN(C)CC4)cc3)nc3ccsc23)c1_27_RDKFingerprint_True_True': 14\n",
      "Length of list for key 'CC(C)N1CCN(c2ccc(OC[C@H]3CO[C@](Cn4cncn4)(c4ccc(Cl)cc4Cl)O3)cc2)CC1_27_RDKFingerprint_True_True': 14\n",
      "Length of list for key 'CSc1ccc2c(c1)N(CCC1CCCCN1C)c1ccccc1S2_27_RDKFingerprint_True_True': 14\n",
      "Length of list for key 'CN1CCN(CC/C=C2/c3ccccc3Sc3ccc(S(=O)(=O)N(C)C)cc32)CC1_27_RDKFingerprint_True_True': 14\n",
      "Length of list for key 'CCN(CC)CCOc1ccc2c(c1)C(=O)c1cc(OCCN(CC)CC)ccc1-2_27_RDKFingerprint_True_True': 14\n",
      "Length of list for key 'CN(C)CCCN1c2ccccc2Sc2ccc(C(F)(F)F)cc21.Cl_27_RDKFingerprint_True_True': 14\n",
      "Length of list for key 'CCN(CC)Cc1cc(Nc2ccnc3cc(Cl)ccc23)ccc1O_27_RDKFingerprint_True_False': 14\n",
      "Length of list for key 'C[C@@H](Oc1cc(-c2cnn(C3CCNCC3)c2)cnc1N)c1c(Cl)ccc(F)c1Cl_27_RDKFingerprint_True_False': 14\n",
      "Length of list for key 'CN1CCc2c(c3ccccc3n2Cc2ccccc2)C1_27_RDKFingerprint_True_False': 14\n",
      "Length of list for key 'COC(=O)C[C@@](O)(CCC(C)(C)O)C(=O)O[C@@H]1C(OC)=C[C@]23CCCN2CCc2cc4c(cc2[C@@H]13)OCO4_27_RDKFingerprint_True_False': 22\n",
      "Length of list for key 'OCCN1CCN(CCCN2c3ccccc3Sc3ccc(C(F)(F)F)cc32)CC1_27_RDKFingerprint_True_False': 14\n",
      "Length of list for key 'CCCCCCCCc1ccc(CCC(N)(CO)CO)cc1_27_RDKFingerprint_True_False': 14\n",
      "Length of list for key 'CC(NCCC(c1ccccc1)c1ccccc1)c1ccccc1_27_RDKFingerprint_True_False': 14\n",
      "Length of list for key 'CCCCc1oc2ccc(NS(C)(=O)=O)cc2c1C(=O)c1ccc(OCCCN(CCCC)CCCC)cc1.Cl_27_RDKFingerprint_True_False': 14\n",
      "Length of list for key 'OCCN1CCN(CCCN2c3ccccc3Sc3ccc(Cl)cc32)CC1_27_RDKFingerprint_True_False': 14\n",
      "Length of list for key 'CC(C)COc1ccc(CNC(=O)N(Cc2ccc(F)cc2)C2CCN(C)CC2)cc1_27_RDKFingerprint_True_False': 14\n",
      "Length of list for key 'CN1CCN(CCCN2c3ccccc3Sc3ccc(Cl)cc32)CC1.O=S(=O)(O)CCS(=O)(=O)O_27_RDKFingerprint_True_False': 14\n",
      "Length of list for key 'O=C(c1ccc(OCCN2CCCCC2)cc1)c1c(-c2ccc(O)cc2)sc2cc(O)ccc12_27_RDKFingerprint_True_False': 14\n",
      "Length of list for key 'CCN1CCN(Cc2ccc(Nc3ncc(F)c(-c4cc(F)c5nc(C)n(C(C)C)c5c4)n3)nc2)CC1_27_RDKFingerprint_True_False': 14\n",
      "Length of list for key 'O[C@@H](c1cc(C(F)(F)F)nc2c(C(F)(F)F)cccc12)[C@H]1CCCCN1_27_RDKFingerprint_True_False': 14\n",
      "Length of list for key 'Cc1nc(Nc2ccc(F)cc2)nc(N2CCc3ccccc3C2C)c1C_27_RDKFingerprint_True_False': 14\n",
      "Length of list for key 'CN(C)CCC=C1c2ccccc2C(C)(C)c2ccccc21_27_RDKFingerprint_True_False': 14\n",
      "Length of list for key 'Cc1c(O)cccc1C(=O)N[C@@H](CSc1ccccc1)[C@H](O)CN1C[C@H]2CCCC[C@H]2C[C@H]1C(=O)NC(C)(C)C_27_RDKFingerprint_True_False': 14\n",
      "Length of list for key 'COC(=O)C1=C(C)NC(C)=C(C(=O)OCCN(C)Cc2ccccc2)C1c1cccc([N+](=O)[O-])c1.Cl_27_RDKFingerprint_True_False': 14\n",
      "Length of list for key 'Cc1cn(-c2cc(NC(=O)c3ccc(C)c(Nc4nccc(-c5cccnc5)n4)c3)cc(C(F)(F)F)c2)cn1_27_RDKFingerprint_True_False': 14\n",
      "Length of list for key 'C=CC(=O)Nc1cccc(Oc2nc(Nc3ccc(N4CCN(C)CC4)cc3)nc3ccsc23)c1_27_RDKFingerprint_True_False': 14\n",
      "Length of list for key 'CC(C)N1CCN(c2ccc(OC[C@H]3CO[C@](Cn4cncn4)(c4ccc(Cl)cc4Cl)O3)cc2)CC1_27_RDKFingerprint_True_False': 14\n",
      "Length of list for key 'CSc1ccc2c(c1)N(CCC1CCCCN1C)c1ccccc1S2_27_RDKFingerprint_True_False': 14\n",
      "Length of list for key 'CN1CCN(CC/C=C2/c3ccccc3Sc3ccc(S(=O)(=O)N(C)C)cc32)CC1_27_RDKFingerprint_True_False': 14\n",
      "Length of list for key 'CCN(CC)CCOc1ccc2c(c1)C(=O)c1cc(OCCN(CC)CC)ccc1-2_27_RDKFingerprint_True_False': 14\n",
      "Length of list for key 'CN(C)CCCN1c2ccccc2Sc2ccc(C(F)(F)F)cc21.Cl_27_RDKFingerprint_True_False': 14\n",
      "Length of list for key 'CCN(CC)Cc1cc(Nc2ccnc3cc(Cl)ccc23)ccc1O_28_RDKFingerprint_True_True': 14\n",
      "Length of list for key 'C[C@@H](Oc1cc(-c2cnn(C3CCNCC3)c2)cnc1N)c1c(Cl)ccc(F)c1Cl_28_RDKFingerprint_True_True': 14\n",
      "Length of list for key 'CN1CCc2c(c3ccccc3n2Cc2ccccc2)C1_28_RDKFingerprint_True_True': 14\n",
      "Length of list for key 'COC(=O)C[C@@](O)(CCC(C)(C)O)C(=O)O[C@@H]1C(OC)=C[C@]23CCCN2CCc2cc4c(cc2[C@@H]13)OCO4_28_RDKFingerprint_True_True': 22\n",
      "Length of list for key 'OCCN1CCN(CCCN2c3ccccc3Sc3ccc(C(F)(F)F)cc32)CC1_28_RDKFingerprint_True_True': 14\n",
      "Length of list for key 'CCCCCCCCc1ccc(CCC(N)(CO)CO)cc1_28_RDKFingerprint_True_True': 14\n",
      "Length of list for key 'CC(NCCC(c1ccccc1)c1ccccc1)c1ccccc1_28_RDKFingerprint_True_True': 14\n",
      "Length of list for key 'CCCCc1oc2ccc(NS(C)(=O)=O)cc2c1C(=O)c1ccc(OCCCN(CCCC)CCCC)cc1.Cl_28_RDKFingerprint_True_True': 14\n",
      "Length of list for key 'OCCN1CCN(CCCN2c3ccccc3Sc3ccc(Cl)cc32)CC1_28_RDKFingerprint_True_True': 14\n",
      "Length of list for key 'CC(C)COc1ccc(CNC(=O)N(Cc2ccc(F)cc2)C2CCN(C)CC2)cc1_28_RDKFingerprint_True_True': 14\n",
      "Length of list for key 'CN1CCN(CCCN2c3ccccc3Sc3ccc(Cl)cc32)CC1.O=S(=O)(O)CCS(=O)(=O)O_28_RDKFingerprint_True_True': 14\n",
      "Length of list for key 'O=C(c1ccc(OCCN2CCCCC2)cc1)c1c(-c2ccc(O)cc2)sc2cc(O)ccc12_28_RDKFingerprint_True_True': 14\n",
      "Length of list for key 'CCN1CCN(Cc2ccc(Nc3ncc(F)c(-c4cc(F)c5nc(C)n(C(C)C)c5c4)n3)nc2)CC1_28_RDKFingerprint_True_True': 14\n",
      "Length of list for key 'O[C@@H](c1cc(C(F)(F)F)nc2c(C(F)(F)F)cccc12)[C@H]1CCCCN1_28_RDKFingerprint_True_True': 14\n",
      "Length of list for key 'Cc1nc(Nc2ccc(F)cc2)nc(N2CCc3ccccc3C2C)c1C_28_RDKFingerprint_True_True': 14\n",
      "Length of list for key 'CN(C)CCC=C1c2ccccc2C(C)(C)c2ccccc21_28_RDKFingerprint_True_True': 14\n",
      "Length of list for key 'Cc1c(O)cccc1C(=O)N[C@@H](CSc1ccccc1)[C@H](O)CN1C[C@H]2CCCC[C@H]2C[C@H]1C(=O)NC(C)(C)C_28_RDKFingerprint_True_True': 14\n",
      "Length of list for key 'COC(=O)C1=C(C)NC(C)=C(C(=O)OCCN(C)Cc2ccccc2)C1c1cccc([N+](=O)[O-])c1.Cl_28_RDKFingerprint_True_True': 14\n",
      "Length of list for key 'Cc1cn(-c2cc(NC(=O)c3ccc(C)c(Nc4nccc(-c5cccnc5)n4)c3)cc(C(F)(F)F)c2)cn1_28_RDKFingerprint_True_True': 14\n",
      "Length of list for key 'C=CC(=O)Nc1cccc(Oc2nc(Nc3ccc(N4CCN(C)CC4)cc3)nc3ccsc23)c1_28_RDKFingerprint_True_True': 14\n",
      "Length of list for key 'CC(C)N1CCN(c2ccc(OC[C@H]3CO[C@](Cn4cncn4)(c4ccc(Cl)cc4Cl)O3)cc2)CC1_28_RDKFingerprint_True_True': 14\n",
      "Length of list for key 'CSc1ccc2c(c1)N(CCC1CCCCN1C)c1ccccc1S2_28_RDKFingerprint_True_True': 14\n",
      "Length of list for key 'CN1CCN(CC/C=C2/c3ccccc3Sc3ccc(S(=O)(=O)N(C)C)cc32)CC1_28_RDKFingerprint_True_True': 14\n",
      "Length of list for key 'CCN(CC)CCOc1ccc2c(c1)C(=O)c1cc(OCCN(CC)CC)ccc1-2_28_RDKFingerprint_True_True': 14\n",
      "Length of list for key 'CN(C)CCCN1c2ccccc2Sc2ccc(C(F)(F)F)cc21.Cl_28_RDKFingerprint_True_True': 14\n",
      "Length of list for key 'CCN(CC)Cc1cc(Nc2ccnc3cc(Cl)ccc23)ccc1O_28_RDKFingerprint_True_False': 14\n",
      "Length of list for key 'C[C@@H](Oc1cc(-c2cnn(C3CCNCC3)c2)cnc1N)c1c(Cl)ccc(F)c1Cl_28_RDKFingerprint_True_False': 14\n",
      "Length of list for key 'CN1CCc2c(c3ccccc3n2Cc2ccccc2)C1_28_RDKFingerprint_True_False': 14\n",
      "Length of list for key 'COC(=O)C[C@@](O)(CCC(C)(C)O)C(=O)O[C@@H]1C(OC)=C[C@]23CCCN2CCc2cc4c(cc2[C@@H]13)OCO4_28_RDKFingerprint_True_False': 22\n",
      "Length of list for key 'OCCN1CCN(CCCN2c3ccccc3Sc3ccc(C(F)(F)F)cc32)CC1_28_RDKFingerprint_True_False': 14\n",
      "Length of list for key 'CCCCCCCCc1ccc(CCC(N)(CO)CO)cc1_28_RDKFingerprint_True_False': 14\n",
      "Length of list for key 'CC(NCCC(c1ccccc1)c1ccccc1)c1ccccc1_28_RDKFingerprint_True_False': 14\n",
      "Length of list for key 'CCCCc1oc2ccc(NS(C)(=O)=O)cc2c1C(=O)c1ccc(OCCCN(CCCC)CCCC)cc1.Cl_28_RDKFingerprint_True_False': 14\n",
      "Length of list for key 'OCCN1CCN(CCCN2c3ccccc3Sc3ccc(Cl)cc32)CC1_28_RDKFingerprint_True_False': 14\n",
      "Length of list for key 'CC(C)COc1ccc(CNC(=O)N(Cc2ccc(F)cc2)C2CCN(C)CC2)cc1_28_RDKFingerprint_True_False': 14\n",
      "Length of list for key 'CN1CCN(CCCN2c3ccccc3Sc3ccc(Cl)cc32)CC1.O=S(=O)(O)CCS(=O)(=O)O_28_RDKFingerprint_True_False': 14\n",
      "Length of list for key 'O=C(c1ccc(OCCN2CCCCC2)cc1)c1c(-c2ccc(O)cc2)sc2cc(O)ccc12_28_RDKFingerprint_True_False': 14\n",
      "Length of list for key 'CCN1CCN(Cc2ccc(Nc3ncc(F)c(-c4cc(F)c5nc(C)n(C(C)C)c5c4)n3)nc2)CC1_28_RDKFingerprint_True_False': 14\n",
      "Length of list for key 'O[C@@H](c1cc(C(F)(F)F)nc2c(C(F)(F)F)cccc12)[C@H]1CCCCN1_28_RDKFingerprint_True_False': 14\n",
      "Length of list for key 'Cc1nc(Nc2ccc(F)cc2)nc(N2CCc3ccccc3C2C)c1C_28_RDKFingerprint_True_False': 14\n",
      "Length of list for key 'CN(C)CCC=C1c2ccccc2C(C)(C)c2ccccc21_28_RDKFingerprint_True_False': 14\n",
      "Length of list for key 'Cc1c(O)cccc1C(=O)N[C@@H](CSc1ccccc1)[C@H](O)CN1C[C@H]2CCCC[C@H]2C[C@H]1C(=O)NC(C)(C)C_28_RDKFingerprint_True_False': 14\n",
      "Length of list for key 'COC(=O)C1=C(C)NC(C)=C(C(=O)OCCN(C)Cc2ccccc2)C1c1cccc([N+](=O)[O-])c1.Cl_28_RDKFingerprint_True_False': 14\n",
      "Length of list for key 'Cc1cn(-c2cc(NC(=O)c3ccc(C)c(Nc4nccc(-c5cccnc5)n4)c3)cc(C(F)(F)F)c2)cn1_28_RDKFingerprint_True_False': 14\n",
      "Length of list for key 'C=CC(=O)Nc1cccc(Oc2nc(Nc3ccc(N4CCN(C)CC4)cc3)nc3ccsc23)c1_28_RDKFingerprint_True_False': 14\n",
      "Length of list for key 'CC(C)N1CCN(c2ccc(OC[C@H]3CO[C@](Cn4cncn4)(c4ccc(Cl)cc4Cl)O3)cc2)CC1_28_RDKFingerprint_True_False': 14\n",
      "Length of list for key 'CSc1ccc2c(c1)N(CCC1CCCCN1C)c1ccccc1S2_28_RDKFingerprint_True_False': 14\n",
      "Length of list for key 'CN1CCN(CC/C=C2/c3ccccc3Sc3ccc(S(=O)(=O)N(C)C)cc32)CC1_28_RDKFingerprint_True_False': 14\n",
      "Length of list for key 'CCN(CC)CCOc1ccc2c(c1)C(=O)c1cc(OCCN(CC)CC)ccc1-2_28_RDKFingerprint_True_False': 14\n",
      "Length of list for key 'CN(C)CCCN1c2ccccc2Sc2ccc(C(F)(F)F)cc21.Cl_28_RDKFingerprint_True_False': 14\n",
      "Length of list for key 'CCN(CC)Cc1cc(Nc2ccnc3cc(Cl)ccc23)ccc1O_29_RDKFingerprint_True_True': 14\n",
      "Length of list for key 'C[C@@H](Oc1cc(-c2cnn(C3CCNCC3)c2)cnc1N)c1c(Cl)ccc(F)c1Cl_29_RDKFingerprint_True_True': 14\n",
      "Length of list for key 'CN1CCc2c(c3ccccc3n2Cc2ccccc2)C1_29_RDKFingerprint_True_True': 14\n",
      "Length of list for key 'COC(=O)C[C@@](O)(CCC(C)(C)O)C(=O)O[C@@H]1C(OC)=C[C@]23CCCN2CCc2cc4c(cc2[C@@H]13)OCO4_29_RDKFingerprint_True_True': 22\n",
      "Length of list for key 'OCCN1CCN(CCCN2c3ccccc3Sc3ccc(C(F)(F)F)cc32)CC1_29_RDKFingerprint_True_True': 14\n",
      "Length of list for key 'CCCCCCCCc1ccc(CCC(N)(CO)CO)cc1_29_RDKFingerprint_True_True': 14\n",
      "Length of list for key 'CC(NCCC(c1ccccc1)c1ccccc1)c1ccccc1_29_RDKFingerprint_True_True': 14\n",
      "Length of list for key 'CCCCc1oc2ccc(NS(C)(=O)=O)cc2c1C(=O)c1ccc(OCCCN(CCCC)CCCC)cc1.Cl_29_RDKFingerprint_True_True': 14\n",
      "Length of list for key 'OCCN1CCN(CCCN2c3ccccc3Sc3ccc(Cl)cc32)CC1_29_RDKFingerprint_True_True': 14\n",
      "Length of list for key 'CC(C)COc1ccc(CNC(=O)N(Cc2ccc(F)cc2)C2CCN(C)CC2)cc1_29_RDKFingerprint_True_True': 14\n",
      "Length of list for key 'CN1CCN(CCCN2c3ccccc3Sc3ccc(Cl)cc32)CC1.O=S(=O)(O)CCS(=O)(=O)O_29_RDKFingerprint_True_True': 14\n",
      "Length of list for key 'O=C(c1ccc(OCCN2CCCCC2)cc1)c1c(-c2ccc(O)cc2)sc2cc(O)ccc12_29_RDKFingerprint_True_True': 14\n",
      "Length of list for key 'CCN1CCN(Cc2ccc(Nc3ncc(F)c(-c4cc(F)c5nc(C)n(C(C)C)c5c4)n3)nc2)CC1_29_RDKFingerprint_True_True': 14\n",
      "Length of list for key 'O[C@@H](c1cc(C(F)(F)F)nc2c(C(F)(F)F)cccc12)[C@H]1CCCCN1_29_RDKFingerprint_True_True': 14\n",
      "Length of list for key 'Cc1nc(Nc2ccc(F)cc2)nc(N2CCc3ccccc3C2C)c1C_29_RDKFingerprint_True_True': 14\n",
      "Length of list for key 'CN(C)CCC=C1c2ccccc2C(C)(C)c2ccccc21_29_RDKFingerprint_True_True': 14\n",
      "Length of list for key 'Cc1c(O)cccc1C(=O)N[C@@H](CSc1ccccc1)[C@H](O)CN1C[C@H]2CCCC[C@H]2C[C@H]1C(=O)NC(C)(C)C_29_RDKFingerprint_True_True': 14\n",
      "Length of list for key 'COC(=O)C1=C(C)NC(C)=C(C(=O)OCCN(C)Cc2ccccc2)C1c1cccc([N+](=O)[O-])c1.Cl_29_RDKFingerprint_True_True': 14\n",
      "Length of list for key 'Cc1cn(-c2cc(NC(=O)c3ccc(C)c(Nc4nccc(-c5cccnc5)n4)c3)cc(C(F)(F)F)c2)cn1_29_RDKFingerprint_True_True': 14\n",
      "Length of list for key 'C=CC(=O)Nc1cccc(Oc2nc(Nc3ccc(N4CCN(C)CC4)cc3)nc3ccsc23)c1_29_RDKFingerprint_True_True': 14\n",
      "Length of list for key 'CC(C)N1CCN(c2ccc(OC[C@H]3CO[C@](Cn4cncn4)(c4ccc(Cl)cc4Cl)O3)cc2)CC1_29_RDKFingerprint_True_True': 14\n",
      "Length of list for key 'CSc1ccc2c(c1)N(CCC1CCCCN1C)c1ccccc1S2_29_RDKFingerprint_True_True': 14\n",
      "Length of list for key 'CN1CCN(CC/C=C2/c3ccccc3Sc3ccc(S(=O)(=O)N(C)C)cc32)CC1_29_RDKFingerprint_True_True': 14\n",
      "Length of list for key 'CCN(CC)CCOc1ccc2c(c1)C(=O)c1cc(OCCN(CC)CC)ccc1-2_29_RDKFingerprint_True_True': 14\n",
      "Length of list for key 'CN(C)CCCN1c2ccccc2Sc2ccc(C(F)(F)F)cc21.Cl_29_RDKFingerprint_True_True': 14\n",
      "Length of list for key 'CCN(CC)Cc1cc(Nc2ccnc3cc(Cl)ccc23)ccc1O_29_RDKFingerprint_True_False': 14\n",
      "Length of list for key 'C[C@@H](Oc1cc(-c2cnn(C3CCNCC3)c2)cnc1N)c1c(Cl)ccc(F)c1Cl_29_RDKFingerprint_True_False': 14\n",
      "Length of list for key 'CN1CCc2c(c3ccccc3n2Cc2ccccc2)C1_29_RDKFingerprint_True_False': 14\n",
      "Length of list for key 'COC(=O)C[C@@](O)(CCC(C)(C)O)C(=O)O[C@@H]1C(OC)=C[C@]23CCCN2CCc2cc4c(cc2[C@@H]13)OCO4_29_RDKFingerprint_True_False': 22\n",
      "Length of list for key 'OCCN1CCN(CCCN2c3ccccc3Sc3ccc(C(F)(F)F)cc32)CC1_29_RDKFingerprint_True_False': 14\n",
      "Length of list for key 'CCCCCCCCc1ccc(CCC(N)(CO)CO)cc1_29_RDKFingerprint_True_False': 14\n",
      "Length of list for key 'CC(NCCC(c1ccccc1)c1ccccc1)c1ccccc1_29_RDKFingerprint_True_False': 14\n",
      "Length of list for key 'CCCCc1oc2ccc(NS(C)(=O)=O)cc2c1C(=O)c1ccc(OCCCN(CCCC)CCCC)cc1.Cl_29_RDKFingerprint_True_False': 14\n",
      "Length of list for key 'OCCN1CCN(CCCN2c3ccccc3Sc3ccc(Cl)cc32)CC1_29_RDKFingerprint_True_False': 14\n",
      "Length of list for key 'CC(C)COc1ccc(CNC(=O)N(Cc2ccc(F)cc2)C2CCN(C)CC2)cc1_29_RDKFingerprint_True_False': 14\n",
      "Length of list for key 'CN1CCN(CCCN2c3ccccc3Sc3ccc(Cl)cc32)CC1.O=S(=O)(O)CCS(=O)(=O)O_29_RDKFingerprint_True_False': 14\n",
      "Length of list for key 'O=C(c1ccc(OCCN2CCCCC2)cc1)c1c(-c2ccc(O)cc2)sc2cc(O)ccc12_29_RDKFingerprint_True_False': 14\n",
      "Length of list for key 'CCN1CCN(Cc2ccc(Nc3ncc(F)c(-c4cc(F)c5nc(C)n(C(C)C)c5c4)n3)nc2)CC1_29_RDKFingerprint_True_False': 14\n",
      "Length of list for key 'O[C@@H](c1cc(C(F)(F)F)nc2c(C(F)(F)F)cccc12)[C@H]1CCCCN1_29_RDKFingerprint_True_False': 14\n",
      "Length of list for key 'Cc1nc(Nc2ccc(F)cc2)nc(N2CCc3ccccc3C2C)c1C_29_RDKFingerprint_True_False': 14\n",
      "Length of list for key 'CN(C)CCC=C1c2ccccc2C(C)(C)c2ccccc21_29_RDKFingerprint_True_False': 14\n",
      "Length of list for key 'Cc1c(O)cccc1C(=O)N[C@@H](CSc1ccccc1)[C@H](O)CN1C[C@H]2CCCC[C@H]2C[C@H]1C(=O)NC(C)(C)C_29_RDKFingerprint_True_False': 14\n",
      "Length of list for key 'COC(=O)C1=C(C)NC(C)=C(C(=O)OCCN(C)Cc2ccccc2)C1c1cccc([N+](=O)[O-])c1.Cl_29_RDKFingerprint_True_False': 14\n",
      "Length of list for key 'Cc1cn(-c2cc(NC(=O)c3ccc(C)c(Nc4nccc(-c5cccnc5)n4)c3)cc(C(F)(F)F)c2)cn1_29_RDKFingerprint_True_False': 14\n",
      "Length of list for key 'C=CC(=O)Nc1cccc(Oc2nc(Nc3ccc(N4CCN(C)CC4)cc3)nc3ccsc23)c1_29_RDKFingerprint_True_False': 14\n",
      "Length of list for key 'CC(C)N1CCN(c2ccc(OC[C@H]3CO[C@](Cn4cncn4)(c4ccc(Cl)cc4Cl)O3)cc2)CC1_29_RDKFingerprint_True_False': 14\n",
      "Length of list for key 'CSc1ccc2c(c1)N(CCC1CCCCN1C)c1ccccc1S2_29_RDKFingerprint_True_False': 14\n",
      "Length of list for key 'CN1CCN(CC/C=C2/c3ccccc3Sc3ccc(S(=O)(=O)N(C)C)cc32)CC1_29_RDKFingerprint_True_False': 14\n",
      "Length of list for key 'CCN(CC)CCOc1ccc2c(c1)C(=O)c1cc(OCCN(CC)CC)ccc1-2_29_RDKFingerprint_True_False': 14\n",
      "Length of list for key 'CN(C)CCCN1c2ccccc2Sc2ccc(C(F)(F)F)cc21.Cl_29_RDKFingerprint_True_False': 14\n",
      "Length of list for key 'CCN(CC)Cc1cc(Nc2ccnc3cc(Cl)ccc23)ccc1O_30_RDKFingerprint_True_True': 14\n",
      "Length of list for key 'C[C@@H](Oc1cc(-c2cnn(C3CCNCC3)c2)cnc1N)c1c(Cl)ccc(F)c1Cl_30_RDKFingerprint_True_True': 14\n",
      "Length of list for key 'CN1CCc2c(c3ccccc3n2Cc2ccccc2)C1_30_RDKFingerprint_True_True': 14\n",
      "Length of list for key 'COC(=O)C[C@@](O)(CCC(C)(C)O)C(=O)O[C@@H]1C(OC)=C[C@]23CCCN2CCc2cc4c(cc2[C@@H]13)OCO4_30_RDKFingerprint_True_True': 22\n",
      "Length of list for key 'OCCN1CCN(CCCN2c3ccccc3Sc3ccc(C(F)(F)F)cc32)CC1_30_RDKFingerprint_True_True': 14\n",
      "Length of list for key 'CCCCCCCCc1ccc(CCC(N)(CO)CO)cc1_30_RDKFingerprint_True_True': 14\n",
      "Length of list for key 'CC(NCCC(c1ccccc1)c1ccccc1)c1ccccc1_30_RDKFingerprint_True_True': 14\n",
      "Length of list for key 'CCCCc1oc2ccc(NS(C)(=O)=O)cc2c1C(=O)c1ccc(OCCCN(CCCC)CCCC)cc1.Cl_30_RDKFingerprint_True_True': 14\n",
      "Length of list for key 'OCCN1CCN(CCCN2c3ccccc3Sc3ccc(Cl)cc32)CC1_30_RDKFingerprint_True_True': 14\n",
      "Length of list for key 'CC(C)COc1ccc(CNC(=O)N(Cc2ccc(F)cc2)C2CCN(C)CC2)cc1_30_RDKFingerprint_True_True': 14\n",
      "Length of list for key 'CN1CCN(CCCN2c3ccccc3Sc3ccc(Cl)cc32)CC1.O=S(=O)(O)CCS(=O)(=O)O_30_RDKFingerprint_True_True': 14\n",
      "Length of list for key 'O=C(c1ccc(OCCN2CCCCC2)cc1)c1c(-c2ccc(O)cc2)sc2cc(O)ccc12_30_RDKFingerprint_True_True': 14\n",
      "Length of list for key 'CCN1CCN(Cc2ccc(Nc3ncc(F)c(-c4cc(F)c5nc(C)n(C(C)C)c5c4)n3)nc2)CC1_30_RDKFingerprint_True_True': 14\n",
      "Length of list for key 'O[C@@H](c1cc(C(F)(F)F)nc2c(C(F)(F)F)cccc12)[C@H]1CCCCN1_30_RDKFingerprint_True_True': 14\n",
      "Length of list for key 'Cc1nc(Nc2ccc(F)cc2)nc(N2CCc3ccccc3C2C)c1C_30_RDKFingerprint_True_True': 14\n",
      "Length of list for key 'CN(C)CCC=C1c2ccccc2C(C)(C)c2ccccc21_30_RDKFingerprint_True_True': 14\n",
      "Length of list for key 'Cc1c(O)cccc1C(=O)N[C@@H](CSc1ccccc1)[C@H](O)CN1C[C@H]2CCCC[C@H]2C[C@H]1C(=O)NC(C)(C)C_30_RDKFingerprint_True_True': 14\n",
      "Length of list for key 'COC(=O)C1=C(C)NC(C)=C(C(=O)OCCN(C)Cc2ccccc2)C1c1cccc([N+](=O)[O-])c1.Cl_30_RDKFingerprint_True_True': 14\n",
      "Length of list for key 'Cc1cn(-c2cc(NC(=O)c3ccc(C)c(Nc4nccc(-c5cccnc5)n4)c3)cc(C(F)(F)F)c2)cn1_30_RDKFingerprint_True_True': 14\n",
      "Length of list for key 'C=CC(=O)Nc1cccc(Oc2nc(Nc3ccc(N4CCN(C)CC4)cc3)nc3ccsc23)c1_30_RDKFingerprint_True_True': 14\n",
      "Length of list for key 'CC(C)N1CCN(c2ccc(OC[C@H]3CO[C@](Cn4cncn4)(c4ccc(Cl)cc4Cl)O3)cc2)CC1_30_RDKFingerprint_True_True': 14\n",
      "Length of list for key 'CSc1ccc2c(c1)N(CCC1CCCCN1C)c1ccccc1S2_30_RDKFingerprint_True_True': 14\n",
      "Length of list for key 'CN1CCN(CC/C=C2/c3ccccc3Sc3ccc(S(=O)(=O)N(C)C)cc32)CC1_30_RDKFingerprint_True_True': 14\n",
      "Length of list for key 'CCN(CC)CCOc1ccc2c(c1)C(=O)c1cc(OCCN(CC)CC)ccc1-2_30_RDKFingerprint_True_True': 14\n",
      "Length of list for key 'CN(C)CCCN1c2ccccc2Sc2ccc(C(F)(F)F)cc21.Cl_30_RDKFingerprint_True_True': 14\n",
      "Length of list for key 'CCN(CC)Cc1cc(Nc2ccnc3cc(Cl)ccc23)ccc1O_30_RDKFingerprint_True_False': 14\n",
      "Length of list for key 'C[C@@H](Oc1cc(-c2cnn(C3CCNCC3)c2)cnc1N)c1c(Cl)ccc(F)c1Cl_30_RDKFingerprint_True_False': 14\n",
      "Length of list for key 'CN1CCc2c(c3ccccc3n2Cc2ccccc2)C1_30_RDKFingerprint_True_False': 14\n",
      "Length of list for key 'COC(=O)C[C@@](O)(CCC(C)(C)O)C(=O)O[C@@H]1C(OC)=C[C@]23CCCN2CCc2cc4c(cc2[C@@H]13)OCO4_30_RDKFingerprint_True_False': 22\n",
      "Length of list for key 'OCCN1CCN(CCCN2c3ccccc3Sc3ccc(C(F)(F)F)cc32)CC1_30_RDKFingerprint_True_False': 14\n",
      "Length of list for key 'CCCCCCCCc1ccc(CCC(N)(CO)CO)cc1_30_RDKFingerprint_True_False': 14\n",
      "Length of list for key 'CC(NCCC(c1ccccc1)c1ccccc1)c1ccccc1_30_RDKFingerprint_True_False': 14\n",
      "Length of list for key 'CCCCc1oc2ccc(NS(C)(=O)=O)cc2c1C(=O)c1ccc(OCCCN(CCCC)CCCC)cc1.Cl_30_RDKFingerprint_True_False': 14\n",
      "Length of list for key 'OCCN1CCN(CCCN2c3ccccc3Sc3ccc(Cl)cc32)CC1_30_RDKFingerprint_True_False': 14\n",
      "Length of list for key 'CC(C)COc1ccc(CNC(=O)N(Cc2ccc(F)cc2)C2CCN(C)CC2)cc1_30_RDKFingerprint_True_False': 14\n",
      "Length of list for key 'CN1CCN(CCCN2c3ccccc3Sc3ccc(Cl)cc32)CC1.O=S(=O)(O)CCS(=O)(=O)O_30_RDKFingerprint_True_False': 14\n",
      "Length of list for key 'O=C(c1ccc(OCCN2CCCCC2)cc1)c1c(-c2ccc(O)cc2)sc2cc(O)ccc12_30_RDKFingerprint_True_False': 14\n",
      "Length of list for key 'CCN1CCN(Cc2ccc(Nc3ncc(F)c(-c4cc(F)c5nc(C)n(C(C)C)c5c4)n3)nc2)CC1_30_RDKFingerprint_True_False': 14\n",
      "Length of list for key 'O[C@@H](c1cc(C(F)(F)F)nc2c(C(F)(F)F)cccc12)[C@H]1CCCCN1_30_RDKFingerprint_True_False': 14\n",
      "Length of list for key 'Cc1nc(Nc2ccc(F)cc2)nc(N2CCc3ccccc3C2C)c1C_30_RDKFingerprint_True_False': 14\n",
      "Length of list for key 'CN(C)CCC=C1c2ccccc2C(C)(C)c2ccccc21_30_RDKFingerprint_True_False': 14\n",
      "Length of list for key 'Cc1c(O)cccc1C(=O)N[C@@H](CSc1ccccc1)[C@H](O)CN1C[C@H]2CCCC[C@H]2C[C@H]1C(=O)NC(C)(C)C_30_RDKFingerprint_True_False': 14\n",
      "Length of list for key 'COC(=O)C1=C(C)NC(C)=C(C(=O)OCCN(C)Cc2ccccc2)C1c1cccc([N+](=O)[O-])c1.Cl_30_RDKFingerprint_True_False': 14\n",
      "Length of list for key 'Cc1cn(-c2cc(NC(=O)c3ccc(C)c(Nc4nccc(-c5cccnc5)n4)c3)cc(C(F)(F)F)c2)cn1_30_RDKFingerprint_True_False': 14\n",
      "Length of list for key 'C=CC(=O)Nc1cccc(Oc2nc(Nc3ccc(N4CCN(C)CC4)cc3)nc3ccsc23)c1_30_RDKFingerprint_True_False': 14\n",
      "Length of list for key 'CC(C)N1CCN(c2ccc(OC[C@H]3CO[C@](Cn4cncn4)(c4ccc(Cl)cc4Cl)O3)cc2)CC1_30_RDKFingerprint_True_False': 14\n",
      "Length of list for key 'CSc1ccc2c(c1)N(CCC1CCCCN1C)c1ccccc1S2_30_RDKFingerprint_True_False': 14\n",
      "Length of list for key 'CN1CCN(CC/C=C2/c3ccccc3Sc3ccc(S(=O)(=O)N(C)C)cc32)CC1_30_RDKFingerprint_True_False': 14\n",
      "Length of list for key 'CCN(CC)CCOc1ccc2c(c1)C(=O)c1cc(OCCN(CC)CC)ccc1-2_30_RDKFingerprint_True_False': 14\n",
      "Length of list for key 'CN(C)CCCN1c2ccccc2Sc2ccc(C(F)(F)F)cc21.Cl_30_RDKFingerprint_True_False': 14\n",
      "Length of list for key 'CCN(CC)Cc1cc(Nc2ccnc3cc(Cl)ccc23)ccc1O_31_RDKFingerprint_True_True': 14\n",
      "Length of list for key 'C[C@@H](Oc1cc(-c2cnn(C3CCNCC3)c2)cnc1N)c1c(Cl)ccc(F)c1Cl_31_RDKFingerprint_True_True': 14\n",
      "Length of list for key 'CN1CCc2c(c3ccccc3n2Cc2ccccc2)C1_31_RDKFingerprint_True_True': 14\n",
      "Length of list for key 'COC(=O)C[C@@](O)(CCC(C)(C)O)C(=O)O[C@@H]1C(OC)=C[C@]23CCCN2CCc2cc4c(cc2[C@@H]13)OCO4_31_RDKFingerprint_True_True': 22\n",
      "Length of list for key 'OCCN1CCN(CCCN2c3ccccc3Sc3ccc(C(F)(F)F)cc32)CC1_31_RDKFingerprint_True_True': 14\n",
      "Length of list for key 'CCCCCCCCc1ccc(CCC(N)(CO)CO)cc1_31_RDKFingerprint_True_True': 14\n",
      "Length of list for key 'CC(NCCC(c1ccccc1)c1ccccc1)c1ccccc1_31_RDKFingerprint_True_True': 14\n",
      "Length of list for key 'CCCCc1oc2ccc(NS(C)(=O)=O)cc2c1C(=O)c1ccc(OCCCN(CCCC)CCCC)cc1.Cl_31_RDKFingerprint_True_True': 14\n",
      "Length of list for key 'OCCN1CCN(CCCN2c3ccccc3Sc3ccc(Cl)cc32)CC1_31_RDKFingerprint_True_True': 14\n",
      "Length of list for key 'CC(C)COc1ccc(CNC(=O)N(Cc2ccc(F)cc2)C2CCN(C)CC2)cc1_31_RDKFingerprint_True_True': 14\n",
      "Length of list for key 'CN1CCN(CCCN2c3ccccc3Sc3ccc(Cl)cc32)CC1.O=S(=O)(O)CCS(=O)(=O)O_31_RDKFingerprint_True_True': 14\n",
      "Length of list for key 'O=C(c1ccc(OCCN2CCCCC2)cc1)c1c(-c2ccc(O)cc2)sc2cc(O)ccc12_31_RDKFingerprint_True_True': 14\n",
      "Length of list for key 'CCN1CCN(Cc2ccc(Nc3ncc(F)c(-c4cc(F)c5nc(C)n(C(C)C)c5c4)n3)nc2)CC1_31_RDKFingerprint_True_True': 14\n",
      "Length of list for key 'O[C@@H](c1cc(C(F)(F)F)nc2c(C(F)(F)F)cccc12)[C@H]1CCCCN1_31_RDKFingerprint_True_True': 14\n",
      "Length of list for key 'Cc1nc(Nc2ccc(F)cc2)nc(N2CCc3ccccc3C2C)c1C_31_RDKFingerprint_True_True': 14\n",
      "Length of list for key 'CN(C)CCC=C1c2ccccc2C(C)(C)c2ccccc21_31_RDKFingerprint_True_True': 14\n",
      "Length of list for key 'Cc1c(O)cccc1C(=O)N[C@@H](CSc1ccccc1)[C@H](O)CN1C[C@H]2CCCC[C@H]2C[C@H]1C(=O)NC(C)(C)C_31_RDKFingerprint_True_True': 14\n",
      "Length of list for key 'COC(=O)C1=C(C)NC(C)=C(C(=O)OCCN(C)Cc2ccccc2)C1c1cccc([N+](=O)[O-])c1.Cl_31_RDKFingerprint_True_True': 14\n",
      "Length of list for key 'Cc1cn(-c2cc(NC(=O)c3ccc(C)c(Nc4nccc(-c5cccnc5)n4)c3)cc(C(F)(F)F)c2)cn1_31_RDKFingerprint_True_True': 14\n",
      "Length of list for key 'C=CC(=O)Nc1cccc(Oc2nc(Nc3ccc(N4CCN(C)CC4)cc3)nc3ccsc23)c1_31_RDKFingerprint_True_True': 14\n",
      "Length of list for key 'CC(C)N1CCN(c2ccc(OC[C@H]3CO[C@](Cn4cncn4)(c4ccc(Cl)cc4Cl)O3)cc2)CC1_31_RDKFingerprint_True_True': 14\n",
      "Length of list for key 'CSc1ccc2c(c1)N(CCC1CCCCN1C)c1ccccc1S2_31_RDKFingerprint_True_True': 14\n",
      "Length of list for key 'CN1CCN(CC/C=C2/c3ccccc3Sc3ccc(S(=O)(=O)N(C)C)cc32)CC1_31_RDKFingerprint_True_True': 14\n",
      "Length of list for key 'CCN(CC)CCOc1ccc2c(c1)C(=O)c1cc(OCCN(CC)CC)ccc1-2_31_RDKFingerprint_True_True': 14\n",
      "Length of list for key 'CN(C)CCCN1c2ccccc2Sc2ccc(C(F)(F)F)cc21.Cl_31_RDKFingerprint_True_True': 14\n",
      "Length of list for key 'CCN(CC)Cc1cc(Nc2ccnc3cc(Cl)ccc23)ccc1O_31_RDKFingerprint_True_False': 14\n",
      "Length of list for key 'C[C@@H](Oc1cc(-c2cnn(C3CCNCC3)c2)cnc1N)c1c(Cl)ccc(F)c1Cl_31_RDKFingerprint_True_False': 14\n",
      "Length of list for key 'CN1CCc2c(c3ccccc3n2Cc2ccccc2)C1_31_RDKFingerprint_True_False': 14\n",
      "Length of list for key 'COC(=O)C[C@@](O)(CCC(C)(C)O)C(=O)O[C@@H]1C(OC)=C[C@]23CCCN2CCc2cc4c(cc2[C@@H]13)OCO4_31_RDKFingerprint_True_False': 22\n",
      "Length of list for key 'OCCN1CCN(CCCN2c3ccccc3Sc3ccc(C(F)(F)F)cc32)CC1_31_RDKFingerprint_True_False': 14\n",
      "Length of list for key 'CCCCCCCCc1ccc(CCC(N)(CO)CO)cc1_31_RDKFingerprint_True_False': 14\n",
      "Length of list for key 'CC(NCCC(c1ccccc1)c1ccccc1)c1ccccc1_31_RDKFingerprint_True_False': 14\n",
      "Length of list for key 'CCCCc1oc2ccc(NS(C)(=O)=O)cc2c1C(=O)c1ccc(OCCCN(CCCC)CCCC)cc1.Cl_31_RDKFingerprint_True_False': 14\n",
      "Length of list for key 'OCCN1CCN(CCCN2c3ccccc3Sc3ccc(Cl)cc32)CC1_31_RDKFingerprint_True_False': 14\n",
      "Length of list for key 'CC(C)COc1ccc(CNC(=O)N(Cc2ccc(F)cc2)C2CCN(C)CC2)cc1_31_RDKFingerprint_True_False': 14\n",
      "Length of list for key 'CN1CCN(CCCN2c3ccccc3Sc3ccc(Cl)cc32)CC1.O=S(=O)(O)CCS(=O)(=O)O_31_RDKFingerprint_True_False': 14\n",
      "Length of list for key 'O=C(c1ccc(OCCN2CCCCC2)cc1)c1c(-c2ccc(O)cc2)sc2cc(O)ccc12_31_RDKFingerprint_True_False': 14\n",
      "Length of list for key 'CCN1CCN(Cc2ccc(Nc3ncc(F)c(-c4cc(F)c5nc(C)n(C(C)C)c5c4)n3)nc2)CC1_31_RDKFingerprint_True_False': 14\n",
      "Length of list for key 'O[C@@H](c1cc(C(F)(F)F)nc2c(C(F)(F)F)cccc12)[C@H]1CCCCN1_31_RDKFingerprint_True_False': 14\n",
      "Length of list for key 'Cc1nc(Nc2ccc(F)cc2)nc(N2CCc3ccccc3C2C)c1C_31_RDKFingerprint_True_False': 14\n",
      "Length of list for key 'CN(C)CCC=C1c2ccccc2C(C)(C)c2ccccc21_31_RDKFingerprint_True_False': 14\n",
      "Length of list for key 'Cc1c(O)cccc1C(=O)N[C@@H](CSc1ccccc1)[C@H](O)CN1C[C@H]2CCCC[C@H]2C[C@H]1C(=O)NC(C)(C)C_31_RDKFingerprint_True_False': 14\n",
      "Length of list for key 'COC(=O)C1=C(C)NC(C)=C(C(=O)OCCN(C)Cc2ccccc2)C1c1cccc([N+](=O)[O-])c1.Cl_31_RDKFingerprint_True_False': 14\n",
      "Length of list for key 'Cc1cn(-c2cc(NC(=O)c3ccc(C)c(Nc4nccc(-c5cccnc5)n4)c3)cc(C(F)(F)F)c2)cn1_31_RDKFingerprint_True_False': 14\n",
      "Length of list for key 'C=CC(=O)Nc1cccc(Oc2nc(Nc3ccc(N4CCN(C)CC4)cc3)nc3ccsc23)c1_31_RDKFingerprint_True_False': 14\n",
      "Length of list for key 'CC(C)N1CCN(c2ccc(OC[C@H]3CO[C@](Cn4cncn4)(c4ccc(Cl)cc4Cl)O3)cc2)CC1_31_RDKFingerprint_True_False': 14\n",
      "Length of list for key 'CSc1ccc2c(c1)N(CCC1CCCCN1C)c1ccccc1S2_31_RDKFingerprint_True_False': 14\n",
      "Length of list for key 'CN1CCN(CC/C=C2/c3ccccc3Sc3ccc(S(=O)(=O)N(C)C)cc32)CC1_31_RDKFingerprint_True_False': 14\n",
      "Length of list for key 'CCN(CC)CCOc1ccc2c(c1)C(=O)c1cc(OCCN(CC)CC)ccc1-2_31_RDKFingerprint_True_False': 14\n",
      "Length of list for key 'CN(C)CCCN1c2ccccc2Sc2ccc(C(F)(F)F)cc21.Cl_31_RDKFingerprint_True_False': 14\n",
      "Length of list for key 'CCN(CC)Cc1cc(Nc2ccnc3cc(Cl)ccc23)ccc1O_32_RDKFingerprint_True_True': 14\n",
      "Length of list for key 'C[C@@H](Oc1cc(-c2cnn(C3CCNCC3)c2)cnc1N)c1c(Cl)ccc(F)c1Cl_32_RDKFingerprint_True_True': 14\n",
      "Length of list for key 'CN1CCc2c(c3ccccc3n2Cc2ccccc2)C1_32_RDKFingerprint_True_True': 14\n",
      "Length of list for key 'COC(=O)C[C@@](O)(CCC(C)(C)O)C(=O)O[C@@H]1C(OC)=C[C@]23CCCN2CCc2cc4c(cc2[C@@H]13)OCO4_32_RDKFingerprint_True_True': 22\n",
      "Length of list for key 'OCCN1CCN(CCCN2c3ccccc3Sc3ccc(C(F)(F)F)cc32)CC1_32_RDKFingerprint_True_True': 14\n",
      "Length of list for key 'CCCCCCCCc1ccc(CCC(N)(CO)CO)cc1_32_RDKFingerprint_True_True': 14\n",
      "Length of list for key 'CC(NCCC(c1ccccc1)c1ccccc1)c1ccccc1_32_RDKFingerprint_True_True': 14\n",
      "Length of list for key 'CCCCc1oc2ccc(NS(C)(=O)=O)cc2c1C(=O)c1ccc(OCCCN(CCCC)CCCC)cc1.Cl_32_RDKFingerprint_True_True': 14\n",
      "Length of list for key 'OCCN1CCN(CCCN2c3ccccc3Sc3ccc(Cl)cc32)CC1_32_RDKFingerprint_True_True': 14\n",
      "Length of list for key 'CC(C)COc1ccc(CNC(=O)N(Cc2ccc(F)cc2)C2CCN(C)CC2)cc1_32_RDKFingerprint_True_True': 14\n",
      "Length of list for key 'CN1CCN(CCCN2c3ccccc3Sc3ccc(Cl)cc32)CC1.O=S(=O)(O)CCS(=O)(=O)O_32_RDKFingerprint_True_True': 14\n",
      "Length of list for key 'O=C(c1ccc(OCCN2CCCCC2)cc1)c1c(-c2ccc(O)cc2)sc2cc(O)ccc12_32_RDKFingerprint_True_True': 14\n",
      "Length of list for key 'CCN1CCN(Cc2ccc(Nc3ncc(F)c(-c4cc(F)c5nc(C)n(C(C)C)c5c4)n3)nc2)CC1_32_RDKFingerprint_True_True': 14\n",
      "Length of list for key 'O[C@@H](c1cc(C(F)(F)F)nc2c(C(F)(F)F)cccc12)[C@H]1CCCCN1_32_RDKFingerprint_True_True': 14\n",
      "Length of list for key 'Cc1nc(Nc2ccc(F)cc2)nc(N2CCc3ccccc3C2C)c1C_32_RDKFingerprint_True_True': 14\n",
      "Length of list for key 'CN(C)CCC=C1c2ccccc2C(C)(C)c2ccccc21_32_RDKFingerprint_True_True': 14\n",
      "Length of list for key 'Cc1c(O)cccc1C(=O)N[C@@H](CSc1ccccc1)[C@H](O)CN1C[C@H]2CCCC[C@H]2C[C@H]1C(=O)NC(C)(C)C_32_RDKFingerprint_True_True': 14\n",
      "Length of list for key 'COC(=O)C1=C(C)NC(C)=C(C(=O)OCCN(C)Cc2ccccc2)C1c1cccc([N+](=O)[O-])c1.Cl_32_RDKFingerprint_True_True': 14\n",
      "Length of list for key 'Cc1cn(-c2cc(NC(=O)c3ccc(C)c(Nc4nccc(-c5cccnc5)n4)c3)cc(C(F)(F)F)c2)cn1_32_RDKFingerprint_True_True': 14\n",
      "Length of list for key 'C=CC(=O)Nc1cccc(Oc2nc(Nc3ccc(N4CCN(C)CC4)cc3)nc3ccsc23)c1_32_RDKFingerprint_True_True': 14\n",
      "Length of list for key 'CC(C)N1CCN(c2ccc(OC[C@H]3CO[C@](Cn4cncn4)(c4ccc(Cl)cc4Cl)O3)cc2)CC1_32_RDKFingerprint_True_True': 14\n",
      "Length of list for key 'CSc1ccc2c(c1)N(CCC1CCCCN1C)c1ccccc1S2_32_RDKFingerprint_True_True': 14\n",
      "Length of list for key 'CN1CCN(CC/C=C2/c3ccccc3Sc3ccc(S(=O)(=O)N(C)C)cc32)CC1_32_RDKFingerprint_True_True': 14\n",
      "Length of list for key 'CCN(CC)CCOc1ccc2c(c1)C(=O)c1cc(OCCN(CC)CC)ccc1-2_32_RDKFingerprint_True_True': 14\n",
      "Length of list for key 'CN(C)CCCN1c2ccccc2Sc2ccc(C(F)(F)F)cc21.Cl_32_RDKFingerprint_True_True': 14\n",
      "Length of list for key 'CCN(CC)Cc1cc(Nc2ccnc3cc(Cl)ccc23)ccc1O_32_RDKFingerprint_True_False': 14\n",
      "Length of list for key 'C[C@@H](Oc1cc(-c2cnn(C3CCNCC3)c2)cnc1N)c1c(Cl)ccc(F)c1Cl_32_RDKFingerprint_True_False': 14\n",
      "Length of list for key 'CN1CCc2c(c3ccccc3n2Cc2ccccc2)C1_32_RDKFingerprint_True_False': 14\n",
      "Length of list for key 'COC(=O)C[C@@](O)(CCC(C)(C)O)C(=O)O[C@@H]1C(OC)=C[C@]23CCCN2CCc2cc4c(cc2[C@@H]13)OCO4_32_RDKFingerprint_True_False': 22\n",
      "Length of list for key 'OCCN1CCN(CCCN2c3ccccc3Sc3ccc(C(F)(F)F)cc32)CC1_32_RDKFingerprint_True_False': 14\n",
      "Length of list for key 'CCCCCCCCc1ccc(CCC(N)(CO)CO)cc1_32_RDKFingerprint_True_False': 14\n",
      "Length of list for key 'CC(NCCC(c1ccccc1)c1ccccc1)c1ccccc1_32_RDKFingerprint_True_False': 14\n",
      "Length of list for key 'CCCCc1oc2ccc(NS(C)(=O)=O)cc2c1C(=O)c1ccc(OCCCN(CCCC)CCCC)cc1.Cl_32_RDKFingerprint_True_False': 14\n",
      "Length of list for key 'OCCN1CCN(CCCN2c3ccccc3Sc3ccc(Cl)cc32)CC1_32_RDKFingerprint_True_False': 14\n",
      "Length of list for key 'CC(C)COc1ccc(CNC(=O)N(Cc2ccc(F)cc2)C2CCN(C)CC2)cc1_32_RDKFingerprint_True_False': 14\n",
      "Length of list for key 'CN1CCN(CCCN2c3ccccc3Sc3ccc(Cl)cc32)CC1.O=S(=O)(O)CCS(=O)(=O)O_32_RDKFingerprint_True_False': 14\n",
      "Length of list for key 'O=C(c1ccc(OCCN2CCCCC2)cc1)c1c(-c2ccc(O)cc2)sc2cc(O)ccc12_32_RDKFingerprint_True_False': 14\n",
      "Length of list for key 'CCN1CCN(Cc2ccc(Nc3ncc(F)c(-c4cc(F)c5nc(C)n(C(C)C)c5c4)n3)nc2)CC1_32_RDKFingerprint_True_False': 14\n",
      "Length of list for key 'O[C@@H](c1cc(C(F)(F)F)nc2c(C(F)(F)F)cccc12)[C@H]1CCCCN1_32_RDKFingerprint_True_False': 14\n",
      "Length of list for key 'Cc1nc(Nc2ccc(F)cc2)nc(N2CCc3ccccc3C2C)c1C_32_RDKFingerprint_True_False': 14\n",
      "Length of list for key 'CN(C)CCC=C1c2ccccc2C(C)(C)c2ccccc21_32_RDKFingerprint_True_False': 14\n",
      "Length of list for key 'Cc1c(O)cccc1C(=O)N[C@@H](CSc1ccccc1)[C@H](O)CN1C[C@H]2CCCC[C@H]2C[C@H]1C(=O)NC(C)(C)C_32_RDKFingerprint_True_False': 14\n",
      "Length of list for key 'COC(=O)C1=C(C)NC(C)=C(C(=O)OCCN(C)Cc2ccccc2)C1c1cccc([N+](=O)[O-])c1.Cl_32_RDKFingerprint_True_False': 14\n",
      "Length of list for key 'Cc1cn(-c2cc(NC(=O)c3ccc(C)c(Nc4nccc(-c5cccnc5)n4)c3)cc(C(F)(F)F)c2)cn1_32_RDKFingerprint_True_False': 14\n",
      "Length of list for key 'C=CC(=O)Nc1cccc(Oc2nc(Nc3ccc(N4CCN(C)CC4)cc3)nc3ccsc23)c1_32_RDKFingerprint_True_False': 14\n",
      "Length of list for key 'CC(C)N1CCN(c2ccc(OC[C@H]3CO[C@](Cn4cncn4)(c4ccc(Cl)cc4Cl)O3)cc2)CC1_32_RDKFingerprint_True_False': 14\n",
      "Length of list for key 'CSc1ccc2c(c1)N(CCC1CCCCN1C)c1ccccc1S2_32_RDKFingerprint_True_False': 14\n",
      "Length of list for key 'CN1CCN(CC/C=C2/c3ccccc3Sc3ccc(S(=O)(=O)N(C)C)cc32)CC1_32_RDKFingerprint_True_False': 14\n",
      "Length of list for key 'CCN(CC)CCOc1ccc2c(c1)C(=O)c1cc(OCCN(CC)CC)ccc1-2_32_RDKFingerprint_True_False': 14\n",
      "Length of list for key 'CN(C)CCCN1c2ccccc2Sc2ccc(C(F)(F)F)cc21.Cl_32_RDKFingerprint_True_False': 14\n",
      "Length of list for key 'CCN(CC)Cc1cc(Nc2ccnc3cc(Cl)ccc23)ccc1O_33_RDKFingerprint_True_True': 14\n",
      "Length of list for key 'C[C@@H](Oc1cc(-c2cnn(C3CCNCC3)c2)cnc1N)c1c(Cl)ccc(F)c1Cl_33_RDKFingerprint_True_True': 14\n",
      "Length of list for key 'CN1CCc2c(c3ccccc3n2Cc2ccccc2)C1_33_RDKFingerprint_True_True': 14\n",
      "Length of list for key 'COC(=O)C[C@@](O)(CCC(C)(C)O)C(=O)O[C@@H]1C(OC)=C[C@]23CCCN2CCc2cc4c(cc2[C@@H]13)OCO4_33_RDKFingerprint_True_True': 22\n",
      "Length of list for key 'OCCN1CCN(CCCN2c3ccccc3Sc3ccc(C(F)(F)F)cc32)CC1_33_RDKFingerprint_True_True': 14\n",
      "Length of list for key 'CCCCCCCCc1ccc(CCC(N)(CO)CO)cc1_33_RDKFingerprint_True_True': 14\n",
      "Length of list for key 'CC(NCCC(c1ccccc1)c1ccccc1)c1ccccc1_33_RDKFingerprint_True_True': 14\n",
      "Length of list for key 'CCCCc1oc2ccc(NS(C)(=O)=O)cc2c1C(=O)c1ccc(OCCCN(CCCC)CCCC)cc1.Cl_33_RDKFingerprint_True_True': 14\n",
      "Length of list for key 'OCCN1CCN(CCCN2c3ccccc3Sc3ccc(Cl)cc32)CC1_33_RDKFingerprint_True_True': 14\n",
      "Length of list for key 'CC(C)COc1ccc(CNC(=O)N(Cc2ccc(F)cc2)C2CCN(C)CC2)cc1_33_RDKFingerprint_True_True': 14\n",
      "Length of list for key 'CN1CCN(CCCN2c3ccccc3Sc3ccc(Cl)cc32)CC1.O=S(=O)(O)CCS(=O)(=O)O_33_RDKFingerprint_True_True': 14\n",
      "Length of list for key 'O=C(c1ccc(OCCN2CCCCC2)cc1)c1c(-c2ccc(O)cc2)sc2cc(O)ccc12_33_RDKFingerprint_True_True': 14\n",
      "Length of list for key 'CCN1CCN(Cc2ccc(Nc3ncc(F)c(-c4cc(F)c5nc(C)n(C(C)C)c5c4)n3)nc2)CC1_33_RDKFingerprint_True_True': 14\n",
      "Length of list for key 'O[C@@H](c1cc(C(F)(F)F)nc2c(C(F)(F)F)cccc12)[C@H]1CCCCN1_33_RDKFingerprint_True_True': 14\n",
      "Length of list for key 'Cc1nc(Nc2ccc(F)cc2)nc(N2CCc3ccccc3C2C)c1C_33_RDKFingerprint_True_True': 14\n",
      "Length of list for key 'CN(C)CCC=C1c2ccccc2C(C)(C)c2ccccc21_33_RDKFingerprint_True_True': 14\n",
      "Length of list for key 'Cc1c(O)cccc1C(=O)N[C@@H](CSc1ccccc1)[C@H](O)CN1C[C@H]2CCCC[C@H]2C[C@H]1C(=O)NC(C)(C)C_33_RDKFingerprint_True_True': 14\n",
      "Length of list for key 'COC(=O)C1=C(C)NC(C)=C(C(=O)OCCN(C)Cc2ccccc2)C1c1cccc([N+](=O)[O-])c1.Cl_33_RDKFingerprint_True_True': 14\n",
      "Length of list for key 'Cc1cn(-c2cc(NC(=O)c3ccc(C)c(Nc4nccc(-c5cccnc5)n4)c3)cc(C(F)(F)F)c2)cn1_33_RDKFingerprint_True_True': 14\n",
      "Length of list for key 'C=CC(=O)Nc1cccc(Oc2nc(Nc3ccc(N4CCN(C)CC4)cc3)nc3ccsc23)c1_33_RDKFingerprint_True_True': 14\n",
      "Length of list for key 'CC(C)N1CCN(c2ccc(OC[C@H]3CO[C@](Cn4cncn4)(c4ccc(Cl)cc4Cl)O3)cc2)CC1_33_RDKFingerprint_True_True': 14\n",
      "Length of list for key 'CSc1ccc2c(c1)N(CCC1CCCCN1C)c1ccccc1S2_33_RDKFingerprint_True_True': 14\n",
      "Length of list for key 'CN1CCN(CC/C=C2/c3ccccc3Sc3ccc(S(=O)(=O)N(C)C)cc32)CC1_33_RDKFingerprint_True_True': 14\n",
      "Length of list for key 'CCN(CC)CCOc1ccc2c(c1)C(=O)c1cc(OCCN(CC)CC)ccc1-2_33_RDKFingerprint_True_True': 14\n",
      "Length of list for key 'CN(C)CCCN1c2ccccc2Sc2ccc(C(F)(F)F)cc21.Cl_33_RDKFingerprint_True_True': 14\n",
      "Length of list for key 'CCN(CC)Cc1cc(Nc2ccnc3cc(Cl)ccc23)ccc1O_33_RDKFingerprint_True_False': 14\n",
      "Length of list for key 'C[C@@H](Oc1cc(-c2cnn(C3CCNCC3)c2)cnc1N)c1c(Cl)ccc(F)c1Cl_33_RDKFingerprint_True_False': 14\n",
      "Length of list for key 'CN1CCc2c(c3ccccc3n2Cc2ccccc2)C1_33_RDKFingerprint_True_False': 14\n",
      "Length of list for key 'COC(=O)C[C@@](O)(CCC(C)(C)O)C(=O)O[C@@H]1C(OC)=C[C@]23CCCN2CCc2cc4c(cc2[C@@H]13)OCO4_33_RDKFingerprint_True_False': 22\n",
      "Length of list for key 'OCCN1CCN(CCCN2c3ccccc3Sc3ccc(C(F)(F)F)cc32)CC1_33_RDKFingerprint_True_False': 14\n",
      "Length of list for key 'CCCCCCCCc1ccc(CCC(N)(CO)CO)cc1_33_RDKFingerprint_True_False': 14\n",
      "Length of list for key 'CC(NCCC(c1ccccc1)c1ccccc1)c1ccccc1_33_RDKFingerprint_True_False': 14\n",
      "Length of list for key 'CCCCc1oc2ccc(NS(C)(=O)=O)cc2c1C(=O)c1ccc(OCCCN(CCCC)CCCC)cc1.Cl_33_RDKFingerprint_True_False': 14\n",
      "Length of list for key 'OCCN1CCN(CCCN2c3ccccc3Sc3ccc(Cl)cc32)CC1_33_RDKFingerprint_True_False': 14\n",
      "Length of list for key 'CC(C)COc1ccc(CNC(=O)N(Cc2ccc(F)cc2)C2CCN(C)CC2)cc1_33_RDKFingerprint_True_False': 14\n",
      "Length of list for key 'CN1CCN(CCCN2c3ccccc3Sc3ccc(Cl)cc32)CC1.O=S(=O)(O)CCS(=O)(=O)O_33_RDKFingerprint_True_False': 14\n",
      "Length of list for key 'O=C(c1ccc(OCCN2CCCCC2)cc1)c1c(-c2ccc(O)cc2)sc2cc(O)ccc12_33_RDKFingerprint_True_False': 14\n",
      "Length of list for key 'CCN1CCN(Cc2ccc(Nc3ncc(F)c(-c4cc(F)c5nc(C)n(C(C)C)c5c4)n3)nc2)CC1_33_RDKFingerprint_True_False': 14\n",
      "Length of list for key 'O[C@@H](c1cc(C(F)(F)F)nc2c(C(F)(F)F)cccc12)[C@H]1CCCCN1_33_RDKFingerprint_True_False': 14\n",
      "Length of list for key 'Cc1nc(Nc2ccc(F)cc2)nc(N2CCc3ccccc3C2C)c1C_33_RDKFingerprint_True_False': 14\n",
      "Length of list for key 'CN(C)CCC=C1c2ccccc2C(C)(C)c2ccccc21_33_RDKFingerprint_True_False': 14\n",
      "Length of list for key 'Cc1c(O)cccc1C(=O)N[C@@H](CSc1ccccc1)[C@H](O)CN1C[C@H]2CCCC[C@H]2C[C@H]1C(=O)NC(C)(C)C_33_RDKFingerprint_True_False': 14\n",
      "Length of list for key 'COC(=O)C1=C(C)NC(C)=C(C(=O)OCCN(C)Cc2ccccc2)C1c1cccc([N+](=O)[O-])c1.Cl_33_RDKFingerprint_True_False': 14\n",
      "Length of list for key 'Cc1cn(-c2cc(NC(=O)c3ccc(C)c(Nc4nccc(-c5cccnc5)n4)c3)cc(C(F)(F)F)c2)cn1_33_RDKFingerprint_True_False': 14\n",
      "Length of list for key 'C=CC(=O)Nc1cccc(Oc2nc(Nc3ccc(N4CCN(C)CC4)cc3)nc3ccsc23)c1_33_RDKFingerprint_True_False': 14\n",
      "Length of list for key 'CC(C)N1CCN(c2ccc(OC[C@H]3CO[C@](Cn4cncn4)(c4ccc(Cl)cc4Cl)O3)cc2)CC1_33_RDKFingerprint_True_False': 14\n",
      "Length of list for key 'CSc1ccc2c(c1)N(CCC1CCCCN1C)c1ccccc1S2_33_RDKFingerprint_True_False': 14\n",
      "Length of list for key 'CN1CCN(CC/C=C2/c3ccccc3Sc3ccc(S(=O)(=O)N(C)C)cc32)CC1_33_RDKFingerprint_True_False': 14\n",
      "Length of list for key 'CCN(CC)CCOc1ccc2c(c1)C(=O)c1cc(OCCN(CC)CC)ccc1-2_33_RDKFingerprint_True_False': 14\n",
      "Length of list for key 'CN(C)CCCN1c2ccccc2Sc2ccc(C(F)(F)F)cc21.Cl_33_RDKFingerprint_True_False': 14\n"
     ]
    }
   ],
   "source": [
    "for key in smiles_prediction_results:\n",
    "    print(f\"Length of list for key '{key}': {len(smiles_prediction_results[key])}\")\n"
   ]
  },
  {
   "cell_type": "code",
   "execution_count": 18,
   "id": "617c5b33-0c7f-4305-ad31-00edbce3fac7",
   "metadata": {},
   "outputs": [],
   "source": [
    "padding_value = None\n",
    "max_length = max(len(lst) for lst in smiles_prediction_results.values())\n",
    "padded_results = {k: v + [padding_value] * (max_length - len(v)) for k, v in smiles_prediction_results.items()}"
   ]
  },
  {
   "cell_type": "code",
   "execution_count": 20,
   "id": "b8041032-d4b5-4351-89b0-222b59f014bc",
   "metadata": {},
   "outputs": [
    {
     "data": {
      "text/html": [
       "<div>\n",
       "<style scoped>\n",
       "    .dataframe tbody tr th:only-of-type {\n",
       "        vertical-align: middle;\n",
       "    }\n",
       "\n",
       "    .dataframe tbody tr th {\n",
       "        vertical-align: top;\n",
       "    }\n",
       "\n",
       "    .dataframe thead th {\n",
       "        text-align: right;\n",
       "    }\n",
       "</style>\n",
       "<table border=\"1\" class=\"dataframe\">\n",
       "  <thead>\n",
       "    <tr style=\"text-align: right;\">\n",
       "      <th></th>\n",
       "      <th>0</th>\n",
       "      <th>1</th>\n",
       "      <th>2</th>\n",
       "      <th>3</th>\n",
       "      <th>4</th>\n",
       "      <th>5</th>\n",
       "      <th>6</th>\n",
       "      <th>7</th>\n",
       "      <th>8</th>\n",
       "      <th>9</th>\n",
       "      <th>...</th>\n",
       "      <th>12</th>\n",
       "      <th>13</th>\n",
       "      <th>14</th>\n",
       "      <th>15</th>\n",
       "      <th>16</th>\n",
       "      <th>17</th>\n",
       "      <th>18</th>\n",
       "      <th>19</th>\n",
       "      <th>20</th>\n",
       "      <th>21</th>\n",
       "    </tr>\n",
       "  </thead>\n",
       "  <tbody>\n",
       "    <tr>\n",
       "      <th>CCN(CC)Cc1cc(Nc2ccnc3cc(Cl)ccc23)ccc1O_1_RDKFingerprint_True_True</th>\n",
       "      <td>1</td>\n",
       "      <td>RDKFingerprint</td>\n",
       "      <td>True</td>\n",
       "      <td>True</td>\n",
       "      <td>1</td>\n",
       "      <td>0.480000</td>\n",
       "      <td>0.520000</td>\n",
       "      <td>[1, RDKFingerprint, True, True, 0, 0.794520807...</td>\n",
       "      <td>[1, RDKFingerprint, True, True, 0, 0.600654019...</td>\n",
       "      <td>[1, RDKFingerprint, True, True, 0, 0.674318326...</td>\n",
       "      <td>...</td>\n",
       "      <td>[1, RDKFingerprint, True, True, 0, nan, nan]</td>\n",
       "      <td>[1, RDKFingerprint, True, True, 0, nan, nan]</td>\n",
       "      <td>None</td>\n",
       "      <td>None</td>\n",
       "      <td>None</td>\n",
       "      <td>None</td>\n",
       "      <td>None</td>\n",
       "      <td>None</td>\n",
       "      <td>None</td>\n",
       "      <td>None</td>\n",
       "    </tr>\n",
       "    <tr>\n",
       "      <th>C[C@@H](Oc1cc(-c2cnn(C3CCNCC3)c2)cnc1N)c1c(Cl)ccc(F)c1Cl_1_RDKFingerprint_True_True</th>\n",
       "      <td>1</td>\n",
       "      <td>RDKFingerprint</td>\n",
       "      <td>True</td>\n",
       "      <td>True</td>\n",
       "      <td>0</td>\n",
       "      <td>0.805000</td>\n",
       "      <td>0.195000</td>\n",
       "      <td>[1, RDKFingerprint, True, True, 0, 0.970698517...</td>\n",
       "      <td>[1, RDKFingerprint, True, True, 0, 0.665462615...</td>\n",
       "      <td>[1, RDKFingerprint, True, True, 0, 0.675518301...</td>\n",
       "      <td>...</td>\n",
       "      <td>[1, RDKFingerprint, True, True, 0, nan, nan]</td>\n",
       "      <td>[1, RDKFingerprint, True, True, 0, nan, nan]</td>\n",
       "      <td>None</td>\n",
       "      <td>None</td>\n",
       "      <td>None</td>\n",
       "      <td>None</td>\n",
       "      <td>None</td>\n",
       "      <td>None</td>\n",
       "      <td>None</td>\n",
       "      <td>None</td>\n",
       "    </tr>\n",
       "    <tr>\n",
       "      <th>CN1CCc2c(c3ccccc3n2Cc2ccccc2)C1_1_RDKFingerprint_True_True</th>\n",
       "      <td>1</td>\n",
       "      <td>RDKFingerprint</td>\n",
       "      <td>True</td>\n",
       "      <td>True</td>\n",
       "      <td>0</td>\n",
       "      <td>0.728500</td>\n",
       "      <td>0.271500</td>\n",
       "      <td>[1, RDKFingerprint, True, True, 0, 0.760693774...</td>\n",
       "      <td>[1, RDKFingerprint, True, True, 0, 0.701247503...</td>\n",
       "      <td>[1, RDKFingerprint, True, True, 0, 0.506795055...</td>\n",
       "      <td>...</td>\n",
       "      <td>[1, RDKFingerprint, True, True, 0, nan, nan]</td>\n",
       "      <td>[1, RDKFingerprint, True, True, 0, nan, nan]</td>\n",
       "      <td>None</td>\n",
       "      <td>None</td>\n",
       "      <td>None</td>\n",
       "      <td>None</td>\n",
       "      <td>None</td>\n",
       "      <td>None</td>\n",
       "      <td>None</td>\n",
       "      <td>None</td>\n",
       "    </tr>\n",
       "    <tr>\n",
       "      <th>COC(=O)C[C@@](O)(CCC(C)(C)O)C(=O)O[C@@H]1C(OC)=C[C@]23CCCN2CCc2cc4c(cc2[C@@H]13)OCO4_1_RDKFingerprint_True_True</th>\n",
       "      <td>1</td>\n",
       "      <td>RDKFingerprint</td>\n",
       "      <td>True</td>\n",
       "      <td>True</td>\n",
       "      <td>1</td>\n",
       "      <td>0.360000</td>\n",
       "      <td>0.640000</td>\n",
       "      <td>[1, RDKFingerprint, True, True, 1, 0.36, 0.64]</td>\n",
       "      <td>[1, RDKFingerprint, True, True, 0, 0.817312424...</td>\n",
       "      <td>[1, RDKFingerprint, True, True, 0, 0.817312424...</td>\n",
       "      <td>...</td>\n",
       "      <td>[1, RDKFingerprint, True, True, 0, 0.680129707...</td>\n",
       "      <td>[1, RDKFingerprint, True, True, 0, 0.680129707...</td>\n",
       "      <td>[1, RDKFingerprint, True, True, 1, nan, nan]</td>\n",
       "      <td>[1, RDKFingerprint, True, True, 1, nan, nan]</td>\n",
       "      <td>[1, RDKFingerprint, True, True, 0, nan, nan]</td>\n",
       "      <td>[1, RDKFingerprint, True, True, 0, nan, nan]</td>\n",
       "      <td>[1, RDKFingerprint, True, True, 0, nan, nan]</td>\n",
       "      <td>[1, RDKFingerprint, True, True, 0, nan, nan]</td>\n",
       "      <td>[1, RDKFingerprint, True, True, 0, nan, nan]</td>\n",
       "      <td>[1, RDKFingerprint, True, True, 0, nan, nan]</td>\n",
       "    </tr>\n",
       "    <tr>\n",
       "      <th>OCCN1CCN(CCCN2c3ccccc3Sc3ccc(C(F)(F)F)cc32)CC1_1_RDKFingerprint_True_True</th>\n",
       "      <td>1</td>\n",
       "      <td>RDKFingerprint</td>\n",
       "      <td>True</td>\n",
       "      <td>True</td>\n",
       "      <td>0</td>\n",
       "      <td>0.595000</td>\n",
       "      <td>0.405000</td>\n",
       "      <td>[1, RDKFingerprint, True, True, 0, 0.527573141...</td>\n",
       "      <td>[1, RDKFingerprint, True, True, 0, 0.589433826...</td>\n",
       "      <td>[1, RDKFingerprint, True, True, 0, 0.672241011...</td>\n",
       "      <td>...</td>\n",
       "      <td>[1, RDKFingerprint, True, True, 0, nan, nan]</td>\n",
       "      <td>[1, RDKFingerprint, True, True, 1, nan, nan]</td>\n",
       "      <td>None</td>\n",
       "      <td>None</td>\n",
       "      <td>None</td>\n",
       "      <td>None</td>\n",
       "      <td>None</td>\n",
       "      <td>None</td>\n",
       "      <td>None</td>\n",
       "      <td>None</td>\n",
       "    </tr>\n",
       "    <tr>\n",
       "      <th>...</th>\n",
       "      <td>...</td>\n",
       "      <td>...</td>\n",
       "      <td>...</td>\n",
       "      <td>...</td>\n",
       "      <td>...</td>\n",
       "      <td>...</td>\n",
       "      <td>...</td>\n",
       "      <td>...</td>\n",
       "      <td>...</td>\n",
       "      <td>...</td>\n",
       "      <td>...</td>\n",
       "      <td>...</td>\n",
       "      <td>...</td>\n",
       "      <td>...</td>\n",
       "      <td>...</td>\n",
       "      <td>...</td>\n",
       "      <td>...</td>\n",
       "      <td>...</td>\n",
       "      <td>...</td>\n",
       "      <td>...</td>\n",
       "      <td>...</td>\n",
       "    </tr>\n",
       "    <tr>\n",
       "      <th>CC(C)N1CCN(c2ccc(OC[C@H]3CO[C@](Cn4cncn4)(c4ccc(Cl)cc4Cl)O3)cc2)CC1_33_RDKFingerprint_True_False</th>\n",
       "      <td>33</td>\n",
       "      <td>RDKFingerprint</td>\n",
       "      <td>True</td>\n",
       "      <td>False</td>\n",
       "      <td>0</td>\n",
       "      <td>0.860667</td>\n",
       "      <td>0.139333</td>\n",
       "      <td>[33, RDKFingerprint, True, False, 0, 0.9374983...</td>\n",
       "      <td>[33, RDKFingerprint, True, False, 0, 0.8973594...</td>\n",
       "      <td>[33, RDKFingerprint, True, False, 0, 0.5112737...</td>\n",
       "      <td>...</td>\n",
       "      <td>[33, RDKFingerprint, True, False, 0, nan, nan]</td>\n",
       "      <td>[33, RDKFingerprint, True, False, 1, nan, nan]</td>\n",
       "      <td>None</td>\n",
       "      <td>None</td>\n",
       "      <td>None</td>\n",
       "      <td>None</td>\n",
       "      <td>None</td>\n",
       "      <td>None</td>\n",
       "      <td>None</td>\n",
       "      <td>None</td>\n",
       "    </tr>\n",
       "    <tr>\n",
       "      <th>CSc1ccc2c(c1)N(CCC1CCCCN1C)c1ccccc1S2_33_RDKFingerprint_True_False</th>\n",
       "      <td>33</td>\n",
       "      <td>RDKFingerprint</td>\n",
       "      <td>True</td>\n",
       "      <td>False</td>\n",
       "      <td>0</td>\n",
       "      <td>0.975000</td>\n",
       "      <td>0.025000</td>\n",
       "      <td>[33, RDKFingerprint, True, False, 0, 0.9472610...</td>\n",
       "      <td>[33, RDKFingerprint, True, False, 0, 0.9595287...</td>\n",
       "      <td>[33, RDKFingerprint, True, False, 0, 0.5102747...</td>\n",
       "      <td>...</td>\n",
       "      <td>[33, RDKFingerprint, True, False, 0, nan, nan]</td>\n",
       "      <td>[33, RDKFingerprint, True, False, 0, nan, nan]</td>\n",
       "      <td>None</td>\n",
       "      <td>None</td>\n",
       "      <td>None</td>\n",
       "      <td>None</td>\n",
       "      <td>None</td>\n",
       "      <td>None</td>\n",
       "      <td>None</td>\n",
       "      <td>None</td>\n",
       "    </tr>\n",
       "    <tr>\n",
       "      <th>CN1CCN(CC/C=C2/c3ccccc3Sc3ccc(S(=O)(=O)N(C)C)cc32)CC1_33_RDKFingerprint_True_False</th>\n",
       "      <td>33</td>\n",
       "      <td>RDKFingerprint</td>\n",
       "      <td>True</td>\n",
       "      <td>False</td>\n",
       "      <td>0</td>\n",
       "      <td>0.960000</td>\n",
       "      <td>0.040000</td>\n",
       "      <td>[33, RDKFingerprint, True, False, 0, 0.9699140...</td>\n",
       "      <td>[33, RDKFingerprint, True, False, 0, 0.9268728...</td>\n",
       "      <td>[33, RDKFingerprint, True, False, 0, 0.5120498...</td>\n",
       "      <td>...</td>\n",
       "      <td>[33, RDKFingerprint, True, False, 0, nan, nan]</td>\n",
       "      <td>[33, RDKFingerprint, True, False, 0, nan, nan]</td>\n",
       "      <td>None</td>\n",
       "      <td>None</td>\n",
       "      <td>None</td>\n",
       "      <td>None</td>\n",
       "      <td>None</td>\n",
       "      <td>None</td>\n",
       "      <td>None</td>\n",
       "      <td>None</td>\n",
       "    </tr>\n",
       "    <tr>\n",
       "      <th>CCN(CC)CCOc1ccc2c(c1)C(=O)c1cc(OCCN(CC)CC)ccc1-2_33_RDKFingerprint_True_False</th>\n",
       "      <td>33</td>\n",
       "      <td>RDKFingerprint</td>\n",
       "      <td>True</td>\n",
       "      <td>False</td>\n",
       "      <td>0</td>\n",
       "      <td>0.809167</td>\n",
       "      <td>0.190833</td>\n",
       "      <td>[33, RDKFingerprint, True, False, 0, 0.9223970...</td>\n",
       "      <td>[33, RDKFingerprint, True, False, 0, 0.8861371...</td>\n",
       "      <td>[33, RDKFingerprint, True, False, 0, 0.5081524...</td>\n",
       "      <td>...</td>\n",
       "      <td>[33, RDKFingerprint, True, False, 0, nan, nan]</td>\n",
       "      <td>[33, RDKFingerprint, True, False, 0, nan, nan]</td>\n",
       "      <td>None</td>\n",
       "      <td>None</td>\n",
       "      <td>None</td>\n",
       "      <td>None</td>\n",
       "      <td>None</td>\n",
       "      <td>None</td>\n",
       "      <td>None</td>\n",
       "      <td>None</td>\n",
       "    </tr>\n",
       "    <tr>\n",
       "      <th>CN(C)CCCN1c2ccccc2Sc2ccc(C(F)(F)F)cc21.Cl_33_RDKFingerprint_True_False</th>\n",
       "      <td>33</td>\n",
       "      <td>RDKFingerprint</td>\n",
       "      <td>True</td>\n",
       "      <td>False</td>\n",
       "      <td>0</td>\n",
       "      <td>0.528881</td>\n",
       "      <td>0.471119</td>\n",
       "      <td>[33, RDKFingerprint, True, False, 0, 0.8553045...</td>\n",
       "      <td>[33, RDKFingerprint, True, False, 0, 0.9185408...</td>\n",
       "      <td>[33, RDKFingerprint, True, False, 0, 0.5121138...</td>\n",
       "      <td>...</td>\n",
       "      <td>[33, RDKFingerprint, True, False, 0, nan, nan]</td>\n",
       "      <td>[33, RDKFingerprint, True, False, 0, nan, nan]</td>\n",
       "      <td>None</td>\n",
       "      <td>None</td>\n",
       "      <td>None</td>\n",
       "      <td>None</td>\n",
       "      <td>None</td>\n",
       "      <td>None</td>\n",
       "      <td>None</td>\n",
       "      <td>None</td>\n",
       "    </tr>\n",
       "  </tbody>\n",
       "</table>\n",
       "<p>1650 rows × 22 columns</p>\n",
       "</div>"
      ],
      "text/plain": [
       "                                                    0               1     2    \n",
       "CCN(CC)Cc1cc(Nc2ccnc3cc(Cl)ccc23)ccc1O_1_RDKFin...   1  RDKFingerprint  True  \\\n",
       "C[C@@H](Oc1cc(-c2cnn(C3CCNCC3)c2)cnc1N)c1c(Cl)c...   1  RDKFingerprint  True   \n",
       "CN1CCc2c(c3ccccc3n2Cc2ccccc2)C1_1_RDKFingerprin...   1  RDKFingerprint  True   \n",
       "COC(=O)C[C@@](O)(CCC(C)(C)O)C(=O)O[C@@H]1C(OC)=...   1  RDKFingerprint  True   \n",
       "OCCN1CCN(CCCN2c3ccccc3Sc3ccc(C(F)(F)F)cc32)CC1_...   1  RDKFingerprint  True   \n",
       "...                                                 ..             ...   ...   \n",
       "CC(C)N1CCN(c2ccc(OC[C@H]3CO[C@](Cn4cncn4)(c4ccc...  33  RDKFingerprint  True   \n",
       "CSc1ccc2c(c1)N(CCC1CCCCN1C)c1ccccc1S2_33_RDKFin...  33  RDKFingerprint  True   \n",
       "CN1CCN(CC/C=C2/c3ccccc3Sc3ccc(S(=O)(=O)N(C)C)cc...  33  RDKFingerprint  True   \n",
       "CCN(CC)CCOc1ccc2c(c1)C(=O)c1cc(OCCN(CC)CC)ccc1-...  33  RDKFingerprint  True   \n",
       "CN(C)CCCN1c2ccccc2Sc2ccc(C(F)(F)F)cc21.Cl_33_RD...  33  RDKFingerprint  True   \n",
       "\n",
       "                                                       3   4         5    \n",
       "CCN(CC)Cc1cc(Nc2ccnc3cc(Cl)ccc23)ccc1O_1_RDKFin...   True   1  0.480000  \\\n",
       "C[C@@H](Oc1cc(-c2cnn(C3CCNCC3)c2)cnc1N)c1c(Cl)c...   True   0  0.805000   \n",
       "CN1CCc2c(c3ccccc3n2Cc2ccccc2)C1_1_RDKFingerprin...   True   0  0.728500   \n",
       "COC(=O)C[C@@](O)(CCC(C)(C)O)C(=O)O[C@@H]1C(OC)=...   True   1  0.360000   \n",
       "OCCN1CCN(CCCN2c3ccccc3Sc3ccc(C(F)(F)F)cc32)CC1_...   True   0  0.595000   \n",
       "...                                                   ...  ..       ...   \n",
       "CC(C)N1CCN(c2ccc(OC[C@H]3CO[C@](Cn4cncn4)(c4ccc...  False   0  0.860667   \n",
       "CSc1ccc2c(c1)N(CCC1CCCCN1C)c1ccccc1S2_33_RDKFin...  False   0  0.975000   \n",
       "CN1CCN(CC/C=C2/c3ccccc3Sc3ccc(S(=O)(=O)N(C)C)cc...  False   0  0.960000   \n",
       "CCN(CC)CCOc1ccc2c(c1)C(=O)c1cc(OCCN(CC)CC)ccc1-...  False   0  0.809167   \n",
       "CN(C)CCCN1c2ccccc2Sc2ccc(C(F)(F)F)cc21.Cl_33_RD...  False   0  0.528881   \n",
       "\n",
       "                                                          6    \n",
       "CCN(CC)Cc1cc(Nc2ccnc3cc(Cl)ccc23)ccc1O_1_RDKFin...  0.520000  \\\n",
       "C[C@@H](Oc1cc(-c2cnn(C3CCNCC3)c2)cnc1N)c1c(Cl)c...  0.195000   \n",
       "CN1CCc2c(c3ccccc3n2Cc2ccccc2)C1_1_RDKFingerprin...  0.271500   \n",
       "COC(=O)C[C@@](O)(CCC(C)(C)O)C(=O)O[C@@H]1C(OC)=...  0.640000   \n",
       "OCCN1CCN(CCCN2c3ccccc3Sc3ccc(C(F)(F)F)cc32)CC1_...  0.405000   \n",
       "...                                                      ...   \n",
       "CC(C)N1CCN(c2ccc(OC[C@H]3CO[C@](Cn4cncn4)(c4ccc...  0.139333   \n",
       "CSc1ccc2c(c1)N(CCC1CCCCN1C)c1ccccc1S2_33_RDKFin...  0.025000   \n",
       "CN1CCN(CC/C=C2/c3ccccc3Sc3ccc(S(=O)(=O)N(C)C)cc...  0.040000   \n",
       "CCN(CC)CCOc1ccc2c(c1)C(=O)c1cc(OCCN(CC)CC)ccc1-...  0.190833   \n",
       "CN(C)CCCN1c2ccccc2Sc2ccc(C(F)(F)F)cc21.Cl_33_RD...  0.471119   \n",
       "\n",
       "                                                                                                   7    \n",
       "CCN(CC)Cc1cc(Nc2ccnc3cc(Cl)ccc23)ccc1O_1_RDKFin...  [1, RDKFingerprint, True, True, 0, 0.794520807...  \\\n",
       "C[C@@H](Oc1cc(-c2cnn(C3CCNCC3)c2)cnc1N)c1c(Cl)c...  [1, RDKFingerprint, True, True, 0, 0.970698517...   \n",
       "CN1CCc2c(c3ccccc3n2Cc2ccccc2)C1_1_RDKFingerprin...  [1, RDKFingerprint, True, True, 0, 0.760693774...   \n",
       "COC(=O)C[C@@](O)(CCC(C)(C)O)C(=O)O[C@@H]1C(OC)=...     [1, RDKFingerprint, True, True, 1, 0.36, 0.64]   \n",
       "OCCN1CCN(CCCN2c3ccccc3Sc3ccc(C(F)(F)F)cc32)CC1_...  [1, RDKFingerprint, True, True, 0, 0.527573141...   \n",
       "...                                                                                               ...   \n",
       "CC(C)N1CCN(c2ccc(OC[C@H]3CO[C@](Cn4cncn4)(c4ccc...  [33, RDKFingerprint, True, False, 0, 0.9374983...   \n",
       "CSc1ccc2c(c1)N(CCC1CCCCN1C)c1ccccc1S2_33_RDKFin...  [33, RDKFingerprint, True, False, 0, 0.9472610...   \n",
       "CN1CCN(CC/C=C2/c3ccccc3Sc3ccc(S(=O)(=O)N(C)C)cc...  [33, RDKFingerprint, True, False, 0, 0.9699140...   \n",
       "CCN(CC)CCOc1ccc2c(c1)C(=O)c1cc(OCCN(CC)CC)ccc1-...  [33, RDKFingerprint, True, False, 0, 0.9223970...   \n",
       "CN(C)CCCN1c2ccccc2Sc2ccc(C(F)(F)F)cc21.Cl_33_RD...  [33, RDKFingerprint, True, False, 0, 0.8553045...   \n",
       "\n",
       "                                                                                                   8    \n",
       "CCN(CC)Cc1cc(Nc2ccnc3cc(Cl)ccc23)ccc1O_1_RDKFin...  [1, RDKFingerprint, True, True, 0, 0.600654019...  \\\n",
       "C[C@@H](Oc1cc(-c2cnn(C3CCNCC3)c2)cnc1N)c1c(Cl)c...  [1, RDKFingerprint, True, True, 0, 0.665462615...   \n",
       "CN1CCc2c(c3ccccc3n2Cc2ccccc2)C1_1_RDKFingerprin...  [1, RDKFingerprint, True, True, 0, 0.701247503...   \n",
       "COC(=O)C[C@@](O)(CCC(C)(C)O)C(=O)O[C@@H]1C(OC)=...  [1, RDKFingerprint, True, True, 0, 0.817312424...   \n",
       "OCCN1CCN(CCCN2c3ccccc3Sc3ccc(C(F)(F)F)cc32)CC1_...  [1, RDKFingerprint, True, True, 0, 0.589433826...   \n",
       "...                                                                                               ...   \n",
       "CC(C)N1CCN(c2ccc(OC[C@H]3CO[C@](Cn4cncn4)(c4ccc...  [33, RDKFingerprint, True, False, 0, 0.8973594...   \n",
       "CSc1ccc2c(c1)N(CCC1CCCCN1C)c1ccccc1S2_33_RDKFin...  [33, RDKFingerprint, True, False, 0, 0.9595287...   \n",
       "CN1CCN(CC/C=C2/c3ccccc3Sc3ccc(S(=O)(=O)N(C)C)cc...  [33, RDKFingerprint, True, False, 0, 0.9268728...   \n",
       "CCN(CC)CCOc1ccc2c(c1)C(=O)c1cc(OCCN(CC)CC)ccc1-...  [33, RDKFingerprint, True, False, 0, 0.8861371...   \n",
       "CN(C)CCCN1c2ccccc2Sc2ccc(C(F)(F)F)cc21.Cl_33_RD...  [33, RDKFingerprint, True, False, 0, 0.9185408...   \n",
       "\n",
       "                                                                                                   9    \n",
       "CCN(CC)Cc1cc(Nc2ccnc3cc(Cl)ccc23)ccc1O_1_RDKFin...  [1, RDKFingerprint, True, True, 0, 0.674318326...  \\\n",
       "C[C@@H](Oc1cc(-c2cnn(C3CCNCC3)c2)cnc1N)c1c(Cl)c...  [1, RDKFingerprint, True, True, 0, 0.675518301...   \n",
       "CN1CCc2c(c3ccccc3n2Cc2ccccc2)C1_1_RDKFingerprin...  [1, RDKFingerprint, True, True, 0, 0.506795055...   \n",
       "COC(=O)C[C@@](O)(CCC(C)(C)O)C(=O)O[C@@H]1C(OC)=...  [1, RDKFingerprint, True, True, 0, 0.817312424...   \n",
       "OCCN1CCN(CCCN2c3ccccc3Sc3ccc(C(F)(F)F)cc32)CC1_...  [1, RDKFingerprint, True, True, 0, 0.672241011...   \n",
       "...                                                                                               ...   \n",
       "CC(C)N1CCN(c2ccc(OC[C@H]3CO[C@](Cn4cncn4)(c4ccc...  [33, RDKFingerprint, True, False, 0, 0.5112737...   \n",
       "CSc1ccc2c(c1)N(CCC1CCCCN1C)c1ccccc1S2_33_RDKFin...  [33, RDKFingerprint, True, False, 0, 0.5102747...   \n",
       "CN1CCN(CC/C=C2/c3ccccc3Sc3ccc(S(=O)(=O)N(C)C)cc...  [33, RDKFingerprint, True, False, 0, 0.5120498...   \n",
       "CCN(CC)CCOc1ccc2c(c1)C(=O)c1cc(OCCN(CC)CC)ccc1-...  [33, RDKFingerprint, True, False, 0, 0.5081524...   \n",
       "CN(C)CCCN1c2ccccc2Sc2ccc(C(F)(F)F)cc21.Cl_33_RD...  [33, RDKFingerprint, True, False, 0, 0.5121138...   \n",
       "\n",
       "                                                    ...   \n",
       "CCN(CC)Cc1cc(Nc2ccnc3cc(Cl)ccc23)ccc1O_1_RDKFin...  ...  \\\n",
       "C[C@@H](Oc1cc(-c2cnn(C3CCNCC3)c2)cnc1N)c1c(Cl)c...  ...   \n",
       "CN1CCc2c(c3ccccc3n2Cc2ccccc2)C1_1_RDKFingerprin...  ...   \n",
       "COC(=O)C[C@@](O)(CCC(C)(C)O)C(=O)O[C@@H]1C(OC)=...  ...   \n",
       "OCCN1CCN(CCCN2c3ccccc3Sc3ccc(C(F)(F)F)cc32)CC1_...  ...   \n",
       "...                                                 ...   \n",
       "CC(C)N1CCN(c2ccc(OC[C@H]3CO[C@](Cn4cncn4)(c4ccc...  ...   \n",
       "CSc1ccc2c(c1)N(CCC1CCCCN1C)c1ccccc1S2_33_RDKFin...  ...   \n",
       "CN1CCN(CC/C=C2/c3ccccc3Sc3ccc(S(=O)(=O)N(C)C)cc...  ...   \n",
       "CCN(CC)CCOc1ccc2c(c1)C(=O)c1cc(OCCN(CC)CC)ccc1-...  ...   \n",
       "CN(C)CCCN1c2ccccc2Sc2ccc(C(F)(F)F)cc21.Cl_33_RD...  ...   \n",
       "\n",
       "                                                                                                   12   \n",
       "CCN(CC)Cc1cc(Nc2ccnc3cc(Cl)ccc23)ccc1O_1_RDKFin...       [1, RDKFingerprint, True, True, 0, nan, nan]  \\\n",
       "C[C@@H](Oc1cc(-c2cnn(C3CCNCC3)c2)cnc1N)c1c(Cl)c...       [1, RDKFingerprint, True, True, 0, nan, nan]   \n",
       "CN1CCc2c(c3ccccc3n2Cc2ccccc2)C1_1_RDKFingerprin...       [1, RDKFingerprint, True, True, 0, nan, nan]   \n",
       "COC(=O)C[C@@](O)(CCC(C)(C)O)C(=O)O[C@@H]1C(OC)=...  [1, RDKFingerprint, True, True, 0, 0.680129707...   \n",
       "OCCN1CCN(CCCN2c3ccccc3Sc3ccc(C(F)(F)F)cc32)CC1_...       [1, RDKFingerprint, True, True, 0, nan, nan]   \n",
       "...                                                                                               ...   \n",
       "CC(C)N1CCN(c2ccc(OC[C@H]3CO[C@](Cn4cncn4)(c4ccc...     [33, RDKFingerprint, True, False, 0, nan, nan]   \n",
       "CSc1ccc2c(c1)N(CCC1CCCCN1C)c1ccccc1S2_33_RDKFin...     [33, RDKFingerprint, True, False, 0, nan, nan]   \n",
       "CN1CCN(CC/C=C2/c3ccccc3Sc3ccc(S(=O)(=O)N(C)C)cc...     [33, RDKFingerprint, True, False, 0, nan, nan]   \n",
       "CCN(CC)CCOc1ccc2c(c1)C(=O)c1cc(OCCN(CC)CC)ccc1-...     [33, RDKFingerprint, True, False, 0, nan, nan]   \n",
       "CN(C)CCCN1c2ccccc2Sc2ccc(C(F)(F)F)cc21.Cl_33_RD...     [33, RDKFingerprint, True, False, 0, nan, nan]   \n",
       "\n",
       "                                                                                                   13   \n",
       "CCN(CC)Cc1cc(Nc2ccnc3cc(Cl)ccc23)ccc1O_1_RDKFin...       [1, RDKFingerprint, True, True, 0, nan, nan]  \\\n",
       "C[C@@H](Oc1cc(-c2cnn(C3CCNCC3)c2)cnc1N)c1c(Cl)c...       [1, RDKFingerprint, True, True, 0, nan, nan]   \n",
       "CN1CCc2c(c3ccccc3n2Cc2ccccc2)C1_1_RDKFingerprin...       [1, RDKFingerprint, True, True, 0, nan, nan]   \n",
       "COC(=O)C[C@@](O)(CCC(C)(C)O)C(=O)O[C@@H]1C(OC)=...  [1, RDKFingerprint, True, True, 0, 0.680129707...   \n",
       "OCCN1CCN(CCCN2c3ccccc3Sc3ccc(C(F)(F)F)cc32)CC1_...       [1, RDKFingerprint, True, True, 1, nan, nan]   \n",
       "...                                                                                               ...   \n",
       "CC(C)N1CCN(c2ccc(OC[C@H]3CO[C@](Cn4cncn4)(c4ccc...     [33, RDKFingerprint, True, False, 1, nan, nan]   \n",
       "CSc1ccc2c(c1)N(CCC1CCCCN1C)c1ccccc1S2_33_RDKFin...     [33, RDKFingerprint, True, False, 0, nan, nan]   \n",
       "CN1CCN(CC/C=C2/c3ccccc3Sc3ccc(S(=O)(=O)N(C)C)cc...     [33, RDKFingerprint, True, False, 0, nan, nan]   \n",
       "CCN(CC)CCOc1ccc2c(c1)C(=O)c1cc(OCCN(CC)CC)ccc1-...     [33, RDKFingerprint, True, False, 0, nan, nan]   \n",
       "CN(C)CCCN1c2ccccc2Sc2ccc(C(F)(F)F)cc21.Cl_33_RD...     [33, RDKFingerprint, True, False, 0, nan, nan]   \n",
       "\n",
       "                                                                                              14   \n",
       "CCN(CC)Cc1cc(Nc2ccnc3cc(Cl)ccc23)ccc1O_1_RDKFin...                                          None  \\\n",
       "C[C@@H](Oc1cc(-c2cnn(C3CCNCC3)c2)cnc1N)c1c(Cl)c...                                          None   \n",
       "CN1CCc2c(c3ccccc3n2Cc2ccccc2)C1_1_RDKFingerprin...                                          None   \n",
       "COC(=O)C[C@@](O)(CCC(C)(C)O)C(=O)O[C@@H]1C(OC)=...  [1, RDKFingerprint, True, True, 1, nan, nan]   \n",
       "OCCN1CCN(CCCN2c3ccccc3Sc3ccc(C(F)(F)F)cc32)CC1_...                                          None   \n",
       "...                                                                                          ...   \n",
       "CC(C)N1CCN(c2ccc(OC[C@H]3CO[C@](Cn4cncn4)(c4ccc...                                          None   \n",
       "CSc1ccc2c(c1)N(CCC1CCCCN1C)c1ccccc1S2_33_RDKFin...                                          None   \n",
       "CN1CCN(CC/C=C2/c3ccccc3Sc3ccc(S(=O)(=O)N(C)C)cc...                                          None   \n",
       "CCN(CC)CCOc1ccc2c(c1)C(=O)c1cc(OCCN(CC)CC)ccc1-...                                          None   \n",
       "CN(C)CCCN1c2ccccc2Sc2ccc(C(F)(F)F)cc21.Cl_33_RD...                                          None   \n",
       "\n",
       "                                                                                              15   \n",
       "CCN(CC)Cc1cc(Nc2ccnc3cc(Cl)ccc23)ccc1O_1_RDKFin...                                          None  \\\n",
       "C[C@@H](Oc1cc(-c2cnn(C3CCNCC3)c2)cnc1N)c1c(Cl)c...                                          None   \n",
       "CN1CCc2c(c3ccccc3n2Cc2ccccc2)C1_1_RDKFingerprin...                                          None   \n",
       "COC(=O)C[C@@](O)(CCC(C)(C)O)C(=O)O[C@@H]1C(OC)=...  [1, RDKFingerprint, True, True, 1, nan, nan]   \n",
       "OCCN1CCN(CCCN2c3ccccc3Sc3ccc(C(F)(F)F)cc32)CC1_...                                          None   \n",
       "...                                                                                          ...   \n",
       "CC(C)N1CCN(c2ccc(OC[C@H]3CO[C@](Cn4cncn4)(c4ccc...                                          None   \n",
       "CSc1ccc2c(c1)N(CCC1CCCCN1C)c1ccccc1S2_33_RDKFin...                                          None   \n",
       "CN1CCN(CC/C=C2/c3ccccc3Sc3ccc(S(=O)(=O)N(C)C)cc...                                          None   \n",
       "CCN(CC)CCOc1ccc2c(c1)C(=O)c1cc(OCCN(CC)CC)ccc1-...                                          None   \n",
       "CN(C)CCCN1c2ccccc2Sc2ccc(C(F)(F)F)cc21.Cl_33_RD...                                          None   \n",
       "\n",
       "                                                                                              16   \n",
       "CCN(CC)Cc1cc(Nc2ccnc3cc(Cl)ccc23)ccc1O_1_RDKFin...                                          None  \\\n",
       "C[C@@H](Oc1cc(-c2cnn(C3CCNCC3)c2)cnc1N)c1c(Cl)c...                                          None   \n",
       "CN1CCc2c(c3ccccc3n2Cc2ccccc2)C1_1_RDKFingerprin...                                          None   \n",
       "COC(=O)C[C@@](O)(CCC(C)(C)O)C(=O)O[C@@H]1C(OC)=...  [1, RDKFingerprint, True, True, 0, nan, nan]   \n",
       "OCCN1CCN(CCCN2c3ccccc3Sc3ccc(C(F)(F)F)cc32)CC1_...                                          None   \n",
       "...                                                                                          ...   \n",
       "CC(C)N1CCN(c2ccc(OC[C@H]3CO[C@](Cn4cncn4)(c4ccc...                                          None   \n",
       "CSc1ccc2c(c1)N(CCC1CCCCN1C)c1ccccc1S2_33_RDKFin...                                          None   \n",
       "CN1CCN(CC/C=C2/c3ccccc3Sc3ccc(S(=O)(=O)N(C)C)cc...                                          None   \n",
       "CCN(CC)CCOc1ccc2c(c1)C(=O)c1cc(OCCN(CC)CC)ccc1-...                                          None   \n",
       "CN(C)CCCN1c2ccccc2Sc2ccc(C(F)(F)F)cc21.Cl_33_RD...                                          None   \n",
       "\n",
       "                                                                                              17   \n",
       "CCN(CC)Cc1cc(Nc2ccnc3cc(Cl)ccc23)ccc1O_1_RDKFin...                                          None  \\\n",
       "C[C@@H](Oc1cc(-c2cnn(C3CCNCC3)c2)cnc1N)c1c(Cl)c...                                          None   \n",
       "CN1CCc2c(c3ccccc3n2Cc2ccccc2)C1_1_RDKFingerprin...                                          None   \n",
       "COC(=O)C[C@@](O)(CCC(C)(C)O)C(=O)O[C@@H]1C(OC)=...  [1, RDKFingerprint, True, True, 0, nan, nan]   \n",
       "OCCN1CCN(CCCN2c3ccccc3Sc3ccc(C(F)(F)F)cc32)CC1_...                                          None   \n",
       "...                                                                                          ...   \n",
       "CC(C)N1CCN(c2ccc(OC[C@H]3CO[C@](Cn4cncn4)(c4ccc...                                          None   \n",
       "CSc1ccc2c(c1)N(CCC1CCCCN1C)c1ccccc1S2_33_RDKFin...                                          None   \n",
       "CN1CCN(CC/C=C2/c3ccccc3Sc3ccc(S(=O)(=O)N(C)C)cc...                                          None   \n",
       "CCN(CC)CCOc1ccc2c(c1)C(=O)c1cc(OCCN(CC)CC)ccc1-...                                          None   \n",
       "CN(C)CCCN1c2ccccc2Sc2ccc(C(F)(F)F)cc21.Cl_33_RD...                                          None   \n",
       "\n",
       "                                                                                              18   \n",
       "CCN(CC)Cc1cc(Nc2ccnc3cc(Cl)ccc23)ccc1O_1_RDKFin...                                          None  \\\n",
       "C[C@@H](Oc1cc(-c2cnn(C3CCNCC3)c2)cnc1N)c1c(Cl)c...                                          None   \n",
       "CN1CCc2c(c3ccccc3n2Cc2ccccc2)C1_1_RDKFingerprin...                                          None   \n",
       "COC(=O)C[C@@](O)(CCC(C)(C)O)C(=O)O[C@@H]1C(OC)=...  [1, RDKFingerprint, True, True, 0, nan, nan]   \n",
       "OCCN1CCN(CCCN2c3ccccc3Sc3ccc(C(F)(F)F)cc32)CC1_...                                          None   \n",
       "...                                                                                          ...   \n",
       "CC(C)N1CCN(c2ccc(OC[C@H]3CO[C@](Cn4cncn4)(c4ccc...                                          None   \n",
       "CSc1ccc2c(c1)N(CCC1CCCCN1C)c1ccccc1S2_33_RDKFin...                                          None   \n",
       "CN1CCN(CC/C=C2/c3ccccc3Sc3ccc(S(=O)(=O)N(C)C)cc...                                          None   \n",
       "CCN(CC)CCOc1ccc2c(c1)C(=O)c1cc(OCCN(CC)CC)ccc1-...                                          None   \n",
       "CN(C)CCCN1c2ccccc2Sc2ccc(C(F)(F)F)cc21.Cl_33_RD...                                          None   \n",
       "\n",
       "                                                                                              19   \n",
       "CCN(CC)Cc1cc(Nc2ccnc3cc(Cl)ccc23)ccc1O_1_RDKFin...                                          None  \\\n",
       "C[C@@H](Oc1cc(-c2cnn(C3CCNCC3)c2)cnc1N)c1c(Cl)c...                                          None   \n",
       "CN1CCc2c(c3ccccc3n2Cc2ccccc2)C1_1_RDKFingerprin...                                          None   \n",
       "COC(=O)C[C@@](O)(CCC(C)(C)O)C(=O)O[C@@H]1C(OC)=...  [1, RDKFingerprint, True, True, 0, nan, nan]   \n",
       "OCCN1CCN(CCCN2c3ccccc3Sc3ccc(C(F)(F)F)cc32)CC1_...                                          None   \n",
       "...                                                                                          ...   \n",
       "CC(C)N1CCN(c2ccc(OC[C@H]3CO[C@](Cn4cncn4)(c4ccc...                                          None   \n",
       "CSc1ccc2c(c1)N(CCC1CCCCN1C)c1ccccc1S2_33_RDKFin...                                          None   \n",
       "CN1CCN(CC/C=C2/c3ccccc3Sc3ccc(S(=O)(=O)N(C)C)cc...                                          None   \n",
       "CCN(CC)CCOc1ccc2c(c1)C(=O)c1cc(OCCN(CC)CC)ccc1-...                                          None   \n",
       "CN(C)CCCN1c2ccccc2Sc2ccc(C(F)(F)F)cc21.Cl_33_RD...                                          None   \n",
       "\n",
       "                                                                                              20   \n",
       "CCN(CC)Cc1cc(Nc2ccnc3cc(Cl)ccc23)ccc1O_1_RDKFin...                                          None  \\\n",
       "C[C@@H](Oc1cc(-c2cnn(C3CCNCC3)c2)cnc1N)c1c(Cl)c...                                          None   \n",
       "CN1CCc2c(c3ccccc3n2Cc2ccccc2)C1_1_RDKFingerprin...                                          None   \n",
       "COC(=O)C[C@@](O)(CCC(C)(C)O)C(=O)O[C@@H]1C(OC)=...  [1, RDKFingerprint, True, True, 0, nan, nan]   \n",
       "OCCN1CCN(CCCN2c3ccccc3Sc3ccc(C(F)(F)F)cc32)CC1_...                                          None   \n",
       "...                                                                                          ...   \n",
       "CC(C)N1CCN(c2ccc(OC[C@H]3CO[C@](Cn4cncn4)(c4ccc...                                          None   \n",
       "CSc1ccc2c(c1)N(CCC1CCCCN1C)c1ccccc1S2_33_RDKFin...                                          None   \n",
       "CN1CCN(CC/C=C2/c3ccccc3Sc3ccc(S(=O)(=O)N(C)C)cc...                                          None   \n",
       "CCN(CC)CCOc1ccc2c(c1)C(=O)c1cc(OCCN(CC)CC)ccc1-...                                          None   \n",
       "CN(C)CCCN1c2ccccc2Sc2ccc(C(F)(F)F)cc21.Cl_33_RD...                                          None   \n",
       "\n",
       "                                                                                              21  \n",
       "CCN(CC)Cc1cc(Nc2ccnc3cc(Cl)ccc23)ccc1O_1_RDKFin...                                          None  \n",
       "C[C@@H](Oc1cc(-c2cnn(C3CCNCC3)c2)cnc1N)c1c(Cl)c...                                          None  \n",
       "CN1CCc2c(c3ccccc3n2Cc2ccccc2)C1_1_RDKFingerprin...                                          None  \n",
       "COC(=O)C[C@@](O)(CCC(C)(C)O)C(=O)O[C@@H]1C(OC)=...  [1, RDKFingerprint, True, True, 0, nan, nan]  \n",
       "OCCN1CCN(CCCN2c3ccccc3Sc3ccc(C(F)(F)F)cc32)CC1_...                                          None  \n",
       "...                                                                                          ...  \n",
       "CC(C)N1CCN(c2ccc(OC[C@H]3CO[C@](Cn4cncn4)(c4ccc...                                          None  \n",
       "CSc1ccc2c(c1)N(CCC1CCCCN1C)c1ccccc1S2_33_RDKFin...                                          None  \n",
       "CN1CCN(CC/C=C2/c3ccccc3Sc3ccc(S(=O)(=O)N(C)C)cc...                                          None  \n",
       "CCN(CC)CCOc1ccc2c(c1)C(=O)c1cc(OCCN(CC)CC)ccc1-...                                          None  \n",
       "CN(C)CCCN1c2ccccc2Sc2ccc(C(F)(F)F)cc21.Cl_33_RD...                                          None  \n",
       "\n",
       "[1650 rows x 22 columns]"
      ]
     },
     "execution_count": 20,
     "metadata": {},
     "output_type": "execute_result"
    }
   ],
   "source": [
    "df_smiles_prediction_results = pd.DataFrame.from_dict(padded_results, orient='index')  # or padded_results\n",
    "df_smiles_prediction_results"
   ]
  },
  {
   "cell_type": "code",
   "execution_count": 15,
   "id": "28e7ceff",
   "metadata": {},
   "outputs": [
    {
     "ename": "ValueError",
     "evalue": "All arrays must be of the same length",
     "output_type": "error",
     "traceback": [
      "\u001b[0;31m---------------------------------------------------------------------------\u001b[0m",
      "\u001b[0;31mValueError\u001b[0m                                Traceback (most recent call last)",
      "Cell \u001b[0;32mIn[15], line 1\u001b[0m\n\u001b[0;32m----> 1\u001b[0m df_smiles_prediction_results \u001b[38;5;241m=\u001b[39m \u001b[43mpd\u001b[49m\u001b[38;5;241;43m.\u001b[39;49m\u001b[43mDataFrame\u001b[49m\u001b[38;5;241;43m.\u001b[39;49m\u001b[43mfrom_dict\u001b[49m\u001b[43m(\u001b[49m\u001b[43msmiles_prediction_results\u001b[49m\u001b[43m)\u001b[49m\n",
      "File \u001b[0;32m~/.virtualenvs/nabi/lib/python3.10/site-packages/pandas/core/frame.py:1760\u001b[0m, in \u001b[0;36mDataFrame.from_dict\u001b[0;34m(cls, data, orient, dtype, columns)\u001b[0m\n\u001b[1;32m   1754\u001b[0m     \u001b[38;5;28;01mraise\u001b[39;00m \u001b[38;5;167;01mValueError\u001b[39;00m(\n\u001b[1;32m   1755\u001b[0m         \u001b[38;5;124mf\u001b[39m\u001b[38;5;124m\"\u001b[39m\u001b[38;5;124mExpected \u001b[39m\u001b[38;5;124m'\u001b[39m\u001b[38;5;124mindex\u001b[39m\u001b[38;5;124m'\u001b[39m\u001b[38;5;124m, \u001b[39m\u001b[38;5;124m'\u001b[39m\u001b[38;5;124mcolumns\u001b[39m\u001b[38;5;124m'\u001b[39m\u001b[38;5;124m or \u001b[39m\u001b[38;5;124m'\u001b[39m\u001b[38;5;124mtight\u001b[39m\u001b[38;5;124m'\u001b[39m\u001b[38;5;124m for orient parameter. \u001b[39m\u001b[38;5;124m\"\u001b[39m\n\u001b[1;32m   1756\u001b[0m         \u001b[38;5;124mf\u001b[39m\u001b[38;5;124m\"\u001b[39m\u001b[38;5;124mGot \u001b[39m\u001b[38;5;124m'\u001b[39m\u001b[38;5;132;01m{\u001b[39;00morient\u001b[38;5;132;01m}\u001b[39;00m\u001b[38;5;124m'\u001b[39m\u001b[38;5;124m instead\u001b[39m\u001b[38;5;124m\"\u001b[39m\n\u001b[1;32m   1757\u001b[0m     )\n\u001b[1;32m   1759\u001b[0m \u001b[38;5;28;01mif\u001b[39;00m orient \u001b[38;5;241m!=\u001b[39m \u001b[38;5;124m\"\u001b[39m\u001b[38;5;124mtight\u001b[39m\u001b[38;5;124m\"\u001b[39m:\n\u001b[0;32m-> 1760\u001b[0m     \u001b[38;5;28;01mreturn\u001b[39;00m \u001b[38;5;28;43mcls\u001b[39;49m\u001b[43m(\u001b[49m\u001b[43mdata\u001b[49m\u001b[43m,\u001b[49m\u001b[43m \u001b[49m\u001b[43mindex\u001b[49m\u001b[38;5;241;43m=\u001b[39;49m\u001b[43mindex\u001b[49m\u001b[43m,\u001b[49m\u001b[43m \u001b[49m\u001b[43mcolumns\u001b[49m\u001b[38;5;241;43m=\u001b[39;49m\u001b[43mcolumns\u001b[49m\u001b[43m,\u001b[49m\u001b[43m \u001b[49m\u001b[43mdtype\u001b[49m\u001b[38;5;241;43m=\u001b[39;49m\u001b[43mdtype\u001b[49m\u001b[43m)\u001b[49m\n\u001b[1;32m   1761\u001b[0m \u001b[38;5;28;01melse\u001b[39;00m:\n\u001b[1;32m   1762\u001b[0m     realdata \u001b[38;5;241m=\u001b[39m data[\u001b[38;5;124m\"\u001b[39m\u001b[38;5;124mdata\u001b[39m\u001b[38;5;124m\"\u001b[39m]\n",
      "File \u001b[0;32m~/.virtualenvs/nabi/lib/python3.10/site-packages/pandas/core/frame.py:709\u001b[0m, in \u001b[0;36mDataFrame.__init__\u001b[0;34m(self, data, index, columns, dtype, copy)\u001b[0m\n\u001b[1;32m    703\u001b[0m     mgr \u001b[38;5;241m=\u001b[39m \u001b[38;5;28mself\u001b[39m\u001b[38;5;241m.\u001b[39m_init_mgr(\n\u001b[1;32m    704\u001b[0m         data, axes\u001b[38;5;241m=\u001b[39m{\u001b[38;5;124m\"\u001b[39m\u001b[38;5;124mindex\u001b[39m\u001b[38;5;124m\"\u001b[39m: index, \u001b[38;5;124m\"\u001b[39m\u001b[38;5;124mcolumns\u001b[39m\u001b[38;5;124m\"\u001b[39m: columns}, dtype\u001b[38;5;241m=\u001b[39mdtype, copy\u001b[38;5;241m=\u001b[39mcopy\n\u001b[1;32m    705\u001b[0m     )\n\u001b[1;32m    707\u001b[0m \u001b[38;5;28;01melif\u001b[39;00m \u001b[38;5;28misinstance\u001b[39m(data, \u001b[38;5;28mdict\u001b[39m):\n\u001b[1;32m    708\u001b[0m     \u001b[38;5;66;03m# GH#38939 de facto copy defaults to False only in non-dict cases\u001b[39;00m\n\u001b[0;32m--> 709\u001b[0m     mgr \u001b[38;5;241m=\u001b[39m \u001b[43mdict_to_mgr\u001b[49m\u001b[43m(\u001b[49m\u001b[43mdata\u001b[49m\u001b[43m,\u001b[49m\u001b[43m \u001b[49m\u001b[43mindex\u001b[49m\u001b[43m,\u001b[49m\u001b[43m \u001b[49m\u001b[43mcolumns\u001b[49m\u001b[43m,\u001b[49m\u001b[43m \u001b[49m\u001b[43mdtype\u001b[49m\u001b[38;5;241;43m=\u001b[39;49m\u001b[43mdtype\u001b[49m\u001b[43m,\u001b[49m\u001b[43m \u001b[49m\u001b[43mcopy\u001b[49m\u001b[38;5;241;43m=\u001b[39;49m\u001b[43mcopy\u001b[49m\u001b[43m,\u001b[49m\u001b[43m \u001b[49m\u001b[43mtyp\u001b[49m\u001b[38;5;241;43m=\u001b[39;49m\u001b[43mmanager\u001b[49m\u001b[43m)\u001b[49m\n\u001b[1;32m    710\u001b[0m \u001b[38;5;28;01melif\u001b[39;00m \u001b[38;5;28misinstance\u001b[39m(data, ma\u001b[38;5;241m.\u001b[39mMaskedArray):\n\u001b[1;32m    711\u001b[0m     \u001b[38;5;28;01mfrom\u001b[39;00m \u001b[38;5;21;01mnumpy\u001b[39;00m\u001b[38;5;21;01m.\u001b[39;00m\u001b[38;5;21;01mma\u001b[39;00m \u001b[38;5;28;01mimport\u001b[39;00m mrecords\n",
      "File \u001b[0;32m~/.virtualenvs/nabi/lib/python3.10/site-packages/pandas/core/internals/construction.py:481\u001b[0m, in \u001b[0;36mdict_to_mgr\u001b[0;34m(data, index, columns, dtype, typ, copy)\u001b[0m\n\u001b[1;32m    477\u001b[0m     \u001b[38;5;28;01melse\u001b[39;00m:\n\u001b[1;32m    478\u001b[0m         \u001b[38;5;66;03m# dtype check to exclude e.g. range objects, scalars\u001b[39;00m\n\u001b[1;32m    479\u001b[0m         arrays \u001b[38;5;241m=\u001b[39m [x\u001b[38;5;241m.\u001b[39mcopy() \u001b[38;5;28;01mif\u001b[39;00m \u001b[38;5;28mhasattr\u001b[39m(x, \u001b[38;5;124m\"\u001b[39m\u001b[38;5;124mdtype\u001b[39m\u001b[38;5;124m\"\u001b[39m) \u001b[38;5;28;01melse\u001b[39;00m x \u001b[38;5;28;01mfor\u001b[39;00m x \u001b[38;5;129;01min\u001b[39;00m arrays]\n\u001b[0;32m--> 481\u001b[0m \u001b[38;5;28;01mreturn\u001b[39;00m \u001b[43marrays_to_mgr\u001b[49m\u001b[43m(\u001b[49m\u001b[43marrays\u001b[49m\u001b[43m,\u001b[49m\u001b[43m \u001b[49m\u001b[43mcolumns\u001b[49m\u001b[43m,\u001b[49m\u001b[43m \u001b[49m\u001b[43mindex\u001b[49m\u001b[43m,\u001b[49m\u001b[43m \u001b[49m\u001b[43mdtype\u001b[49m\u001b[38;5;241;43m=\u001b[39;49m\u001b[43mdtype\u001b[49m\u001b[43m,\u001b[49m\u001b[43m \u001b[49m\u001b[43mtyp\u001b[49m\u001b[38;5;241;43m=\u001b[39;49m\u001b[43mtyp\u001b[49m\u001b[43m,\u001b[49m\u001b[43m \u001b[49m\u001b[43mconsolidate\u001b[49m\u001b[38;5;241;43m=\u001b[39;49m\u001b[43mcopy\u001b[49m\u001b[43m)\u001b[49m\n",
      "File \u001b[0;32m~/.virtualenvs/nabi/lib/python3.10/site-packages/pandas/core/internals/construction.py:115\u001b[0m, in \u001b[0;36marrays_to_mgr\u001b[0;34m(arrays, columns, index, dtype, verify_integrity, typ, consolidate)\u001b[0m\n\u001b[1;32m    112\u001b[0m \u001b[38;5;28;01mif\u001b[39;00m verify_integrity:\n\u001b[1;32m    113\u001b[0m     \u001b[38;5;66;03m# figure out the index, if necessary\u001b[39;00m\n\u001b[1;32m    114\u001b[0m     \u001b[38;5;28;01mif\u001b[39;00m index \u001b[38;5;129;01mis\u001b[39;00m \u001b[38;5;28;01mNone\u001b[39;00m:\n\u001b[0;32m--> 115\u001b[0m         index \u001b[38;5;241m=\u001b[39m \u001b[43m_extract_index\u001b[49m\u001b[43m(\u001b[49m\u001b[43marrays\u001b[49m\u001b[43m)\u001b[49m\n\u001b[1;32m    116\u001b[0m     \u001b[38;5;28;01melse\u001b[39;00m:\n\u001b[1;32m    117\u001b[0m         index \u001b[38;5;241m=\u001b[39m ensure_index(index)\n",
      "File \u001b[0;32m~/.virtualenvs/nabi/lib/python3.10/site-packages/pandas/core/internals/construction.py:655\u001b[0m, in \u001b[0;36m_extract_index\u001b[0;34m(data)\u001b[0m\n\u001b[1;32m    653\u001b[0m lengths \u001b[38;5;241m=\u001b[39m \u001b[38;5;28mlist\u001b[39m(\u001b[38;5;28mset\u001b[39m(raw_lengths))\n\u001b[1;32m    654\u001b[0m \u001b[38;5;28;01mif\u001b[39;00m \u001b[38;5;28mlen\u001b[39m(lengths) \u001b[38;5;241m>\u001b[39m \u001b[38;5;241m1\u001b[39m:\n\u001b[0;32m--> 655\u001b[0m     \u001b[38;5;28;01mraise\u001b[39;00m \u001b[38;5;167;01mValueError\u001b[39;00m(\u001b[38;5;124m\"\u001b[39m\u001b[38;5;124mAll arrays must be of the same length\u001b[39m\u001b[38;5;124m\"\u001b[39m)\n\u001b[1;32m    657\u001b[0m \u001b[38;5;28;01mif\u001b[39;00m have_dicts:\n\u001b[1;32m    658\u001b[0m     \u001b[38;5;28;01mraise\u001b[39;00m \u001b[38;5;167;01mValueError\u001b[39;00m(\n\u001b[1;32m    659\u001b[0m         \u001b[38;5;124m\"\u001b[39m\u001b[38;5;124mMixing dicts with non-Series may lead to ambiguous ordering.\u001b[39m\u001b[38;5;124m\"\u001b[39m\n\u001b[1;32m    660\u001b[0m     )\n",
      "\u001b[0;31mValueError\u001b[0m: All arrays must be of the same length"
     ]
    }
   ],
   "source": [
    "df_smiles_prediction_results = pd.DataFrame.from_dict(smiles_prediction_results)"
   ]
  },
  {
   "cell_type": "code",
   "execution_count": 13,
   "id": "3122ae0c-fdbe-4a88-9684-242ecac73370",
   "metadata": {},
   "outputs": [
    {
     "ename": "NameError",
     "evalue": "name 'df_smiles_prediction_results' is not defined",
     "output_type": "error",
     "traceback": [
      "\u001b[0;31m---------------------------------------------------------------------------\u001b[0m",
      "\u001b[0;31mNameError\u001b[0m                                 Traceback (most recent call last)",
      "Cell \u001b[0;32mIn[13], line 1\u001b[0m\n\u001b[0;32m----> 1\u001b[0m \u001b[43mdf_smiles_prediction_results\u001b[49m\n",
      "\u001b[0;31mNameError\u001b[0m: name 'df_smiles_prediction_results' is not defined"
     ]
    }
   ],
   "source": [
    "df_smiles_prediction_results.to_csv('ZZ-smiles_prediction_diffmodel_results.csv', index=False)"
   ]
  },
  {
   "cell_type": "code",
   "execution_count": 28,
   "id": "aa500cd5-ca76-448c-b62d-d05fab1424e9",
   "metadata": {},
   "outputs": [
    {
     "data": {
      "text/plain": [
       "[1,\n",
       " 'RDKFingerprint',\n",
       " True,\n",
       " True,\n",
       " 1,\n",
       " 0.36,\n",
       " 0.64,\n",
       " [1, 'RDKFingerprint', True, True, 1, 0.36, 0.64],\n",
       " [1, 'RDKFingerprint', True, True, 0, 0.8173124243691264, 0.1826875756308736],\n",
       " [1, 'RDKFingerprint', True, True, 0, 0.8173124243691264, 0.1826875756308736],\n",
       " [1, 'RDKFingerprint', True, True, 0, 0.7533262564060454, 0.24667374359395455],\n",
       " [1, 'RDKFingerprint', True, True, 0, 0.7533262564060454, 0.24667374359395455],\n",
       " [1, 'RDKFingerprint', True, True, 0, 0.6801297071122772, 0.3198702928877229],\n",
       " [1, 'RDKFingerprint', True, True, 0, 0.6801297071122772, 0.3198702928877229],\n",
       " [1, 'RDKFingerprint', True, True, 1, nan, nan],\n",
       " [1, 'RDKFingerprint', True, True, 1, nan, nan],\n",
       " [1, 'RDKFingerprint', True, True, 0, nan, nan],\n",
       " [1, 'RDKFingerprint', True, True, 0, nan, nan],\n",
       " [1, 'RDKFingerprint', True, True, 0, nan, nan],\n",
       " [1, 'RDKFingerprint', True, True, 0, nan, nan],\n",
       " [1, 'RDKFingerprint', True, True, 0, nan, nan],\n",
       " [1, 'RDKFingerprint', True, True, 0, nan, nan]]"
      ]
     },
     "execution_count": 28,
     "metadata": {},
     "output_type": "execute_result"
    }
   ],
   "source": []
  },
  {
   "cell_type": "code",
   "execution_count": 23,
   "id": "87f0b382-9553-4f34-9ab2-1ddaa341cd2a",
   "metadata": {},
   "outputs": [],
   "source": [
    "test1 = {'CCN(CC)Cc1cc(Nc2ccnc3cc(Cl)ccc23)ccc1O_1_RDKFingerprint_True_True': [1,\n",
    "  'RDKFingerprint',\n",
    "  True,\n",
    "  True,\n",
    "  1,\n",
    "  0.48,\n",
    "  0.52,\n",
    "  [1,\n",
    "   'RDKFingerprint',\n",
    "   True,\n",
    "   True,\n",
    "   0,\n",
    "   0.7945208079181986,\n",
    "   0.20547919208180143],\n",
    "  [1,\n",
    "   'RDKFingerprint',\n",
    "   True,\n",
    "   True,\n",
    "   0,\n",
    "   0.6006540195113268,\n",
    "   0.39934598048867315],\n",
    "  [1, 'RDKFingerprint', True, True, 0, 0.674318326476439, 0.32568167352356103],\n",
    "  [1, 'RDKFingerprint', True, True, 0, 'nan', 'nan'],\n",
    "  [1, 'RDKFingerprint', True, True, 0, 'nan', 'nan'],\n",
    "  [1, 'RDKFingerprint', True, True, 0, 'nan', 'nan'],\n",
    "  [1, 'RDKFingerprint', True, True, 0, 'nan', 'nan']]}"
   ]
  },
  {
   "cell_type": "code",
   "execution_count": 25,
   "id": "c83352eb-d9cc-4cc5-8301-d1cdf3b4b943",
   "metadata": {},
   "outputs": [
    {
     "data": {
      "text/plain": [
       "14"
      ]
     },
     "execution_count": 25,
     "metadata": {},
     "output_type": "execute_result"
    }
   ],
   "source": [
    "len(test1['CCN(CC)Cc1cc(Nc2ccnc3cc(Cl)ccc23)ccc1O_1_RDKFingerprint_True_True'])"
   ]
  },
  {
   "cell_type": "code",
   "execution_count": 26,
   "id": "96e5f9e7-9284-4107-bb19-d184673581e4",
   "metadata": {},
   "outputs": [
    {
     "name": "stdout",
     "output_type": "stream",
     "text": [
      "[1, 'RDKFingerprint', True, True, 1, 0.48, 0.52]\n"
     ]
    }
   ],
   "source": [
    "key = 'CCN(CC)Cc1cc(Nc2ccnc3cc(Cl)ccc23)ccc1O_1_RDKFingerprint_True_True'\n",
    "first_seven_elements = test1[key][:7]  # This slices the list to get the first seven elements\n",
    "\n",
    "# first_seven_elements now contains the first seven elements of the list\n",
    "print(first_seven_elements)\n"
   ]
  },
  {
   "cell_type": "code",
   "execution_count": 27,
   "id": "e6852162-8f5a-4550-82b7-8c4da10eccb0",
   "metadata": {},
   "outputs": [
    {
     "data": {
      "text/plain": [
       "{'CCN(CC)Cc1cc(Nc2ccnc3cc(Cl)ccc23)ccc1O_1_RDKFingerprint_True_True': [1,\n",
       "  'RDKFingerprint',\n",
       "  True,\n",
       "  True,\n",
       "  1,\n",
       "  0.48,\n",
       "  0.52,\n",
       "  [1,\n",
       "   'RDKFingerprint',\n",
       "   True,\n",
       "   True,\n",
       "   0,\n",
       "   0.7945208079181986,\n",
       "   0.20547919208180143],\n",
       "  [1,\n",
       "   'RDKFingerprint',\n",
       "   True,\n",
       "   True,\n",
       "   0,\n",
       "   0.6006540195113268,\n",
       "   0.39934598048867315],\n",
       "  [1, 'RDKFingerprint', True, True, 0, 0.674318326476439, 0.32568167352356103],\n",
       "  [1, 'RDKFingerprint', True, True, 0, 'nan', 'nan'],\n",
       "  [1, 'RDKFingerprint', True, True, 0, 'nan', 'nan'],\n",
       "  [1, 'RDKFingerprint', True, True, 0, 'nan', 'nan'],\n",
       "  [1, 'RDKFingerprint', True, True, 0, 'nan', 'nan']]}"
      ]
     },
     "execution_count": 27,
     "metadata": {},
     "output_type": "execute_result"
    }
   ],
   "source": [
    "test1"
   ]
  },
  {
   "cell_type": "code",
   "execution_count": null,
   "id": "c9cd2755-fba1-4e2f-9ca0-5be44f0cdf11",
   "metadata": {},
   "outputs": [],
   "source": []
  }
 ],
 "metadata": {
  "kernelspec": {
   "display_name": "Python 3 (ipykernel)",
   "language": "python",
   "name": "python3"
  },
  "language_info": {
   "codemirror_mode": {
    "name": "ipython",
    "version": 3
   },
   "file_extension": ".py",
   "mimetype": "text/x-python",
   "name": "python",
   "nbconvert_exporter": "python",
   "pygments_lexer": "ipython3",
   "version": "3.8.10"
  }
 },
 "nbformat": 4,
 "nbformat_minor": 5
}
